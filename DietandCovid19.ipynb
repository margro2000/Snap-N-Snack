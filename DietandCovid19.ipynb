{
 "cells": [
  {
   "cell_type": "code",
   "execution_count": 1005,
   "metadata": {
    "execution": {
     "iopub.execute_input": "2020-10-22T17:39:47.748438Z",
     "iopub.status.busy": "2020-10-22T17:39:47.747486Z",
     "iopub.status.idle": "2020-10-22T17:39:47.756949Z",
     "shell.execute_reply": "2020-10-22T17:39:47.756231Z"
    },
    "papermill": {
     "duration": 0.155251,
     "end_time": "2020-10-22T17:39:47.757094",
     "exception": false,
     "start_time": "2020-10-22T17:39:47.601843",
     "status": "completed"
    },
    "scrolled": true,
    "tags": []
   },
   "outputs": [
    {
     "name": "stdout",
     "output_type": "stream",
     "text": [
      "../COVID Healthy diet dataset/Food_Supply_kcal_Data.csv\n",
      "../COVID Healthy diet dataset/Supply_Food_Data_Descriptions.csv\n",
      "../COVID Healthy diet dataset/Protein_Supply_Quantity_Data.csv\n",
      "../COVID Healthy diet dataset/Food_Supply_Quantity_kg_Data.csv\n",
      "../COVID Healthy diet dataset/Fat_Supply_Quantity_Data.csv\n"
     ]
    }
   ],
   "source": [
    "import os\n",
    "for dirname, _, filenames in os.walk('../COVID Healthy diet dataset/'):\n",
    "    for filename in filenames:\n",
    "        print(os.path.join(dirname, filename))"
   ]
  },
  {
   "cell_type": "markdown",
   "metadata": {
    "papermill": {
     "duration": 0.145363,
     "end_time": "2020-10-22T17:39:48.044816",
     "exception": false,
     "start_time": "2020-10-22T17:39:47.899453",
     "status": "completed"
    },
    "tags": []
   },
   "source": [
    "# Project Healthy Diet (fighting COVID-19)\n",
    "\n",
    "How can eating habits help fight the current COVID-19 pandemic? A healthy diet is very important to prevent and recover from various infections. Keeping a healthy immune system is a **must** in our current situation, and what we eat (along with exercising and clearing our heads every now and then) is key.\n",
    "\n",
    "While it is clear that good nutrition alone will not cure nor prevent the spread of COVID-19, it helps us fight back in the case of infection and prevents several other health issues. A lot of tips can be found in [this](https://www.who.int/campaigns/connecting-the-world-to-combat-coronavirus/healthyathome/healthyathome---healthy-diet) very usefull and clear page kept by WHO (World Health Organization).\n",
    "\n",
    "In this project, we will use data *from food intake by countries* along with data associated with the *spread of COVID-19 and other health issues* the help get new insights into the importance of nutrition and eating habits to combat spreading diseases.\n",
    "\n",
    "Data for this project is taken from [this](https://www.kaggle.com/mariaren/covid19-healthy-diet-dataset) very interesting kaggle dataset. From the owner of the dataset:\n",
    "\n",
    "> In this dataset, I have combined data of different types of food, world population obesity and undernourished rate, and global COVID-19 cases count from around the world in order to learn more about how a healthy eating style could help combat the Corona Virus. And from the dataset, we can gather information regarding diet patterns from countries with lower COVID infection rate, and adjust our own diet accordingly\n",
    "\n",
    "There are 5 files in the dataset:\n",
    "* Fat_Supply_Quantity_Data.csv: percentage of fat intake from different food groups for 170 different countries.\n",
    "* Food_Supply_Quantity_kg_Data.csv: percentage of food intake( in $kg$ ) from different food groups for 170 different countries.\n",
    "* Food_Supply_kcal_Data.csv: percentage of energy intake (in $kcal$) from different food groups for 170 different countries.\n",
    "* Protein_Supply_Quantity_Data.csv: percentage of protein intake from different food groups for 170 different countries.\n",
    "    * All of these files have, also, columns including obesity, undernourishment and COVID-19 cases as percentages of total population.\n",
    "* Supply_Food_Data_Descriptions.csv: This dataset is obtained from FAO.org, and is used to show the specific types of food that belongs to each category for the above datasets.\n"
   ]
  },
  {
   "cell_type": "markdown",
   "metadata": {
    "papermill": {
     "duration": 0.142701,
     "end_time": "2020-10-22T17:39:48.353154",
     "exception": false,
     "start_time": "2020-10-22T17:39:48.210453",
     "status": "completed"
    },
    "tags": []
   },
   "source": [
    "Now we can dig into the files."
   ]
  },
  {
   "cell_type": "code",
   "execution_count": 1006,
   "metadata": {
    "execution": {
     "iopub.execute_input": "2020-10-22T17:39:48.651994Z",
     "iopub.status.busy": "2020-10-22T17:39:48.651229Z",
     "iopub.status.idle": "2020-10-22T17:39:50.914251Z",
     "shell.execute_reply": "2020-10-22T17:39:50.913392Z"
    },
    "papermill": {
     "duration": 2.411673,
     "end_time": "2020-10-22T17:39:50.914384",
     "exception": false,
     "start_time": "2020-10-22T17:39:48.502711",
     "status": "completed"
    },
    "scrolled": true,
    "tags": []
   },
   "outputs": [],
   "source": [
    "import numpy as np\n",
    "import pandas as pd\n",
    "import matplotlib.pyplot as plt\n",
    "import seaborn as sns\n",
    "import plotly.express as px"
   ]
  },
  {
   "cell_type": "markdown",
   "metadata": {
    "papermill": {
     "duration": 0.150345,
     "end_time": "2020-10-22T17:39:51.209679",
     "exception": false,
     "start_time": "2020-10-22T17:39:51.059334",
     "status": "completed"
    },
    "tags": []
   },
   "source": [
    "Let's start by looking into the descriptions"
   ]
  },
  {
   "cell_type": "code",
   "execution_count": 1007,
   "metadata": {
    "execution": {
     "iopub.execute_input": "2020-10-22T17:39:51.503068Z",
     "iopub.status.busy": "2020-10-22T17:39:51.501924Z",
     "iopub.status.idle": "2020-10-22T17:39:51.537509Z",
     "shell.execute_reply": "2020-10-22T17:39:51.538150Z"
    },
    "papermill": {
     "duration": 0.186455,
     "end_time": "2020-10-22T17:39:51.538310",
     "exception": false,
     "start_time": "2020-10-22T17:39:51.351855",
     "status": "completed"
    },
    "scrolled": false,
    "tags": []
   },
   "outputs": [
    {
     "data": {
      "text/html": [
       "<div>\n",
       "<style scoped>\n",
       "    .dataframe tbody tr th:only-of-type {\n",
       "        vertical-align: middle;\n",
       "    }\n",
       "\n",
       "    .dataframe tbody tr th {\n",
       "        vertical-align: top;\n",
       "    }\n",
       "\n",
       "    .dataframe thead th {\n",
       "        text-align: right;\n",
       "    }\n",
       "</style>\n",
       "<table border=\"1\" class=\"dataframe\">\n",
       "  <thead>\n",
       "    <tr style=\"text-align: right;\">\n",
       "      <th></th>\n",
       "      <th>Items</th>\n",
       "    </tr>\n",
       "    <tr>\n",
       "      <th>Categories</th>\n",
       "      <th></th>\n",
       "    </tr>\n",
       "  </thead>\n",
       "  <tbody>\n",
       "    <tr>\n",
       "      <th>Alcoholic Beverages</th>\n",
       "      <td>Alcohol, Non-Food; Beer; Beverages, Alcoholic; Beverages, Fermented; Wine</td>\n",
       "    </tr>\n",
       "    <tr>\n",
       "      <th>Animal fats</th>\n",
       "      <td>Butter, Ghee; Cream; Fats, Animals, Raw; Fish, Body Oil; Fish, Liver Oil</td>\n",
       "    </tr>\n",
       "    <tr>\n",
       "      <th>Animal Products</th>\n",
       "      <td>Aquatic Animals, Others; Aquatic Plants; Bovine Meat; Butter, Ghee; Cephalopods; Cream; Crustaceans; Demersal Fish; Eggs; Fats, Animals, Raw; Fish, Body Oil; Fish, Liver Oil; Freshwater Fish; Marine Fish, Other; Meat, Aquatic Mammals; Meat, Other; Milk - Excluding Butter; Molluscs, Other; Mutton &amp; Goat Meat; Offals, Edible; Pelagic Fish; Pigmeat; Poultry Meat</td>\n",
       "    </tr>\n",
       "    <tr>\n",
       "      <th>Aquatic Products, Other</th>\n",
       "      <td>Aquatic Animals, Others; Aquatic Plants; Meat, Aquatic Mammals</td>\n",
       "    </tr>\n",
       "    <tr>\n",
       "      <th>Cereals - Excluding Beer</th>\n",
       "      <td>Barley and products; Cereals, Other; Maize and products; Millet and products; Oats; Rice (Milled Equivalent); Rye and products; Sorghum and products; Wheat and products</td>\n",
       "    </tr>\n",
       "    <tr>\n",
       "      <th>Eggs</th>\n",
       "      <td>Eggs</td>\n",
       "    </tr>\n",
       "    <tr>\n",
       "      <th>Fish, Seafood</th>\n",
       "      <td>Cephalopods; Crustaceans; Demersal Fish; Freshwater Fish; Marine Fish, Other; Molluscs, Other; Pelagic Fish</td>\n",
       "    </tr>\n",
       "    <tr>\n",
       "      <th>Fruits - Excluding Wine</th>\n",
       "      <td>Apples and products; Bananas; Citrus, Other; Dates; Fruits, Other; Grapefruit and products; Grapes and products (excl wine); Lemons, Limes and products; Oranges, Mandarines; Pineapples and products; Plantains</td>\n",
       "    </tr>\n",
       "    <tr>\n",
       "      <th>Meat</th>\n",
       "      <td>Bovine Meat; Meat, Other; Mutton &amp; Goat Meat; Pigmeat; Poultry Meat</td>\n",
       "    </tr>\n",
       "    <tr>\n",
       "      <th>Milk - Excluding Butter</th>\n",
       "      <td>Milk - Excluding Butter</td>\n",
       "    </tr>\n",
       "    <tr>\n",
       "      <th>Miscellaneous</th>\n",
       "      <td>Infant food; Miscellaneous</td>\n",
       "    </tr>\n",
       "    <tr>\n",
       "      <th>Offals</th>\n",
       "      <td>Offals, Edible</td>\n",
       "    </tr>\n",
       "    <tr>\n",
       "      <th>Oilcrops</th>\n",
       "      <td>Coconuts - Incl Copra; Cottonseed; Groundnuts (Shelled Eq); Oilcrops, Other; Olives (including preserved); Palm kernels; Rape and Mustardseed; Sesame seed; Soyabeans; Sunflower seed</td>\n",
       "    </tr>\n",
       "    <tr>\n",
       "      <th>Pulses</th>\n",
       "      <td>Beans; Peas; Pulses, Other and products</td>\n",
       "    </tr>\n",
       "    <tr>\n",
       "      <th>Spices</th>\n",
       "      <td>Cloves; Pepper; Pimento; Spices, Other</td>\n",
       "    </tr>\n",
       "    <tr>\n",
       "      <th>Starchy Roots</th>\n",
       "      <td>Cassava and products; Potatoes and products; Roots, Other; Sweet potatoes; Yams</td>\n",
       "    </tr>\n",
       "    <tr>\n",
       "      <th>Stimulants</th>\n",
       "      <td>Cocoa Beans and products; Coffee and products; Tea (including mate)</td>\n",
       "    </tr>\n",
       "    <tr>\n",
       "      <th>Sugar &amp; Sweeteners</th>\n",
       "      <td>Honey; Sugar (Raw Equivalent); Sugar non-centrifugal; Sweeteners, Other</td>\n",
       "    </tr>\n",
       "    <tr>\n",
       "      <th>Sugar Crops</th>\n",
       "      <td>Sugar beet; Sugar cane</td>\n",
       "    </tr>\n",
       "    <tr>\n",
       "      <th>Treenuts</th>\n",
       "      <td>Nuts and products</td>\n",
       "    </tr>\n",
       "    <tr>\n",
       "      <th>Vegetable Oils</th>\n",
       "      <td>Coconut Oil; Cottonseed Oil; Groundnut Oil; Maize Germ Oil; Oilcrops Oil, Other; Olive Oil; Palm Oil; Palmkernel Oil; Rape and Mustard Oil; Ricebran Oil; Sesameseed Oil; Soyabean Oil; Sunflowerseed Oil</td>\n",
       "    </tr>\n",
       "    <tr>\n",
       "      <th>Vegetables</th>\n",
       "      <td>Onions; Tomatoes and products; Vegetables, Other</td>\n",
       "    </tr>\n",
       "    <tr>\n",
       "      <th>Vegetal Products</th>\n",
       "      <td>Alcohol, Non-Food; Apples and products; Bananas; Barley and products; Beans; Beer; Beverages, Alcoholic; Beverages, Fermented; Cassava and products; Cereals, Other; Citrus, Other; Cloves; Cocoa Beans and products; Coconut Oil; Coconuts - Incl Copra; Coffee and products; Cottonseed; Cottonseed Oil; Dates; Fruits, Other; Grapefruit and products; Grapes and products (excl wine); Groundnut Oil; Groundnuts (Shelled Eq); Honey; Infant food; Lemons, Limes and products; Maize and products; Maize Germ Oil; Millet and products; Miscellaneous; Nuts and products; Oats; Oilcrops Oil, Other; Oilcrops, Other; Olive Oil; Olives (including preserved); Onions; Oranges, Mandarines; Palm kernels; Palm Oil; Palmkernel Oil; Peas; Pepper; Pimento; Pineapples and products; Plantains; Potatoes and products; Pulses, Other and products; Rape and Mustard Oil; Rape and Mustardseed; Rice (Milled Equivalent); Ricebran Oil; Roots, Other; Rye and products; Sesame seed; Sesameseed Oil; Sorghum and products; Soyabean Oil; Soyabeans; Spices, Other; Sugar (Raw Equivalent); Sugar beet; Sugar cane; Sugar non-centrifugal; Sunflower seed; Sunflowerseed Oil; Sweet potatoes; Sweeteners, Other; Tea (including mate); Tomatoes and products; Vegetables, Other; Wheat and products; Wine; Yams</td>\n",
       "    </tr>\n",
       "  </tbody>\n",
       "</table>\n",
       "</div>"
      ],
      "text/plain": [
       "                                                                                                                                                                                                                                                                                                                                                                                                                                                                                                                                                                                                                                                                                                                                                                                                                                                                                                                                                                                                                                                                                                                                                                                                                                                                                                                                     Items\n",
       "Categories                                                                                                                                                                                                                                                                                                                                                                                                                                                                                                                                                                                                                                                                                                                                                                                                                                                                                                                                                                                                                                                                                                                                                                                                                                                                                                                                \n",
       "Alcoholic Beverages                                                                                                                                                                                                                                                                                                                                                                                                                                                                                                                                                                                                                                                                                                                                                                                                                                                                                                                                                                                                                                                                                                                                                                                                                                              Alcohol, Non-Food; Beer; Beverages, Alcoholic; Beverages, Fermented; Wine\n",
       "Animal fats                                                                                                                                                                                                                                                                                                                                                                                                                                                                                                                                                                                                                                                                                                                                                                                                                                                                                                                                                                                                                                                                                                                                                                                                                                                       Butter, Ghee; Cream; Fats, Animals, Raw; Fish, Body Oil; Fish, Liver Oil\n",
       "Animal Products                                                                                                                                                                                                                                                                                                                                                                                                                                                                                                                                                                                                                                                                                                                                                                                                                                                                                                                                                  Aquatic Animals, Others; Aquatic Plants; Bovine Meat; Butter, Ghee; Cephalopods; Cream; Crustaceans; Demersal Fish; Eggs; Fats, Animals, Raw; Fish, Body Oil; Fish, Liver Oil; Freshwater Fish; Marine Fish, Other; Meat, Aquatic Mammals; Meat, Other; Milk - Excluding Butter; Molluscs, Other; Mutton & Goat Meat; Offals, Edible; Pelagic Fish; Pigmeat; Poultry Meat\n",
       "Aquatic Products, Other                                                                                                                                                                                                                                                                                                                                                                                                                                                                                                                                                                                                                                                                                                                                                                                                                                                                                                                                                                                                                                                                                                                                                                                                                                                     Aquatic Animals, Others; Aquatic Plants; Meat, Aquatic Mammals\n",
       "Cereals - Excluding Beer                                                                                                                                                                                                                                                                                                                                                                                                                                                                                                                                                                                                                                                                                                                                                                                                                                                                                                                                                                                                                                                                                                                                          Barley and products; Cereals, Other; Maize and products; Millet and products; Oats; Rice (Milled Equivalent); Rye and products; Sorghum and products; Wheat and products\n",
       "Eggs                                                                                                                                                                                                                                                                                                                                                                                                                                                                                                                                                                                                                                                                                                                                                                                                                                                                                                                                                                                                                                                                                                                                                                                                                                                                                                                                  Eggs\n",
       "Fish, Seafood                                                                                                                                                                                                                                                                                                                                                                                                                                                                                                                                                                                                                                                                                                                                                                                                                                                                                                                                                                                                                                                                                                                                                                                                                  Cephalopods; Crustaceans; Demersal Fish; Freshwater Fish; Marine Fish, Other; Molluscs, Other; Pelagic Fish\n",
       "Fruits - Excluding Wine                                                                                                                                                                                                                                                                                                                                                                                                                                                                                                                                                                                                                                                                                                                                                                                                                                                                                                                                                                                                                                                                                                   Apples and products; Bananas; Citrus, Other; Dates; Fruits, Other; Grapefruit and products; Grapes and products (excl wine); Lemons, Limes and products; Oranges, Mandarines; Pineapples and products; Plantains\n",
       "Meat                                                                                                                                                                                                                                                                                                                                                                                                                                                                                                                                                                                                                                                                                                                                                                                                                                                                                                                                                                                                                                                                                                                                                                                                                                                                   Bovine Meat; Meat, Other; Mutton & Goat Meat; Pigmeat; Poultry Meat\n",
       "Milk - Excluding Butter                                                                                                                                                                                                                                                                                                                                                                                                                                                                                                                                                                                                                                                                                                                                                                                                                                                                                                                                                                                                                                                                                                                                                                                                                                                                                            Milk - Excluding Butter\n",
       "Miscellaneous                                                                                                                                                                                                                                                                                                                                                                                                                                                                                                                                                                                                                                                                                                                                                                                                                                                                                                                                                                                                                                                                                                                                                                                                                                                                                                   Infant food; Miscellaneous\n",
       "Offals                                                                                                                                                                                                                                                                                                                                                                                                                                                                                                                                                                                                                                                                                                                                                                                                                                                                                                                                                                                                                                                                                                                                                                                                                                                                                                                      Offals, Edible\n",
       "Oilcrops                                                                                                                                                                                                                                                                                                                                                                                                                                                                                                                                                                                                                                                                                                                                                                                                                                                                                                                                                                                                                                                                                                                                             Coconuts - Incl Copra; Cottonseed; Groundnuts (Shelled Eq); Oilcrops, Other; Olives (including preserved); Palm kernels; Rape and Mustardseed; Sesame seed; Soyabeans; Sunflower seed\n",
       "Pulses                                                                                                                                                                                                                                                                                                                                                                                                                                                                                                                                                                                                                                                                                                                                                                                                                                                                                                                                                                                                                                                                                                                                                                                                                                                                                             Beans; Peas; Pulses, Other and products\n",
       "Spices                                                                                                                                                                                                                                                                                                                                                                                                                                                                                                                                                                                                                                                                                                                                                                                                                                                                                                                                                                                                                                                                                                                                                                                                                                                                                              Cloves; Pepper; Pimento; Spices, Other\n",
       "Starchy Roots                                                                                                                                                                                                                                                                                                                                                                                                                                                                                                                                                                                                                                                                                                                                                                                                                                                                                                                                                                                                                                                                                                                                                                                                                                              Cassava and products; Potatoes and products; Roots, Other; Sweet potatoes; Yams\n",
       "Stimulants                                                                                                                                                                                                                                                                                                                                                                                                                                                                                                                                                                                                                                                                                                                                                                                                                                                                                                                                                                                                                                                                                                                                                                                                                                                             Cocoa Beans and products; Coffee and products; Tea (including mate)\n",
       "Sugar & Sweeteners                                                                                                                                                                                                                                                                                                                                                                                                                                                                                                                                                                                                                                                                                                                                                                                                                                                                                                                                                                                                                                                                                                                                                                                                                                                 Honey; Sugar (Raw Equivalent); Sugar non-centrifugal; Sweeteners, Other\n",
       "Sugar Crops                                                                                                                                                                                                                                                                                                                                                                                                                                                                                                                                                                                                                                                                                                                                                                                                                                                                                                                                                                                                                                                                                                                                                                                                                                                                                                         Sugar beet; Sugar cane\n",
       "Treenuts                                                                                                                                                                                                                                                                                                                                                                                                                                                                                                                                                                                                                                                                                                                                                                                                                                                                                                                                                                                                                                                                                                                                                                                                                                                                                                                 Nuts and products\n",
       "Vegetable Oils                                                                                                                                                                                                                                                                                                                                                                                                                                                                                                                                                                                                                                                                                                                                                                                                                                                                                                                                                                                                                                                                                                                   Coconut Oil; Cottonseed Oil; Groundnut Oil; Maize Germ Oil; Oilcrops Oil, Other; Olive Oil; Palm Oil; Palmkernel Oil; Rape and Mustard Oil; Ricebran Oil; Sesameseed Oil; Soyabean Oil; Sunflowerseed Oil\n",
       "Vegetables                                                                                                                                                                                                                                                                                                                                                                                                                                                                                                                                                                                                                                                                                                                                                                                                                                                                                                                                                                                                                                                                                                                                                                                                                                                                                Onions; Tomatoes and products; Vegetables, Other\n",
       "Vegetal Products          Alcohol, Non-Food; Apples and products; Bananas; Barley and products; Beans; Beer; Beverages, Alcoholic; Beverages, Fermented; Cassava and products; Cereals, Other; Citrus, Other; Cloves; Cocoa Beans and products; Coconut Oil; Coconuts - Incl Copra; Coffee and products; Cottonseed; Cottonseed Oil; Dates; Fruits, Other; Grapefruit and products; Grapes and products (excl wine); Groundnut Oil; Groundnuts (Shelled Eq); Honey; Infant food; Lemons, Limes and products; Maize and products; Maize Germ Oil; Millet and products; Miscellaneous; Nuts and products; Oats; Oilcrops Oil, Other; Oilcrops, Other; Olive Oil; Olives (including preserved); Onions; Oranges, Mandarines; Palm kernels; Palm Oil; Palmkernel Oil; Peas; Pepper; Pimento; Pineapples and products; Plantains; Potatoes and products; Pulses, Other and products; Rape and Mustard Oil; Rape and Mustardseed; Rice (Milled Equivalent); Ricebran Oil; Roots, Other; Rye and products; Sesame seed; Sesameseed Oil; Sorghum and products; Soyabean Oil; Soyabeans; Spices, Other; Sugar (Raw Equivalent); Sugar beet; Sugar cane; Sugar non-centrifugal; Sunflower seed; Sunflowerseed Oil; Sweet potatoes; Sweeteners, Other; Tea (including mate); Tomatoes and products; Vegetables, Other; Wheat and products; Wine; Yams"
      ]
     },
     "execution_count": 1007,
     "metadata": {},
     "output_type": "execute_result"
    }
   ],
   "source": [
    "pd.set_option('display.max_colwidth', None)\n",
    "desc_df = pd.read_csv('../COVID Healthy diet dataset/Supply_Food_Data_Descriptions.csv', index_col = 'Categories')\n",
    "desc_df"
   ]
  },
  {
   "cell_type": "markdown",
   "metadata": {
    "papermill": {
     "duration": 0.142947,
     "end_time": "2020-10-22T17:39:51.825784",
     "exception": false,
     "start_time": "2020-10-22T17:39:51.682837",
     "status": "completed"
    },
    "tags": []
   },
   "source": [
    "It looks like we might have some redundant categories. Reading `Animal Products` and `Vegetal Products`, it seems they are a summary of other categories. We should be careful when using these categories for modeling."
   ]
  },
  {
   "cell_type": "markdown",
   "metadata": {
    "papermill": {
     "duration": 0.146513,
     "end_time": "2020-10-22T17:39:52.119311",
     "exception": false,
     "start_time": "2020-10-22T17:39:51.972798",
     "status": "completed"
    },
    "tags": []
   },
   "source": [
    "# Food intake (in kg) by food group\n",
    "\n",
    "## Data cleaning"
   ]
  },
  {
   "cell_type": "code",
   "execution_count": 1008,
   "metadata": {
    "execution": {
     "iopub.execute_input": "2020-10-22T17:39:52.414350Z",
     "iopub.status.busy": "2020-10-22T17:39:52.413429Z",
     "iopub.status.idle": "2020-10-22T17:39:52.460617Z",
     "shell.execute_reply": "2020-10-22T17:39:52.459667Z"
    },
    "papermill": {
     "duration": 0.197197,
     "end_time": "2020-10-22T17:39:52.460776",
     "exception": false,
     "start_time": "2020-10-22T17:39:52.263579",
     "status": "completed"
    },
    "tags": []
   },
   "outputs": [
    {
     "data": {
      "text/html": [
       "<div>\n",
       "<style scoped>\n",
       "    .dataframe tbody tr th:only-of-type {\n",
       "        vertical-align: middle;\n",
       "    }\n",
       "\n",
       "    .dataframe tbody tr th {\n",
       "        vertical-align: top;\n",
       "    }\n",
       "\n",
       "    .dataframe thead th {\n",
       "        text-align: right;\n",
       "    }\n",
       "</style>\n",
       "<table border=\"1\" class=\"dataframe\">\n",
       "  <thead>\n",
       "    <tr style=\"text-align: right;\">\n",
       "      <th></th>\n",
       "      <th>Country</th>\n",
       "      <th>Alcoholic Beverages</th>\n",
       "      <th>Animal fats</th>\n",
       "      <th>Animal Products</th>\n",
       "      <th>Aquatic Products, Other</th>\n",
       "      <th>Cereals - Excluding Beer</th>\n",
       "      <th>Eggs</th>\n",
       "      <th>Fish, Seafood</th>\n",
       "      <th>Fruits - Excluding Wine</th>\n",
       "      <th>Meat</th>\n",
       "      <th>...</th>\n",
       "      <th>Vegetables</th>\n",
       "      <th>Vegetal Products</th>\n",
       "      <th>Obesity</th>\n",
       "      <th>Undernourished</th>\n",
       "      <th>Confirmed</th>\n",
       "      <th>Deaths</th>\n",
       "      <th>Recovered</th>\n",
       "      <th>Active</th>\n",
       "      <th>Population</th>\n",
       "      <th>Unit (all except Population)</th>\n",
       "    </tr>\n",
       "  </thead>\n",
       "  <tbody>\n",
       "    <tr>\n",
       "      <th>0</th>\n",
       "      <td>Afghanistan</td>\n",
       "      <td>0.0014</td>\n",
       "      <td>0.1973</td>\n",
       "      <td>9.4341</td>\n",
       "      <td>0.0</td>\n",
       "      <td>24.8097</td>\n",
       "      <td>0.2099</td>\n",
       "      <td>0.0350</td>\n",
       "      <td>5.3495</td>\n",
       "      <td>1.2020</td>\n",
       "      <td>...</td>\n",
       "      <td>6.7642</td>\n",
       "      <td>40.5645</td>\n",
       "      <td>4.5</td>\n",
       "      <td>29.8</td>\n",
       "      <td>0.103491</td>\n",
       "      <td>0.003846</td>\n",
       "      <td>0.086724</td>\n",
       "      <td>0.012921</td>\n",
       "      <td>38928000.0</td>\n",
       "      <td>%</td>\n",
       "    </tr>\n",
       "    <tr>\n",
       "      <th>1</th>\n",
       "      <td>Albania</td>\n",
       "      <td>1.6719</td>\n",
       "      <td>0.1357</td>\n",
       "      <td>18.7684</td>\n",
       "      <td>0.0</td>\n",
       "      <td>5.7817</td>\n",
       "      <td>0.5815</td>\n",
       "      <td>0.2126</td>\n",
       "      <td>6.7861</td>\n",
       "      <td>1.8845</td>\n",
       "      <td>...</td>\n",
       "      <td>11.7753</td>\n",
       "      <td>31.2304</td>\n",
       "      <td>22.3</td>\n",
       "      <td>6.2</td>\n",
       "      <td>0.611346</td>\n",
       "      <td>0.015997</td>\n",
       "      <td>0.358245</td>\n",
       "      <td>0.237104</td>\n",
       "      <td>2838000.0</td>\n",
       "      <td>%</td>\n",
       "    </tr>\n",
       "    <tr>\n",
       "      <th>2</th>\n",
       "      <td>Algeria</td>\n",
       "      <td>0.2711</td>\n",
       "      <td>0.0282</td>\n",
       "      <td>9.6334</td>\n",
       "      <td>0.0</td>\n",
       "      <td>13.6816</td>\n",
       "      <td>0.5277</td>\n",
       "      <td>0.2416</td>\n",
       "      <td>6.3801</td>\n",
       "      <td>1.1305</td>\n",
       "      <td>...</td>\n",
       "      <td>11.6484</td>\n",
       "      <td>40.3651</td>\n",
       "      <td>26.6</td>\n",
       "      <td>3.9</td>\n",
       "      <td>0.123128</td>\n",
       "      <td>0.004205</td>\n",
       "      <td>0.086153</td>\n",
       "      <td>0.032770</td>\n",
       "      <td>44357000.0</td>\n",
       "      <td>%</td>\n",
       "    </tr>\n",
       "    <tr>\n",
       "      <th>3</th>\n",
       "      <td>Angola</td>\n",
       "      <td>5.8087</td>\n",
       "      <td>0.0560</td>\n",
       "      <td>4.9278</td>\n",
       "      <td>0.0</td>\n",
       "      <td>9.1085</td>\n",
       "      <td>0.0587</td>\n",
       "      <td>1.7707</td>\n",
       "      <td>6.0005</td>\n",
       "      <td>2.0571</td>\n",
       "      <td>...</td>\n",
       "      <td>2.3041</td>\n",
       "      <td>45.0722</td>\n",
       "      <td>6.8</td>\n",
       "      <td>25</td>\n",
       "      <td>0.024073</td>\n",
       "      <td>0.000763</td>\n",
       "      <td>0.009320</td>\n",
       "      <td>0.013991</td>\n",
       "      <td>32522000.0</td>\n",
       "      <td>%</td>\n",
       "    </tr>\n",
       "    <tr>\n",
       "      <th>4</th>\n",
       "      <td>Antigua and Barbuda</td>\n",
       "      <td>3.5764</td>\n",
       "      <td>0.0087</td>\n",
       "      <td>16.6613</td>\n",
       "      <td>0.0</td>\n",
       "      <td>5.9960</td>\n",
       "      <td>0.2274</td>\n",
       "      <td>4.1489</td>\n",
       "      <td>10.7451</td>\n",
       "      <td>5.6888</td>\n",
       "      <td>...</td>\n",
       "      <td>5.4495</td>\n",
       "      <td>33.3233</td>\n",
       "      <td>19.1</td>\n",
       "      <td>NaN</td>\n",
       "      <td>0.121429</td>\n",
       "      <td>0.003061</td>\n",
       "      <td>0.103061</td>\n",
       "      <td>0.015306</td>\n",
       "      <td>98000.0</td>\n",
       "      <td>%</td>\n",
       "    </tr>\n",
       "  </tbody>\n",
       "</table>\n",
       "<p>5 rows × 32 columns</p>\n",
       "</div>"
      ],
      "text/plain": [
       "               Country  Alcoholic Beverages  Animal fats  Animal Products  \\\n",
       "0          Afghanistan               0.0014       0.1973           9.4341   \n",
       "1              Albania               1.6719       0.1357          18.7684   \n",
       "2              Algeria               0.2711       0.0282           9.6334   \n",
       "3               Angola               5.8087       0.0560           4.9278   \n",
       "4  Antigua and Barbuda               3.5764       0.0087          16.6613   \n",
       "\n",
       "   Aquatic Products, Other  Cereals - Excluding Beer    Eggs  Fish, Seafood  \\\n",
       "0                      0.0                   24.8097  0.2099         0.0350   \n",
       "1                      0.0                    5.7817  0.5815         0.2126   \n",
       "2                      0.0                   13.6816  0.5277         0.2416   \n",
       "3                      0.0                    9.1085  0.0587         1.7707   \n",
       "4                      0.0                    5.9960  0.2274         4.1489   \n",
       "\n",
       "   Fruits - Excluding Wine    Meat  ...  Vegetables  Vegetal Products  \\\n",
       "0                   5.3495  1.2020  ...      6.7642           40.5645   \n",
       "1                   6.7861  1.8845  ...     11.7753           31.2304   \n",
       "2                   6.3801  1.1305  ...     11.6484           40.3651   \n",
       "3                   6.0005  2.0571  ...      2.3041           45.0722   \n",
       "4                  10.7451  5.6888  ...      5.4495           33.3233   \n",
       "\n",
       "   Obesity  Undernourished  Confirmed    Deaths  Recovered    Active  \\\n",
       "0      4.5            29.8   0.103491  0.003846   0.086724  0.012921   \n",
       "1     22.3             6.2   0.611346  0.015997   0.358245  0.237104   \n",
       "2     26.6             3.9   0.123128  0.004205   0.086153  0.032770   \n",
       "3      6.8              25   0.024073  0.000763   0.009320  0.013991   \n",
       "4     19.1             NaN   0.121429  0.003061   0.103061  0.015306   \n",
       "\n",
       "   Population  Unit (all except Population)  \n",
       "0  38928000.0                             %  \n",
       "1   2838000.0                             %  \n",
       "2  44357000.0                             %  \n",
       "3  32522000.0                             %  \n",
       "4     98000.0                             %  \n",
       "\n",
       "[5 rows x 32 columns]"
      ]
     },
     "execution_count": 1008,
     "metadata": {},
     "output_type": "execute_result"
    }
   ],
   "source": [
    "kg_df_full = pd.read_csv('../COVID Healthy diet dataset/Food_Supply_Quantity_kg_Data.csv')\n",
    "kcal_df_full = pd.read_csv('../COVID Healthy diet dataset/Food_Supply_kcal_Data.csv')\n",
    "protein_df_full = pd.read_csv('../COVID Healthy diet dataset/Protein_Supply_Quantity_Data.csv')\n",
    "fat_df_full = pd.read_csv('../COVID Healthy diet dataset/Fat_Supply_Quantity_Data.csv')\n",
    "kg_df_full.head()"
   ]
  },
  {
   "cell_type": "code",
   "execution_count": 1009,
   "metadata": {
    "execution": {
     "iopub.execute_input": "2020-10-22T17:39:52.826466Z",
     "iopub.status.busy": "2020-10-22T17:39:52.825571Z",
     "iopub.status.idle": "2020-10-22T17:39:52.830202Z",
     "shell.execute_reply": "2020-10-22T17:39:52.829392Z"
    },
    "papermill": {
     "duration": 0.163138,
     "end_time": "2020-10-22T17:39:52.830332",
     "exception": false,
     "start_time": "2020-10-22T17:39:52.667194",
     "status": "completed"
    },
    "tags": []
   },
   "outputs": [
    {
     "data": {
      "text/plain": [
       "Index(['Country', 'Alcoholic Beverages', 'Animal Products', 'Animal fats',\n",
       "       'Aquatic Products, Other', 'Cereals - Excluding Beer', 'Eggs',\n",
       "       'Fish, Seafood', 'Fruits - Excluding Wine', 'Meat', 'Miscellaneous',\n",
       "       'Milk - Excluding Butter', 'Offals', 'Oilcrops', 'Pulses', 'Spices',\n",
       "       'Starchy Roots', 'Stimulants', 'Sugar Crops', 'Sugar & Sweeteners',\n",
       "       'Treenuts', 'Vegetal Products', 'Vegetable Oils', 'Vegetables',\n",
       "       'Obesity', 'Undernourished', 'Population', 'Confirmed', 'Deaths',\n",
       "       'Recovered', 'Active', 'Unit (all except Population)'],\n",
       "      dtype='object')"
      ]
     },
     "execution_count": 1009,
     "metadata": {},
     "output_type": "execute_result"
    }
   ],
   "source": [
    "kg_df_full.columns\n",
    "kcal_df_full.columns\n",
    "protein_df_full.columns\n",
    "fat_df_full.columns"
   ]
  },
  {
   "cell_type": "code",
   "execution_count": 1010,
   "metadata": {
    "execution": {
     "iopub.execute_input": "2020-10-22T17:39:53.138991Z",
     "iopub.status.busy": "2020-10-22T17:39:53.137963Z",
     "iopub.status.idle": "2020-10-22T17:39:53.143123Z",
     "shell.execute_reply": "2020-10-22T17:39:53.142325Z"
    },
    "papermill": {
     "duration": 0.164605,
     "end_time": "2020-10-22T17:39:53.143264",
     "exception": false,
     "start_time": "2020-10-22T17:39:52.978659",
     "status": "completed"
    },
    "tags": []
   },
   "outputs": [
    {
     "data": {
      "text/plain": [
       "32"
      ]
     },
     "execution_count": 1010,
     "metadata": {},
     "output_type": "execute_result"
    }
   ],
   "source": [
    "kg_df_full.columns.size"
   ]
  },
  {
   "cell_type": "code",
   "execution_count": 1011,
   "metadata": {
    "execution": {
     "iopub.execute_input": "2020-10-22T17:39:53.471778Z",
     "iopub.status.busy": "2020-10-22T17:39:53.456437Z",
     "iopub.status.idle": "2020-10-22T17:39:53.484798Z",
     "shell.execute_reply": "2020-10-22T17:39:53.483885Z"
    },
    "papermill": {
     "duration": 0.192297,
     "end_time": "2020-10-22T17:39:53.484998",
     "exception": false,
     "start_time": "2020-10-22T17:39:53.292701",
     "status": "completed"
    },
    "tags": []
   },
   "outputs": [
    {
     "data": {
      "text/html": [
       "<div>\n",
       "<style scoped>\n",
       "    .dataframe tbody tr th:only-of-type {\n",
       "        vertical-align: middle;\n",
       "    }\n",
       "\n",
       "    .dataframe tbody tr th {\n",
       "        vertical-align: top;\n",
       "    }\n",
       "\n",
       "    .dataframe thead th {\n",
       "        text-align: right;\n",
       "    }\n",
       "</style>\n",
       "<table border=\"1\" class=\"dataframe\">\n",
       "  <thead>\n",
       "    <tr style=\"text-align: right;\">\n",
       "      <th></th>\n",
       "      <th>Country</th>\n",
       "      <th>Alcoholic Beverages</th>\n",
       "      <th>Animal Products</th>\n",
       "      <th>Animal fats</th>\n",
       "      <th>Aquatic Products, Other</th>\n",
       "      <th>Cereals - Excluding Beer</th>\n",
       "      <th>Eggs</th>\n",
       "      <th>Fish, Seafood</th>\n",
       "      <th>Fruits - Excluding Wine</th>\n",
       "      <th>Meat</th>\n",
       "      <th>...</th>\n",
       "      <th>Vegetable Oils</th>\n",
       "      <th>Vegetables</th>\n",
       "      <th>Miscellaneous</th>\n",
       "      <th>Obesity</th>\n",
       "      <th>Undernourished</th>\n",
       "      <th>Confirmed</th>\n",
       "      <th>Deaths</th>\n",
       "      <th>Recovered</th>\n",
       "      <th>Active</th>\n",
       "      <th>Population</th>\n",
       "    </tr>\n",
       "  </thead>\n",
       "  <tbody>\n",
       "    <tr>\n",
       "      <th>0</th>\n",
       "      <td>Afghanistan</td>\n",
       "      <td>0.0000</td>\n",
       "      <td>9.7523</td>\n",
       "      <td>0.0277</td>\n",
       "      <td>0.0</td>\n",
       "      <td>35.9771</td>\n",
       "      <td>0.4067</td>\n",
       "      <td>0.0647</td>\n",
       "      <td>0.5824</td>\n",
       "      <td>3.1337</td>\n",
       "      <td>...</td>\n",
       "      <td>0.0000</td>\n",
       "      <td>1.1370</td>\n",
       "      <td>0.0462</td>\n",
       "      <td>4.5</td>\n",
       "      <td>29.8</td>\n",
       "      <td>0.103491</td>\n",
       "      <td>0.003846</td>\n",
       "      <td>0.086724</td>\n",
       "      <td>0.012921</td>\n",
       "      <td>38928000.0</td>\n",
       "    </tr>\n",
       "    <tr>\n",
       "      <th>1</th>\n",
       "      <td>Albania</td>\n",
       "      <td>0.1840</td>\n",
       "      <td>27.7469</td>\n",
       "      <td>0.0711</td>\n",
       "      <td>0.0</td>\n",
       "      <td>14.2331</td>\n",
       "      <td>1.8069</td>\n",
       "      <td>0.6274</td>\n",
       "      <td>1.2757</td>\n",
       "      <td>7.6582</td>\n",
       "      <td>...</td>\n",
       "      <td>0.0084</td>\n",
       "      <td>3.2456</td>\n",
       "      <td>0.0544</td>\n",
       "      <td>22.3</td>\n",
       "      <td>6.2</td>\n",
       "      <td>0.611346</td>\n",
       "      <td>0.015997</td>\n",
       "      <td>0.358245</td>\n",
       "      <td>0.237104</td>\n",
       "      <td>2838000.0</td>\n",
       "    </tr>\n",
       "    <tr>\n",
       "      <th>2</th>\n",
       "      <td>Algeria</td>\n",
       "      <td>0.0323</td>\n",
       "      <td>13.8360</td>\n",
       "      <td>0.0054</td>\n",
       "      <td>0.0</td>\n",
       "      <td>26.5633</td>\n",
       "      <td>1.2916</td>\n",
       "      <td>0.6350</td>\n",
       "      <td>1.1624</td>\n",
       "      <td>3.5088</td>\n",
       "      <td>...</td>\n",
       "      <td>0.0269</td>\n",
       "      <td>3.1267</td>\n",
       "      <td>0.1399</td>\n",
       "      <td>26.6</td>\n",
       "      <td>3.9</td>\n",
       "      <td>0.123128</td>\n",
       "      <td>0.004205</td>\n",
       "      <td>0.086153</td>\n",
       "      <td>0.032770</td>\n",
       "      <td>44357000.0</td>\n",
       "    </tr>\n",
       "    <tr>\n",
       "      <th>3</th>\n",
       "      <td>Angola</td>\n",
       "      <td>0.6285</td>\n",
       "      <td>15.2311</td>\n",
       "      <td>0.0277</td>\n",
       "      <td>0.0</td>\n",
       "      <td>20.3882</td>\n",
       "      <td>0.1756</td>\n",
       "      <td>5.4436</td>\n",
       "      <td>1.2754</td>\n",
       "      <td>7.6248</td>\n",
       "      <td>...</td>\n",
       "      <td>0.0092</td>\n",
       "      <td>0.8133</td>\n",
       "      <td>0.0924</td>\n",
       "      <td>6.8</td>\n",
       "      <td>25</td>\n",
       "      <td>0.024073</td>\n",
       "      <td>0.000763</td>\n",
       "      <td>0.009320</td>\n",
       "      <td>0.013991</td>\n",
       "      <td>32522000.0</td>\n",
       "    </tr>\n",
       "    <tr>\n",
       "      <th>4</th>\n",
       "      <td>Antigua and Barbuda</td>\n",
       "      <td>0.1535</td>\n",
       "      <td>33.1901</td>\n",
       "      <td>0.1289</td>\n",
       "      <td>0.0</td>\n",
       "      <td>10.5108</td>\n",
       "      <td>0.4850</td>\n",
       "      <td>8.2146</td>\n",
       "      <td>1.2586</td>\n",
       "      <td>16.0670</td>\n",
       "      <td>...</td>\n",
       "      <td>0.0430</td>\n",
       "      <td>1.6024</td>\n",
       "      <td>0.2947</td>\n",
       "      <td>19.1</td>\n",
       "      <td>NaN</td>\n",
       "      <td>0.121429</td>\n",
       "      <td>0.003061</td>\n",
       "      <td>0.103061</td>\n",
       "      <td>0.015306</td>\n",
       "      <td>98000.0</td>\n",
       "    </tr>\n",
       "  </tbody>\n",
       "</table>\n",
       "<p>5 rows × 31 columns</p>\n",
       "</div>"
      ],
      "text/plain": [
       "               Country  Alcoholic Beverages  Animal Products  Animal fats  \\\n",
       "0          Afghanistan               0.0000           9.7523       0.0277   \n",
       "1              Albania               0.1840          27.7469       0.0711   \n",
       "2              Algeria               0.0323          13.8360       0.0054   \n",
       "3               Angola               0.6285          15.2311       0.0277   \n",
       "4  Antigua and Barbuda               0.1535          33.1901       0.1289   \n",
       "\n",
       "   Aquatic Products, Other  Cereals - Excluding Beer    Eggs  Fish, Seafood  \\\n",
       "0                      0.0                   35.9771  0.4067         0.0647   \n",
       "1                      0.0                   14.2331  1.8069         0.6274   \n",
       "2                      0.0                   26.5633  1.2916         0.6350   \n",
       "3                      0.0                   20.3882  0.1756         5.4436   \n",
       "4                      0.0                   10.5108  0.4850         8.2146   \n",
       "\n",
       "   Fruits - Excluding Wine     Meat  ...  Vegetable Oils  Vegetables  \\\n",
       "0                   0.5824   3.1337  ...          0.0000      1.1370   \n",
       "1                   1.2757   7.6582  ...          0.0084      3.2456   \n",
       "2                   1.1624   3.5088  ...          0.0269      3.1267   \n",
       "3                   1.2754   7.6248  ...          0.0092      0.8133   \n",
       "4                   1.2586  16.0670  ...          0.0430      1.6024   \n",
       "\n",
       "   Miscellaneous  Obesity  Undernourished  Confirmed    Deaths  Recovered  \\\n",
       "0         0.0462      4.5            29.8   0.103491  0.003846   0.086724   \n",
       "1         0.0544     22.3             6.2   0.611346  0.015997   0.358245   \n",
       "2         0.1399     26.6             3.9   0.123128  0.004205   0.086153   \n",
       "3         0.0924      6.8              25   0.024073  0.000763   0.009320   \n",
       "4         0.2947     19.1             NaN   0.121429  0.003061   0.103061   \n",
       "\n",
       "     Active  Population  \n",
       "0  0.012921  38928000.0  \n",
       "1  0.237104   2838000.0  \n",
       "2  0.032770  44357000.0  \n",
       "3  0.013991  32522000.0  \n",
       "4  0.015306     98000.0  \n",
       "\n",
       "[5 rows x 31 columns]"
      ]
     },
     "execution_count": 1011,
     "metadata": {},
     "output_type": "execute_result"
    }
   ],
   "source": [
    "# Let's drop the last column as it is just a unit information\n",
    "kg_df = kg_df_full.drop('Unit (all except Population)', axis = 1)\n",
    "kcal_df = kcal_df_full.drop('Unit (all except Population)', axis = 1)\n",
    "protein_df = protein_df_full.drop('Unit (all except Population)', axis = 1)\n",
    "fat_df = fat_df_full.drop('Unit (all except Population)', axis = 1)\n",
    "protein_df.head()"
   ]
  },
  {
   "cell_type": "markdown",
   "metadata": {
    "papermill": {
     "duration": 0.15009,
     "end_time": "2020-10-22T17:39:53.789944",
     "exception": false,
     "start_time": "2020-10-22T17:39:53.639854",
     "status": "completed"
    },
    "tags": []
   },
   "source": [
    "Beyond the columns described in the `Categories` from the data description, we have 7 other columns:\n",
    "* Obesity: obesity rate\n",
    "* Undernourished: undernourished rate\n",
    "* Confirmed: confirmed cases of COVID-19, by population\n",
    "* Deaths: confirmed deaths from COVID-19, by population\n",
    "* Recovered: recovered cases of COVID-19, by population\n",
    "* Active: active cases of COVID-19, by population\n",
    "* Population: country population"
   ]
  },
  {
   "cell_type": "code",
   "execution_count": 1012,
   "metadata": {
    "execution": {
     "iopub.execute_input": "2020-10-22T17:39:54.096320Z",
     "iopub.status.busy": "2020-10-22T17:39:54.093173Z",
     "iopub.status.idle": "2020-10-22T17:39:54.101579Z",
     "shell.execute_reply": "2020-10-22T17:39:54.100786Z"
    },
    "papermill": {
     "duration": 0.16464,
     "end_time": "2020-10-22T17:39:54.101732",
     "exception": false,
     "start_time": "2020-10-22T17:39:53.937092",
     "status": "completed"
    },
    "tags": []
   },
   "outputs": [
    {
     "data": {
      "text/plain": [
       "Country                      0\n",
       "Alcoholic Beverages          0\n",
       "Animal Products              0\n",
       "Animal fats                  0\n",
       "Aquatic Products, Other      0\n",
       "Cereals - Excluding Beer     0\n",
       "Eggs                         0\n",
       "Fish, Seafood                0\n",
       "Fruits - Excluding Wine      0\n",
       "Meat                         0\n",
       "Miscellaneous                0\n",
       "Milk - Excluding Butter      0\n",
       "Offals                       0\n",
       "Oilcrops                     0\n",
       "Pulses                       0\n",
       "Spices                       0\n",
       "Starchy Roots                0\n",
       "Stimulants                   0\n",
       "Sugar Crops                  0\n",
       "Sugar & Sweeteners           0\n",
       "Treenuts                     0\n",
       "Vegetal Products             0\n",
       "Vegetable Oils               0\n",
       "Vegetables                   0\n",
       "Obesity                      3\n",
       "Undernourished               7\n",
       "Population                   0\n",
       "Confirmed                    8\n",
       "Deaths                       8\n",
       "Recovered                    8\n",
       "Active                      11\n",
       "dtype: int64"
      ]
     },
     "execution_count": 1012,
     "metadata": {},
     "output_type": "execute_result"
    }
   ],
   "source": [
    "kg_df.isnull().sum()\n",
    "kcal_df.isnull().sum()\n",
    "protein_df.isnull().sum()\n",
    "fat_df.isnull().sum()"
   ]
  },
  {
   "cell_type": "markdown",
   "metadata": {
    "papermill": {
     "duration": 0.147366,
     "end_time": "2020-10-22T17:39:54.403185",
     "exception": false,
     "start_time": "2020-10-22T17:39:54.255819",
     "status": "completed"
    },
    "tags": []
   },
   "source": [
    "We have some missing data from these last columns. We'll start by simply dropping these data."
   ]
  },
  {
   "cell_type": "code",
   "execution_count": 1013,
   "metadata": {
    "execution": {
     "iopub.execute_input": "2020-10-22T17:39:54.733638Z",
     "iopub.status.busy": "2020-10-22T17:39:54.732735Z",
     "iopub.status.idle": "2020-10-22T17:39:54.738259Z",
     "shell.execute_reply": "2020-10-22T17:39:54.737551Z"
    },
    "papermill": {
     "duration": 0.187486,
     "end_time": "2020-10-22T17:39:54.738386",
     "exception": false,
     "start_time": "2020-10-22T17:39:54.550900",
     "status": "completed"
    },
    "scrolled": true,
    "tags": []
   },
   "outputs": [
    {
     "data": {
      "text/html": [
       "<div>\n",
       "<style scoped>\n",
       "    .dataframe tbody tr th:only-of-type {\n",
       "        vertical-align: middle;\n",
       "    }\n",
       "\n",
       "    .dataframe tbody tr th {\n",
       "        vertical-align: top;\n",
       "    }\n",
       "\n",
       "    .dataframe thead th {\n",
       "        text-align: right;\n",
       "    }\n",
       "</style>\n",
       "<table border=\"1\" class=\"dataframe\">\n",
       "  <thead>\n",
       "    <tr style=\"text-align: right;\">\n",
       "      <th></th>\n",
       "      <th>Country</th>\n",
       "      <th>Alcoholic Beverages</th>\n",
       "      <th>Animal fats</th>\n",
       "      <th>Animal Products</th>\n",
       "      <th>Aquatic Products, Other</th>\n",
       "      <th>Cereals - Excluding Beer</th>\n",
       "      <th>Eggs</th>\n",
       "      <th>Fish, Seafood</th>\n",
       "      <th>Fruits - Excluding Wine</th>\n",
       "      <th>Meat</th>\n",
       "      <th>...</th>\n",
       "      <th>Vegetable Oils</th>\n",
       "      <th>Vegetables</th>\n",
       "      <th>Vegetal Products</th>\n",
       "      <th>Obesity</th>\n",
       "      <th>Undernourished</th>\n",
       "      <th>Confirmed</th>\n",
       "      <th>Deaths</th>\n",
       "      <th>Recovered</th>\n",
       "      <th>Active</th>\n",
       "      <th>Population</th>\n",
       "    </tr>\n",
       "  </thead>\n",
       "  <tbody>\n",
       "    <tr>\n",
       "      <th>0</th>\n",
       "      <td>Afghanistan</td>\n",
       "      <td>0.0014</td>\n",
       "      <td>0.1973</td>\n",
       "      <td>9.4341</td>\n",
       "      <td>0.0</td>\n",
       "      <td>24.8097</td>\n",
       "      <td>0.2099</td>\n",
       "      <td>0.0350</td>\n",
       "      <td>5.3495</td>\n",
       "      <td>1.2020</td>\n",
       "      <td>...</td>\n",
       "      <td>0.5345</td>\n",
       "      <td>6.7642</td>\n",
       "      <td>40.5645</td>\n",
       "      <td>4.5</td>\n",
       "      <td>29.8</td>\n",
       "      <td>0.103491</td>\n",
       "      <td>0.003846</td>\n",
       "      <td>0.086724</td>\n",
       "      <td>0.012921</td>\n",
       "      <td>38928000.0</td>\n",
       "    </tr>\n",
       "    <tr>\n",
       "      <th>1</th>\n",
       "      <td>Albania</td>\n",
       "      <td>1.6719</td>\n",
       "      <td>0.1357</td>\n",
       "      <td>18.7684</td>\n",
       "      <td>0.0</td>\n",
       "      <td>5.7817</td>\n",
       "      <td>0.5815</td>\n",
       "      <td>0.2126</td>\n",
       "      <td>6.7861</td>\n",
       "      <td>1.8845</td>\n",
       "      <td>...</td>\n",
       "      <td>0.3261</td>\n",
       "      <td>11.7753</td>\n",
       "      <td>31.2304</td>\n",
       "      <td>22.3</td>\n",
       "      <td>6.2</td>\n",
       "      <td>0.611346</td>\n",
       "      <td>0.015997</td>\n",
       "      <td>0.358245</td>\n",
       "      <td>0.237104</td>\n",
       "      <td>2838000.0</td>\n",
       "    </tr>\n",
       "    <tr>\n",
       "      <th>2</th>\n",
       "      <td>Algeria</td>\n",
       "      <td>0.2711</td>\n",
       "      <td>0.0282</td>\n",
       "      <td>9.6334</td>\n",
       "      <td>0.0</td>\n",
       "      <td>13.6816</td>\n",
       "      <td>0.5277</td>\n",
       "      <td>0.2416</td>\n",
       "      <td>6.3801</td>\n",
       "      <td>1.1305</td>\n",
       "      <td>...</td>\n",
       "      <td>1.0310</td>\n",
       "      <td>11.6484</td>\n",
       "      <td>40.3651</td>\n",
       "      <td>26.6</td>\n",
       "      <td>3.9</td>\n",
       "      <td>0.123128</td>\n",
       "      <td>0.004205</td>\n",
       "      <td>0.086153</td>\n",
       "      <td>0.032770</td>\n",
       "      <td>44357000.0</td>\n",
       "    </tr>\n",
       "    <tr>\n",
       "      <th>3</th>\n",
       "      <td>Angola</td>\n",
       "      <td>5.8087</td>\n",
       "      <td>0.0560</td>\n",
       "      <td>4.9278</td>\n",
       "      <td>0.0</td>\n",
       "      <td>9.1085</td>\n",
       "      <td>0.0587</td>\n",
       "      <td>1.7707</td>\n",
       "      <td>6.0005</td>\n",
       "      <td>2.0571</td>\n",
       "      <td>...</td>\n",
       "      <td>0.6463</td>\n",
       "      <td>2.3041</td>\n",
       "      <td>45.0722</td>\n",
       "      <td>6.8</td>\n",
       "      <td>25</td>\n",
       "      <td>0.024073</td>\n",
       "      <td>0.000763</td>\n",
       "      <td>0.009320</td>\n",
       "      <td>0.013991</td>\n",
       "      <td>32522000.0</td>\n",
       "    </tr>\n",
       "    <tr>\n",
       "      <th>4</th>\n",
       "      <td>Antigua and Barbuda</td>\n",
       "      <td>3.5764</td>\n",
       "      <td>0.0087</td>\n",
       "      <td>16.6613</td>\n",
       "      <td>0.0</td>\n",
       "      <td>5.9960</td>\n",
       "      <td>0.2274</td>\n",
       "      <td>4.1489</td>\n",
       "      <td>10.7451</td>\n",
       "      <td>5.6888</td>\n",
       "      <td>...</td>\n",
       "      <td>0.8102</td>\n",
       "      <td>5.4495</td>\n",
       "      <td>33.3233</td>\n",
       "      <td>19.1</td>\n",
       "      <td>NaN</td>\n",
       "      <td>0.121429</td>\n",
       "      <td>0.003061</td>\n",
       "      <td>0.103061</td>\n",
       "      <td>0.015306</td>\n",
       "      <td>98000.0</td>\n",
       "    </tr>\n",
       "  </tbody>\n",
       "</table>\n",
       "<p>5 rows × 31 columns</p>\n",
       "</div>"
      ],
      "text/plain": [
       "               Country  Alcoholic Beverages  Animal fats  Animal Products  \\\n",
       "0          Afghanistan               0.0014       0.1973           9.4341   \n",
       "1              Albania               1.6719       0.1357          18.7684   \n",
       "2              Algeria               0.2711       0.0282           9.6334   \n",
       "3               Angola               5.8087       0.0560           4.9278   \n",
       "4  Antigua and Barbuda               3.5764       0.0087          16.6613   \n",
       "\n",
       "   Aquatic Products, Other  Cereals - Excluding Beer    Eggs  Fish, Seafood  \\\n",
       "0                      0.0                   24.8097  0.2099         0.0350   \n",
       "1                      0.0                    5.7817  0.5815         0.2126   \n",
       "2                      0.0                   13.6816  0.5277         0.2416   \n",
       "3                      0.0                    9.1085  0.0587         1.7707   \n",
       "4                      0.0                    5.9960  0.2274         4.1489   \n",
       "\n",
       "   Fruits - Excluding Wine    Meat  ...  Vegetable Oils  Vegetables  \\\n",
       "0                   5.3495  1.2020  ...          0.5345      6.7642   \n",
       "1                   6.7861  1.8845  ...          0.3261     11.7753   \n",
       "2                   6.3801  1.1305  ...          1.0310     11.6484   \n",
       "3                   6.0005  2.0571  ...          0.6463      2.3041   \n",
       "4                  10.7451  5.6888  ...          0.8102      5.4495   \n",
       "\n",
       "   Vegetal Products  Obesity  Undernourished  Confirmed    Deaths  Recovered  \\\n",
       "0           40.5645      4.5            29.8   0.103491  0.003846   0.086724   \n",
       "1           31.2304     22.3             6.2   0.611346  0.015997   0.358245   \n",
       "2           40.3651     26.6             3.9   0.123128  0.004205   0.086153   \n",
       "3           45.0722      6.8              25   0.024073  0.000763   0.009320   \n",
       "4           33.3233     19.1             NaN   0.121429  0.003061   0.103061   \n",
       "\n",
       "     Active  Population  \n",
       "0  0.012921  38928000.0  \n",
       "1  0.237104   2838000.0  \n",
       "2  0.032770  44357000.0  \n",
       "3  0.013991  32522000.0  \n",
       "4  0.015306     98000.0  \n",
       "\n",
       "[5 rows x 31 columns]"
      ]
     },
     "execution_count": 1013,
     "metadata": {},
     "output_type": "execute_result"
    }
   ],
   "source": [
    "kg_df.head()"
   ]
  },
  {
   "cell_type": "code",
   "execution_count": 1014,
   "metadata": {
    "execution": {
     "iopub.execute_input": "2020-10-22T17:39:55.044970Z",
     "iopub.status.busy": "2020-10-22T17:39:55.043911Z",
     "iopub.status.idle": "2020-10-22T17:39:55.070459Z",
     "shell.execute_reply": "2020-10-22T17:39:55.069579Z"
    },
    "papermill": {
     "duration": 0.184098,
     "end_time": "2020-10-22T17:39:55.070609",
     "exception": false,
     "start_time": "2020-10-22T17:39:54.886511",
     "status": "completed"
    },
    "tags": []
   },
   "outputs": [],
   "source": [
    "kg_df = kg_df.dropna()\n",
    "kcal_df = kcal_df.dropna()\n",
    "protein_df = protein_df.dropna()\n",
    "fat_df = fat_df.dropna()"
   ]
  },
  {
   "cell_type": "code",
   "execution_count": 1015,
   "metadata": {
    "execution": {
     "iopub.execute_input": "2020-10-22T17:39:55.388654Z",
     "iopub.status.busy": "2020-10-22T17:39:55.387682Z",
     "iopub.status.idle": "2020-10-22T17:39:55.392314Z",
     "shell.execute_reply": "2020-10-22T17:39:55.391563Z"
    },
    "papermill": {
     "duration": 0.171189,
     "end_time": "2020-10-22T17:39:55.392451",
     "exception": false,
     "start_time": "2020-10-22T17:39:55.221262",
     "status": "completed"
    },
    "scrolled": false,
    "tags": []
   },
   "outputs": [
    {
     "name": "stdout",
     "output_type": "stream",
     "text": [
      "<class 'pandas.core.frame.DataFrame'>\n",
      "Int64Index: 151 entries, 0 to 169\n",
      "Data columns (total 31 columns):\n",
      " #   Column                    Non-Null Count  Dtype  \n",
      "---  ------                    --------------  -----  \n",
      " 0   Country                   151 non-null    object \n",
      " 1   Alcoholic Beverages       151 non-null    float64\n",
      " 2   Animal fats               151 non-null    float64\n",
      " 3   Animal Products           151 non-null    float64\n",
      " 4   Aquatic Products, Other   151 non-null    float64\n",
      " 5   Cereals - Excluding Beer  151 non-null    float64\n",
      " 6   Eggs                      151 non-null    float64\n",
      " 7   Fish, Seafood             151 non-null    float64\n",
      " 8   Fruits - Excluding Wine   151 non-null    float64\n",
      " 9   Meat                      151 non-null    float64\n",
      " 10  Milk - Excluding Butter   151 non-null    float64\n",
      " 11  Miscellaneous             151 non-null    float64\n",
      " 12  Offals                    151 non-null    float64\n",
      " 13  Oilcrops                  151 non-null    float64\n",
      " 14  Pulses                    151 non-null    float64\n",
      " 15  Spices                    151 non-null    float64\n",
      " 16  Starchy Roots             151 non-null    float64\n",
      " 17  Stimulants                151 non-null    float64\n",
      " 18  Sugar & Sweeteners        151 non-null    float64\n",
      " 19  Sugar Crops               151 non-null    float64\n",
      " 20  Treenuts                  151 non-null    float64\n",
      " 21  Vegetable Oils            151 non-null    float64\n",
      " 22  Vegetables                151 non-null    float64\n",
      " 23  Vegetal Products          151 non-null    float64\n",
      " 24  Obesity                   151 non-null    float64\n",
      " 25  Undernourished            151 non-null    object \n",
      " 26  Confirmed                 151 non-null    float64\n",
      " 27  Deaths                    151 non-null    float64\n",
      " 28  Recovered                 151 non-null    float64\n",
      " 29  Active                    151 non-null    float64\n",
      " 30  Population                151 non-null    float64\n",
      "dtypes: float64(29), object(2)\n",
      "memory usage: 37.8+ KB\n"
     ]
    }
   ],
   "source": [
    "kg_df.info()"
   ]
  },
  {
   "cell_type": "markdown",
   "metadata": {
    "papermill": {
     "duration": 0.148537,
     "end_time": "2020-10-22T17:39:55.689396",
     "exception": false,
     "start_time": "2020-10-22T17:39:55.540859",
     "status": "completed"
    },
    "tags": []
   },
   "source": [
    "Something is not a number in the `Undernourished` columns. Let's inspect:"
   ]
  },
  {
   "cell_type": "code",
   "execution_count": 1016,
   "metadata": {
    "execution": {
     "iopub.execute_input": "2020-10-22T17:39:55.997511Z",
     "iopub.status.busy": "2020-10-22T17:39:55.996580Z",
     "iopub.status.idle": "2020-10-22T17:39:56.000462Z",
     "shell.execute_reply": "2020-10-22T17:39:55.999692Z"
    },
    "papermill": {
     "duration": 0.162382,
     "end_time": "2020-10-22T17:39:56.000600",
     "exception": false,
     "start_time": "2020-10-22T17:39:55.838218",
     "status": "completed"
    },
    "tags": []
   },
   "outputs": [
    {
     "data": {
      "text/plain": [
       "0     29.8\n",
       "1      6.2\n",
       "2      3.9\n",
       "3       25\n",
       "5      4.6\n",
       "6      4.3\n",
       "7     <2.5\n",
       "8     <2.5\n",
       "9     <2.5\n",
       "11    14.7\n",
       "12     3.9\n",
       "13    <2.5\n",
       "14    <2.5\n",
       "15     7.5\n",
       "16    10.1\n",
       "17    17.1\n",
       "18    <2.5\n",
       "19    26.4\n",
       "20    <2.5\n",
       "21     3.6\n",
       "Name: Undernourished, dtype: object"
      ]
     },
     "execution_count": 1016,
     "metadata": {},
     "output_type": "execute_result"
    }
   ],
   "source": [
    "kg_df['Undernourished'][:20]"
   ]
  },
  {
   "cell_type": "code",
   "execution_count": 1017,
   "metadata": {
    "execution": {
     "iopub.execute_input": "2020-10-22T17:39:56.310237Z",
     "iopub.status.busy": "2020-10-22T17:39:56.309420Z",
     "iopub.status.idle": "2020-10-22T17:39:56.313606Z",
     "shell.execute_reply": "2020-10-22T17:39:56.312980Z"
    },
    "papermill": {
     "duration": 0.161148,
     "end_time": "2020-10-22T17:39:56.313733",
     "exception": false,
     "start_time": "2020-10-22T17:39:56.152585",
     "status": "completed"
    },
    "tags": []
   },
   "outputs": [
    {
     "data": {
      "text/plain": [
       "'29.8'"
      ]
     },
     "execution_count": 1017,
     "metadata": {},
     "output_type": "execute_result"
    }
   ],
   "source": [
    "kg_df['Undernourished'][0]"
   ]
  },
  {
   "cell_type": "markdown",
   "metadata": {
    "papermill": {
     "duration": 0.149368,
     "end_time": "2020-10-22T17:39:56.621368",
     "exception": false,
     "start_time": "2020-10-22T17:39:56.472000",
     "status": "completed"
    },
    "tags": []
   },
   "source": [
    "OK, so we have strings and some of them are of the form '<2.5'. Let's replace these values with '2.0', as a very crude way of dealing with these values. We need to remember, in the analysis, that all values '2.0' represent something below 2.5."
   ]
  },
  {
   "cell_type": "code",
   "execution_count": 1018,
   "metadata": {
    "execution": {
     "iopub.execute_input": "2020-10-22T17:39:56.931575Z",
     "iopub.status.busy": "2020-10-22T17:39:56.930369Z",
     "iopub.status.idle": "2020-10-22T17:39:56.934566Z",
     "shell.execute_reply": "2020-10-22T17:39:56.933587Z"
    },
    "papermill": {
     "duration": 0.161814,
     "end_time": "2020-10-22T17:39:56.934780",
     "exception": false,
     "start_time": "2020-10-22T17:39:56.772966",
     "status": "completed"
    },
    "tags": []
   },
   "outputs": [],
   "source": [
    "kg_df.loc[kg_df['Undernourished'] == '<2.5', 'Undernourished'] = '2.0'\n",
    "kcal_df.loc[kcal_df['Undernourished'] == '<2.5', 'Undernourished'] = '2.0'\n",
    "protein_df.loc[protein_df['Undernourished'] == '<2.5', 'Undernourished'] = '2.0'\n",
    "fat_df.loc[fat_df['Undernourished'] == '<2.5', 'Undernourished'] = '2.0'"
   ]
  },
  {
   "cell_type": "code",
   "execution_count": 1019,
   "metadata": {
    "execution": {
     "iopub.execute_input": "2020-10-22T17:39:57.250204Z",
     "iopub.status.busy": "2020-10-22T17:39:57.249116Z",
     "iopub.status.idle": "2020-10-22T17:39:57.253590Z",
     "shell.execute_reply": "2020-10-22T17:39:57.252839Z"
    },
    "papermill": {
     "duration": 0.164799,
     "end_time": "2020-10-22T17:39:57.253722",
     "exception": false,
     "start_time": "2020-10-22T17:39:57.088923",
     "status": "completed"
    },
    "tags": []
   },
   "outputs": [
    {
     "data": {
      "text/plain": [
       "0     29.8\n",
       "1      6.2\n",
       "2      3.9\n",
       "3       25\n",
       "5      4.6\n",
       "6      4.3\n",
       "7      2.0\n",
       "8      2.0\n",
       "9      2.0\n",
       "11    14.7\n",
       "12     3.9\n",
       "13     2.0\n",
       "14     2.0\n",
       "15     7.5\n",
       "16    10.1\n",
       "17    17.1\n",
       "18     2.0\n",
       "19    26.4\n",
       "20     2.0\n",
       "21     3.6\n",
       "Name: Undernourished, dtype: object"
      ]
     },
     "execution_count": 1019,
     "metadata": {},
     "output_type": "execute_result"
    }
   ],
   "source": [
    "kg_df['Undernourished'][:20]"
   ]
  },
  {
   "cell_type": "markdown",
   "metadata": {
    "papermill": {
     "duration": 0.150626,
     "end_time": "2020-10-22T17:39:57.556832",
     "exception": false,
     "start_time": "2020-10-22T17:39:57.406206",
     "status": "completed"
    },
    "tags": []
   },
   "source": [
    "Now, to turn data into numeric types:"
   ]
  },
  {
   "cell_type": "code",
   "execution_count": 1020,
   "metadata": {
    "execution": {
     "iopub.execute_input": "2020-10-22T17:39:57.867225Z",
     "iopub.status.busy": "2020-10-22T17:39:57.866124Z",
     "iopub.status.idle": "2020-10-22T17:39:57.869001Z",
     "shell.execute_reply": "2020-10-22T17:39:57.869640Z"
    },
    "papermill": {
     "duration": 0.161071,
     "end_time": "2020-10-22T17:39:57.869813",
     "exception": false,
     "start_time": "2020-10-22T17:39:57.708742",
     "status": "completed"
    },
    "tags": []
   },
   "outputs": [],
   "source": [
    "kg_df['Undernourished'] = pd.to_numeric(kg_df['Undernourished'])\n",
    "kcal_df['Undernourished'] = pd.to_numeric(kcal_df['Undernourished'])\n",
    "protein_df['Undernourished'] = pd.to_numeric(protein_df['Undernourished'])\n",
    "fat_df['Undernourished'] = pd.to_numeric(fat_df['Undernourished'])"
   ]
  },
  {
   "cell_type": "code",
   "execution_count": 1021,
   "metadata": {
    "execution": {
     "iopub.execute_input": "2020-10-22T17:39:58.193311Z",
     "iopub.status.busy": "2020-10-22T17:39:58.192109Z",
     "iopub.status.idle": "2020-10-22T17:39:58.196009Z",
     "shell.execute_reply": "2020-10-22T17:39:58.196631Z"
    },
    "papermill": {
     "duration": 0.174316,
     "end_time": "2020-10-22T17:39:58.196802",
     "exception": false,
     "start_time": "2020-10-22T17:39:58.022486",
     "status": "completed"
    },
    "scrolled": false,
    "tags": []
   },
   "outputs": [
    {
     "name": "stdout",
     "output_type": "stream",
     "text": [
      "<class 'pandas.core.frame.DataFrame'>\n",
      "Int64Index: 151 entries, 0 to 169\n",
      "Data columns (total 31 columns):\n",
      " #   Column                    Non-Null Count  Dtype  \n",
      "---  ------                    --------------  -----  \n",
      " 0   Country                   151 non-null    object \n",
      " 1   Alcoholic Beverages       151 non-null    float64\n",
      " 2   Animal fats               151 non-null    float64\n",
      " 3   Animal Products           151 non-null    float64\n",
      " 4   Aquatic Products, Other   151 non-null    float64\n",
      " 5   Cereals - Excluding Beer  151 non-null    float64\n",
      " 6   Eggs                      151 non-null    float64\n",
      " 7   Fish, Seafood             151 non-null    float64\n",
      " 8   Fruits - Excluding Wine   151 non-null    float64\n",
      " 9   Meat                      151 non-null    float64\n",
      " 10  Milk - Excluding Butter   151 non-null    float64\n",
      " 11  Miscellaneous             151 non-null    float64\n",
      " 12  Offals                    151 non-null    float64\n",
      " 13  Oilcrops                  151 non-null    float64\n",
      " 14  Pulses                    151 non-null    float64\n",
      " 15  Spices                    151 non-null    float64\n",
      " 16  Starchy Roots             151 non-null    float64\n",
      " 17  Stimulants                151 non-null    float64\n",
      " 18  Sugar & Sweeteners        151 non-null    float64\n",
      " 19  Sugar Crops               151 non-null    float64\n",
      " 20  Treenuts                  151 non-null    float64\n",
      " 21  Vegetable Oils            151 non-null    float64\n",
      " 22  Vegetables                151 non-null    float64\n",
      " 23  Vegetal Products          151 non-null    float64\n",
      " 24  Obesity                   151 non-null    float64\n",
      " 25  Undernourished            151 non-null    float64\n",
      " 26  Confirmed                 151 non-null    float64\n",
      " 27  Deaths                    151 non-null    float64\n",
      " 28  Recovered                 151 non-null    float64\n",
      " 29  Active                    151 non-null    float64\n",
      " 30  Population                151 non-null    float64\n",
      "dtypes: float64(30), object(1)\n",
      "memory usage: 42.8+ KB\n"
     ]
    }
   ],
   "source": [
    "kg_df.info()"
   ]
  },
  {
   "cell_type": "markdown",
   "metadata": {
    "papermill": {
     "duration": 0.155855,
     "end_time": "2020-10-22T17:39:58.504976",
     "exception": false,
     "start_time": "2020-10-22T17:39:58.349121",
     "status": "completed"
    },
    "tags": []
   },
   "source": [
    "Now we have no missing values and all data is numeric, except for country names."
   ]
  },
  {
   "cell_type": "markdown",
   "metadata": {
    "papermill": {
     "duration": 0.1517,
     "end_time": "2020-10-22T17:39:58.810783",
     "exception": false,
     "start_time": "2020-10-22T17:39:58.659083",
     "status": "completed"
    },
    "tags": []
   },
   "source": [
    "##  General COVID-19 data: analysis and further cleaning"
   ]
  },
  {
   "cell_type": "markdown",
   "metadata": {
    "papermill": {
     "duration": 0.161734,
     "end_time": "2020-10-22T17:40:02.056515",
     "exception": false,
     "start_time": "2020-10-22T17:40:01.894781",
     "status": "completed"
    },
    "tags": []
   },
   "source": [
    "To understand the dataset a bit more clearly, let's do some sanity checks."
   ]
  },
  {
   "cell_type": "code",
   "execution_count": 1022,
   "metadata": {
    "execution": {
     "iopub.execute_input": "2020-10-22T17:40:02.382250Z",
     "iopub.status.busy": "2020-10-22T17:40:02.380788Z",
     "iopub.status.idle": "2020-10-22T17:40:02.385961Z",
     "shell.execute_reply": "2020-10-22T17:40:02.387102Z"
    },
    "papermill": {
     "duration": 0.170559,
     "end_time": "2020-10-22T17:40:02.387375",
     "exception": false,
     "start_time": "2020-10-22T17:40:02.216816",
     "status": "completed"
    },
    "scrolled": true,
    "tags": []
   },
   "outputs": [
    {
     "data": {
      "text/plain": [
       "Index(['Country', 'Alcoholic Beverages', 'Animal fats', 'Animal Products',\n",
       "       'Aquatic Products, Other', 'Cereals - Excluding Beer', 'Eggs',\n",
       "       'Fish, Seafood', 'Fruits - Excluding Wine', 'Meat',\n",
       "       'Milk - Excluding Butter', 'Miscellaneous', 'Offals', 'Oilcrops',\n",
       "       'Pulses', 'Spices', 'Starchy Roots', 'Stimulants', 'Sugar & Sweeteners',\n",
       "       'Sugar Crops', 'Treenuts', 'Vegetable Oils', 'Vegetables',\n",
       "       'Vegetal Products', 'Obesity', 'Undernourished', 'Confirmed', 'Deaths',\n",
       "       'Recovered', 'Active', 'Population'],\n",
       "      dtype='object')"
      ]
     },
     "execution_count": 1022,
     "metadata": {},
     "output_type": "execute_result"
    }
   ],
   "source": [
    "kg_df.columns"
   ]
  },
  {
   "cell_type": "markdown",
   "metadata": {
    "papermill": {
     "duration": 0.159421,
     "end_time": "2020-10-22T17:40:02.711584",
     "exception": false,
     "start_time": "2020-10-22T17:40:02.552163",
     "status": "completed"
    },
    "tags": []
   },
   "source": [
    "What is the sum of `Animal Products` and `Vegetal Products`?"
   ]
  },
  {
   "cell_type": "code",
   "execution_count": 1023,
   "metadata": {
    "execution": {
     "iopub.execute_input": "2020-10-22T17:40:03.035644Z",
     "iopub.status.busy": "2020-10-22T17:40:03.034475Z",
     "iopub.status.idle": "2020-10-22T17:40:03.039782Z",
     "shell.execute_reply": "2020-10-22T17:40:03.038937Z"
    },
    "papermill": {
     "duration": 0.171563,
     "end_time": "2020-10-22T17:40:03.039923",
     "exception": false,
     "start_time": "2020-10-22T17:40:02.868360",
     "status": "completed"
    },
    "tags": []
   },
   "outputs": [
    {
     "data": {
      "text/plain": [
       "0      49.9986\n",
       "1      49.9988\n",
       "2      49.9985\n",
       "3      50.0000\n",
       "5      50.0013\n",
       "        ...   \n",
       "165    49.9981\n",
       "166    49.9997\n",
       "167    50.0000\n",
       "168    49.9986\n",
       "169    50.0015\n",
       "Length: 151, dtype: float64"
      ]
     },
     "execution_count": 1023,
     "metadata": {},
     "output_type": "execute_result"
    }
   ],
   "source": [
    "kg_df['Animal Products'] + kg_df['Vegetal Products']"
   ]
  },
  {
   "cell_type": "code",
   "execution_count": 1024,
   "metadata": {
    "execution": {
     "iopub.execute_input": "2020-10-22T17:40:03.363759Z",
     "iopub.status.busy": "2020-10-22T17:40:03.362619Z",
     "iopub.status.idle": "2020-10-22T17:40:03.367456Z",
     "shell.execute_reply": "2020-10-22T17:40:03.366646Z"
    },
    "papermill": {
     "duration": 0.168438,
     "end_time": "2020-10-22T17:40:03.367594",
     "exception": false,
     "start_time": "2020-10-22T17:40:03.199156",
     "status": "completed"
    },
    "tags": []
   },
   "outputs": [
    {
     "data": {
      "text/plain": [
       "49.99664370860927"
      ]
     },
     "execution_count": 1024,
     "metadata": {},
     "output_type": "execute_result"
    }
   ],
   "source": [
    "(kg_df['Animal Products'] + kg_df['Vegetal Products']).mean()"
   ]
  },
  {
   "cell_type": "markdown",
   "metadata": {
    "papermill": {
     "duration": 0.161217,
     "end_time": "2020-10-22T17:40:03.686994",
     "exception": false,
     "start_time": "2020-10-22T17:40:03.525777",
     "status": "completed"
    },
    "tags": []
   },
   "source": [
    "Well, for all countries this sum appears to be roughly $50 \\%$ of food intake in $kg$. That is strange, as this two are a sum of all other columns.\n",
    "\n",
    "To understand the data better, let's sum all food related categories."
   ]
  },
  {
   "cell_type": "code",
   "execution_count": 1025,
   "metadata": {
    "execution": {
     "iopub.execute_input": "2020-10-22T17:40:04.023417Z",
     "iopub.status.busy": "2020-10-22T17:40:04.018498Z",
     "iopub.status.idle": "2020-10-22T17:40:04.029486Z",
     "shell.execute_reply": "2020-10-22T17:40:04.028560Z"
    },
    "papermill": {
     "duration": 0.178906,
     "end_time": "2020-10-22T17:40:04.029641",
     "exception": false,
     "start_time": "2020-10-22T17:40:03.850735",
     "status": "completed"
    },
    "scrolled": true,
    "tags": []
   },
   "outputs": [
    {
     "data": {
      "text/plain": [
       "0      100.0000\n",
       "1      100.0000\n",
       "2      100.0000\n",
       "3      100.0000\n",
       "5      100.0000\n",
       "         ...   \n",
       "165     99.9999\n",
       "166    100.0001\n",
       "167    100.0001\n",
       "168    100.0002\n",
       "169    100.0002\n",
       "Length: 151, dtype: float64"
      ]
     },
     "execution_count": 1025,
     "metadata": {},
     "output_type": "execute_result"
    }
   ],
   "source": [
    "kg_df.iloc[:, 1:24].sum(axis=1)"
   ]
  },
  {
   "cell_type": "markdown",
   "metadata": {
    "papermill": {
     "duration": 0.158407,
     "end_time": "2020-10-22T17:40:04.354219",
     "exception": false,
     "start_time": "2020-10-22T17:40:04.195812",
     "status": "completed"
    },
    "tags": []
   },
   "source": [
    "Ok, so it looks like we are counting twice every entry inside `Animal Products` and `Vegetal Products`. From my understanding, `Animal Products` + `Vegetal Products` should sum to $100\\%$ of the food intake. This is easily fixed by multiplying all columns of food categories by 2."
   ]
  },
  {
   "cell_type": "code",
   "execution_count": 1026,
   "metadata": {
    "execution": {
     "iopub.execute_input": "2020-10-22T17:40:04.690287Z",
     "iopub.status.busy": "2020-10-22T17:40:04.689298Z",
     "iopub.status.idle": "2020-10-22T17:40:04.692200Z",
     "shell.execute_reply": "2020-10-22T17:40:04.692837Z"
    },
    "papermill": {
     "duration": 0.180793,
     "end_time": "2020-10-22T17:40:04.692997",
     "exception": false,
     "start_time": "2020-10-22T17:40:04.512204",
     "status": "completed"
    },
    "tags": []
   },
   "outputs": [],
   "source": [
    "kg_df.iloc[:,1:24] = kg_df.iloc[:, 1:24] * 2\n",
    "kcal_df.iloc[:,1:24] = kcal_df.iloc[:, 1:24] * 2\n",
    "protein_df.iloc[:,1:24] = protein_df.iloc[:, 1:24] * 2\n",
    "fat_df.iloc[:,1:24] = fat_df.iloc[:, 1:24] * 2"
   ]
  },
  {
   "cell_type": "code",
   "execution_count": 1027,
   "metadata": {
    "execution": {
     "iopub.execute_input": "2020-10-22T17:40:05.019097Z",
     "iopub.status.busy": "2020-10-22T17:40:05.017911Z",
     "iopub.status.idle": "2020-10-22T17:40:05.024102Z",
     "shell.execute_reply": "2020-10-22T17:40:05.024812Z"
    },
    "papermill": {
     "duration": 0.175232,
     "end_time": "2020-10-22T17:40:05.024988",
     "exception": false,
     "start_time": "2020-10-22T17:40:04.849756",
     "status": "completed"
    },
    "tags": []
   },
   "outputs": [
    {
     "data": {
      "text/plain": [
       "0      100.0\n",
       "1      100.0\n",
       "2      100.0\n",
       "3      100.0\n",
       "5      100.0\n",
       "       ...  \n",
       "165    100.0\n",
       "166    100.0\n",
       "167    100.0\n",
       "168    100.0\n",
       "169    100.0\n",
       "Length: 151, dtype: float64"
      ]
     },
     "execution_count": 1027,
     "metadata": {},
     "output_type": "execute_result"
    }
   ],
   "source": [
    "(kg_df['Animal Products'] + kg_df['Vegetal Products']).round(1)"
   ]
  },
  {
   "cell_type": "code",
   "execution_count": 1028,
   "metadata": {
    "execution": {
     "iopub.execute_input": "2020-10-22T17:40:05.356866Z",
     "iopub.status.busy": "2020-10-22T17:40:05.355935Z",
     "iopub.status.idle": "2020-10-22T17:40:05.360658Z",
     "shell.execute_reply": "2020-10-22T17:40:05.359867Z"
    },
    "papermill": {
     "duration": 0.172665,
     "end_time": "2020-10-22T17:40:05.360800",
     "exception": false,
     "start_time": "2020-10-22T17:40:05.188135",
     "status": "completed"
    },
    "tags": []
   },
   "outputs": [
    {
     "data": {
      "text/plain": [
       "100.00043841059602"
      ]
     },
     "execution_count": 1028,
     "metadata": {},
     "output_type": "execute_result"
    }
   ],
   "source": [
    "(kg_df['Animal Products'] + kg_df['Vegetal Products']).mean()\n",
    "(kcal_df['Animal Products'] + kcal_df['Vegetal Products']).mean()\n",
    "(protein_df['Animal Products'] + protein_df['Vegetal Products']).mean()\n",
    "(fat_df['Animal Products'] + fat_df['Vegetal Products']).mean()"
   ]
  },
  {
   "cell_type": "markdown",
   "metadata": {
    "papermill": {
     "duration": 0.157483,
     "end_time": "2020-10-22T17:40:05.677833",
     "exception": false,
     "start_time": "2020-10-22T17:40:05.520350",
     "status": "completed"
    },
    "tags": []
   },
   "source": [
    "That fixed the issue. Now, let's do some sanity checks with the COVID-19 categories. \n",
    "\n",
    "Columns related to this are: **'Confirmed', 'Deaths', 'Recovered', 'Active'**.\n",
    "\n",
    "If my understanding is correct, the number of confirmed cases should be the sum of deaths, recoverd and active. Let's investigate."
   ]
  },
  {
   "cell_type": "code",
   "execution_count": 1029,
   "metadata": {
    "execution": {
     "iopub.execute_input": "2020-10-22T17:40:06.006330Z",
     "iopub.status.busy": "2020-10-22T17:40:06.005302Z",
     "iopub.status.idle": "2020-10-22T17:40:06.009884Z",
     "shell.execute_reply": "2020-10-22T17:40:06.010636Z"
    },
    "papermill": {
     "duration": 0.175477,
     "end_time": "2020-10-22T17:40:06.010810",
     "exception": false,
     "start_time": "2020-10-22T17:40:05.835333",
     "status": "completed"
    },
    "tags": []
   },
   "outputs": [
    {
     "data": {
      "text/plain": [
       "0      0.0\n",
       "1     -0.0\n",
       "2     -0.0\n",
       "3     -0.0\n",
       "5      0.0\n",
       "      ... \n",
       "165   -0.0\n",
       "166   -0.0\n",
       "167    0.0\n",
       "168    0.0\n",
       "169   -0.0\n",
       "Length: 151, dtype: float64"
      ]
     },
     "execution_count": 1029,
     "metadata": {},
     "output_type": "execute_result"
    }
   ],
   "source": [
    "(kg_df['Confirmed'] - (kg_df['Deaths'] + kg_df['Recovered'] + kg_df['Active'])).round(2)"
   ]
  },
  {
   "cell_type": "markdown",
   "metadata": {
    "papermill": {
     "duration": 0.176744,
     "end_time": "2020-10-22T17:40:06.360063",
     "exception": false,
     "start_time": "2020-10-22T17:40:06.183319",
     "status": "completed"
    },
    "tags": []
   },
   "source": [
    "Great! Our understanding is correct.\n",
    "\n",
    "To further investigate the impact of deaths by COVID-19, we will create a column `Mortality` which will be calculated as `Deaths` by `Confirmed`."
   ]
  },
  {
   "cell_type": "code",
   "execution_count": 1030,
   "metadata": {
    "execution": {
     "iopub.execute_input": "2020-10-22T17:40:06.688280Z",
     "iopub.status.busy": "2020-10-22T17:40:06.687428Z",
     "iopub.status.idle": "2020-10-22T17:40:06.690353Z",
     "shell.execute_reply": "2020-10-22T17:40:06.690982Z"
    },
    "papermill": {
     "duration": 0.170798,
     "end_time": "2020-10-22T17:40:06.691180",
     "exception": false,
     "start_time": "2020-10-22T17:40:06.520382",
     "status": "completed"
    },
    "tags": []
   },
   "outputs": [],
   "source": [
    "kg_df['Mortality'] = kg_df['Deaths']/kg_df['Confirmed']"
   ]
  },
  {
   "cell_type": "code",
   "execution_count": 1031,
   "metadata": {
    "execution": {
     "iopub.execute_input": "2020-10-22T17:40:07.026413Z",
     "iopub.status.busy": "2020-10-22T17:40:07.025236Z",
     "iopub.status.idle": "2020-10-22T17:40:07.030875Z",
     "shell.execute_reply": "2020-10-22T17:40:07.030187Z"
    },
    "papermill": {
     "duration": 0.17816,
     "end_time": "2020-10-22T17:40:07.031008",
     "exception": false,
     "start_time": "2020-10-22T17:40:06.852848",
     "status": "completed"
    },
    "tags": []
   },
   "outputs": [
    {
     "data": {
      "text/plain": [
       "0      0.037158\n",
       "1      0.026167\n",
       "2      0.034148\n",
       "3      0.031677\n",
       "5      0.026645\n",
       "         ...   \n",
       "165    0.008495\n",
       "166    0.030702\n",
       "167    0.290370\n",
       "168    0.021765\n",
       "169    0.028435\n",
       "Name: Mortality, Length: 151, dtype: float64"
      ]
     },
     "execution_count": 1031,
     "metadata": {},
     "output_type": "execute_result"
    }
   ],
   "source": [
    "kg_df['Mortality']"
   ]
  },
  {
   "cell_type": "markdown",
   "metadata": {
    "papermill": {
     "duration": 0.159071,
     "end_time": "2020-10-22T17:40:07.351785",
     "exception": false,
     "start_time": "2020-10-22T17:40:07.192714",
     "status": "completed"
    },
    "tags": []
   },
   "source": [
    "* Next, we'll look at some general distributions from the COVID-19 data:"
   ]
  },
  {
   "cell_type": "code",
   "execution_count": 1032,
   "metadata": {
    "execution": {
     "iopub.execute_input": "2020-10-22T17:40:07.686198Z",
     "iopub.status.busy": "2020-10-22T17:40:07.685158Z",
     "iopub.status.idle": "2020-10-22T17:40:07.776246Z",
     "shell.execute_reply": "2020-10-22T17:40:07.775475Z"
    },
    "papermill": {
     "duration": 0.265859,
     "end_time": "2020-10-22T17:40:07.776375",
     "exception": false,
     "start_time": "2020-10-22T17:40:07.510516",
     "status": "completed"
    },
    "tags": []
   },
   "outputs": [
    {
     "data": {
      "application/vnd.plotly.v1+json": {
       "config": {
        "plotlyServerURL": "https://plot.ly"
       },
       "data": [
        {
         "alignmentgroup": "True",
         "hovertemplate": "Country=%{x}<br>Confirmed=%{y}<extra></extra>",
         "legendgroup": "",
         "marker": {
          "color": "#636efa"
         },
         "name": "",
         "offsetgroup": "",
         "orientation": "v",
         "showlegend": false,
         "textposition": "auto",
         "type": "bar",
         "x": [
          "Afghanistan",
          "Albania",
          "Algeria",
          "Angola",
          "Argentina",
          "Armenia",
          "Australia",
          "Austria",
          "Azerbaijan",
          "Bangladesh",
          "Barbados",
          "Belarus",
          "Belgium",
          "Belize",
          "Benin",
          "Bolivia",
          "Bosnia and Herzegovina",
          "Botswana",
          "Brazil",
          "Bulgaria",
          "Burkina Faso",
          "Cabo Verde",
          "Cambodia",
          "Cameroon",
          "Central African Republic",
          "Chad",
          "China",
          "Colombia",
          "Congo",
          "Costa Rica",
          "Cote d'Ivoire",
          "Croatia",
          "Cuba",
          "Cyprus",
          "Czechia",
          "Denmark",
          "Djibouti",
          "Dominica",
          "Dominican Republic",
          "Ecuador",
          "Egypt",
          "El Salvador",
          "Estonia",
          "Eswatini",
          "Ethiopia",
          "Fiji",
          "Finland",
          "France",
          "Gabon",
          "Gambia",
          "Georgia",
          "Germany",
          "Ghana",
          "Greece",
          "Guatemala",
          "Guinea",
          "Guinea-Bissau",
          "Guyana",
          "Haiti",
          "Honduras",
          "Hungary",
          "Iceland",
          "India",
          "Indonesia",
          "Iran (Islamic Republic of)",
          "Iraq",
          "Ireland",
          "Israel",
          "Italy",
          "Jamaica",
          "Japan",
          "Jordan",
          "Kazakhstan",
          "Kenya",
          "Korea, South",
          "Kuwait",
          "Kyrgyzstan",
          "Lao People's Democratic Republic",
          "Latvia",
          "Lebanon",
          "Lesotho",
          "Liberia",
          "Lithuania",
          "Luxembourg",
          "Madagascar",
          "Malawi",
          "Malaysia",
          "Maldives",
          "Mali",
          "Malta",
          "Mauritania",
          "Mauritius",
          "Mexico",
          "Mongolia",
          "Montenegro",
          "Morocco",
          "Mozambique",
          "Namibia",
          "Nepal",
          "Netherlands",
          "New Zealand",
          "Nicaragua",
          "Niger",
          "Nigeria",
          "North Macedonia",
          "Norway",
          "Oman",
          "Pakistan",
          "Panama",
          "Paraguay",
          "Peru",
          "Philippines",
          "Poland",
          "Portugal",
          "Romania",
          "Russian Federation",
          "Rwanda",
          "Saint Vincent and the Grenadines",
          "Sao Tome and Principe",
          "Saudi Arabia",
          "Senegal",
          "Serbia",
          "Sierra Leone",
          "Slovakia",
          "Slovenia",
          "Solomon Islands",
          "South Africa",
          "Spain",
          "Sri Lanka",
          "Sudan",
          "Suriname",
          "Sweden",
          "Switzerland",
          "Thailand",
          "Timor-Leste",
          "Togo",
          "Trinidad and Tobago",
          "Tunisia",
          "Turkey",
          "Uganda",
          "Ukraine",
          "United Arab Emirates",
          "United Kingdom",
          "United Republic of Tanzania",
          "Uruguay",
          "Uzbekistan",
          "Venezuela (Bolivarian Republic of)",
          "Vietnam",
          "Yemen",
          "Zambia",
          "Zimbabwe"
         ],
         "xaxis": "x",
         "y": [
          0.10349106041923599,
          0.6113460183227621,
          0.1231282548414,
          0.0240729352438349,
          2.20962602199352,
          2.21447902571042,
          0.10641065465558698,
          0.7395894099169851,
          0.44811040759794196,
          0.22979111825639398,
          0.0773519163763066,
          0.94176,
          2.0015631784628702,
          0.676133651551313,
          0.0204439348021951,
          1.2025272930456499,
          1.05641572691253,
          0.242080276219249,
          2.47895633863993,
          0.44069582791973405,
          0.0114194134813185,
          1.40287769784173,
          0.0018390656256049602,
          0.0808557034363486,
          0.10053830227743302,
          0.0082360609112994,
          0.00648937346021242,
          1.9534887954049,
          0.293729612178325,
          1.89933476814713,
          0.0776466093600764,
          0.646094527363184,
          0.0554738055136956,
          0.22261806130903097,
          1.69804031354983,
          0.6235203293875451,
          0.553542510121457,
          0.0458333333333333,
          1.15873333333333,
          0.876152132945006,
          0.10470620914060098,
          0.488597438666872,
          0.306912096168295,
          0.524275362318841,
          0.0781962476939678,
          0.0035714285714285704,
          0.24516187375655601,
          1.4668925161687698,
          0.39820708202599703,
          0.150972279685561,
          0.502368775235532,
          0.452662665066026,
          0.15245389888327499,
          0.241140186915888,
          0.562376840473818,
          0.091703821656051,
          0.124701608718215,
          0.478398983481576,
          0.0787161273349119,
          0.9061334144363341,
          0.48907545817548903,
          1.11440217391304,
          0.542608599385758,
          0.134408384516025,
          0.635330956625074,
          1.08414852108244,
          1.01924845092944,
          3.30811631944444,
          0.702497678121268,
          0.29622641509434006,
          0.074152754292791,
          0.364612791459875,
          0.5852178090967329,
          0.0842101330144971,
          0.0489233502636102,
          2.4905563845661898,
          0.7965726417955721,
          0.00031759182546257903,
          0.183701366982124,
          0.9222564102564101,
          0.0855742296918768,
          0.0273032819296164,
          0.276521116678597,
          1.74208860759494,
          0.0607056444332093,
          0.0306325143753267,
          0.0651688478081816,
          2.07615526802218,
          0.0168238605500963,
          0.9074712643678159,
          0.16389247311828,
          0.0331225296442688,
          0.668998059346438,
          0.00969949419815531,
          2.53376205787781,
          0.488843457943925,
          0.0355515626002695,
          0.48508461235734,
          0.453513801840245,
          1.38671208564722,
          0.0378383797874474,
          0.081155245603396,
          0.005006407871346479,
          0.0298622295527311,
          1.1436538461538501,
          0.308204937813254,
          2.34657330787184,
          0.146661537068887,
          2.9227410693439198,
          0.764328049620951,
          2.6464629539361404,
          0.32776576231281,
          0.47760633861551294,
          0.9932715748415409,
          0.950335221662076,
          0.9586575616936891,
          0.0385423100679432,
          0.0603603603603604,
          0.44428571428571395,
          0.9776633086955279,
          0.0921643573817487,
          0.521517895644674,
          0.0292215118465589,
          0.5619736360307579,
          0.650451735615787,
          0.00041958041958042,
          1.1827564231569099,
          2.04565760470242,
          0.0256416100651867,
          0.0312983192319095,
          0.848429752066116,
          0.994507082971957,
          0.963157285151726,
          0.005561066522379529,
          0.00220030349013657,
          0.0250150984418408,
          0.38699780861943,
          0.359171149966375,
          0.41740090999199897,
          0.0233729039592488,
          0.7474915027047729,
          1.19162405399877,
          1.1079839189993999,
          0.00085211102554659,
          0.0725007080147267,
          0.18588107918300503,
          0.302447198463955,
          0.00118492032969888,
          0.00689331455776839,
          0.0864719321148825,
          0.0548947049720783
         ],
         "yaxis": "y"
        }
       ],
       "layout": {
        "barmode": "relative",
        "legend": {
         "tracegroupgap": 0
        },
        "margin": {
         "t": 60
        },
        "template": {
         "data": {
          "bar": [
           {
            "error_x": {
             "color": "#2a3f5f"
            },
            "error_y": {
             "color": "#2a3f5f"
            },
            "marker": {
             "line": {
              "color": "#E5ECF6",
              "width": 0.5
             }
            },
            "type": "bar"
           }
          ],
          "barpolar": [
           {
            "marker": {
             "line": {
              "color": "#E5ECF6",
              "width": 0.5
             }
            },
            "type": "barpolar"
           }
          ],
          "carpet": [
           {
            "aaxis": {
             "endlinecolor": "#2a3f5f",
             "gridcolor": "white",
             "linecolor": "white",
             "minorgridcolor": "white",
             "startlinecolor": "#2a3f5f"
            },
            "baxis": {
             "endlinecolor": "#2a3f5f",
             "gridcolor": "white",
             "linecolor": "white",
             "minorgridcolor": "white",
             "startlinecolor": "#2a3f5f"
            },
            "type": "carpet"
           }
          ],
          "choropleth": [
           {
            "colorbar": {
             "outlinewidth": 0,
             "ticks": ""
            },
            "type": "choropleth"
           }
          ],
          "contour": [
           {
            "colorbar": {
             "outlinewidth": 0,
             "ticks": ""
            },
            "colorscale": [
             [
              0,
              "#0d0887"
             ],
             [
              0.1111111111111111,
              "#46039f"
             ],
             [
              0.2222222222222222,
              "#7201a8"
             ],
             [
              0.3333333333333333,
              "#9c179e"
             ],
             [
              0.4444444444444444,
              "#bd3786"
             ],
             [
              0.5555555555555556,
              "#d8576b"
             ],
             [
              0.6666666666666666,
              "#ed7953"
             ],
             [
              0.7777777777777778,
              "#fb9f3a"
             ],
             [
              0.8888888888888888,
              "#fdca26"
             ],
             [
              1,
              "#f0f921"
             ]
            ],
            "type": "contour"
           }
          ],
          "contourcarpet": [
           {
            "colorbar": {
             "outlinewidth": 0,
             "ticks": ""
            },
            "type": "contourcarpet"
           }
          ],
          "heatmap": [
           {
            "colorbar": {
             "outlinewidth": 0,
             "ticks": ""
            },
            "colorscale": [
             [
              0,
              "#0d0887"
             ],
             [
              0.1111111111111111,
              "#46039f"
             ],
             [
              0.2222222222222222,
              "#7201a8"
             ],
             [
              0.3333333333333333,
              "#9c179e"
             ],
             [
              0.4444444444444444,
              "#bd3786"
             ],
             [
              0.5555555555555556,
              "#d8576b"
             ],
             [
              0.6666666666666666,
              "#ed7953"
             ],
             [
              0.7777777777777778,
              "#fb9f3a"
             ],
             [
              0.8888888888888888,
              "#fdca26"
             ],
             [
              1,
              "#f0f921"
             ]
            ],
            "type": "heatmap"
           }
          ],
          "heatmapgl": [
           {
            "colorbar": {
             "outlinewidth": 0,
             "ticks": ""
            },
            "colorscale": [
             [
              0,
              "#0d0887"
             ],
             [
              0.1111111111111111,
              "#46039f"
             ],
             [
              0.2222222222222222,
              "#7201a8"
             ],
             [
              0.3333333333333333,
              "#9c179e"
             ],
             [
              0.4444444444444444,
              "#bd3786"
             ],
             [
              0.5555555555555556,
              "#d8576b"
             ],
             [
              0.6666666666666666,
              "#ed7953"
             ],
             [
              0.7777777777777778,
              "#fb9f3a"
             ],
             [
              0.8888888888888888,
              "#fdca26"
             ],
             [
              1,
              "#f0f921"
             ]
            ],
            "type": "heatmapgl"
           }
          ],
          "histogram": [
           {
            "marker": {
             "colorbar": {
              "outlinewidth": 0,
              "ticks": ""
             }
            },
            "type": "histogram"
           }
          ],
          "histogram2d": [
           {
            "colorbar": {
             "outlinewidth": 0,
             "ticks": ""
            },
            "colorscale": [
             [
              0,
              "#0d0887"
             ],
             [
              0.1111111111111111,
              "#46039f"
             ],
             [
              0.2222222222222222,
              "#7201a8"
             ],
             [
              0.3333333333333333,
              "#9c179e"
             ],
             [
              0.4444444444444444,
              "#bd3786"
             ],
             [
              0.5555555555555556,
              "#d8576b"
             ],
             [
              0.6666666666666666,
              "#ed7953"
             ],
             [
              0.7777777777777778,
              "#fb9f3a"
             ],
             [
              0.8888888888888888,
              "#fdca26"
             ],
             [
              1,
              "#f0f921"
             ]
            ],
            "type": "histogram2d"
           }
          ],
          "histogram2dcontour": [
           {
            "colorbar": {
             "outlinewidth": 0,
             "ticks": ""
            },
            "colorscale": [
             [
              0,
              "#0d0887"
             ],
             [
              0.1111111111111111,
              "#46039f"
             ],
             [
              0.2222222222222222,
              "#7201a8"
             ],
             [
              0.3333333333333333,
              "#9c179e"
             ],
             [
              0.4444444444444444,
              "#bd3786"
             ],
             [
              0.5555555555555556,
              "#d8576b"
             ],
             [
              0.6666666666666666,
              "#ed7953"
             ],
             [
              0.7777777777777778,
              "#fb9f3a"
             ],
             [
              0.8888888888888888,
              "#fdca26"
             ],
             [
              1,
              "#f0f921"
             ]
            ],
            "type": "histogram2dcontour"
           }
          ],
          "mesh3d": [
           {
            "colorbar": {
             "outlinewidth": 0,
             "ticks": ""
            },
            "type": "mesh3d"
           }
          ],
          "parcoords": [
           {
            "line": {
             "colorbar": {
              "outlinewidth": 0,
              "ticks": ""
             }
            },
            "type": "parcoords"
           }
          ],
          "pie": [
           {
            "automargin": true,
            "type": "pie"
           }
          ],
          "scatter": [
           {
            "marker": {
             "colorbar": {
              "outlinewidth": 0,
              "ticks": ""
             }
            },
            "type": "scatter"
           }
          ],
          "scatter3d": [
           {
            "line": {
             "colorbar": {
              "outlinewidth": 0,
              "ticks": ""
             }
            },
            "marker": {
             "colorbar": {
              "outlinewidth": 0,
              "ticks": ""
             }
            },
            "type": "scatter3d"
           }
          ],
          "scattercarpet": [
           {
            "marker": {
             "colorbar": {
              "outlinewidth": 0,
              "ticks": ""
             }
            },
            "type": "scattercarpet"
           }
          ],
          "scattergeo": [
           {
            "marker": {
             "colorbar": {
              "outlinewidth": 0,
              "ticks": ""
             }
            },
            "type": "scattergeo"
           }
          ],
          "scattergl": [
           {
            "marker": {
             "colorbar": {
              "outlinewidth": 0,
              "ticks": ""
             }
            },
            "type": "scattergl"
           }
          ],
          "scattermapbox": [
           {
            "marker": {
             "colorbar": {
              "outlinewidth": 0,
              "ticks": ""
             }
            },
            "type": "scattermapbox"
           }
          ],
          "scatterpolar": [
           {
            "marker": {
             "colorbar": {
              "outlinewidth": 0,
              "ticks": ""
             }
            },
            "type": "scatterpolar"
           }
          ],
          "scatterpolargl": [
           {
            "marker": {
             "colorbar": {
              "outlinewidth": 0,
              "ticks": ""
             }
            },
            "type": "scatterpolargl"
           }
          ],
          "scatterternary": [
           {
            "marker": {
             "colorbar": {
              "outlinewidth": 0,
              "ticks": ""
             }
            },
            "type": "scatterternary"
           }
          ],
          "surface": [
           {
            "colorbar": {
             "outlinewidth": 0,
             "ticks": ""
            },
            "colorscale": [
             [
              0,
              "#0d0887"
             ],
             [
              0.1111111111111111,
              "#46039f"
             ],
             [
              0.2222222222222222,
              "#7201a8"
             ],
             [
              0.3333333333333333,
              "#9c179e"
             ],
             [
              0.4444444444444444,
              "#bd3786"
             ],
             [
              0.5555555555555556,
              "#d8576b"
             ],
             [
              0.6666666666666666,
              "#ed7953"
             ],
             [
              0.7777777777777778,
              "#fb9f3a"
             ],
             [
              0.8888888888888888,
              "#fdca26"
             ],
             [
              1,
              "#f0f921"
             ]
            ],
            "type": "surface"
           }
          ],
          "table": [
           {
            "cells": {
             "fill": {
              "color": "#EBF0F8"
             },
             "line": {
              "color": "white"
             }
            },
            "header": {
             "fill": {
              "color": "#C8D4E3"
             },
             "line": {
              "color": "white"
             }
            },
            "type": "table"
           }
          ]
         },
         "layout": {
          "annotationdefaults": {
           "arrowcolor": "#2a3f5f",
           "arrowhead": 0,
           "arrowwidth": 1
          },
          "coloraxis": {
           "colorbar": {
            "outlinewidth": 0,
            "ticks": ""
           }
          },
          "colorscale": {
           "diverging": [
            [
             0,
             "#8e0152"
            ],
            [
             0.1,
             "#c51b7d"
            ],
            [
             0.2,
             "#de77ae"
            ],
            [
             0.3,
             "#f1b6da"
            ],
            [
             0.4,
             "#fde0ef"
            ],
            [
             0.5,
             "#f7f7f7"
            ],
            [
             0.6,
             "#e6f5d0"
            ],
            [
             0.7,
             "#b8e186"
            ],
            [
             0.8,
             "#7fbc41"
            ],
            [
             0.9,
             "#4d9221"
            ],
            [
             1,
             "#276419"
            ]
           ],
           "sequential": [
            [
             0,
             "#0d0887"
            ],
            [
             0.1111111111111111,
             "#46039f"
            ],
            [
             0.2222222222222222,
             "#7201a8"
            ],
            [
             0.3333333333333333,
             "#9c179e"
            ],
            [
             0.4444444444444444,
             "#bd3786"
            ],
            [
             0.5555555555555556,
             "#d8576b"
            ],
            [
             0.6666666666666666,
             "#ed7953"
            ],
            [
             0.7777777777777778,
             "#fb9f3a"
            ],
            [
             0.8888888888888888,
             "#fdca26"
            ],
            [
             1,
             "#f0f921"
            ]
           ],
           "sequentialminus": [
            [
             0,
             "#0d0887"
            ],
            [
             0.1111111111111111,
             "#46039f"
            ],
            [
             0.2222222222222222,
             "#7201a8"
            ],
            [
             0.3333333333333333,
             "#9c179e"
            ],
            [
             0.4444444444444444,
             "#bd3786"
            ],
            [
             0.5555555555555556,
             "#d8576b"
            ],
            [
             0.6666666666666666,
             "#ed7953"
            ],
            [
             0.7777777777777778,
             "#fb9f3a"
            ],
            [
             0.8888888888888888,
             "#fdca26"
            ],
            [
             1,
             "#f0f921"
            ]
           ]
          },
          "colorway": [
           "#636efa",
           "#EF553B",
           "#00cc96",
           "#ab63fa",
           "#FFA15A",
           "#19d3f3",
           "#FF6692",
           "#B6E880",
           "#FF97FF",
           "#FECB52"
          ],
          "font": {
           "color": "#2a3f5f"
          },
          "geo": {
           "bgcolor": "white",
           "lakecolor": "white",
           "landcolor": "#E5ECF6",
           "showlakes": true,
           "showland": true,
           "subunitcolor": "white"
          },
          "hoverlabel": {
           "align": "left"
          },
          "hovermode": "closest",
          "mapbox": {
           "style": "light"
          },
          "paper_bgcolor": "white",
          "plot_bgcolor": "#E5ECF6",
          "polar": {
           "angularaxis": {
            "gridcolor": "white",
            "linecolor": "white",
            "ticks": ""
           },
           "bgcolor": "#E5ECF6",
           "radialaxis": {
            "gridcolor": "white",
            "linecolor": "white",
            "ticks": ""
           }
          },
          "scene": {
           "xaxis": {
            "backgroundcolor": "#E5ECF6",
            "gridcolor": "white",
            "gridwidth": 2,
            "linecolor": "white",
            "showbackground": true,
            "ticks": "",
            "zerolinecolor": "white"
           },
           "yaxis": {
            "backgroundcolor": "#E5ECF6",
            "gridcolor": "white",
            "gridwidth": 2,
            "linecolor": "white",
            "showbackground": true,
            "ticks": "",
            "zerolinecolor": "white"
           },
           "zaxis": {
            "backgroundcolor": "#E5ECF6",
            "gridcolor": "white",
            "gridwidth": 2,
            "linecolor": "white",
            "showbackground": true,
            "ticks": "",
            "zerolinecolor": "white"
           }
          },
          "shapedefaults": {
           "line": {
            "color": "#2a3f5f"
           }
          },
          "ternary": {
           "aaxis": {
            "gridcolor": "white",
            "linecolor": "white",
            "ticks": ""
           },
           "baxis": {
            "gridcolor": "white",
            "linecolor": "white",
            "ticks": ""
           },
           "bgcolor": "#E5ECF6",
           "caxis": {
            "gridcolor": "white",
            "linecolor": "white",
            "ticks": ""
           }
          },
          "title": {
           "x": 0.05
          },
          "xaxis": {
           "automargin": true,
           "gridcolor": "white",
           "linecolor": "white",
           "ticks": "",
           "title": {
            "standoff": 15
           },
           "zerolinecolor": "white",
           "zerolinewidth": 2
          },
          "yaxis": {
           "automargin": true,
           "gridcolor": "white",
           "linecolor": "white",
           "ticks": "",
           "title": {
            "standoff": 15
           },
           "zerolinecolor": "white",
           "zerolinewidth": 2
          }
         }
        },
        "xaxis": {
         "anchor": "y",
         "categoryorder": "total descending",
         "domain": [
          0,
          1
         ],
         "title": {
          "text": "Country"
         }
        },
        "yaxis": {
         "anchor": "x",
         "domain": [
          0,
          1
         ],
         "title": {
          "text": "Confirmed"
         }
        }
       }
      },
      "text/html": [
       "<div>                            <div id=\"c6970da8-0be3-421e-9da7-fb70a563941b\" class=\"plotly-graph-div\" style=\"height:525px; width:100%;\"></div>            <script type=\"text/javascript\">                require([\"plotly\"], function(Plotly) {                    window.PLOTLYENV=window.PLOTLYENV || {};                                    if (document.getElementById(\"c6970da8-0be3-421e-9da7-fb70a563941b\")) {                    Plotly.newPlot(                        \"c6970da8-0be3-421e-9da7-fb70a563941b\",                        [{\"alignmentgroup\": \"True\", \"hovertemplate\": \"Country=%{x}<br>Confirmed=%{y}<extra></extra>\", \"legendgroup\": \"\", \"marker\": {\"color\": \"#636efa\"}, \"name\": \"\", \"offsetgroup\": \"\", \"orientation\": \"v\", \"showlegend\": false, \"textposition\": \"auto\", \"type\": \"bar\", \"x\": [\"Afghanistan\", \"Albania\", \"Algeria\", \"Angola\", \"Argentina\", \"Armenia\", \"Australia\", \"Austria\", \"Azerbaijan\", \"Bangladesh\", \"Barbados\", \"Belarus\", \"Belgium\", \"Belize\", \"Benin\", \"Bolivia\", \"Bosnia and Herzegovina\", \"Botswana\", \"Brazil\", \"Bulgaria\", \"Burkina Faso\", \"Cabo Verde\", \"Cambodia\", \"Cameroon\", \"Central African Republic\", \"Chad\", \"China\", \"Colombia\", \"Congo\", \"Costa Rica\", \"Cote d'Ivoire\", \"Croatia\", \"Cuba\", \"Cyprus\", \"Czechia\", \"Denmark\", \"Djibouti\", \"Dominica\", \"Dominican Republic\", \"Ecuador\", \"Egypt\", \"El Salvador\", \"Estonia\", \"Eswatini\", \"Ethiopia\", \"Fiji\", \"Finland\", \"France\", \"Gabon\", \"Gambia\", \"Georgia\", \"Germany\", \"Ghana\", \"Greece\", \"Guatemala\", \"Guinea\", \"Guinea-Bissau\", \"Guyana\", \"Haiti\", \"Honduras\", \"Hungary\", \"Iceland\", \"India\", \"Indonesia\", \"Iran (Islamic Republic of)\", \"Iraq\", \"Ireland\", \"Israel\", \"Italy\", \"Jamaica\", \"Japan\", \"Jordan\", \"Kazakhstan\", \"Kenya\", \"Korea, South\", \"Kuwait\", \"Kyrgyzstan\", \"Lao People's Democratic Republic\", \"Latvia\", \"Lebanon\", \"Lesotho\", \"Liberia\", \"Lithuania\", \"Luxembourg\", \"Madagascar\", \"Malawi\", \"Malaysia\", \"Maldives\", \"Mali\", \"Malta\", \"Mauritania\", \"Mauritius\", \"Mexico\", \"Mongolia\", \"Montenegro\", \"Morocco\", \"Mozambique\", \"Namibia\", \"Nepal\", \"Netherlands\", \"New Zealand\", \"Nicaragua\", \"Niger\", \"Nigeria\", \"North Macedonia\", \"Norway\", \"Oman\", \"Pakistan\", \"Panama\", \"Paraguay\", \"Peru\", \"Philippines\", \"Poland\", \"Portugal\", \"Romania\", \"Russian Federation\", \"Rwanda\", \"Saint Vincent and the Grenadines\", \"Sao Tome and Principe\", \"Saudi Arabia\", \"Senegal\", \"Serbia\", \"Sierra Leone\", \"Slovakia\", \"Slovenia\", \"Solomon Islands\", \"South Africa\", \"Spain\", \"Sri Lanka\", \"Sudan\", \"Suriname\", \"Sweden\", \"Switzerland\", \"Thailand\", \"Timor-Leste\", \"Togo\", \"Trinidad and Tobago\", \"Tunisia\", \"Turkey\", \"Uganda\", \"Ukraine\", \"United Arab Emirates\", \"United Kingdom\", \"United Republic of Tanzania\", \"Uruguay\", \"Uzbekistan\", \"Venezuela (Bolivarian Republic of)\", \"Vietnam\", \"Yemen\", \"Zambia\", \"Zimbabwe\"], \"xaxis\": \"x\", \"y\": [0.10349106041923599, 0.6113460183227621, 0.1231282548414, 0.0240729352438349, 2.20962602199352, 2.21447902571042, 0.10641065465558698, 0.7395894099169851, 0.44811040759794196, 0.22979111825639398, 0.0773519163763066, 0.94176, 2.0015631784628702, 0.676133651551313, 0.0204439348021951, 1.2025272930456499, 1.05641572691253, 0.242080276219249, 2.47895633863993, 0.44069582791973405, 0.0114194134813185, 1.40287769784173, 0.0018390656256049602, 0.0808557034363486, 0.10053830227743302, 0.0082360609112994, 0.00648937346021242, 1.9534887954049, 0.293729612178325, 1.89933476814713, 0.0776466093600764, 0.646094527363184, 0.0554738055136956, 0.22261806130903097, 1.69804031354983, 0.6235203293875451, 0.553542510121457, 0.0458333333333333, 1.15873333333333, 0.876152132945006, 0.10470620914060098, 0.488597438666872, 0.306912096168295, 0.524275362318841, 0.0781962476939678, 0.0035714285714285704, 0.24516187375655601, 1.4668925161687698, 0.39820708202599703, 0.150972279685561, 0.502368775235532, 0.452662665066026, 0.15245389888327499, 0.241140186915888, 0.562376840473818, 0.091703821656051, 0.124701608718215, 0.478398983481576, 0.0787161273349119, 0.9061334144363341, 0.48907545817548903, 1.11440217391304, 0.542608599385758, 0.134408384516025, 0.635330956625074, 1.08414852108244, 1.01924845092944, 3.30811631944444, 0.702497678121268, 0.29622641509434006, 0.074152754292791, 0.364612791459875, 0.5852178090967329, 0.0842101330144971, 0.0489233502636102, 2.4905563845661898, 0.7965726417955721, 0.00031759182546257903, 0.183701366982124, 0.9222564102564101, 0.0855742296918768, 0.0273032819296164, 0.276521116678597, 1.74208860759494, 0.0607056444332093, 0.0306325143753267, 0.0651688478081816, 2.07615526802218, 0.0168238605500963, 0.9074712643678159, 0.16389247311828, 0.0331225296442688, 0.668998059346438, 0.00969949419815531, 2.53376205787781, 0.488843457943925, 0.0355515626002695, 0.48508461235734, 0.453513801840245, 1.38671208564722, 0.0378383797874474, 0.081155245603396, 0.005006407871346479, 0.0298622295527311, 1.1436538461538501, 0.308204937813254, 2.34657330787184, 0.146661537068887, 2.9227410693439198, 0.764328049620951, 2.6464629539361404, 0.32776576231281, 0.47760633861551294, 0.9932715748415409, 0.950335221662076, 0.9586575616936891, 0.0385423100679432, 0.0603603603603604, 0.44428571428571395, 0.9776633086955279, 0.0921643573817487, 0.521517895644674, 0.0292215118465589, 0.5619736360307579, 0.650451735615787, 0.00041958041958042, 1.1827564231569099, 2.04565760470242, 0.0256416100651867, 0.0312983192319095, 0.848429752066116, 0.994507082971957, 0.963157285151726, 0.005561066522379529, 0.00220030349013657, 0.0250150984418408, 0.38699780861943, 0.359171149966375, 0.41740090999199897, 0.0233729039592488, 0.7474915027047729, 1.19162405399877, 1.1079839189993999, 0.00085211102554659, 0.0725007080147267, 0.18588107918300503, 0.302447198463955, 0.00118492032969888, 0.00689331455776839, 0.0864719321148825, 0.0548947049720783], \"yaxis\": \"y\"}],                        {\"barmode\": \"relative\", \"legend\": {\"tracegroupgap\": 0}, \"margin\": {\"t\": 60}, \"template\": {\"data\": {\"bar\": [{\"error_x\": {\"color\": \"#2a3f5f\"}, \"error_y\": {\"color\": \"#2a3f5f\"}, \"marker\": {\"line\": {\"color\": \"#E5ECF6\", \"width\": 0.5}}, \"type\": \"bar\"}], \"barpolar\": [{\"marker\": {\"line\": {\"color\": \"#E5ECF6\", \"width\": 0.5}}, \"type\": \"barpolar\"}], \"carpet\": [{\"aaxis\": {\"endlinecolor\": \"#2a3f5f\", \"gridcolor\": \"white\", \"linecolor\": \"white\", \"minorgridcolor\": \"white\", \"startlinecolor\": \"#2a3f5f\"}, \"baxis\": {\"endlinecolor\": \"#2a3f5f\", \"gridcolor\": \"white\", \"linecolor\": \"white\", \"minorgridcolor\": \"white\", \"startlinecolor\": \"#2a3f5f\"}, \"type\": \"carpet\"}], \"choropleth\": [{\"colorbar\": {\"outlinewidth\": 0, \"ticks\": \"\"}, \"type\": \"choropleth\"}], \"contour\": [{\"colorbar\": {\"outlinewidth\": 0, \"ticks\": \"\"}, \"colorscale\": [[0.0, \"#0d0887\"], [0.1111111111111111, \"#46039f\"], [0.2222222222222222, \"#7201a8\"], [0.3333333333333333, \"#9c179e\"], [0.4444444444444444, \"#bd3786\"], [0.5555555555555556, \"#d8576b\"], [0.6666666666666666, \"#ed7953\"], [0.7777777777777778, \"#fb9f3a\"], [0.8888888888888888, \"#fdca26\"], [1.0, \"#f0f921\"]], \"type\": \"contour\"}], \"contourcarpet\": [{\"colorbar\": {\"outlinewidth\": 0, \"ticks\": \"\"}, \"type\": \"contourcarpet\"}], \"heatmap\": [{\"colorbar\": {\"outlinewidth\": 0, \"ticks\": \"\"}, \"colorscale\": [[0.0, \"#0d0887\"], [0.1111111111111111, \"#46039f\"], [0.2222222222222222, \"#7201a8\"], [0.3333333333333333, \"#9c179e\"], [0.4444444444444444, \"#bd3786\"], [0.5555555555555556, \"#d8576b\"], [0.6666666666666666, \"#ed7953\"], [0.7777777777777778, \"#fb9f3a\"], [0.8888888888888888, \"#fdca26\"], [1.0, \"#f0f921\"]], \"type\": \"heatmap\"}], \"heatmapgl\": [{\"colorbar\": {\"outlinewidth\": 0, \"ticks\": \"\"}, \"colorscale\": [[0.0, \"#0d0887\"], [0.1111111111111111, \"#46039f\"], [0.2222222222222222, \"#7201a8\"], [0.3333333333333333, \"#9c179e\"], [0.4444444444444444, \"#bd3786\"], [0.5555555555555556, \"#d8576b\"], [0.6666666666666666, \"#ed7953\"], [0.7777777777777778, \"#fb9f3a\"], [0.8888888888888888, \"#fdca26\"], [1.0, \"#f0f921\"]], \"type\": \"heatmapgl\"}], \"histogram\": [{\"marker\": {\"colorbar\": {\"outlinewidth\": 0, \"ticks\": \"\"}}, \"type\": \"histogram\"}], \"histogram2d\": [{\"colorbar\": {\"outlinewidth\": 0, \"ticks\": \"\"}, \"colorscale\": [[0.0, \"#0d0887\"], [0.1111111111111111, \"#46039f\"], [0.2222222222222222, \"#7201a8\"], [0.3333333333333333, \"#9c179e\"], [0.4444444444444444, \"#bd3786\"], [0.5555555555555556, \"#d8576b\"], [0.6666666666666666, \"#ed7953\"], [0.7777777777777778, \"#fb9f3a\"], [0.8888888888888888, \"#fdca26\"], [1.0, \"#f0f921\"]], \"type\": \"histogram2d\"}], \"histogram2dcontour\": [{\"colorbar\": {\"outlinewidth\": 0, \"ticks\": \"\"}, \"colorscale\": [[0.0, \"#0d0887\"], [0.1111111111111111, \"#46039f\"], [0.2222222222222222, \"#7201a8\"], [0.3333333333333333, \"#9c179e\"], [0.4444444444444444, \"#bd3786\"], [0.5555555555555556, \"#d8576b\"], [0.6666666666666666, \"#ed7953\"], [0.7777777777777778, \"#fb9f3a\"], [0.8888888888888888, \"#fdca26\"], [1.0, \"#f0f921\"]], \"type\": \"histogram2dcontour\"}], \"mesh3d\": [{\"colorbar\": {\"outlinewidth\": 0, \"ticks\": \"\"}, \"type\": \"mesh3d\"}], \"parcoords\": [{\"line\": {\"colorbar\": {\"outlinewidth\": 0, \"ticks\": \"\"}}, \"type\": \"parcoords\"}], \"pie\": [{\"automargin\": true, \"type\": \"pie\"}], \"scatter\": [{\"marker\": {\"colorbar\": {\"outlinewidth\": 0, \"ticks\": \"\"}}, \"type\": \"scatter\"}], \"scatter3d\": [{\"line\": {\"colorbar\": {\"outlinewidth\": 0, \"ticks\": \"\"}}, \"marker\": {\"colorbar\": {\"outlinewidth\": 0, \"ticks\": \"\"}}, \"type\": \"scatter3d\"}], \"scattercarpet\": [{\"marker\": {\"colorbar\": {\"outlinewidth\": 0, \"ticks\": \"\"}}, \"type\": \"scattercarpet\"}], \"scattergeo\": [{\"marker\": {\"colorbar\": {\"outlinewidth\": 0, \"ticks\": \"\"}}, \"type\": \"scattergeo\"}], \"scattergl\": [{\"marker\": {\"colorbar\": {\"outlinewidth\": 0, \"ticks\": \"\"}}, \"type\": \"scattergl\"}], \"scattermapbox\": [{\"marker\": {\"colorbar\": {\"outlinewidth\": 0, \"ticks\": \"\"}}, \"type\": \"scattermapbox\"}], \"scatterpolar\": [{\"marker\": {\"colorbar\": {\"outlinewidth\": 0, \"ticks\": \"\"}}, \"type\": \"scatterpolar\"}], \"scatterpolargl\": [{\"marker\": {\"colorbar\": {\"outlinewidth\": 0, \"ticks\": \"\"}}, \"type\": \"scatterpolargl\"}], \"scatterternary\": [{\"marker\": {\"colorbar\": {\"outlinewidth\": 0, \"ticks\": \"\"}}, \"type\": \"scatterternary\"}], \"surface\": [{\"colorbar\": {\"outlinewidth\": 0, \"ticks\": \"\"}, \"colorscale\": [[0.0, \"#0d0887\"], [0.1111111111111111, \"#46039f\"], [0.2222222222222222, \"#7201a8\"], [0.3333333333333333, \"#9c179e\"], [0.4444444444444444, \"#bd3786\"], [0.5555555555555556, \"#d8576b\"], [0.6666666666666666, \"#ed7953\"], [0.7777777777777778, \"#fb9f3a\"], [0.8888888888888888, \"#fdca26\"], [1.0, \"#f0f921\"]], \"type\": \"surface\"}], \"table\": [{\"cells\": {\"fill\": {\"color\": \"#EBF0F8\"}, \"line\": {\"color\": \"white\"}}, \"header\": {\"fill\": {\"color\": \"#C8D4E3\"}, \"line\": {\"color\": \"white\"}}, \"type\": \"table\"}]}, \"layout\": {\"annotationdefaults\": {\"arrowcolor\": \"#2a3f5f\", \"arrowhead\": 0, \"arrowwidth\": 1}, \"coloraxis\": {\"colorbar\": {\"outlinewidth\": 0, \"ticks\": \"\"}}, \"colorscale\": {\"diverging\": [[0, \"#8e0152\"], [0.1, \"#c51b7d\"], [0.2, \"#de77ae\"], [0.3, \"#f1b6da\"], [0.4, \"#fde0ef\"], [0.5, \"#f7f7f7\"], [0.6, \"#e6f5d0\"], [0.7, \"#b8e186\"], [0.8, \"#7fbc41\"], [0.9, \"#4d9221\"], [1, \"#276419\"]], \"sequential\": [[0.0, \"#0d0887\"], [0.1111111111111111, \"#46039f\"], [0.2222222222222222, \"#7201a8\"], [0.3333333333333333, \"#9c179e\"], [0.4444444444444444, \"#bd3786\"], [0.5555555555555556, \"#d8576b\"], [0.6666666666666666, \"#ed7953\"], [0.7777777777777778, \"#fb9f3a\"], [0.8888888888888888, \"#fdca26\"], [1.0, \"#f0f921\"]], \"sequentialminus\": [[0.0, \"#0d0887\"], [0.1111111111111111, \"#46039f\"], [0.2222222222222222, \"#7201a8\"], [0.3333333333333333, \"#9c179e\"], [0.4444444444444444, \"#bd3786\"], [0.5555555555555556, \"#d8576b\"], [0.6666666666666666, \"#ed7953\"], [0.7777777777777778, \"#fb9f3a\"], [0.8888888888888888, \"#fdca26\"], [1.0, \"#f0f921\"]]}, \"colorway\": [\"#636efa\", \"#EF553B\", \"#00cc96\", \"#ab63fa\", \"#FFA15A\", \"#19d3f3\", \"#FF6692\", \"#B6E880\", \"#FF97FF\", \"#FECB52\"], \"font\": {\"color\": \"#2a3f5f\"}, \"geo\": {\"bgcolor\": \"white\", \"lakecolor\": \"white\", \"landcolor\": \"#E5ECF6\", \"showlakes\": true, \"showland\": true, \"subunitcolor\": \"white\"}, \"hoverlabel\": {\"align\": \"left\"}, \"hovermode\": \"closest\", \"mapbox\": {\"style\": \"light\"}, \"paper_bgcolor\": \"white\", \"plot_bgcolor\": \"#E5ECF6\", \"polar\": {\"angularaxis\": {\"gridcolor\": \"white\", \"linecolor\": \"white\", \"ticks\": \"\"}, \"bgcolor\": \"#E5ECF6\", \"radialaxis\": {\"gridcolor\": \"white\", \"linecolor\": \"white\", \"ticks\": \"\"}}, \"scene\": {\"xaxis\": {\"backgroundcolor\": \"#E5ECF6\", \"gridcolor\": \"white\", \"gridwidth\": 2, \"linecolor\": \"white\", \"showbackground\": true, \"ticks\": \"\", \"zerolinecolor\": \"white\"}, \"yaxis\": {\"backgroundcolor\": \"#E5ECF6\", \"gridcolor\": \"white\", \"gridwidth\": 2, \"linecolor\": \"white\", \"showbackground\": true, \"ticks\": \"\", \"zerolinecolor\": \"white\"}, \"zaxis\": {\"backgroundcolor\": \"#E5ECF6\", \"gridcolor\": \"white\", \"gridwidth\": 2, \"linecolor\": \"white\", \"showbackground\": true, \"ticks\": \"\", \"zerolinecolor\": \"white\"}}, \"shapedefaults\": {\"line\": {\"color\": \"#2a3f5f\"}}, \"ternary\": {\"aaxis\": {\"gridcolor\": \"white\", \"linecolor\": \"white\", \"ticks\": \"\"}, \"baxis\": {\"gridcolor\": \"white\", \"linecolor\": \"white\", \"ticks\": \"\"}, \"bgcolor\": \"#E5ECF6\", \"caxis\": {\"gridcolor\": \"white\", \"linecolor\": \"white\", \"ticks\": \"\"}}, \"title\": {\"x\": 0.05}, \"xaxis\": {\"automargin\": true, \"gridcolor\": \"white\", \"linecolor\": \"white\", \"ticks\": \"\", \"title\": {\"standoff\": 15}, \"zerolinecolor\": \"white\", \"zerolinewidth\": 2}, \"yaxis\": {\"automargin\": true, \"gridcolor\": \"white\", \"linecolor\": \"white\", \"ticks\": \"\", \"title\": {\"standoff\": 15}, \"zerolinecolor\": \"white\", \"zerolinewidth\": 2}}}, \"xaxis\": {\"anchor\": \"y\", \"categoryorder\": \"total descending\", \"domain\": [0.0, 1.0], \"title\": {\"text\": \"Country\"}}, \"yaxis\": {\"anchor\": \"x\", \"domain\": [0.0, 1.0], \"title\": {\"text\": \"Confirmed\"}}},                        {\"responsive\": true}                    ).then(function(){\n",
       "                            \n",
       "var gd = document.getElementById('c6970da8-0be3-421e-9da7-fb70a563941b');\n",
       "var x = new MutationObserver(function (mutations, observer) {{\n",
       "        var display = window.getComputedStyle(gd).display;\n",
       "        if (!display || display === 'none') {{\n",
       "            console.log([gd, 'removed!']);\n",
       "            Plotly.purge(gd);\n",
       "            observer.disconnect();\n",
       "        }}\n",
       "}});\n",
       "\n",
       "// Listen for the removal of the full notebook cells\n",
       "var notebookContainer = gd.closest('#notebook-container');\n",
       "if (notebookContainer) {{\n",
       "    x.observe(notebookContainer, {childList: true});\n",
       "}}\n",
       "\n",
       "// Listen for the clearing of the current output cell\n",
       "var outputEl = gd.closest('.output');\n",
       "if (outputEl) {{\n",
       "    x.observe(outputEl, {childList: true});\n",
       "}}\n",
       "\n",
       "                        })                };                });            </script>        </div>"
      ]
     },
     "metadata": {},
     "output_type": "display_data"
    }
   ],
   "source": [
    "# Distributions\n",
    "fig = px.bar(kg_df, x = \"Country\", y =\"Confirmed\").update_xaxes(categoryorder=\"total descending\")\n",
    "fig.show()"
   ]
  },
  {
   "cell_type": "code",
   "execution_count": 1033,
   "metadata": {
    "execution": {
     "iopub.execute_input": "2020-10-22T17:40:08.170473Z",
     "iopub.status.busy": "2020-10-22T17:40:08.161131Z",
     "iopub.status.idle": "2020-10-22T17:40:08.176995Z",
     "shell.execute_reply": "2020-10-22T17:40:08.176218Z"
    },
    "papermill": {
     "duration": 0.240176,
     "end_time": "2020-10-22T17:40:08.177147",
     "exception": false,
     "start_time": "2020-10-22T17:40:07.936971",
     "status": "completed"
    },
    "tags": []
   },
   "outputs": [
    {
     "data": {
      "application/vnd.plotly.v1+json": {
       "config": {
        "plotlyServerURL": "https://plot.ly"
       },
       "data": [
        {
         "alignmentgroup": "True",
         "hovertemplate": "Country=%{x}<br>Deaths=%{y}<extra></extra>",
         "legendgroup": "",
         "marker": {
          "color": "#636efa"
         },
         "name": "",
         "offsetgroup": "",
         "orientation": "v",
         "showlegend": false,
         "textposition": "auto",
         "type": "bar",
         "x": [
          "Afghanistan",
          "Albania",
          "Algeria",
          "Angola",
          "Argentina",
          "Armenia",
          "Australia",
          "Austria",
          "Azerbaijan",
          "Bangladesh",
          "Barbados",
          "Belarus",
          "Belgium",
          "Belize",
          "Benin",
          "Bolivia",
          "Bosnia and Herzegovina",
          "Botswana",
          "Brazil",
          "Bulgaria",
          "Burkina Faso",
          "Cabo Verde",
          "Cambodia",
          "Cameroon",
          "Central African Republic",
          "Chad",
          "China",
          "Colombia",
          "Congo",
          "Costa Rica",
          "Cote d'Ivoire",
          "Croatia",
          "Cuba",
          "Cyprus",
          "Czechia",
          "Denmark",
          "Djibouti",
          "Dominica",
          "Dominican Republic",
          "Ecuador",
          "Egypt",
          "El Salvador",
          "Estonia",
          "Eswatini",
          "Ethiopia",
          "Fiji",
          "Finland",
          "France",
          "Gabon",
          "Gambia",
          "Georgia",
          "Germany",
          "Ghana",
          "Greece",
          "Guatemala",
          "Guinea",
          "Guinea-Bissau",
          "Guyana",
          "Haiti",
          "Honduras",
          "Hungary",
          "Iceland",
          "India",
          "Indonesia",
          "Iran (Islamic Republic of)",
          "Iraq",
          "Ireland",
          "Israel",
          "Italy",
          "Jamaica",
          "Japan",
          "Jordan",
          "Kazakhstan",
          "Kenya",
          "Korea, South",
          "Kuwait",
          "Kyrgyzstan",
          "Lao People's Democratic Republic",
          "Latvia",
          "Lebanon",
          "Lesotho",
          "Liberia",
          "Lithuania",
          "Luxembourg",
          "Madagascar",
          "Malawi",
          "Malaysia",
          "Maldives",
          "Mali",
          "Malta",
          "Mauritania",
          "Mauritius",
          "Mexico",
          "Mongolia",
          "Montenegro",
          "Morocco",
          "Mozambique",
          "Namibia",
          "Nepal",
          "Netherlands",
          "New Zealand",
          "Nicaragua",
          "Niger",
          "Nigeria",
          "North Macedonia",
          "Norway",
          "Oman",
          "Pakistan",
          "Panama",
          "Paraguay",
          "Peru",
          "Philippines",
          "Poland",
          "Portugal",
          "Romania",
          "Russian Federation",
          "Rwanda",
          "Saint Vincent and the Grenadines",
          "Sao Tome and Principe",
          "Saudi Arabia",
          "Senegal",
          "Serbia",
          "Sierra Leone",
          "Slovakia",
          "Slovenia",
          "Solomon Islands",
          "South Africa",
          "Spain",
          "Sri Lanka",
          "Sudan",
          "Suriname",
          "Sweden",
          "Switzerland",
          "Thailand",
          "Timor-Leste",
          "Togo",
          "Trinidad and Tobago",
          "Tunisia",
          "Turkey",
          "Uganda",
          "Ukraine",
          "United Arab Emirates",
          "United Kingdom",
          "United Republic of Tanzania",
          "Uruguay",
          "Uzbekistan",
          "Venezuela (Bolivarian Republic of)",
          "Vietnam",
          "Yemen",
          "Zambia",
          "Zimbabwe"
         ],
         "xaxis": "x",
         "y": [
          0.0038455610357583203,
          0.0159971811134602,
          0.00420452239781771,
          0.000762560728122502,
          0.0588756418449876,
          0.0369079837618403,
          0.0035140172400403803,
          0.0101413506843168,
          0.00623268698060942,
          0.00334552349993228,
          0.0024390243902439,
          0.009951999999999999,
          0.0906904038211029,
          0.0107398568019093,
          0.000335817839298878,
          0.0730851886873549,
          0.030387077110637,
          0.000906344410876133,
          0.07278907710611299,
          0.0145517540060632,
          0.00031096014926087204,
          0.0156474820143885,
          0,
          0.00159410481991127,
          0.00128364389233954,
          0.000551045801979025,
          0.000337924321780396,
          0.0588585065933177,
          0.00715839072127582,
          0.0235570338485619,
          0.000462273161413563,
          0.00930348258706468,
          0.00112578672103537,
          0.00207125103562552,
          0.0141190742814483,
          0.0117687424944244,
          0.00617408906882591,
          0,
          0.0209809523809524,
          0.0707840785791788,
          0.00608116821919983,
          0.0142879185310909,
          0.00510894064613073,
          0.0105072463768116,
          0.0011878241498137802,
          0.00022321428571428598,
          0.00634834508952794,
          0.0518124422543887,
          0.00242043926490363,
          0.0048820852296235,
          0.0038492597577389,
          0.0118151260504202,
          0.000997650693528143,
          0.00485981308411215,
          0.0196003542566146,
          0.000557324840764331,
          0.00212765957446809,
          0.0141041931385006,
          0.00202578268876611,
          0.0261151662611517,
          0.0120098290160745,
          0.00298913043478261,
          0.00822776944503964,
          0.00464305822866795,
          0.0364967320261438,
          0.0259710509754563,
          0.0370177893264042,
          0.0245551215277778,
          0.0607270797399496,
          0.00615877536489854,
          0.0013305071963292,
          0.00355838561663077,
          0.00943839419175742,
          0.00156740397548946,
          0.000863250999401325,
          0.015135365593690001,
          0.0168486502881407,
          0,
          0.00231335436382755,
          0.00770695970695971,
          0.0019607843137254897,
          0.00162119414788454,
          0.00404438081603436,
          0.0213607594936709,
          0.0008594850312375861,
          0.0009461578672242551,
          0.000579604038924987,
          0.0068391866913123794,
          0.000651819663226507,
          0.00862068965517241,
          0.00350537634408602,
          0.0007905138339920951,
          0.0675613496932515,
          0,
          0.0385852090032154,
          0.008277703604806409,
          0.00024064685875633702,
          0.00515545060999606,
          0.0025236698226430198,
          0.0390908570447129,
          0.000501303388810908,
          0.0023347483323226197,
          0.000285253627682004,
          0.000545745609779761,
          0.0406730769230769,
          0.00516057174679785,
          0.0236367494165075,
          0.0030202769982800803,
          0.0600980621060005,
          0.0166368022053756,
          0.102848525469169,
          0.00609138445533441,
          0.00941930775646372,
          0.0214334470989761,
          0.0308248012057585,
          0.0164959484233267,
          0.000262507720815318,
          0,
          0.007142857142857141,
          0.0148426129391285,
          0.00190516005733397,
          0.0111829811700446,
          0.000915131001629685,
          0.00168436470157451,
          0.009034712315739421,
          0,
          0.0310122761118937,
          0.0713592946362968,
          5.9260609928431395e-05,
          0.0019065429086182102,
          0.0180165289256198,
          0.0570299701262407,
          0.024762566597174,
          8.86764661676737e-05,
          0,
          0.000616016427104723,
          0.0070854638422206,
          0.00577505043712172,
          0.0111909908403693,
          0.00021206357534815602,
          0.0139642874240031,
          0.00476580077725506,
          0.0652412150089339,
          3.51558576355175e-05,
          0.00144435004248088,
          0.00155381284017089,
          0.0025693838366207,
          3.63791329293517e-05,
          0.0020016093341379995,
          0.0018820713664055699,
          0.0015609230976249698
         ],
         "yaxis": "y"
        }
       ],
       "layout": {
        "barmode": "relative",
        "legend": {
         "tracegroupgap": 0
        },
        "margin": {
         "t": 60
        },
        "template": {
         "data": {
          "bar": [
           {
            "error_x": {
             "color": "#2a3f5f"
            },
            "error_y": {
             "color": "#2a3f5f"
            },
            "marker": {
             "line": {
              "color": "#E5ECF6",
              "width": 0.5
             }
            },
            "type": "bar"
           }
          ],
          "barpolar": [
           {
            "marker": {
             "line": {
              "color": "#E5ECF6",
              "width": 0.5
             }
            },
            "type": "barpolar"
           }
          ],
          "carpet": [
           {
            "aaxis": {
             "endlinecolor": "#2a3f5f",
             "gridcolor": "white",
             "linecolor": "white",
             "minorgridcolor": "white",
             "startlinecolor": "#2a3f5f"
            },
            "baxis": {
             "endlinecolor": "#2a3f5f",
             "gridcolor": "white",
             "linecolor": "white",
             "minorgridcolor": "white",
             "startlinecolor": "#2a3f5f"
            },
            "type": "carpet"
           }
          ],
          "choropleth": [
           {
            "colorbar": {
             "outlinewidth": 0,
             "ticks": ""
            },
            "type": "choropleth"
           }
          ],
          "contour": [
           {
            "colorbar": {
             "outlinewidth": 0,
             "ticks": ""
            },
            "colorscale": [
             [
              0,
              "#0d0887"
             ],
             [
              0.1111111111111111,
              "#46039f"
             ],
             [
              0.2222222222222222,
              "#7201a8"
             ],
             [
              0.3333333333333333,
              "#9c179e"
             ],
             [
              0.4444444444444444,
              "#bd3786"
             ],
             [
              0.5555555555555556,
              "#d8576b"
             ],
             [
              0.6666666666666666,
              "#ed7953"
             ],
             [
              0.7777777777777778,
              "#fb9f3a"
             ],
             [
              0.8888888888888888,
              "#fdca26"
             ],
             [
              1,
              "#f0f921"
             ]
            ],
            "type": "contour"
           }
          ],
          "contourcarpet": [
           {
            "colorbar": {
             "outlinewidth": 0,
             "ticks": ""
            },
            "type": "contourcarpet"
           }
          ],
          "heatmap": [
           {
            "colorbar": {
             "outlinewidth": 0,
             "ticks": ""
            },
            "colorscale": [
             [
              0,
              "#0d0887"
             ],
             [
              0.1111111111111111,
              "#46039f"
             ],
             [
              0.2222222222222222,
              "#7201a8"
             ],
             [
              0.3333333333333333,
              "#9c179e"
             ],
             [
              0.4444444444444444,
              "#bd3786"
             ],
             [
              0.5555555555555556,
              "#d8576b"
             ],
             [
              0.6666666666666666,
              "#ed7953"
             ],
             [
              0.7777777777777778,
              "#fb9f3a"
             ],
             [
              0.8888888888888888,
              "#fdca26"
             ],
             [
              1,
              "#f0f921"
             ]
            ],
            "type": "heatmap"
           }
          ],
          "heatmapgl": [
           {
            "colorbar": {
             "outlinewidth": 0,
             "ticks": ""
            },
            "colorscale": [
             [
              0,
              "#0d0887"
             ],
             [
              0.1111111111111111,
              "#46039f"
             ],
             [
              0.2222222222222222,
              "#7201a8"
             ],
             [
              0.3333333333333333,
              "#9c179e"
             ],
             [
              0.4444444444444444,
              "#bd3786"
             ],
             [
              0.5555555555555556,
              "#d8576b"
             ],
             [
              0.6666666666666666,
              "#ed7953"
             ],
             [
              0.7777777777777778,
              "#fb9f3a"
             ],
             [
              0.8888888888888888,
              "#fdca26"
             ],
             [
              1,
              "#f0f921"
             ]
            ],
            "type": "heatmapgl"
           }
          ],
          "histogram": [
           {
            "marker": {
             "colorbar": {
              "outlinewidth": 0,
              "ticks": ""
             }
            },
            "type": "histogram"
           }
          ],
          "histogram2d": [
           {
            "colorbar": {
             "outlinewidth": 0,
             "ticks": ""
            },
            "colorscale": [
             [
              0,
              "#0d0887"
             ],
             [
              0.1111111111111111,
              "#46039f"
             ],
             [
              0.2222222222222222,
              "#7201a8"
             ],
             [
              0.3333333333333333,
              "#9c179e"
             ],
             [
              0.4444444444444444,
              "#bd3786"
             ],
             [
              0.5555555555555556,
              "#d8576b"
             ],
             [
              0.6666666666666666,
              "#ed7953"
             ],
             [
              0.7777777777777778,
              "#fb9f3a"
             ],
             [
              0.8888888888888888,
              "#fdca26"
             ],
             [
              1,
              "#f0f921"
             ]
            ],
            "type": "histogram2d"
           }
          ],
          "histogram2dcontour": [
           {
            "colorbar": {
             "outlinewidth": 0,
             "ticks": ""
            },
            "colorscale": [
             [
              0,
              "#0d0887"
             ],
             [
              0.1111111111111111,
              "#46039f"
             ],
             [
              0.2222222222222222,
              "#7201a8"
             ],
             [
              0.3333333333333333,
              "#9c179e"
             ],
             [
              0.4444444444444444,
              "#bd3786"
             ],
             [
              0.5555555555555556,
              "#d8576b"
             ],
             [
              0.6666666666666666,
              "#ed7953"
             ],
             [
              0.7777777777777778,
              "#fb9f3a"
             ],
             [
              0.8888888888888888,
              "#fdca26"
             ],
             [
              1,
              "#f0f921"
             ]
            ],
            "type": "histogram2dcontour"
           }
          ],
          "mesh3d": [
           {
            "colorbar": {
             "outlinewidth": 0,
             "ticks": ""
            },
            "type": "mesh3d"
           }
          ],
          "parcoords": [
           {
            "line": {
             "colorbar": {
              "outlinewidth": 0,
              "ticks": ""
             }
            },
            "type": "parcoords"
           }
          ],
          "pie": [
           {
            "automargin": true,
            "type": "pie"
           }
          ],
          "scatter": [
           {
            "marker": {
             "colorbar": {
              "outlinewidth": 0,
              "ticks": ""
             }
            },
            "type": "scatter"
           }
          ],
          "scatter3d": [
           {
            "line": {
             "colorbar": {
              "outlinewidth": 0,
              "ticks": ""
             }
            },
            "marker": {
             "colorbar": {
              "outlinewidth": 0,
              "ticks": ""
             }
            },
            "type": "scatter3d"
           }
          ],
          "scattercarpet": [
           {
            "marker": {
             "colorbar": {
              "outlinewidth": 0,
              "ticks": ""
             }
            },
            "type": "scattercarpet"
           }
          ],
          "scattergeo": [
           {
            "marker": {
             "colorbar": {
              "outlinewidth": 0,
              "ticks": ""
             }
            },
            "type": "scattergeo"
           }
          ],
          "scattergl": [
           {
            "marker": {
             "colorbar": {
              "outlinewidth": 0,
              "ticks": ""
             }
            },
            "type": "scattergl"
           }
          ],
          "scattermapbox": [
           {
            "marker": {
             "colorbar": {
              "outlinewidth": 0,
              "ticks": ""
             }
            },
            "type": "scattermapbox"
           }
          ],
          "scatterpolar": [
           {
            "marker": {
             "colorbar": {
              "outlinewidth": 0,
              "ticks": ""
             }
            },
            "type": "scatterpolar"
           }
          ],
          "scatterpolargl": [
           {
            "marker": {
             "colorbar": {
              "outlinewidth": 0,
              "ticks": ""
             }
            },
            "type": "scatterpolargl"
           }
          ],
          "scatterternary": [
           {
            "marker": {
             "colorbar": {
              "outlinewidth": 0,
              "ticks": ""
             }
            },
            "type": "scatterternary"
           }
          ],
          "surface": [
           {
            "colorbar": {
             "outlinewidth": 0,
             "ticks": ""
            },
            "colorscale": [
             [
              0,
              "#0d0887"
             ],
             [
              0.1111111111111111,
              "#46039f"
             ],
             [
              0.2222222222222222,
              "#7201a8"
             ],
             [
              0.3333333333333333,
              "#9c179e"
             ],
             [
              0.4444444444444444,
              "#bd3786"
             ],
             [
              0.5555555555555556,
              "#d8576b"
             ],
             [
              0.6666666666666666,
              "#ed7953"
             ],
             [
              0.7777777777777778,
              "#fb9f3a"
             ],
             [
              0.8888888888888888,
              "#fdca26"
             ],
             [
              1,
              "#f0f921"
             ]
            ],
            "type": "surface"
           }
          ],
          "table": [
           {
            "cells": {
             "fill": {
              "color": "#EBF0F8"
             },
             "line": {
              "color": "white"
             }
            },
            "header": {
             "fill": {
              "color": "#C8D4E3"
             },
             "line": {
              "color": "white"
             }
            },
            "type": "table"
           }
          ]
         },
         "layout": {
          "annotationdefaults": {
           "arrowcolor": "#2a3f5f",
           "arrowhead": 0,
           "arrowwidth": 1
          },
          "coloraxis": {
           "colorbar": {
            "outlinewidth": 0,
            "ticks": ""
           }
          },
          "colorscale": {
           "diverging": [
            [
             0,
             "#8e0152"
            ],
            [
             0.1,
             "#c51b7d"
            ],
            [
             0.2,
             "#de77ae"
            ],
            [
             0.3,
             "#f1b6da"
            ],
            [
             0.4,
             "#fde0ef"
            ],
            [
             0.5,
             "#f7f7f7"
            ],
            [
             0.6,
             "#e6f5d0"
            ],
            [
             0.7,
             "#b8e186"
            ],
            [
             0.8,
             "#7fbc41"
            ],
            [
             0.9,
             "#4d9221"
            ],
            [
             1,
             "#276419"
            ]
           ],
           "sequential": [
            [
             0,
             "#0d0887"
            ],
            [
             0.1111111111111111,
             "#46039f"
            ],
            [
             0.2222222222222222,
             "#7201a8"
            ],
            [
             0.3333333333333333,
             "#9c179e"
            ],
            [
             0.4444444444444444,
             "#bd3786"
            ],
            [
             0.5555555555555556,
             "#d8576b"
            ],
            [
             0.6666666666666666,
             "#ed7953"
            ],
            [
             0.7777777777777778,
             "#fb9f3a"
            ],
            [
             0.8888888888888888,
             "#fdca26"
            ],
            [
             1,
             "#f0f921"
            ]
           ],
           "sequentialminus": [
            [
             0,
             "#0d0887"
            ],
            [
             0.1111111111111111,
             "#46039f"
            ],
            [
             0.2222222222222222,
             "#7201a8"
            ],
            [
             0.3333333333333333,
             "#9c179e"
            ],
            [
             0.4444444444444444,
             "#bd3786"
            ],
            [
             0.5555555555555556,
             "#d8576b"
            ],
            [
             0.6666666666666666,
             "#ed7953"
            ],
            [
             0.7777777777777778,
             "#fb9f3a"
            ],
            [
             0.8888888888888888,
             "#fdca26"
            ],
            [
             1,
             "#f0f921"
            ]
           ]
          },
          "colorway": [
           "#636efa",
           "#EF553B",
           "#00cc96",
           "#ab63fa",
           "#FFA15A",
           "#19d3f3",
           "#FF6692",
           "#B6E880",
           "#FF97FF",
           "#FECB52"
          ],
          "font": {
           "color": "#2a3f5f"
          },
          "geo": {
           "bgcolor": "white",
           "lakecolor": "white",
           "landcolor": "#E5ECF6",
           "showlakes": true,
           "showland": true,
           "subunitcolor": "white"
          },
          "hoverlabel": {
           "align": "left"
          },
          "hovermode": "closest",
          "mapbox": {
           "style": "light"
          },
          "paper_bgcolor": "white",
          "plot_bgcolor": "#E5ECF6",
          "polar": {
           "angularaxis": {
            "gridcolor": "white",
            "linecolor": "white",
            "ticks": ""
           },
           "bgcolor": "#E5ECF6",
           "radialaxis": {
            "gridcolor": "white",
            "linecolor": "white",
            "ticks": ""
           }
          },
          "scene": {
           "xaxis": {
            "backgroundcolor": "#E5ECF6",
            "gridcolor": "white",
            "gridwidth": 2,
            "linecolor": "white",
            "showbackground": true,
            "ticks": "",
            "zerolinecolor": "white"
           },
           "yaxis": {
            "backgroundcolor": "#E5ECF6",
            "gridcolor": "white",
            "gridwidth": 2,
            "linecolor": "white",
            "showbackground": true,
            "ticks": "",
            "zerolinecolor": "white"
           },
           "zaxis": {
            "backgroundcolor": "#E5ECF6",
            "gridcolor": "white",
            "gridwidth": 2,
            "linecolor": "white",
            "showbackground": true,
            "ticks": "",
            "zerolinecolor": "white"
           }
          },
          "shapedefaults": {
           "line": {
            "color": "#2a3f5f"
           }
          },
          "ternary": {
           "aaxis": {
            "gridcolor": "white",
            "linecolor": "white",
            "ticks": ""
           },
           "baxis": {
            "gridcolor": "white",
            "linecolor": "white",
            "ticks": ""
           },
           "bgcolor": "#E5ECF6",
           "caxis": {
            "gridcolor": "white",
            "linecolor": "white",
            "ticks": ""
           }
          },
          "title": {
           "x": 0.05
          },
          "xaxis": {
           "automargin": true,
           "gridcolor": "white",
           "linecolor": "white",
           "ticks": "",
           "title": {
            "standoff": 15
           },
           "zerolinecolor": "white",
           "zerolinewidth": 2
          },
          "yaxis": {
           "automargin": true,
           "gridcolor": "white",
           "linecolor": "white",
           "ticks": "",
           "title": {
            "standoff": 15
           },
           "zerolinecolor": "white",
           "zerolinewidth": 2
          }
         }
        },
        "xaxis": {
         "anchor": "y",
         "categoryorder": "total descending",
         "domain": [
          0,
          1
         ],
         "title": {
          "text": "Country"
         }
        },
        "yaxis": {
         "anchor": "x",
         "domain": [
          0,
          1
         ],
         "title": {
          "text": "Deaths"
         }
        }
       }
      },
      "text/html": [
       "<div>                            <div id=\"dc5e22a4-e970-4d17-bcf2-2ae2a24712c0\" class=\"plotly-graph-div\" style=\"height:525px; width:100%;\"></div>            <script type=\"text/javascript\">                require([\"plotly\"], function(Plotly) {                    window.PLOTLYENV=window.PLOTLYENV || {};                                    if (document.getElementById(\"dc5e22a4-e970-4d17-bcf2-2ae2a24712c0\")) {                    Plotly.newPlot(                        \"dc5e22a4-e970-4d17-bcf2-2ae2a24712c0\",                        [{\"alignmentgroup\": \"True\", \"hovertemplate\": \"Country=%{x}<br>Deaths=%{y}<extra></extra>\", \"legendgroup\": \"\", \"marker\": {\"color\": \"#636efa\"}, \"name\": \"\", \"offsetgroup\": \"\", \"orientation\": \"v\", \"showlegend\": false, \"textposition\": \"auto\", \"type\": \"bar\", \"x\": [\"Afghanistan\", \"Albania\", \"Algeria\", \"Angola\", \"Argentina\", \"Armenia\", \"Australia\", \"Austria\", \"Azerbaijan\", \"Bangladesh\", \"Barbados\", \"Belarus\", \"Belgium\", \"Belize\", \"Benin\", \"Bolivia\", \"Bosnia and Herzegovina\", \"Botswana\", \"Brazil\", \"Bulgaria\", \"Burkina Faso\", \"Cabo Verde\", \"Cambodia\", \"Cameroon\", \"Central African Republic\", \"Chad\", \"China\", \"Colombia\", \"Congo\", \"Costa Rica\", \"Cote d'Ivoire\", \"Croatia\", \"Cuba\", \"Cyprus\", \"Czechia\", \"Denmark\", \"Djibouti\", \"Dominica\", \"Dominican Republic\", \"Ecuador\", \"Egypt\", \"El Salvador\", \"Estonia\", \"Eswatini\", \"Ethiopia\", \"Fiji\", \"Finland\", \"France\", \"Gabon\", \"Gambia\", \"Georgia\", \"Germany\", \"Ghana\", \"Greece\", \"Guatemala\", \"Guinea\", \"Guinea-Bissau\", \"Guyana\", \"Haiti\", \"Honduras\", \"Hungary\", \"Iceland\", \"India\", \"Indonesia\", \"Iran (Islamic Republic of)\", \"Iraq\", \"Ireland\", \"Israel\", \"Italy\", \"Jamaica\", \"Japan\", \"Jordan\", \"Kazakhstan\", \"Kenya\", \"Korea, South\", \"Kuwait\", \"Kyrgyzstan\", \"Lao People's Democratic Republic\", \"Latvia\", \"Lebanon\", \"Lesotho\", \"Liberia\", \"Lithuania\", \"Luxembourg\", \"Madagascar\", \"Malawi\", \"Malaysia\", \"Maldives\", \"Mali\", \"Malta\", \"Mauritania\", \"Mauritius\", \"Mexico\", \"Mongolia\", \"Montenegro\", \"Morocco\", \"Mozambique\", \"Namibia\", \"Nepal\", \"Netherlands\", \"New Zealand\", \"Nicaragua\", \"Niger\", \"Nigeria\", \"North Macedonia\", \"Norway\", \"Oman\", \"Pakistan\", \"Panama\", \"Paraguay\", \"Peru\", \"Philippines\", \"Poland\", \"Portugal\", \"Romania\", \"Russian Federation\", \"Rwanda\", \"Saint Vincent and the Grenadines\", \"Sao Tome and Principe\", \"Saudi Arabia\", \"Senegal\", \"Serbia\", \"Sierra Leone\", \"Slovakia\", \"Slovenia\", \"Solomon Islands\", \"South Africa\", \"Spain\", \"Sri Lanka\", \"Sudan\", \"Suriname\", \"Sweden\", \"Switzerland\", \"Thailand\", \"Timor-Leste\", \"Togo\", \"Trinidad and Tobago\", \"Tunisia\", \"Turkey\", \"Uganda\", \"Ukraine\", \"United Arab Emirates\", \"United Kingdom\", \"United Republic of Tanzania\", \"Uruguay\", \"Uzbekistan\", \"Venezuela (Bolivarian Republic of)\", \"Vietnam\", \"Yemen\", \"Zambia\", \"Zimbabwe\"], \"xaxis\": \"x\", \"y\": [0.0038455610357583203, 0.0159971811134602, 0.00420452239781771, 0.000762560728122502, 0.0588756418449876, 0.0369079837618403, 0.0035140172400403803, 0.0101413506843168, 0.00623268698060942, 0.00334552349993228, 0.0024390243902439, 0.009951999999999999, 0.0906904038211029, 0.0107398568019093, 0.000335817839298878, 0.0730851886873549, 0.030387077110637, 0.000906344410876133, 0.07278907710611299, 0.0145517540060632, 0.00031096014926087204, 0.0156474820143885, 0.0, 0.00159410481991127, 0.00128364389233954, 0.000551045801979025, 0.000337924321780396, 0.0588585065933177, 0.00715839072127582, 0.0235570338485619, 0.000462273161413563, 0.00930348258706468, 0.00112578672103537, 0.00207125103562552, 0.0141190742814483, 0.0117687424944244, 0.00617408906882591, 0.0, 0.0209809523809524, 0.0707840785791788, 0.00608116821919983, 0.0142879185310909, 0.00510894064613073, 0.0105072463768116, 0.0011878241498137802, 0.00022321428571428598, 0.00634834508952794, 0.0518124422543887, 0.00242043926490363, 0.0048820852296235, 0.0038492597577389, 0.0118151260504202, 0.000997650693528143, 0.00485981308411215, 0.0196003542566146, 0.000557324840764331, 0.00212765957446809, 0.0141041931385006, 0.00202578268876611, 0.0261151662611517, 0.0120098290160745, 0.00298913043478261, 0.00822776944503964, 0.00464305822866795, 0.0364967320261438, 0.0259710509754563, 0.0370177893264042, 0.0245551215277778, 0.0607270797399496, 0.00615877536489854, 0.0013305071963292, 0.00355838561663077, 0.00943839419175742, 0.00156740397548946, 0.000863250999401325, 0.015135365593690001, 0.0168486502881407, 0.0, 0.00231335436382755, 0.00770695970695971, 0.0019607843137254897, 0.00162119414788454, 0.00404438081603436, 0.0213607594936709, 0.0008594850312375861, 0.0009461578672242551, 0.000579604038924987, 0.0068391866913123794, 0.000651819663226507, 0.00862068965517241, 0.00350537634408602, 0.0007905138339920951, 0.0675613496932515, 0.0, 0.0385852090032154, 0.008277703604806409, 0.00024064685875633702, 0.00515545060999606, 0.0025236698226430198, 0.0390908570447129, 0.000501303388810908, 0.0023347483323226197, 0.000285253627682004, 0.000545745609779761, 0.0406730769230769, 0.00516057174679785, 0.0236367494165075, 0.0030202769982800803, 0.0600980621060005, 0.0166368022053756, 0.102848525469169, 0.00609138445533441, 0.00941930775646372, 0.0214334470989761, 0.0308248012057585, 0.0164959484233267, 0.000262507720815318, 0.0, 0.007142857142857141, 0.0148426129391285, 0.00190516005733397, 0.0111829811700446, 0.000915131001629685, 0.00168436470157451, 0.009034712315739421, 0.0, 0.0310122761118937, 0.0713592946362968, 5.9260609928431395e-05, 0.0019065429086182102, 0.0180165289256198, 0.0570299701262407, 0.024762566597174, 8.86764661676737e-05, 0.0, 0.000616016427104723, 0.0070854638422206, 0.00577505043712172, 0.0111909908403693, 0.00021206357534815602, 0.0139642874240031, 0.00476580077725506, 0.0652412150089339, 3.51558576355175e-05, 0.00144435004248088, 0.00155381284017089, 0.0025693838366207, 3.63791329293517e-05, 0.0020016093341379995, 0.0018820713664055699, 0.0015609230976249698], \"yaxis\": \"y\"}],                        {\"barmode\": \"relative\", \"legend\": {\"tracegroupgap\": 0}, \"margin\": {\"t\": 60}, \"template\": {\"data\": {\"bar\": [{\"error_x\": {\"color\": \"#2a3f5f\"}, \"error_y\": {\"color\": \"#2a3f5f\"}, \"marker\": {\"line\": {\"color\": \"#E5ECF6\", \"width\": 0.5}}, \"type\": \"bar\"}], \"barpolar\": [{\"marker\": {\"line\": {\"color\": \"#E5ECF6\", \"width\": 0.5}}, \"type\": \"barpolar\"}], \"carpet\": [{\"aaxis\": {\"endlinecolor\": \"#2a3f5f\", \"gridcolor\": \"white\", \"linecolor\": \"white\", \"minorgridcolor\": \"white\", \"startlinecolor\": \"#2a3f5f\"}, \"baxis\": {\"endlinecolor\": \"#2a3f5f\", \"gridcolor\": \"white\", \"linecolor\": \"white\", \"minorgridcolor\": \"white\", \"startlinecolor\": \"#2a3f5f\"}, \"type\": \"carpet\"}], \"choropleth\": [{\"colorbar\": {\"outlinewidth\": 0, \"ticks\": \"\"}, \"type\": \"choropleth\"}], \"contour\": [{\"colorbar\": {\"outlinewidth\": 0, \"ticks\": \"\"}, \"colorscale\": [[0.0, \"#0d0887\"], [0.1111111111111111, \"#46039f\"], [0.2222222222222222, \"#7201a8\"], [0.3333333333333333, \"#9c179e\"], [0.4444444444444444, \"#bd3786\"], [0.5555555555555556, \"#d8576b\"], [0.6666666666666666, \"#ed7953\"], [0.7777777777777778, \"#fb9f3a\"], [0.8888888888888888, \"#fdca26\"], [1.0, \"#f0f921\"]], \"type\": \"contour\"}], \"contourcarpet\": [{\"colorbar\": {\"outlinewidth\": 0, \"ticks\": \"\"}, \"type\": \"contourcarpet\"}], \"heatmap\": [{\"colorbar\": {\"outlinewidth\": 0, \"ticks\": \"\"}, \"colorscale\": [[0.0, \"#0d0887\"], [0.1111111111111111, \"#46039f\"], [0.2222222222222222, \"#7201a8\"], [0.3333333333333333, \"#9c179e\"], [0.4444444444444444, \"#bd3786\"], [0.5555555555555556, \"#d8576b\"], [0.6666666666666666, \"#ed7953\"], [0.7777777777777778, \"#fb9f3a\"], [0.8888888888888888, \"#fdca26\"], [1.0, \"#f0f921\"]], \"type\": \"heatmap\"}], \"heatmapgl\": [{\"colorbar\": {\"outlinewidth\": 0, \"ticks\": \"\"}, \"colorscale\": [[0.0, \"#0d0887\"], [0.1111111111111111, \"#46039f\"], [0.2222222222222222, \"#7201a8\"], [0.3333333333333333, \"#9c179e\"], [0.4444444444444444, \"#bd3786\"], [0.5555555555555556, \"#d8576b\"], [0.6666666666666666, \"#ed7953\"], [0.7777777777777778, \"#fb9f3a\"], [0.8888888888888888, \"#fdca26\"], [1.0, \"#f0f921\"]], \"type\": \"heatmapgl\"}], \"histogram\": [{\"marker\": {\"colorbar\": {\"outlinewidth\": 0, \"ticks\": \"\"}}, \"type\": \"histogram\"}], \"histogram2d\": [{\"colorbar\": {\"outlinewidth\": 0, \"ticks\": \"\"}, \"colorscale\": [[0.0, \"#0d0887\"], [0.1111111111111111, \"#46039f\"], [0.2222222222222222, \"#7201a8\"], [0.3333333333333333, \"#9c179e\"], [0.4444444444444444, \"#bd3786\"], [0.5555555555555556, \"#d8576b\"], [0.6666666666666666, \"#ed7953\"], [0.7777777777777778, \"#fb9f3a\"], [0.8888888888888888, \"#fdca26\"], [1.0, \"#f0f921\"]], \"type\": \"histogram2d\"}], \"histogram2dcontour\": [{\"colorbar\": {\"outlinewidth\": 0, \"ticks\": \"\"}, \"colorscale\": [[0.0, \"#0d0887\"], [0.1111111111111111, \"#46039f\"], [0.2222222222222222, \"#7201a8\"], [0.3333333333333333, \"#9c179e\"], [0.4444444444444444, \"#bd3786\"], [0.5555555555555556, \"#d8576b\"], [0.6666666666666666, \"#ed7953\"], [0.7777777777777778, \"#fb9f3a\"], [0.8888888888888888, \"#fdca26\"], [1.0, \"#f0f921\"]], \"type\": \"histogram2dcontour\"}], \"mesh3d\": [{\"colorbar\": {\"outlinewidth\": 0, \"ticks\": \"\"}, \"type\": \"mesh3d\"}], \"parcoords\": [{\"line\": {\"colorbar\": {\"outlinewidth\": 0, \"ticks\": \"\"}}, \"type\": \"parcoords\"}], \"pie\": [{\"automargin\": true, \"type\": \"pie\"}], \"scatter\": [{\"marker\": {\"colorbar\": {\"outlinewidth\": 0, \"ticks\": \"\"}}, \"type\": \"scatter\"}], \"scatter3d\": [{\"line\": {\"colorbar\": {\"outlinewidth\": 0, \"ticks\": \"\"}}, \"marker\": {\"colorbar\": {\"outlinewidth\": 0, \"ticks\": \"\"}}, \"type\": \"scatter3d\"}], \"scattercarpet\": [{\"marker\": {\"colorbar\": {\"outlinewidth\": 0, \"ticks\": \"\"}}, \"type\": \"scattercarpet\"}], \"scattergeo\": [{\"marker\": {\"colorbar\": {\"outlinewidth\": 0, \"ticks\": \"\"}}, \"type\": \"scattergeo\"}], \"scattergl\": [{\"marker\": {\"colorbar\": {\"outlinewidth\": 0, \"ticks\": \"\"}}, \"type\": \"scattergl\"}], \"scattermapbox\": [{\"marker\": {\"colorbar\": {\"outlinewidth\": 0, \"ticks\": \"\"}}, \"type\": \"scattermapbox\"}], \"scatterpolar\": [{\"marker\": {\"colorbar\": {\"outlinewidth\": 0, \"ticks\": \"\"}}, \"type\": \"scatterpolar\"}], \"scatterpolargl\": [{\"marker\": {\"colorbar\": {\"outlinewidth\": 0, \"ticks\": \"\"}}, \"type\": \"scatterpolargl\"}], \"scatterternary\": [{\"marker\": {\"colorbar\": {\"outlinewidth\": 0, \"ticks\": \"\"}}, \"type\": \"scatterternary\"}], \"surface\": [{\"colorbar\": {\"outlinewidth\": 0, \"ticks\": \"\"}, \"colorscale\": [[0.0, \"#0d0887\"], [0.1111111111111111, \"#46039f\"], [0.2222222222222222, \"#7201a8\"], [0.3333333333333333, \"#9c179e\"], [0.4444444444444444, \"#bd3786\"], [0.5555555555555556, \"#d8576b\"], [0.6666666666666666, \"#ed7953\"], [0.7777777777777778, \"#fb9f3a\"], [0.8888888888888888, \"#fdca26\"], [1.0, \"#f0f921\"]], \"type\": \"surface\"}], \"table\": [{\"cells\": {\"fill\": {\"color\": \"#EBF0F8\"}, \"line\": {\"color\": \"white\"}}, \"header\": {\"fill\": {\"color\": \"#C8D4E3\"}, \"line\": {\"color\": \"white\"}}, \"type\": \"table\"}]}, \"layout\": {\"annotationdefaults\": {\"arrowcolor\": \"#2a3f5f\", \"arrowhead\": 0, \"arrowwidth\": 1}, \"coloraxis\": {\"colorbar\": {\"outlinewidth\": 0, \"ticks\": \"\"}}, \"colorscale\": {\"diverging\": [[0, \"#8e0152\"], [0.1, \"#c51b7d\"], [0.2, \"#de77ae\"], [0.3, \"#f1b6da\"], [0.4, \"#fde0ef\"], [0.5, \"#f7f7f7\"], [0.6, \"#e6f5d0\"], [0.7, \"#b8e186\"], [0.8, \"#7fbc41\"], [0.9, \"#4d9221\"], [1, \"#276419\"]], \"sequential\": [[0.0, \"#0d0887\"], [0.1111111111111111, \"#46039f\"], [0.2222222222222222, \"#7201a8\"], [0.3333333333333333, \"#9c179e\"], [0.4444444444444444, \"#bd3786\"], [0.5555555555555556, \"#d8576b\"], [0.6666666666666666, \"#ed7953\"], [0.7777777777777778, \"#fb9f3a\"], [0.8888888888888888, \"#fdca26\"], [1.0, \"#f0f921\"]], \"sequentialminus\": [[0.0, \"#0d0887\"], [0.1111111111111111, \"#46039f\"], [0.2222222222222222, \"#7201a8\"], [0.3333333333333333, \"#9c179e\"], [0.4444444444444444, \"#bd3786\"], [0.5555555555555556, \"#d8576b\"], [0.6666666666666666, \"#ed7953\"], [0.7777777777777778, \"#fb9f3a\"], [0.8888888888888888, \"#fdca26\"], [1.0, \"#f0f921\"]]}, \"colorway\": [\"#636efa\", \"#EF553B\", \"#00cc96\", \"#ab63fa\", \"#FFA15A\", \"#19d3f3\", \"#FF6692\", \"#B6E880\", \"#FF97FF\", \"#FECB52\"], \"font\": {\"color\": \"#2a3f5f\"}, \"geo\": {\"bgcolor\": \"white\", \"lakecolor\": \"white\", \"landcolor\": \"#E5ECF6\", \"showlakes\": true, \"showland\": true, \"subunitcolor\": \"white\"}, \"hoverlabel\": {\"align\": \"left\"}, \"hovermode\": \"closest\", \"mapbox\": {\"style\": \"light\"}, \"paper_bgcolor\": \"white\", \"plot_bgcolor\": \"#E5ECF6\", \"polar\": {\"angularaxis\": {\"gridcolor\": \"white\", \"linecolor\": \"white\", \"ticks\": \"\"}, \"bgcolor\": \"#E5ECF6\", \"radialaxis\": {\"gridcolor\": \"white\", \"linecolor\": \"white\", \"ticks\": \"\"}}, \"scene\": {\"xaxis\": {\"backgroundcolor\": \"#E5ECF6\", \"gridcolor\": \"white\", \"gridwidth\": 2, \"linecolor\": \"white\", \"showbackground\": true, \"ticks\": \"\", \"zerolinecolor\": \"white\"}, \"yaxis\": {\"backgroundcolor\": \"#E5ECF6\", \"gridcolor\": \"white\", \"gridwidth\": 2, \"linecolor\": \"white\", \"showbackground\": true, \"ticks\": \"\", \"zerolinecolor\": \"white\"}, \"zaxis\": {\"backgroundcolor\": \"#E5ECF6\", \"gridcolor\": \"white\", \"gridwidth\": 2, \"linecolor\": \"white\", \"showbackground\": true, \"ticks\": \"\", \"zerolinecolor\": \"white\"}}, \"shapedefaults\": {\"line\": {\"color\": \"#2a3f5f\"}}, \"ternary\": {\"aaxis\": {\"gridcolor\": \"white\", \"linecolor\": \"white\", \"ticks\": \"\"}, \"baxis\": {\"gridcolor\": \"white\", \"linecolor\": \"white\", \"ticks\": \"\"}, \"bgcolor\": \"#E5ECF6\", \"caxis\": {\"gridcolor\": \"white\", \"linecolor\": \"white\", \"ticks\": \"\"}}, \"title\": {\"x\": 0.05}, \"xaxis\": {\"automargin\": true, \"gridcolor\": \"white\", \"linecolor\": \"white\", \"ticks\": \"\", \"title\": {\"standoff\": 15}, \"zerolinecolor\": \"white\", \"zerolinewidth\": 2}, \"yaxis\": {\"automargin\": true, \"gridcolor\": \"white\", \"linecolor\": \"white\", \"ticks\": \"\", \"title\": {\"standoff\": 15}, \"zerolinecolor\": \"white\", \"zerolinewidth\": 2}}}, \"xaxis\": {\"anchor\": \"y\", \"categoryorder\": \"total descending\", \"domain\": [0.0, 1.0], \"title\": {\"text\": \"Country\"}}, \"yaxis\": {\"anchor\": \"x\", \"domain\": [0.0, 1.0], \"title\": {\"text\": \"Deaths\"}}},                        {\"responsive\": true}                    ).then(function(){\n",
       "                            \n",
       "var gd = document.getElementById('dc5e22a4-e970-4d17-bcf2-2ae2a24712c0');\n",
       "var x = new MutationObserver(function (mutations, observer) {{\n",
       "        var display = window.getComputedStyle(gd).display;\n",
       "        if (!display || display === 'none') {{\n",
       "            console.log([gd, 'removed!']);\n",
       "            Plotly.purge(gd);\n",
       "            observer.disconnect();\n",
       "        }}\n",
       "}});\n",
       "\n",
       "// Listen for the removal of the full notebook cells\n",
       "var notebookContainer = gd.closest('#notebook-container');\n",
       "if (notebookContainer) {{\n",
       "    x.observe(notebookContainer, {childList: true});\n",
       "}}\n",
       "\n",
       "// Listen for the clearing of the current output cell\n",
       "var outputEl = gd.closest('.output');\n",
       "if (outputEl) {{\n",
       "    x.observe(outputEl, {childList: true});\n",
       "}}\n",
       "\n",
       "                        })                };                });            </script>        </div>"
      ]
     },
     "metadata": {},
     "output_type": "display_data"
    }
   ],
   "source": [
    "# Distributions\n",
    "fig = px.bar(kg_df, x = \"Country\", y =\"Deaths\").update_xaxes(categoryorder=\"total descending\")\n",
    "fig.show()"
   ]
  },
  {
   "cell_type": "code",
   "execution_count": 1034,
   "metadata": {
    "execution": {
     "iopub.execute_input": "2020-10-22T17:40:08.557572Z",
     "iopub.status.busy": "2020-10-22T17:40:08.556705Z",
     "iopub.status.idle": "2020-10-22T17:40:08.631446Z",
     "shell.execute_reply": "2020-10-22T17:40:08.632053Z"
    },
    "papermill": {
     "duration": 0.287831,
     "end_time": "2020-10-22T17:40:08.632238",
     "exception": false,
     "start_time": "2020-10-22T17:40:08.344407",
     "status": "completed"
    },
    "tags": []
   },
   "outputs": [
    {
     "data": {
      "application/vnd.plotly.v1+json": {
       "config": {
        "plotlyServerURL": "https://plot.ly"
       },
       "data": [
        {
         "alignmentgroup": "True",
         "hovertemplate": "Country=%{x}<br>Active=%{y}<extra></extra>",
         "legendgroup": "",
         "marker": {
          "color": "#636efa"
         },
         "name": "",
         "offsetgroup": "",
         "orientation": "v",
         "showlegend": false,
         "textposition": "auto",
         "type": "bar",
         "x": [
          "Afghanistan",
          "Albania",
          "Algeria",
          "Angola",
          "Argentina",
          "Armenia",
          "Australia",
          "Austria",
          "Azerbaijan",
          "Bangladesh",
          "Barbados",
          "Belarus",
          "Belgium",
          "Belize",
          "Benin",
          "Bolivia",
          "Bosnia and Herzegovina",
          "Botswana",
          "Brazil",
          "Bulgaria",
          "Burkina Faso",
          "Cabo Verde",
          "Cambodia",
          "Cameroon",
          "Central African Republic",
          "Chad",
          "China",
          "Colombia",
          "Congo",
          "Costa Rica",
          "Cote d'Ivoire",
          "Croatia",
          "Cuba",
          "Cyprus",
          "Czechia",
          "Denmark",
          "Djibouti",
          "Dominica",
          "Dominican Republic",
          "Ecuador",
          "Egypt",
          "El Salvador",
          "Estonia",
          "Eswatini",
          "Ethiopia",
          "Fiji",
          "Finland",
          "France",
          "Gabon",
          "Gambia",
          "Georgia",
          "Germany",
          "Ghana",
          "Greece",
          "Guatemala",
          "Guinea",
          "Guinea-Bissau",
          "Guyana",
          "Haiti",
          "Honduras",
          "Hungary",
          "Iceland",
          "India",
          "Indonesia",
          "Iran (Islamic Republic of)",
          "Iraq",
          "Ireland",
          "Israel",
          "Italy",
          "Jamaica",
          "Japan",
          "Jordan",
          "Kazakhstan",
          "Kenya",
          "Korea, South",
          "Kuwait",
          "Kyrgyzstan",
          "Lao People's Democratic Republic",
          "Latvia",
          "Lebanon",
          "Lesotho",
          "Liberia",
          "Lithuania",
          "Luxembourg",
          "Madagascar",
          "Malawi",
          "Malaysia",
          "Maldives",
          "Mali",
          "Malta",
          "Mauritania",
          "Mauritius",
          "Mexico",
          "Mongolia",
          "Montenegro",
          "Morocco",
          "Mozambique",
          "Namibia",
          "Nepal",
          "Netherlands",
          "New Zealand",
          "Nicaragua",
          "Niger",
          "Nigeria",
          "North Macedonia",
          "Norway",
          "Oman",
          "Pakistan",
          "Panama",
          "Paraguay",
          "Peru",
          "Philippines",
          "Poland",
          "Portugal",
          "Romania",
          "Russian Federation",
          "Rwanda",
          "Saint Vincent and the Grenadines",
          "Sao Tome and Principe",
          "Saudi Arabia",
          "Senegal",
          "Serbia",
          "Sierra Leone",
          "Slovakia",
          "Slovenia",
          "Solomon Islands",
          "South Africa",
          "Spain",
          "Sri Lanka",
          "Sudan",
          "Suriname",
          "Sweden",
          "Switzerland",
          "Thailand",
          "Timor-Leste",
          "Togo",
          "Trinidad and Tobago",
          "Tunisia",
          "Turkey",
          "Uganda",
          "Ukraine",
          "United Arab Emirates",
          "United Kingdom",
          "United Republic of Tanzania",
          "Uruguay",
          "Uzbekistan",
          "Venezuela (Bolivarian Republic of)",
          "Vietnam",
          "Yemen",
          "Zambia",
          "Zimbabwe"
         ],
         "xaxis": "x",
         "y": [
          0.0129212905877517,
          0.23710359408033804,
          0.0327704759113556,
          0.0139905294877314,
          0.37900478215836203,
          0.546718538565629,
          0.0053894540653879,
          0.16450527260489098,
          0.0447269489513257,
          0.0464792796612665,
          0.00418118466898955,
          0.077088,
          1.72664350846722,
          0.261575178997613,
          0.00102383487591121,
          0.22720708329751604,
          0.250594330996647,
          0.20168321104877,
          0.26918116065189895,
          0.17851883932438298,
          0.00248768119408697,
          0.19658273381295002,
          3.22643092211396e-05,
          0.00362809233776976,
          0.0594202898550725,
          0.0006102980387509629,
          3.0448129436638298e-05,
          0.13918776797993698,
          0.0284342152953969,
          0.710056740363921,
          0.000664756446991404,
          0.126119402985075,
          0.0031114262919953897,
          0.100911350455675,
          0.9848917506532291,
          0.09626007891576599,
          0.00293522267206478,
          0.00555555555555556,
          0.196038095238095,
          0.0390668722517275,
          0.00109421346586907,
          0.0577071439592655,
          0.0592036063110443,
          0.0221920289855072,
          0.0394601273974033,
          0,
          0.0742268041237113,
          1.2462919618109,
          0.0169430748543254,
          0.0364915184112536,
          0.274078061911171,
          0.0846986794717887,
          0.00128085476136839,
          0.223691588785047,
          0.0388907339754234,
          0.00812898089171975,
          0.0282304099636741,
          0.114993646759848,
          0.012645794966237,
          0.521157745336577,
          0.33053138118153,
          0.335326086956522,
          0.0534631812013428,
          0.0233238511954486,
          0.0862257872846108,
          0.143056010069226,
          0.5152308614831099,
          0.26279296875,
          0.22224193976383202,
          0.149412602349591,
          0.005098160629371179,
          0.295449012079783,
          0.014467221866325,
          0.0227040053803617,
          0.0027423186110735603,
          0.16022170112982298,
          0.0841977555353352,
          1.38083402375035e-05,
          0.11088328075709801,
          0.49176556776556796,
          0.0387488328664799,
          0.00055357848952155,
          0.161166785969936,
          0.380379746835443,
          0.00128922754685638,
          0.00481965499215891,
          0.0227448827064458,
          0.18373382624768897,
          0.00339242506542887,
          0.277777777777778,
          0.0022150537634408603,
          0.00237154150197628,
          0.0319495743082509,
          0.000416542695626302,
          0.680385852090032,
          0.0732977303070761,
          0.00695950715523327,
          0.0696182605273514,
          0.135944792639019,
          1.31731264670522,
          0.0006617204732303991,
          0.0147665251667677,
          5.7877547645624e-05,
          0.0018123605316775,
          0.266826923076923,
          0.0828290328568777,
          0.277530235518778,
          0.00424730696116593,
          0.49175811347186604,
          0.242343211578222,
          0.154947599317573,
          0.0385021125925115,
          0.223154712260217,
          0.387089224768406,
          0.23304921781612198,
          0.21231897391861398,
          0.00124305126621371,
          0.0027027027027027,
          0.00952380952380952,
          0.0242201991952284,
          0.00745341614906832,
          0.51033491447463,
          0.006242948476870999,
          0.42231783229586206,
          0.33780313837375203,
          0.00041958041958042,
          0.0863772053397733,
          1.65861446415451,
          0.00990108036650408,
          0.0139661109717439,
          0.0107438016528926,
          0.9374771128457171,
          0.31990965948575395,
          0.00022544864279917,
          7.58725341426404e-05,
          0.0057857229133953395,
          0.10993425858290701,
          0.31109616677874896,
          0.0414643467045631,
          0.00787477317942327,
          0.418832878548518,
          0.0740437717324606,
          1.03885199523526,
          0.00051059697994442,
          0.010988388558481998,
          0.00698776847896061,
          0.0216652120788968,
          6.13248240809072e-05,
          0.000405686313954268,
          0.0028285465622280197,
          0.00164166049922627
         ],
         "yaxis": "y"
        }
       ],
       "layout": {
        "barmode": "relative",
        "legend": {
         "tracegroupgap": 0
        },
        "margin": {
         "t": 60
        },
        "template": {
         "data": {
          "bar": [
           {
            "error_x": {
             "color": "#2a3f5f"
            },
            "error_y": {
             "color": "#2a3f5f"
            },
            "marker": {
             "line": {
              "color": "#E5ECF6",
              "width": 0.5
             }
            },
            "type": "bar"
           }
          ],
          "barpolar": [
           {
            "marker": {
             "line": {
              "color": "#E5ECF6",
              "width": 0.5
             }
            },
            "type": "barpolar"
           }
          ],
          "carpet": [
           {
            "aaxis": {
             "endlinecolor": "#2a3f5f",
             "gridcolor": "white",
             "linecolor": "white",
             "minorgridcolor": "white",
             "startlinecolor": "#2a3f5f"
            },
            "baxis": {
             "endlinecolor": "#2a3f5f",
             "gridcolor": "white",
             "linecolor": "white",
             "minorgridcolor": "white",
             "startlinecolor": "#2a3f5f"
            },
            "type": "carpet"
           }
          ],
          "choropleth": [
           {
            "colorbar": {
             "outlinewidth": 0,
             "ticks": ""
            },
            "type": "choropleth"
           }
          ],
          "contour": [
           {
            "colorbar": {
             "outlinewidth": 0,
             "ticks": ""
            },
            "colorscale": [
             [
              0,
              "#0d0887"
             ],
             [
              0.1111111111111111,
              "#46039f"
             ],
             [
              0.2222222222222222,
              "#7201a8"
             ],
             [
              0.3333333333333333,
              "#9c179e"
             ],
             [
              0.4444444444444444,
              "#bd3786"
             ],
             [
              0.5555555555555556,
              "#d8576b"
             ],
             [
              0.6666666666666666,
              "#ed7953"
             ],
             [
              0.7777777777777778,
              "#fb9f3a"
             ],
             [
              0.8888888888888888,
              "#fdca26"
             ],
             [
              1,
              "#f0f921"
             ]
            ],
            "type": "contour"
           }
          ],
          "contourcarpet": [
           {
            "colorbar": {
             "outlinewidth": 0,
             "ticks": ""
            },
            "type": "contourcarpet"
           }
          ],
          "heatmap": [
           {
            "colorbar": {
             "outlinewidth": 0,
             "ticks": ""
            },
            "colorscale": [
             [
              0,
              "#0d0887"
             ],
             [
              0.1111111111111111,
              "#46039f"
             ],
             [
              0.2222222222222222,
              "#7201a8"
             ],
             [
              0.3333333333333333,
              "#9c179e"
             ],
             [
              0.4444444444444444,
              "#bd3786"
             ],
             [
              0.5555555555555556,
              "#d8576b"
             ],
             [
              0.6666666666666666,
              "#ed7953"
             ],
             [
              0.7777777777777778,
              "#fb9f3a"
             ],
             [
              0.8888888888888888,
              "#fdca26"
             ],
             [
              1,
              "#f0f921"
             ]
            ],
            "type": "heatmap"
           }
          ],
          "heatmapgl": [
           {
            "colorbar": {
             "outlinewidth": 0,
             "ticks": ""
            },
            "colorscale": [
             [
              0,
              "#0d0887"
             ],
             [
              0.1111111111111111,
              "#46039f"
             ],
             [
              0.2222222222222222,
              "#7201a8"
             ],
             [
              0.3333333333333333,
              "#9c179e"
             ],
             [
              0.4444444444444444,
              "#bd3786"
             ],
             [
              0.5555555555555556,
              "#d8576b"
             ],
             [
              0.6666666666666666,
              "#ed7953"
             ],
             [
              0.7777777777777778,
              "#fb9f3a"
             ],
             [
              0.8888888888888888,
              "#fdca26"
             ],
             [
              1,
              "#f0f921"
             ]
            ],
            "type": "heatmapgl"
           }
          ],
          "histogram": [
           {
            "marker": {
             "colorbar": {
              "outlinewidth": 0,
              "ticks": ""
             }
            },
            "type": "histogram"
           }
          ],
          "histogram2d": [
           {
            "colorbar": {
             "outlinewidth": 0,
             "ticks": ""
            },
            "colorscale": [
             [
              0,
              "#0d0887"
             ],
             [
              0.1111111111111111,
              "#46039f"
             ],
             [
              0.2222222222222222,
              "#7201a8"
             ],
             [
              0.3333333333333333,
              "#9c179e"
             ],
             [
              0.4444444444444444,
              "#bd3786"
             ],
             [
              0.5555555555555556,
              "#d8576b"
             ],
             [
              0.6666666666666666,
              "#ed7953"
             ],
             [
              0.7777777777777778,
              "#fb9f3a"
             ],
             [
              0.8888888888888888,
              "#fdca26"
             ],
             [
              1,
              "#f0f921"
             ]
            ],
            "type": "histogram2d"
           }
          ],
          "histogram2dcontour": [
           {
            "colorbar": {
             "outlinewidth": 0,
             "ticks": ""
            },
            "colorscale": [
             [
              0,
              "#0d0887"
             ],
             [
              0.1111111111111111,
              "#46039f"
             ],
             [
              0.2222222222222222,
              "#7201a8"
             ],
             [
              0.3333333333333333,
              "#9c179e"
             ],
             [
              0.4444444444444444,
              "#bd3786"
             ],
             [
              0.5555555555555556,
              "#d8576b"
             ],
             [
              0.6666666666666666,
              "#ed7953"
             ],
             [
              0.7777777777777778,
              "#fb9f3a"
             ],
             [
              0.8888888888888888,
              "#fdca26"
             ],
             [
              1,
              "#f0f921"
             ]
            ],
            "type": "histogram2dcontour"
           }
          ],
          "mesh3d": [
           {
            "colorbar": {
             "outlinewidth": 0,
             "ticks": ""
            },
            "type": "mesh3d"
           }
          ],
          "parcoords": [
           {
            "line": {
             "colorbar": {
              "outlinewidth": 0,
              "ticks": ""
             }
            },
            "type": "parcoords"
           }
          ],
          "pie": [
           {
            "automargin": true,
            "type": "pie"
           }
          ],
          "scatter": [
           {
            "marker": {
             "colorbar": {
              "outlinewidth": 0,
              "ticks": ""
             }
            },
            "type": "scatter"
           }
          ],
          "scatter3d": [
           {
            "line": {
             "colorbar": {
              "outlinewidth": 0,
              "ticks": ""
             }
            },
            "marker": {
             "colorbar": {
              "outlinewidth": 0,
              "ticks": ""
             }
            },
            "type": "scatter3d"
           }
          ],
          "scattercarpet": [
           {
            "marker": {
             "colorbar": {
              "outlinewidth": 0,
              "ticks": ""
             }
            },
            "type": "scattercarpet"
           }
          ],
          "scattergeo": [
           {
            "marker": {
             "colorbar": {
              "outlinewidth": 0,
              "ticks": ""
             }
            },
            "type": "scattergeo"
           }
          ],
          "scattergl": [
           {
            "marker": {
             "colorbar": {
              "outlinewidth": 0,
              "ticks": ""
             }
            },
            "type": "scattergl"
           }
          ],
          "scattermapbox": [
           {
            "marker": {
             "colorbar": {
              "outlinewidth": 0,
              "ticks": ""
             }
            },
            "type": "scattermapbox"
           }
          ],
          "scatterpolar": [
           {
            "marker": {
             "colorbar": {
              "outlinewidth": 0,
              "ticks": ""
             }
            },
            "type": "scatterpolar"
           }
          ],
          "scatterpolargl": [
           {
            "marker": {
             "colorbar": {
              "outlinewidth": 0,
              "ticks": ""
             }
            },
            "type": "scatterpolargl"
           }
          ],
          "scatterternary": [
           {
            "marker": {
             "colorbar": {
              "outlinewidth": 0,
              "ticks": ""
             }
            },
            "type": "scatterternary"
           }
          ],
          "surface": [
           {
            "colorbar": {
             "outlinewidth": 0,
             "ticks": ""
            },
            "colorscale": [
             [
              0,
              "#0d0887"
             ],
             [
              0.1111111111111111,
              "#46039f"
             ],
             [
              0.2222222222222222,
              "#7201a8"
             ],
             [
              0.3333333333333333,
              "#9c179e"
             ],
             [
              0.4444444444444444,
              "#bd3786"
             ],
             [
              0.5555555555555556,
              "#d8576b"
             ],
             [
              0.6666666666666666,
              "#ed7953"
             ],
             [
              0.7777777777777778,
              "#fb9f3a"
             ],
             [
              0.8888888888888888,
              "#fdca26"
             ],
             [
              1,
              "#f0f921"
             ]
            ],
            "type": "surface"
           }
          ],
          "table": [
           {
            "cells": {
             "fill": {
              "color": "#EBF0F8"
             },
             "line": {
              "color": "white"
             }
            },
            "header": {
             "fill": {
              "color": "#C8D4E3"
             },
             "line": {
              "color": "white"
             }
            },
            "type": "table"
           }
          ]
         },
         "layout": {
          "annotationdefaults": {
           "arrowcolor": "#2a3f5f",
           "arrowhead": 0,
           "arrowwidth": 1
          },
          "coloraxis": {
           "colorbar": {
            "outlinewidth": 0,
            "ticks": ""
           }
          },
          "colorscale": {
           "diverging": [
            [
             0,
             "#8e0152"
            ],
            [
             0.1,
             "#c51b7d"
            ],
            [
             0.2,
             "#de77ae"
            ],
            [
             0.3,
             "#f1b6da"
            ],
            [
             0.4,
             "#fde0ef"
            ],
            [
             0.5,
             "#f7f7f7"
            ],
            [
             0.6,
             "#e6f5d0"
            ],
            [
             0.7,
             "#b8e186"
            ],
            [
             0.8,
             "#7fbc41"
            ],
            [
             0.9,
             "#4d9221"
            ],
            [
             1,
             "#276419"
            ]
           ],
           "sequential": [
            [
             0,
             "#0d0887"
            ],
            [
             0.1111111111111111,
             "#46039f"
            ],
            [
             0.2222222222222222,
             "#7201a8"
            ],
            [
             0.3333333333333333,
             "#9c179e"
            ],
            [
             0.4444444444444444,
             "#bd3786"
            ],
            [
             0.5555555555555556,
             "#d8576b"
            ],
            [
             0.6666666666666666,
             "#ed7953"
            ],
            [
             0.7777777777777778,
             "#fb9f3a"
            ],
            [
             0.8888888888888888,
             "#fdca26"
            ],
            [
             1,
             "#f0f921"
            ]
           ],
           "sequentialminus": [
            [
             0,
             "#0d0887"
            ],
            [
             0.1111111111111111,
             "#46039f"
            ],
            [
             0.2222222222222222,
             "#7201a8"
            ],
            [
             0.3333333333333333,
             "#9c179e"
            ],
            [
             0.4444444444444444,
             "#bd3786"
            ],
            [
             0.5555555555555556,
             "#d8576b"
            ],
            [
             0.6666666666666666,
             "#ed7953"
            ],
            [
             0.7777777777777778,
             "#fb9f3a"
            ],
            [
             0.8888888888888888,
             "#fdca26"
            ],
            [
             1,
             "#f0f921"
            ]
           ]
          },
          "colorway": [
           "#636efa",
           "#EF553B",
           "#00cc96",
           "#ab63fa",
           "#FFA15A",
           "#19d3f3",
           "#FF6692",
           "#B6E880",
           "#FF97FF",
           "#FECB52"
          ],
          "font": {
           "color": "#2a3f5f"
          },
          "geo": {
           "bgcolor": "white",
           "lakecolor": "white",
           "landcolor": "#E5ECF6",
           "showlakes": true,
           "showland": true,
           "subunitcolor": "white"
          },
          "hoverlabel": {
           "align": "left"
          },
          "hovermode": "closest",
          "mapbox": {
           "style": "light"
          },
          "paper_bgcolor": "white",
          "plot_bgcolor": "#E5ECF6",
          "polar": {
           "angularaxis": {
            "gridcolor": "white",
            "linecolor": "white",
            "ticks": ""
           },
           "bgcolor": "#E5ECF6",
           "radialaxis": {
            "gridcolor": "white",
            "linecolor": "white",
            "ticks": ""
           }
          },
          "scene": {
           "xaxis": {
            "backgroundcolor": "#E5ECF6",
            "gridcolor": "white",
            "gridwidth": 2,
            "linecolor": "white",
            "showbackground": true,
            "ticks": "",
            "zerolinecolor": "white"
           },
           "yaxis": {
            "backgroundcolor": "#E5ECF6",
            "gridcolor": "white",
            "gridwidth": 2,
            "linecolor": "white",
            "showbackground": true,
            "ticks": "",
            "zerolinecolor": "white"
           },
           "zaxis": {
            "backgroundcolor": "#E5ECF6",
            "gridcolor": "white",
            "gridwidth": 2,
            "linecolor": "white",
            "showbackground": true,
            "ticks": "",
            "zerolinecolor": "white"
           }
          },
          "shapedefaults": {
           "line": {
            "color": "#2a3f5f"
           }
          },
          "ternary": {
           "aaxis": {
            "gridcolor": "white",
            "linecolor": "white",
            "ticks": ""
           },
           "baxis": {
            "gridcolor": "white",
            "linecolor": "white",
            "ticks": ""
           },
           "bgcolor": "#E5ECF6",
           "caxis": {
            "gridcolor": "white",
            "linecolor": "white",
            "ticks": ""
           }
          },
          "title": {
           "x": 0.05
          },
          "xaxis": {
           "automargin": true,
           "gridcolor": "white",
           "linecolor": "white",
           "ticks": "",
           "title": {
            "standoff": 15
           },
           "zerolinecolor": "white",
           "zerolinewidth": 2
          },
          "yaxis": {
           "automargin": true,
           "gridcolor": "white",
           "linecolor": "white",
           "ticks": "",
           "title": {
            "standoff": 15
           },
           "zerolinecolor": "white",
           "zerolinewidth": 2
          }
         }
        },
        "xaxis": {
         "anchor": "y",
         "categoryorder": "total descending",
         "domain": [
          0,
          1
         ],
         "title": {
          "text": "Country"
         }
        },
        "yaxis": {
         "anchor": "x",
         "domain": [
          0,
          1
         ],
         "title": {
          "text": "Active"
         }
        }
       }
      },
      "text/html": [
       "<div>                            <div id=\"92358a9a-b396-47fd-8331-91280bbac761\" class=\"plotly-graph-div\" style=\"height:525px; width:100%;\"></div>            <script type=\"text/javascript\">                require([\"plotly\"], function(Plotly) {                    window.PLOTLYENV=window.PLOTLYENV || {};                                    if (document.getElementById(\"92358a9a-b396-47fd-8331-91280bbac761\")) {                    Plotly.newPlot(                        \"92358a9a-b396-47fd-8331-91280bbac761\",                        [{\"alignmentgroup\": \"True\", \"hovertemplate\": \"Country=%{x}<br>Active=%{y}<extra></extra>\", \"legendgroup\": \"\", \"marker\": {\"color\": \"#636efa\"}, \"name\": \"\", \"offsetgroup\": \"\", \"orientation\": \"v\", \"showlegend\": false, \"textposition\": \"auto\", \"type\": \"bar\", \"x\": [\"Afghanistan\", \"Albania\", \"Algeria\", \"Angola\", \"Argentina\", \"Armenia\", \"Australia\", \"Austria\", \"Azerbaijan\", \"Bangladesh\", \"Barbados\", \"Belarus\", \"Belgium\", \"Belize\", \"Benin\", \"Bolivia\", \"Bosnia and Herzegovina\", \"Botswana\", \"Brazil\", \"Bulgaria\", \"Burkina Faso\", \"Cabo Verde\", \"Cambodia\", \"Cameroon\", \"Central African Republic\", \"Chad\", \"China\", \"Colombia\", \"Congo\", \"Costa Rica\", \"Cote d'Ivoire\", \"Croatia\", \"Cuba\", \"Cyprus\", \"Czechia\", \"Denmark\", \"Djibouti\", \"Dominica\", \"Dominican Republic\", \"Ecuador\", \"Egypt\", \"El Salvador\", \"Estonia\", \"Eswatini\", \"Ethiopia\", \"Fiji\", \"Finland\", \"France\", \"Gabon\", \"Gambia\", \"Georgia\", \"Germany\", \"Ghana\", \"Greece\", \"Guatemala\", \"Guinea\", \"Guinea-Bissau\", \"Guyana\", \"Haiti\", \"Honduras\", \"Hungary\", \"Iceland\", \"India\", \"Indonesia\", \"Iran (Islamic Republic of)\", \"Iraq\", \"Ireland\", \"Israel\", \"Italy\", \"Jamaica\", \"Japan\", \"Jordan\", \"Kazakhstan\", \"Kenya\", \"Korea, South\", \"Kuwait\", \"Kyrgyzstan\", \"Lao People's Democratic Republic\", \"Latvia\", \"Lebanon\", \"Lesotho\", \"Liberia\", \"Lithuania\", \"Luxembourg\", \"Madagascar\", \"Malawi\", \"Malaysia\", \"Maldives\", \"Mali\", \"Malta\", \"Mauritania\", \"Mauritius\", \"Mexico\", \"Mongolia\", \"Montenegro\", \"Morocco\", \"Mozambique\", \"Namibia\", \"Nepal\", \"Netherlands\", \"New Zealand\", \"Nicaragua\", \"Niger\", \"Nigeria\", \"North Macedonia\", \"Norway\", \"Oman\", \"Pakistan\", \"Panama\", \"Paraguay\", \"Peru\", \"Philippines\", \"Poland\", \"Portugal\", \"Romania\", \"Russian Federation\", \"Rwanda\", \"Saint Vincent and the Grenadines\", \"Sao Tome and Principe\", \"Saudi Arabia\", \"Senegal\", \"Serbia\", \"Sierra Leone\", \"Slovakia\", \"Slovenia\", \"Solomon Islands\", \"South Africa\", \"Spain\", \"Sri Lanka\", \"Sudan\", \"Suriname\", \"Sweden\", \"Switzerland\", \"Thailand\", \"Timor-Leste\", \"Togo\", \"Trinidad and Tobago\", \"Tunisia\", \"Turkey\", \"Uganda\", \"Ukraine\", \"United Arab Emirates\", \"United Kingdom\", \"United Republic of Tanzania\", \"Uruguay\", \"Uzbekistan\", \"Venezuela (Bolivarian Republic of)\", \"Vietnam\", \"Yemen\", \"Zambia\", \"Zimbabwe\"], \"xaxis\": \"x\", \"y\": [0.0129212905877517, 0.23710359408033804, 0.0327704759113556, 0.0139905294877314, 0.37900478215836203, 0.546718538565629, 0.0053894540653879, 0.16450527260489098, 0.0447269489513257, 0.0464792796612665, 0.00418118466898955, 0.077088, 1.72664350846722, 0.261575178997613, 0.00102383487591121, 0.22720708329751604, 0.250594330996647, 0.20168321104877, 0.26918116065189895, 0.17851883932438298, 0.00248768119408697, 0.19658273381295002, 3.22643092211396e-05, 0.00362809233776976, 0.0594202898550725, 0.0006102980387509629, 3.0448129436638298e-05, 0.13918776797993698, 0.0284342152953969, 0.710056740363921, 0.000664756446991404, 0.126119402985075, 0.0031114262919953897, 0.100911350455675, 0.9848917506532291, 0.09626007891576599, 0.00293522267206478, 0.00555555555555556, 0.196038095238095, 0.0390668722517275, 0.00109421346586907, 0.0577071439592655, 0.0592036063110443, 0.0221920289855072, 0.0394601273974033, 0.0, 0.0742268041237113, 1.2462919618109, 0.0169430748543254, 0.0364915184112536, 0.274078061911171, 0.0846986794717887, 0.00128085476136839, 0.223691588785047, 0.0388907339754234, 0.00812898089171975, 0.0282304099636741, 0.114993646759848, 0.012645794966237, 0.521157745336577, 0.33053138118153, 0.335326086956522, 0.0534631812013428, 0.0233238511954486, 0.0862257872846108, 0.143056010069226, 0.5152308614831099, 0.26279296875, 0.22224193976383202, 0.149412602349591, 0.005098160629371179, 0.295449012079783, 0.014467221866325, 0.0227040053803617, 0.0027423186110735603, 0.16022170112982298, 0.0841977555353352, 1.38083402375035e-05, 0.11088328075709801, 0.49176556776556796, 0.0387488328664799, 0.00055357848952155, 0.161166785969936, 0.380379746835443, 0.00128922754685638, 0.00481965499215891, 0.0227448827064458, 0.18373382624768897, 0.00339242506542887, 0.277777777777778, 0.0022150537634408603, 0.00237154150197628, 0.0319495743082509, 0.000416542695626302, 0.680385852090032, 0.0732977303070761, 0.00695950715523327, 0.0696182605273514, 0.135944792639019, 1.31731264670522, 0.0006617204732303991, 0.0147665251667677, 5.7877547645624e-05, 0.0018123605316775, 0.266826923076923, 0.0828290328568777, 0.277530235518778, 0.00424730696116593, 0.49175811347186604, 0.242343211578222, 0.154947599317573, 0.0385021125925115, 0.223154712260217, 0.387089224768406, 0.23304921781612198, 0.21231897391861398, 0.00124305126621371, 0.0027027027027027, 0.00952380952380952, 0.0242201991952284, 0.00745341614906832, 0.51033491447463, 0.006242948476870999, 0.42231783229586206, 0.33780313837375203, 0.00041958041958042, 0.0863772053397733, 1.65861446415451, 0.00990108036650408, 0.0139661109717439, 0.0107438016528926, 0.9374771128457171, 0.31990965948575395, 0.00022544864279917, 7.58725341426404e-05, 0.0057857229133953395, 0.10993425858290701, 0.31109616677874896, 0.0414643467045631, 0.00787477317942327, 0.418832878548518, 0.0740437717324606, 1.03885199523526, 0.00051059697994442, 0.010988388558481998, 0.00698776847896061, 0.0216652120788968, 6.13248240809072e-05, 0.000405686313954268, 0.0028285465622280197, 0.00164166049922627], \"yaxis\": \"y\"}],                        {\"barmode\": \"relative\", \"legend\": {\"tracegroupgap\": 0}, \"margin\": {\"t\": 60}, \"template\": {\"data\": {\"bar\": [{\"error_x\": {\"color\": \"#2a3f5f\"}, \"error_y\": {\"color\": \"#2a3f5f\"}, \"marker\": {\"line\": {\"color\": \"#E5ECF6\", \"width\": 0.5}}, \"type\": \"bar\"}], \"barpolar\": [{\"marker\": {\"line\": {\"color\": \"#E5ECF6\", \"width\": 0.5}}, \"type\": \"barpolar\"}], \"carpet\": [{\"aaxis\": {\"endlinecolor\": \"#2a3f5f\", \"gridcolor\": \"white\", \"linecolor\": \"white\", \"minorgridcolor\": \"white\", \"startlinecolor\": \"#2a3f5f\"}, \"baxis\": {\"endlinecolor\": \"#2a3f5f\", \"gridcolor\": \"white\", \"linecolor\": \"white\", \"minorgridcolor\": \"white\", \"startlinecolor\": \"#2a3f5f\"}, \"type\": \"carpet\"}], \"choropleth\": [{\"colorbar\": {\"outlinewidth\": 0, \"ticks\": \"\"}, \"type\": \"choropleth\"}], \"contour\": [{\"colorbar\": {\"outlinewidth\": 0, \"ticks\": \"\"}, \"colorscale\": [[0.0, \"#0d0887\"], [0.1111111111111111, \"#46039f\"], [0.2222222222222222, \"#7201a8\"], [0.3333333333333333, \"#9c179e\"], [0.4444444444444444, \"#bd3786\"], [0.5555555555555556, \"#d8576b\"], [0.6666666666666666, \"#ed7953\"], [0.7777777777777778, \"#fb9f3a\"], [0.8888888888888888, \"#fdca26\"], [1.0, \"#f0f921\"]], \"type\": \"contour\"}], \"contourcarpet\": [{\"colorbar\": {\"outlinewidth\": 0, \"ticks\": \"\"}, \"type\": \"contourcarpet\"}], \"heatmap\": [{\"colorbar\": {\"outlinewidth\": 0, \"ticks\": \"\"}, \"colorscale\": [[0.0, \"#0d0887\"], [0.1111111111111111, \"#46039f\"], [0.2222222222222222, \"#7201a8\"], [0.3333333333333333, \"#9c179e\"], [0.4444444444444444, \"#bd3786\"], [0.5555555555555556, \"#d8576b\"], [0.6666666666666666, \"#ed7953\"], [0.7777777777777778, \"#fb9f3a\"], [0.8888888888888888, \"#fdca26\"], [1.0, \"#f0f921\"]], \"type\": \"heatmap\"}], \"heatmapgl\": [{\"colorbar\": {\"outlinewidth\": 0, \"ticks\": \"\"}, \"colorscale\": [[0.0, \"#0d0887\"], [0.1111111111111111, \"#46039f\"], [0.2222222222222222, \"#7201a8\"], [0.3333333333333333, \"#9c179e\"], [0.4444444444444444, \"#bd3786\"], [0.5555555555555556, \"#d8576b\"], [0.6666666666666666, \"#ed7953\"], [0.7777777777777778, \"#fb9f3a\"], [0.8888888888888888, \"#fdca26\"], [1.0, \"#f0f921\"]], \"type\": \"heatmapgl\"}], \"histogram\": [{\"marker\": {\"colorbar\": {\"outlinewidth\": 0, \"ticks\": \"\"}}, \"type\": \"histogram\"}], \"histogram2d\": [{\"colorbar\": {\"outlinewidth\": 0, \"ticks\": \"\"}, \"colorscale\": [[0.0, \"#0d0887\"], [0.1111111111111111, \"#46039f\"], [0.2222222222222222, \"#7201a8\"], [0.3333333333333333, \"#9c179e\"], [0.4444444444444444, \"#bd3786\"], [0.5555555555555556, \"#d8576b\"], [0.6666666666666666, \"#ed7953\"], [0.7777777777777778, \"#fb9f3a\"], [0.8888888888888888, \"#fdca26\"], [1.0, \"#f0f921\"]], \"type\": \"histogram2d\"}], \"histogram2dcontour\": [{\"colorbar\": {\"outlinewidth\": 0, \"ticks\": \"\"}, \"colorscale\": [[0.0, \"#0d0887\"], [0.1111111111111111, \"#46039f\"], [0.2222222222222222, \"#7201a8\"], [0.3333333333333333, \"#9c179e\"], [0.4444444444444444, \"#bd3786\"], [0.5555555555555556, \"#d8576b\"], [0.6666666666666666, \"#ed7953\"], [0.7777777777777778, \"#fb9f3a\"], [0.8888888888888888, \"#fdca26\"], [1.0, \"#f0f921\"]], \"type\": \"histogram2dcontour\"}], \"mesh3d\": [{\"colorbar\": {\"outlinewidth\": 0, \"ticks\": \"\"}, \"type\": \"mesh3d\"}], \"parcoords\": [{\"line\": {\"colorbar\": {\"outlinewidth\": 0, \"ticks\": \"\"}}, \"type\": \"parcoords\"}], \"pie\": [{\"automargin\": true, \"type\": \"pie\"}], \"scatter\": [{\"marker\": {\"colorbar\": {\"outlinewidth\": 0, \"ticks\": \"\"}}, \"type\": \"scatter\"}], \"scatter3d\": [{\"line\": {\"colorbar\": {\"outlinewidth\": 0, \"ticks\": \"\"}}, \"marker\": {\"colorbar\": {\"outlinewidth\": 0, \"ticks\": \"\"}}, \"type\": \"scatter3d\"}], \"scattercarpet\": [{\"marker\": {\"colorbar\": {\"outlinewidth\": 0, \"ticks\": \"\"}}, \"type\": \"scattercarpet\"}], \"scattergeo\": [{\"marker\": {\"colorbar\": {\"outlinewidth\": 0, \"ticks\": \"\"}}, \"type\": \"scattergeo\"}], \"scattergl\": [{\"marker\": {\"colorbar\": {\"outlinewidth\": 0, \"ticks\": \"\"}}, \"type\": \"scattergl\"}], \"scattermapbox\": [{\"marker\": {\"colorbar\": {\"outlinewidth\": 0, \"ticks\": \"\"}}, \"type\": \"scattermapbox\"}], \"scatterpolar\": [{\"marker\": {\"colorbar\": {\"outlinewidth\": 0, \"ticks\": \"\"}}, \"type\": \"scatterpolar\"}], \"scatterpolargl\": [{\"marker\": {\"colorbar\": {\"outlinewidth\": 0, \"ticks\": \"\"}}, \"type\": \"scatterpolargl\"}], \"scatterternary\": [{\"marker\": {\"colorbar\": {\"outlinewidth\": 0, \"ticks\": \"\"}}, \"type\": \"scatterternary\"}], \"surface\": [{\"colorbar\": {\"outlinewidth\": 0, \"ticks\": \"\"}, \"colorscale\": [[0.0, \"#0d0887\"], [0.1111111111111111, \"#46039f\"], [0.2222222222222222, \"#7201a8\"], [0.3333333333333333, \"#9c179e\"], [0.4444444444444444, \"#bd3786\"], [0.5555555555555556, \"#d8576b\"], [0.6666666666666666, \"#ed7953\"], [0.7777777777777778, \"#fb9f3a\"], [0.8888888888888888, \"#fdca26\"], [1.0, \"#f0f921\"]], \"type\": \"surface\"}], \"table\": [{\"cells\": {\"fill\": {\"color\": \"#EBF0F8\"}, \"line\": {\"color\": \"white\"}}, \"header\": {\"fill\": {\"color\": \"#C8D4E3\"}, \"line\": {\"color\": \"white\"}}, \"type\": \"table\"}]}, \"layout\": {\"annotationdefaults\": {\"arrowcolor\": \"#2a3f5f\", \"arrowhead\": 0, \"arrowwidth\": 1}, \"coloraxis\": {\"colorbar\": {\"outlinewidth\": 0, \"ticks\": \"\"}}, \"colorscale\": {\"diverging\": [[0, \"#8e0152\"], [0.1, \"#c51b7d\"], [0.2, \"#de77ae\"], [0.3, \"#f1b6da\"], [0.4, \"#fde0ef\"], [0.5, \"#f7f7f7\"], [0.6, \"#e6f5d0\"], [0.7, \"#b8e186\"], [0.8, \"#7fbc41\"], [0.9, \"#4d9221\"], [1, \"#276419\"]], \"sequential\": [[0.0, \"#0d0887\"], [0.1111111111111111, \"#46039f\"], [0.2222222222222222, \"#7201a8\"], [0.3333333333333333, \"#9c179e\"], [0.4444444444444444, \"#bd3786\"], [0.5555555555555556, \"#d8576b\"], [0.6666666666666666, \"#ed7953\"], [0.7777777777777778, \"#fb9f3a\"], [0.8888888888888888, \"#fdca26\"], [1.0, \"#f0f921\"]], \"sequentialminus\": [[0.0, \"#0d0887\"], [0.1111111111111111, \"#46039f\"], [0.2222222222222222, \"#7201a8\"], [0.3333333333333333, \"#9c179e\"], [0.4444444444444444, \"#bd3786\"], [0.5555555555555556, \"#d8576b\"], [0.6666666666666666, \"#ed7953\"], [0.7777777777777778, \"#fb9f3a\"], [0.8888888888888888, \"#fdca26\"], [1.0, \"#f0f921\"]]}, \"colorway\": [\"#636efa\", \"#EF553B\", \"#00cc96\", \"#ab63fa\", \"#FFA15A\", \"#19d3f3\", \"#FF6692\", \"#B6E880\", \"#FF97FF\", \"#FECB52\"], \"font\": {\"color\": \"#2a3f5f\"}, \"geo\": {\"bgcolor\": \"white\", \"lakecolor\": \"white\", \"landcolor\": \"#E5ECF6\", \"showlakes\": true, \"showland\": true, \"subunitcolor\": \"white\"}, \"hoverlabel\": {\"align\": \"left\"}, \"hovermode\": \"closest\", \"mapbox\": {\"style\": \"light\"}, \"paper_bgcolor\": \"white\", \"plot_bgcolor\": \"#E5ECF6\", \"polar\": {\"angularaxis\": {\"gridcolor\": \"white\", \"linecolor\": \"white\", \"ticks\": \"\"}, \"bgcolor\": \"#E5ECF6\", \"radialaxis\": {\"gridcolor\": \"white\", \"linecolor\": \"white\", \"ticks\": \"\"}}, \"scene\": {\"xaxis\": {\"backgroundcolor\": \"#E5ECF6\", \"gridcolor\": \"white\", \"gridwidth\": 2, \"linecolor\": \"white\", \"showbackground\": true, \"ticks\": \"\", \"zerolinecolor\": \"white\"}, \"yaxis\": {\"backgroundcolor\": \"#E5ECF6\", \"gridcolor\": \"white\", \"gridwidth\": 2, \"linecolor\": \"white\", \"showbackground\": true, \"ticks\": \"\", \"zerolinecolor\": \"white\"}, \"zaxis\": {\"backgroundcolor\": \"#E5ECF6\", \"gridcolor\": \"white\", \"gridwidth\": 2, \"linecolor\": \"white\", \"showbackground\": true, \"ticks\": \"\", \"zerolinecolor\": \"white\"}}, \"shapedefaults\": {\"line\": {\"color\": \"#2a3f5f\"}}, \"ternary\": {\"aaxis\": {\"gridcolor\": \"white\", \"linecolor\": \"white\", \"ticks\": \"\"}, \"baxis\": {\"gridcolor\": \"white\", \"linecolor\": \"white\", \"ticks\": \"\"}, \"bgcolor\": \"#E5ECF6\", \"caxis\": {\"gridcolor\": \"white\", \"linecolor\": \"white\", \"ticks\": \"\"}}, \"title\": {\"x\": 0.05}, \"xaxis\": {\"automargin\": true, \"gridcolor\": \"white\", \"linecolor\": \"white\", \"ticks\": \"\", \"title\": {\"standoff\": 15}, \"zerolinecolor\": \"white\", \"zerolinewidth\": 2}, \"yaxis\": {\"automargin\": true, \"gridcolor\": \"white\", \"linecolor\": \"white\", \"ticks\": \"\", \"title\": {\"standoff\": 15}, \"zerolinecolor\": \"white\", \"zerolinewidth\": 2}}}, \"xaxis\": {\"anchor\": \"y\", \"categoryorder\": \"total descending\", \"domain\": [0.0, 1.0], \"title\": {\"text\": \"Country\"}}, \"yaxis\": {\"anchor\": \"x\", \"domain\": [0.0, 1.0], \"title\": {\"text\": \"Active\"}}},                        {\"responsive\": true}                    ).then(function(){\n",
       "                            \n",
       "var gd = document.getElementById('92358a9a-b396-47fd-8331-91280bbac761');\n",
       "var x = new MutationObserver(function (mutations, observer) {{\n",
       "        var display = window.getComputedStyle(gd).display;\n",
       "        if (!display || display === 'none') {{\n",
       "            console.log([gd, 'removed!']);\n",
       "            Plotly.purge(gd);\n",
       "            observer.disconnect();\n",
       "        }}\n",
       "}});\n",
       "\n",
       "// Listen for the removal of the full notebook cells\n",
       "var notebookContainer = gd.closest('#notebook-container');\n",
       "if (notebookContainer) {{\n",
       "    x.observe(notebookContainer, {childList: true});\n",
       "}}\n",
       "\n",
       "// Listen for the clearing of the current output cell\n",
       "var outputEl = gd.closest('.output');\n",
       "if (outputEl) {{\n",
       "    x.observe(outputEl, {childList: true});\n",
       "}}\n",
       "\n",
       "                        })                };                });            </script>        </div>"
      ]
     },
     "metadata": {},
     "output_type": "display_data"
    }
   ],
   "source": [
    "# Distributions\n",
    "fig = px.bar(kg_df, x = \"Country\", y =\"Active\").update_xaxes(categoryorder=\"total descending\")\n",
    "fig.show()"
   ]
  },
  {
   "cell_type": "code",
   "execution_count": 1035,
   "metadata": {
    "execution": {
     "iopub.execute_input": "2020-10-22T17:40:08.979117Z",
     "iopub.status.busy": "2020-10-22T17:40:08.976058Z",
     "iopub.status.idle": "2020-10-22T17:40:09.038879Z",
     "shell.execute_reply": "2020-10-22T17:40:09.039793Z"
    },
    "papermill": {
     "duration": 0.24157,
     "end_time": "2020-10-22T17:40:09.040016",
     "exception": false,
     "start_time": "2020-10-22T17:40:08.798446",
     "status": "completed"
    },
    "tags": []
   },
   "outputs": [
    {
     "data": {
      "application/vnd.plotly.v1+json": {
       "config": {
        "plotlyServerURL": "https://plot.ly"
       },
       "data": [
        {
         "alignmentgroup": "True",
         "hovertemplate": "Country=%{x}<br>Mortality=%{y}<extra></extra>",
         "legendgroup": "",
         "marker": {
          "color": "#636efa"
         },
         "name": "",
         "offsetgroup": "",
         "orientation": "v",
         "showlegend": false,
         "textposition": "auto",
         "type": "bar",
         "x": [
          "Afghanistan",
          "Albania",
          "Algeria",
          "Angola",
          "Argentina",
          "Armenia",
          "Australia",
          "Austria",
          "Azerbaijan",
          "Bangladesh",
          "Barbados",
          "Belarus",
          "Belgium",
          "Belize",
          "Benin",
          "Bolivia",
          "Bosnia and Herzegovina",
          "Botswana",
          "Brazil",
          "Bulgaria",
          "Burkina Faso",
          "Cabo Verde",
          "Cambodia",
          "Cameroon",
          "Central African Republic",
          "Chad",
          "China",
          "Colombia",
          "Congo",
          "Costa Rica",
          "Cote d'Ivoire",
          "Croatia",
          "Cuba",
          "Cyprus",
          "Czechia",
          "Denmark",
          "Djibouti",
          "Dominica",
          "Dominican Republic",
          "Ecuador",
          "Egypt",
          "El Salvador",
          "Estonia",
          "Eswatini",
          "Ethiopia",
          "Fiji",
          "Finland",
          "France",
          "Gabon",
          "Gambia",
          "Georgia",
          "Germany",
          "Ghana",
          "Greece",
          "Guatemala",
          "Guinea",
          "Guinea-Bissau",
          "Guyana",
          "Haiti",
          "Honduras",
          "Hungary",
          "Iceland",
          "India",
          "Indonesia",
          "Iran (Islamic Republic of)",
          "Iraq",
          "Ireland",
          "Israel",
          "Italy",
          "Jamaica",
          "Japan",
          "Jordan",
          "Kazakhstan",
          "Kenya",
          "Korea, South",
          "Kuwait",
          "Kyrgyzstan",
          "Lao People's Democratic Republic",
          "Latvia",
          "Lebanon",
          "Lesotho",
          "Liberia",
          "Lithuania",
          "Luxembourg",
          "Madagascar",
          "Malawi",
          "Malaysia",
          "Maldives",
          "Mali",
          "Malta",
          "Mauritania",
          "Mauritius",
          "Mexico",
          "Mongolia",
          "Montenegro",
          "Morocco",
          "Mozambique",
          "Namibia",
          "Nepal",
          "Netherlands",
          "New Zealand",
          "Nicaragua",
          "Niger",
          "Nigeria",
          "North Macedonia",
          "Norway",
          "Oman",
          "Pakistan",
          "Panama",
          "Paraguay",
          "Peru",
          "Philippines",
          "Poland",
          "Portugal",
          "Romania",
          "Russian Federation",
          "Rwanda",
          "Saint Vincent and the Grenadines",
          "Sao Tome and Principe",
          "Saudi Arabia",
          "Senegal",
          "Serbia",
          "Sierra Leone",
          "Slovakia",
          "Slovenia",
          "Solomon Islands",
          "South Africa",
          "Spain",
          "Sri Lanka",
          "Sudan",
          "Suriname",
          "Sweden",
          "Switzerland",
          "Thailand",
          "Timor-Leste",
          "Togo",
          "Trinidad and Tobago",
          "Tunisia",
          "Turkey",
          "Uganda",
          "Ukraine",
          "United Arab Emirates",
          "United Kingdom",
          "United Republic of Tanzania",
          "Uruguay",
          "Uzbekistan",
          "Venezuela (Bolivarian Republic of)",
          "Vietnam",
          "Yemen",
          "Zambia",
          "Zimbabwe"
         ],
         "xaxis": "x",
         "y": [
          0.03715838856206697,
          0.026167146974063443,
          0.034147502563351556,
          0.03167709796908935,
          0.026645070821473275,
          0.016666666666666653,
          0.03302317095420557,
          0.013712136150590788,
          0.013908819958052779,
          0.014558976540596517,
          0.03153153153153151,
          0.01056744818212708,
          0.0453097882679626,
          0.015884221673137997,
          0.01642628205128206,
          0.060776324254771384,
          0.02876431724416482,
          0.003743982884649671,
          0.02936279109540446,
          0.0330199495528548,
          0.02723083368244655,
          0.011153846153846136,
          0,
          0.019715428252580658,
          0.01276771004942331,
          0.06690647482014393,
          0.052073489660022516,
          0.030129943274703086,
          0.024370681145113548,
          0.012402781354622725,
          0.005953552450305064,
          0.014399568782966936,
          0.02029402364972836,
          0.009304056568663933,
          0.00831492289598928,
          0.01887467327005085,
          0.011153775827390754,
          0,
          0.01810679970739813,
          0.08078971210313968,
          0.05807839161700478,
          0.02924272089938742,
          0.016646266829865336,
          0.020041465100207323,
          0.015190296016024962,
          0.0625000000000001,
          0.025894503873109573,
          0.03532122611799292,
          0.006078343088698788,
          0.0323376267470539,
          0.007662219364518032,
          0.02610139285221773,
          0.0065439500126657025,
          0.020153476474691873,
          0.0348527052431618,
          0.006077444000694559,
          0.017062005826050785,
          0.029482071713147314,
          0.025735294117646995,
          0.02882044282341889,
          0.024556188243175268,
          0.0026822726164350253,
          0.015163359840506789,
          0.034544409155623595,
          0.05744522857821567,
          0.023955251951574108,
          0.03631871041123304,
          0.007422689880476014,
          0.08644452733616957,
          0.02079077034010332,
          0.017942788626241893,
          0.009759354855279026,
          0.016128002335276354,
          0.018613009140118864,
          0.017644969012750172,
          0.006077102163790727,
          0.021151429768114783,
          0,
          0.012593016599885523,
          0.008356634468734117,
          0.02291325695581013,
          0.0593772628530052,
          0.014625938389852447,
          0.012261580381471375,
          0.014158239143367052,
          0.03088737201365189,
          0.008893881945419646,
          0.0032941595441595434,
          0.038743762841209235,
          0.009499683343888536,
          0.02138826925600308,
          0.023866348448687336,
          0.10098885751515331,
          0,
          0.015228426395939096,
          0.01693324001843539,
          0.006768953068592062,
          0.010627940937854925,
          0.005564703460848605,
          0.028189598583088737,
          0.013248542660307344,
          0.028768914627311785,
          0.05697770437654827,
          0.018275447545404357,
          0.035564149991592256,
          0.016743961934590153,
          0.010072879179702338,
          0.02059351796416435,
          0.020562225896901286,
          0.021766572891870447,
          0.038862635623219365,
          0.018584566039942182,
          0.019721906923950056,
          0.021578637345375993,
          0.03243571373882984,
          0.01720734189399478,
          0.006810897435897429,
          0,
          0.01607717041800644,
          0.015181722385524147,
          0.02067133229652669,
          0.021443139848961013,
          0.03131703131703126,
          0.0029972308193516777,
          0.013889904232765555,
          0,
          0.02622034047307767,
          0.034883303282162596,
          0.002311111111111108,
          0.06091518507723691,
          0.02123514513929471,
          0.05734496124031006,
          0.02570978486994796,
          0.01594594594594597,
          0,
          0.024625784645099,
          0.018308795771989444,
          0.016078826035059807,
          0.02681113186979831,
          0.00907305209989712,
          0.0186815333331199,
          0.003999416394174248,
          0.058882817602490166,
          0.041257367387033436,
          0.01992187499999995,
          0.008359176991011111,
          0.008495313726395497,
          0.030701754385965015,
          0.2903696498054473,
          0.02176511291438636,
          0.028434857212893655
         ],
         "yaxis": "y"
        }
       ],
       "layout": {
        "barmode": "relative",
        "legend": {
         "tracegroupgap": 0
        },
        "margin": {
         "t": 60
        },
        "template": {
         "data": {
          "bar": [
           {
            "error_x": {
             "color": "#2a3f5f"
            },
            "error_y": {
             "color": "#2a3f5f"
            },
            "marker": {
             "line": {
              "color": "#E5ECF6",
              "width": 0.5
             }
            },
            "type": "bar"
           }
          ],
          "barpolar": [
           {
            "marker": {
             "line": {
              "color": "#E5ECF6",
              "width": 0.5
             }
            },
            "type": "barpolar"
           }
          ],
          "carpet": [
           {
            "aaxis": {
             "endlinecolor": "#2a3f5f",
             "gridcolor": "white",
             "linecolor": "white",
             "minorgridcolor": "white",
             "startlinecolor": "#2a3f5f"
            },
            "baxis": {
             "endlinecolor": "#2a3f5f",
             "gridcolor": "white",
             "linecolor": "white",
             "minorgridcolor": "white",
             "startlinecolor": "#2a3f5f"
            },
            "type": "carpet"
           }
          ],
          "choropleth": [
           {
            "colorbar": {
             "outlinewidth": 0,
             "ticks": ""
            },
            "type": "choropleth"
           }
          ],
          "contour": [
           {
            "colorbar": {
             "outlinewidth": 0,
             "ticks": ""
            },
            "colorscale": [
             [
              0,
              "#0d0887"
             ],
             [
              0.1111111111111111,
              "#46039f"
             ],
             [
              0.2222222222222222,
              "#7201a8"
             ],
             [
              0.3333333333333333,
              "#9c179e"
             ],
             [
              0.4444444444444444,
              "#bd3786"
             ],
             [
              0.5555555555555556,
              "#d8576b"
             ],
             [
              0.6666666666666666,
              "#ed7953"
             ],
             [
              0.7777777777777778,
              "#fb9f3a"
             ],
             [
              0.8888888888888888,
              "#fdca26"
             ],
             [
              1,
              "#f0f921"
             ]
            ],
            "type": "contour"
           }
          ],
          "contourcarpet": [
           {
            "colorbar": {
             "outlinewidth": 0,
             "ticks": ""
            },
            "type": "contourcarpet"
           }
          ],
          "heatmap": [
           {
            "colorbar": {
             "outlinewidth": 0,
             "ticks": ""
            },
            "colorscale": [
             [
              0,
              "#0d0887"
             ],
             [
              0.1111111111111111,
              "#46039f"
             ],
             [
              0.2222222222222222,
              "#7201a8"
             ],
             [
              0.3333333333333333,
              "#9c179e"
             ],
             [
              0.4444444444444444,
              "#bd3786"
             ],
             [
              0.5555555555555556,
              "#d8576b"
             ],
             [
              0.6666666666666666,
              "#ed7953"
             ],
             [
              0.7777777777777778,
              "#fb9f3a"
             ],
             [
              0.8888888888888888,
              "#fdca26"
             ],
             [
              1,
              "#f0f921"
             ]
            ],
            "type": "heatmap"
           }
          ],
          "heatmapgl": [
           {
            "colorbar": {
             "outlinewidth": 0,
             "ticks": ""
            },
            "colorscale": [
             [
              0,
              "#0d0887"
             ],
             [
              0.1111111111111111,
              "#46039f"
             ],
             [
              0.2222222222222222,
              "#7201a8"
             ],
             [
              0.3333333333333333,
              "#9c179e"
             ],
             [
              0.4444444444444444,
              "#bd3786"
             ],
             [
              0.5555555555555556,
              "#d8576b"
             ],
             [
              0.6666666666666666,
              "#ed7953"
             ],
             [
              0.7777777777777778,
              "#fb9f3a"
             ],
             [
              0.8888888888888888,
              "#fdca26"
             ],
             [
              1,
              "#f0f921"
             ]
            ],
            "type": "heatmapgl"
           }
          ],
          "histogram": [
           {
            "marker": {
             "colorbar": {
              "outlinewidth": 0,
              "ticks": ""
             }
            },
            "type": "histogram"
           }
          ],
          "histogram2d": [
           {
            "colorbar": {
             "outlinewidth": 0,
             "ticks": ""
            },
            "colorscale": [
             [
              0,
              "#0d0887"
             ],
             [
              0.1111111111111111,
              "#46039f"
             ],
             [
              0.2222222222222222,
              "#7201a8"
             ],
             [
              0.3333333333333333,
              "#9c179e"
             ],
             [
              0.4444444444444444,
              "#bd3786"
             ],
             [
              0.5555555555555556,
              "#d8576b"
             ],
             [
              0.6666666666666666,
              "#ed7953"
             ],
             [
              0.7777777777777778,
              "#fb9f3a"
             ],
             [
              0.8888888888888888,
              "#fdca26"
             ],
             [
              1,
              "#f0f921"
             ]
            ],
            "type": "histogram2d"
           }
          ],
          "histogram2dcontour": [
           {
            "colorbar": {
             "outlinewidth": 0,
             "ticks": ""
            },
            "colorscale": [
             [
              0,
              "#0d0887"
             ],
             [
              0.1111111111111111,
              "#46039f"
             ],
             [
              0.2222222222222222,
              "#7201a8"
             ],
             [
              0.3333333333333333,
              "#9c179e"
             ],
             [
              0.4444444444444444,
              "#bd3786"
             ],
             [
              0.5555555555555556,
              "#d8576b"
             ],
             [
              0.6666666666666666,
              "#ed7953"
             ],
             [
              0.7777777777777778,
              "#fb9f3a"
             ],
             [
              0.8888888888888888,
              "#fdca26"
             ],
             [
              1,
              "#f0f921"
             ]
            ],
            "type": "histogram2dcontour"
           }
          ],
          "mesh3d": [
           {
            "colorbar": {
             "outlinewidth": 0,
             "ticks": ""
            },
            "type": "mesh3d"
           }
          ],
          "parcoords": [
           {
            "line": {
             "colorbar": {
              "outlinewidth": 0,
              "ticks": ""
             }
            },
            "type": "parcoords"
           }
          ],
          "pie": [
           {
            "automargin": true,
            "type": "pie"
           }
          ],
          "scatter": [
           {
            "marker": {
             "colorbar": {
              "outlinewidth": 0,
              "ticks": ""
             }
            },
            "type": "scatter"
           }
          ],
          "scatter3d": [
           {
            "line": {
             "colorbar": {
              "outlinewidth": 0,
              "ticks": ""
             }
            },
            "marker": {
             "colorbar": {
              "outlinewidth": 0,
              "ticks": ""
             }
            },
            "type": "scatter3d"
           }
          ],
          "scattercarpet": [
           {
            "marker": {
             "colorbar": {
              "outlinewidth": 0,
              "ticks": ""
             }
            },
            "type": "scattercarpet"
           }
          ],
          "scattergeo": [
           {
            "marker": {
             "colorbar": {
              "outlinewidth": 0,
              "ticks": ""
             }
            },
            "type": "scattergeo"
           }
          ],
          "scattergl": [
           {
            "marker": {
             "colorbar": {
              "outlinewidth": 0,
              "ticks": ""
             }
            },
            "type": "scattergl"
           }
          ],
          "scattermapbox": [
           {
            "marker": {
             "colorbar": {
              "outlinewidth": 0,
              "ticks": ""
             }
            },
            "type": "scattermapbox"
           }
          ],
          "scatterpolar": [
           {
            "marker": {
             "colorbar": {
              "outlinewidth": 0,
              "ticks": ""
             }
            },
            "type": "scatterpolar"
           }
          ],
          "scatterpolargl": [
           {
            "marker": {
             "colorbar": {
              "outlinewidth": 0,
              "ticks": ""
             }
            },
            "type": "scatterpolargl"
           }
          ],
          "scatterternary": [
           {
            "marker": {
             "colorbar": {
              "outlinewidth": 0,
              "ticks": ""
             }
            },
            "type": "scatterternary"
           }
          ],
          "surface": [
           {
            "colorbar": {
             "outlinewidth": 0,
             "ticks": ""
            },
            "colorscale": [
             [
              0,
              "#0d0887"
             ],
             [
              0.1111111111111111,
              "#46039f"
             ],
             [
              0.2222222222222222,
              "#7201a8"
             ],
             [
              0.3333333333333333,
              "#9c179e"
             ],
             [
              0.4444444444444444,
              "#bd3786"
             ],
             [
              0.5555555555555556,
              "#d8576b"
             ],
             [
              0.6666666666666666,
              "#ed7953"
             ],
             [
              0.7777777777777778,
              "#fb9f3a"
             ],
             [
              0.8888888888888888,
              "#fdca26"
             ],
             [
              1,
              "#f0f921"
             ]
            ],
            "type": "surface"
           }
          ],
          "table": [
           {
            "cells": {
             "fill": {
              "color": "#EBF0F8"
             },
             "line": {
              "color": "white"
             }
            },
            "header": {
             "fill": {
              "color": "#C8D4E3"
             },
             "line": {
              "color": "white"
             }
            },
            "type": "table"
           }
          ]
         },
         "layout": {
          "annotationdefaults": {
           "arrowcolor": "#2a3f5f",
           "arrowhead": 0,
           "arrowwidth": 1
          },
          "coloraxis": {
           "colorbar": {
            "outlinewidth": 0,
            "ticks": ""
           }
          },
          "colorscale": {
           "diverging": [
            [
             0,
             "#8e0152"
            ],
            [
             0.1,
             "#c51b7d"
            ],
            [
             0.2,
             "#de77ae"
            ],
            [
             0.3,
             "#f1b6da"
            ],
            [
             0.4,
             "#fde0ef"
            ],
            [
             0.5,
             "#f7f7f7"
            ],
            [
             0.6,
             "#e6f5d0"
            ],
            [
             0.7,
             "#b8e186"
            ],
            [
             0.8,
             "#7fbc41"
            ],
            [
             0.9,
             "#4d9221"
            ],
            [
             1,
             "#276419"
            ]
           ],
           "sequential": [
            [
             0,
             "#0d0887"
            ],
            [
             0.1111111111111111,
             "#46039f"
            ],
            [
             0.2222222222222222,
             "#7201a8"
            ],
            [
             0.3333333333333333,
             "#9c179e"
            ],
            [
             0.4444444444444444,
             "#bd3786"
            ],
            [
             0.5555555555555556,
             "#d8576b"
            ],
            [
             0.6666666666666666,
             "#ed7953"
            ],
            [
             0.7777777777777778,
             "#fb9f3a"
            ],
            [
             0.8888888888888888,
             "#fdca26"
            ],
            [
             1,
             "#f0f921"
            ]
           ],
           "sequentialminus": [
            [
             0,
             "#0d0887"
            ],
            [
             0.1111111111111111,
             "#46039f"
            ],
            [
             0.2222222222222222,
             "#7201a8"
            ],
            [
             0.3333333333333333,
             "#9c179e"
            ],
            [
             0.4444444444444444,
             "#bd3786"
            ],
            [
             0.5555555555555556,
             "#d8576b"
            ],
            [
             0.6666666666666666,
             "#ed7953"
            ],
            [
             0.7777777777777778,
             "#fb9f3a"
            ],
            [
             0.8888888888888888,
             "#fdca26"
            ],
            [
             1,
             "#f0f921"
            ]
           ]
          },
          "colorway": [
           "#636efa",
           "#EF553B",
           "#00cc96",
           "#ab63fa",
           "#FFA15A",
           "#19d3f3",
           "#FF6692",
           "#B6E880",
           "#FF97FF",
           "#FECB52"
          ],
          "font": {
           "color": "#2a3f5f"
          },
          "geo": {
           "bgcolor": "white",
           "lakecolor": "white",
           "landcolor": "#E5ECF6",
           "showlakes": true,
           "showland": true,
           "subunitcolor": "white"
          },
          "hoverlabel": {
           "align": "left"
          },
          "hovermode": "closest",
          "mapbox": {
           "style": "light"
          },
          "paper_bgcolor": "white",
          "plot_bgcolor": "#E5ECF6",
          "polar": {
           "angularaxis": {
            "gridcolor": "white",
            "linecolor": "white",
            "ticks": ""
           },
           "bgcolor": "#E5ECF6",
           "radialaxis": {
            "gridcolor": "white",
            "linecolor": "white",
            "ticks": ""
           }
          },
          "scene": {
           "xaxis": {
            "backgroundcolor": "#E5ECF6",
            "gridcolor": "white",
            "gridwidth": 2,
            "linecolor": "white",
            "showbackground": true,
            "ticks": "",
            "zerolinecolor": "white"
           },
           "yaxis": {
            "backgroundcolor": "#E5ECF6",
            "gridcolor": "white",
            "gridwidth": 2,
            "linecolor": "white",
            "showbackground": true,
            "ticks": "",
            "zerolinecolor": "white"
           },
           "zaxis": {
            "backgroundcolor": "#E5ECF6",
            "gridcolor": "white",
            "gridwidth": 2,
            "linecolor": "white",
            "showbackground": true,
            "ticks": "",
            "zerolinecolor": "white"
           }
          },
          "shapedefaults": {
           "line": {
            "color": "#2a3f5f"
           }
          },
          "ternary": {
           "aaxis": {
            "gridcolor": "white",
            "linecolor": "white",
            "ticks": ""
           },
           "baxis": {
            "gridcolor": "white",
            "linecolor": "white",
            "ticks": ""
           },
           "bgcolor": "#E5ECF6",
           "caxis": {
            "gridcolor": "white",
            "linecolor": "white",
            "ticks": ""
           }
          },
          "title": {
           "x": 0.05
          },
          "xaxis": {
           "automargin": true,
           "gridcolor": "white",
           "linecolor": "white",
           "ticks": "",
           "title": {
            "standoff": 15
           },
           "zerolinecolor": "white",
           "zerolinewidth": 2
          },
          "yaxis": {
           "automargin": true,
           "gridcolor": "white",
           "linecolor": "white",
           "ticks": "",
           "title": {
            "standoff": 15
           },
           "zerolinecolor": "white",
           "zerolinewidth": 2
          }
         }
        },
        "xaxis": {
         "anchor": "y",
         "categoryorder": "total descending",
         "domain": [
          0,
          1
         ],
         "title": {
          "text": "Country"
         }
        },
        "yaxis": {
         "anchor": "x",
         "domain": [
          0,
          1
         ],
         "title": {
          "text": "Mortality"
         }
        }
       }
      },
      "text/html": [
       "<div>                            <div id=\"35bb3aee-442c-434f-8a89-9c64732de596\" class=\"plotly-graph-div\" style=\"height:525px; width:100%;\"></div>            <script type=\"text/javascript\">                require([\"plotly\"], function(Plotly) {                    window.PLOTLYENV=window.PLOTLYENV || {};                                    if (document.getElementById(\"35bb3aee-442c-434f-8a89-9c64732de596\")) {                    Plotly.newPlot(                        \"35bb3aee-442c-434f-8a89-9c64732de596\",                        [{\"alignmentgroup\": \"True\", \"hovertemplate\": \"Country=%{x}<br>Mortality=%{y}<extra></extra>\", \"legendgroup\": \"\", \"marker\": {\"color\": \"#636efa\"}, \"name\": \"\", \"offsetgroup\": \"\", \"orientation\": \"v\", \"showlegend\": false, \"textposition\": \"auto\", \"type\": \"bar\", \"x\": [\"Afghanistan\", \"Albania\", \"Algeria\", \"Angola\", \"Argentina\", \"Armenia\", \"Australia\", \"Austria\", \"Azerbaijan\", \"Bangladesh\", \"Barbados\", \"Belarus\", \"Belgium\", \"Belize\", \"Benin\", \"Bolivia\", \"Bosnia and Herzegovina\", \"Botswana\", \"Brazil\", \"Bulgaria\", \"Burkina Faso\", \"Cabo Verde\", \"Cambodia\", \"Cameroon\", \"Central African Republic\", \"Chad\", \"China\", \"Colombia\", \"Congo\", \"Costa Rica\", \"Cote d'Ivoire\", \"Croatia\", \"Cuba\", \"Cyprus\", \"Czechia\", \"Denmark\", \"Djibouti\", \"Dominica\", \"Dominican Republic\", \"Ecuador\", \"Egypt\", \"El Salvador\", \"Estonia\", \"Eswatini\", \"Ethiopia\", \"Fiji\", \"Finland\", \"France\", \"Gabon\", \"Gambia\", \"Georgia\", \"Germany\", \"Ghana\", \"Greece\", \"Guatemala\", \"Guinea\", \"Guinea-Bissau\", \"Guyana\", \"Haiti\", \"Honduras\", \"Hungary\", \"Iceland\", \"India\", \"Indonesia\", \"Iran (Islamic Republic of)\", \"Iraq\", \"Ireland\", \"Israel\", \"Italy\", \"Jamaica\", \"Japan\", \"Jordan\", \"Kazakhstan\", \"Kenya\", \"Korea, South\", \"Kuwait\", \"Kyrgyzstan\", \"Lao People's Democratic Republic\", \"Latvia\", \"Lebanon\", \"Lesotho\", \"Liberia\", \"Lithuania\", \"Luxembourg\", \"Madagascar\", \"Malawi\", \"Malaysia\", \"Maldives\", \"Mali\", \"Malta\", \"Mauritania\", \"Mauritius\", \"Mexico\", \"Mongolia\", \"Montenegro\", \"Morocco\", \"Mozambique\", \"Namibia\", \"Nepal\", \"Netherlands\", \"New Zealand\", \"Nicaragua\", \"Niger\", \"Nigeria\", \"North Macedonia\", \"Norway\", \"Oman\", \"Pakistan\", \"Panama\", \"Paraguay\", \"Peru\", \"Philippines\", \"Poland\", \"Portugal\", \"Romania\", \"Russian Federation\", \"Rwanda\", \"Saint Vincent and the Grenadines\", \"Sao Tome and Principe\", \"Saudi Arabia\", \"Senegal\", \"Serbia\", \"Sierra Leone\", \"Slovakia\", \"Slovenia\", \"Solomon Islands\", \"South Africa\", \"Spain\", \"Sri Lanka\", \"Sudan\", \"Suriname\", \"Sweden\", \"Switzerland\", \"Thailand\", \"Timor-Leste\", \"Togo\", \"Trinidad and Tobago\", \"Tunisia\", \"Turkey\", \"Uganda\", \"Ukraine\", \"United Arab Emirates\", \"United Kingdom\", \"United Republic of Tanzania\", \"Uruguay\", \"Uzbekistan\", \"Venezuela (Bolivarian Republic of)\", \"Vietnam\", \"Yemen\", \"Zambia\", \"Zimbabwe\"], \"xaxis\": \"x\", \"y\": [0.03715838856206697, 0.026167146974063443, 0.034147502563351556, 0.03167709796908935, 0.026645070821473275, 0.016666666666666653, 0.03302317095420557, 0.013712136150590788, 0.013908819958052779, 0.014558976540596517, 0.03153153153153151, 0.01056744818212708, 0.0453097882679626, 0.015884221673137997, 0.01642628205128206, 0.060776324254771384, 0.02876431724416482, 0.003743982884649671, 0.02936279109540446, 0.0330199495528548, 0.02723083368244655, 0.011153846153846136, 0.0, 0.019715428252580658, 0.01276771004942331, 0.06690647482014393, 0.052073489660022516, 0.030129943274703086, 0.024370681145113548, 0.012402781354622725, 0.005953552450305064, 0.014399568782966936, 0.02029402364972836, 0.009304056568663933, 0.00831492289598928, 0.01887467327005085, 0.011153775827390754, 0.0, 0.01810679970739813, 0.08078971210313968, 0.05807839161700478, 0.02924272089938742, 0.016646266829865336, 0.020041465100207323, 0.015190296016024962, 0.0625000000000001, 0.025894503873109573, 0.03532122611799292, 0.006078343088698788, 0.0323376267470539, 0.007662219364518032, 0.02610139285221773, 0.0065439500126657025, 0.020153476474691873, 0.0348527052431618, 0.006077444000694559, 0.017062005826050785, 0.029482071713147314, 0.025735294117646995, 0.02882044282341889, 0.024556188243175268, 0.0026822726164350253, 0.015163359840506789, 0.034544409155623595, 0.05744522857821567, 0.023955251951574108, 0.03631871041123304, 0.007422689880476014, 0.08644452733616957, 0.02079077034010332, 0.017942788626241893, 0.009759354855279026, 0.016128002335276354, 0.018613009140118864, 0.017644969012750172, 0.006077102163790727, 0.021151429768114783, 0.0, 0.012593016599885523, 0.008356634468734117, 0.02291325695581013, 0.0593772628530052, 0.014625938389852447, 0.012261580381471375, 0.014158239143367052, 0.03088737201365189, 0.008893881945419646, 0.0032941595441595434, 0.038743762841209235, 0.009499683343888536, 0.02138826925600308, 0.023866348448687336, 0.10098885751515331, 0.0, 0.015228426395939096, 0.01693324001843539, 0.006768953068592062, 0.010627940937854925, 0.005564703460848605, 0.028189598583088737, 0.013248542660307344, 0.028768914627311785, 0.05697770437654827, 0.018275447545404357, 0.035564149991592256, 0.016743961934590153, 0.010072879179702338, 0.02059351796416435, 0.020562225896901286, 0.021766572891870447, 0.038862635623219365, 0.018584566039942182, 0.019721906923950056, 0.021578637345375993, 0.03243571373882984, 0.01720734189399478, 0.006810897435897429, 0.0, 0.01607717041800644, 0.015181722385524147, 0.02067133229652669, 0.021443139848961013, 0.03131703131703126, 0.0029972308193516777, 0.013889904232765555, 0.0, 0.02622034047307767, 0.034883303282162596, 0.002311111111111108, 0.06091518507723691, 0.02123514513929471, 0.05734496124031006, 0.02570978486994796, 0.01594594594594597, 0.0, 0.024625784645099, 0.018308795771989444, 0.016078826035059807, 0.02681113186979831, 0.00907305209989712, 0.0186815333331199, 0.003999416394174248, 0.058882817602490166, 0.041257367387033436, 0.01992187499999995, 0.008359176991011111, 0.008495313726395497, 0.030701754385965015, 0.2903696498054473, 0.02176511291438636, 0.028434857212893655], \"yaxis\": \"y\"}],                        {\"barmode\": \"relative\", \"legend\": {\"tracegroupgap\": 0}, \"margin\": {\"t\": 60}, \"template\": {\"data\": {\"bar\": [{\"error_x\": {\"color\": \"#2a3f5f\"}, \"error_y\": {\"color\": \"#2a3f5f\"}, \"marker\": {\"line\": {\"color\": \"#E5ECF6\", \"width\": 0.5}}, \"type\": \"bar\"}], \"barpolar\": [{\"marker\": {\"line\": {\"color\": \"#E5ECF6\", \"width\": 0.5}}, \"type\": \"barpolar\"}], \"carpet\": [{\"aaxis\": {\"endlinecolor\": \"#2a3f5f\", \"gridcolor\": \"white\", \"linecolor\": \"white\", \"minorgridcolor\": \"white\", \"startlinecolor\": \"#2a3f5f\"}, \"baxis\": {\"endlinecolor\": \"#2a3f5f\", \"gridcolor\": \"white\", \"linecolor\": \"white\", \"minorgridcolor\": \"white\", \"startlinecolor\": \"#2a3f5f\"}, \"type\": \"carpet\"}], \"choropleth\": [{\"colorbar\": {\"outlinewidth\": 0, \"ticks\": \"\"}, \"type\": \"choropleth\"}], \"contour\": [{\"colorbar\": {\"outlinewidth\": 0, \"ticks\": \"\"}, \"colorscale\": [[0.0, \"#0d0887\"], [0.1111111111111111, \"#46039f\"], [0.2222222222222222, \"#7201a8\"], [0.3333333333333333, \"#9c179e\"], [0.4444444444444444, \"#bd3786\"], [0.5555555555555556, \"#d8576b\"], [0.6666666666666666, \"#ed7953\"], [0.7777777777777778, \"#fb9f3a\"], [0.8888888888888888, \"#fdca26\"], [1.0, \"#f0f921\"]], \"type\": \"contour\"}], \"contourcarpet\": [{\"colorbar\": {\"outlinewidth\": 0, \"ticks\": \"\"}, \"type\": \"contourcarpet\"}], \"heatmap\": [{\"colorbar\": {\"outlinewidth\": 0, \"ticks\": \"\"}, \"colorscale\": [[0.0, \"#0d0887\"], [0.1111111111111111, \"#46039f\"], [0.2222222222222222, \"#7201a8\"], [0.3333333333333333, \"#9c179e\"], [0.4444444444444444, \"#bd3786\"], [0.5555555555555556, \"#d8576b\"], [0.6666666666666666, \"#ed7953\"], [0.7777777777777778, \"#fb9f3a\"], [0.8888888888888888, \"#fdca26\"], [1.0, \"#f0f921\"]], \"type\": \"heatmap\"}], \"heatmapgl\": [{\"colorbar\": {\"outlinewidth\": 0, \"ticks\": \"\"}, \"colorscale\": [[0.0, \"#0d0887\"], [0.1111111111111111, \"#46039f\"], [0.2222222222222222, \"#7201a8\"], [0.3333333333333333, \"#9c179e\"], [0.4444444444444444, \"#bd3786\"], [0.5555555555555556, \"#d8576b\"], [0.6666666666666666, \"#ed7953\"], [0.7777777777777778, \"#fb9f3a\"], [0.8888888888888888, \"#fdca26\"], [1.0, \"#f0f921\"]], \"type\": \"heatmapgl\"}], \"histogram\": [{\"marker\": {\"colorbar\": {\"outlinewidth\": 0, \"ticks\": \"\"}}, \"type\": \"histogram\"}], \"histogram2d\": [{\"colorbar\": {\"outlinewidth\": 0, \"ticks\": \"\"}, \"colorscale\": [[0.0, \"#0d0887\"], [0.1111111111111111, \"#46039f\"], [0.2222222222222222, \"#7201a8\"], [0.3333333333333333, \"#9c179e\"], [0.4444444444444444, \"#bd3786\"], [0.5555555555555556, \"#d8576b\"], [0.6666666666666666, \"#ed7953\"], [0.7777777777777778, \"#fb9f3a\"], [0.8888888888888888, \"#fdca26\"], [1.0, \"#f0f921\"]], \"type\": \"histogram2d\"}], \"histogram2dcontour\": [{\"colorbar\": {\"outlinewidth\": 0, \"ticks\": \"\"}, \"colorscale\": [[0.0, \"#0d0887\"], [0.1111111111111111, \"#46039f\"], [0.2222222222222222, \"#7201a8\"], [0.3333333333333333, \"#9c179e\"], [0.4444444444444444, \"#bd3786\"], [0.5555555555555556, \"#d8576b\"], [0.6666666666666666, \"#ed7953\"], [0.7777777777777778, \"#fb9f3a\"], [0.8888888888888888, \"#fdca26\"], [1.0, \"#f0f921\"]], \"type\": \"histogram2dcontour\"}], \"mesh3d\": [{\"colorbar\": {\"outlinewidth\": 0, \"ticks\": \"\"}, \"type\": \"mesh3d\"}], \"parcoords\": [{\"line\": {\"colorbar\": {\"outlinewidth\": 0, \"ticks\": \"\"}}, \"type\": \"parcoords\"}], \"pie\": [{\"automargin\": true, \"type\": \"pie\"}], \"scatter\": [{\"marker\": {\"colorbar\": {\"outlinewidth\": 0, \"ticks\": \"\"}}, \"type\": \"scatter\"}], \"scatter3d\": [{\"line\": {\"colorbar\": {\"outlinewidth\": 0, \"ticks\": \"\"}}, \"marker\": {\"colorbar\": {\"outlinewidth\": 0, \"ticks\": \"\"}}, \"type\": \"scatter3d\"}], \"scattercarpet\": [{\"marker\": {\"colorbar\": {\"outlinewidth\": 0, \"ticks\": \"\"}}, \"type\": \"scattercarpet\"}], \"scattergeo\": [{\"marker\": {\"colorbar\": {\"outlinewidth\": 0, \"ticks\": \"\"}}, \"type\": \"scattergeo\"}], \"scattergl\": [{\"marker\": {\"colorbar\": {\"outlinewidth\": 0, \"ticks\": \"\"}}, \"type\": \"scattergl\"}], \"scattermapbox\": [{\"marker\": {\"colorbar\": {\"outlinewidth\": 0, \"ticks\": \"\"}}, \"type\": \"scattermapbox\"}], \"scatterpolar\": [{\"marker\": {\"colorbar\": {\"outlinewidth\": 0, \"ticks\": \"\"}}, \"type\": \"scatterpolar\"}], \"scatterpolargl\": [{\"marker\": {\"colorbar\": {\"outlinewidth\": 0, \"ticks\": \"\"}}, \"type\": \"scatterpolargl\"}], \"scatterternary\": [{\"marker\": {\"colorbar\": {\"outlinewidth\": 0, \"ticks\": \"\"}}, \"type\": \"scatterternary\"}], \"surface\": [{\"colorbar\": {\"outlinewidth\": 0, \"ticks\": \"\"}, \"colorscale\": [[0.0, \"#0d0887\"], [0.1111111111111111, \"#46039f\"], [0.2222222222222222, \"#7201a8\"], [0.3333333333333333, \"#9c179e\"], [0.4444444444444444, \"#bd3786\"], [0.5555555555555556, \"#d8576b\"], [0.6666666666666666, \"#ed7953\"], [0.7777777777777778, \"#fb9f3a\"], [0.8888888888888888, \"#fdca26\"], [1.0, \"#f0f921\"]], \"type\": \"surface\"}], \"table\": [{\"cells\": {\"fill\": {\"color\": \"#EBF0F8\"}, \"line\": {\"color\": \"white\"}}, \"header\": {\"fill\": {\"color\": \"#C8D4E3\"}, \"line\": {\"color\": \"white\"}}, \"type\": \"table\"}]}, \"layout\": {\"annotationdefaults\": {\"arrowcolor\": \"#2a3f5f\", \"arrowhead\": 0, \"arrowwidth\": 1}, \"coloraxis\": {\"colorbar\": {\"outlinewidth\": 0, \"ticks\": \"\"}}, \"colorscale\": {\"diverging\": [[0, \"#8e0152\"], [0.1, \"#c51b7d\"], [0.2, \"#de77ae\"], [0.3, \"#f1b6da\"], [0.4, \"#fde0ef\"], [0.5, \"#f7f7f7\"], [0.6, \"#e6f5d0\"], [0.7, \"#b8e186\"], [0.8, \"#7fbc41\"], [0.9, \"#4d9221\"], [1, \"#276419\"]], \"sequential\": [[0.0, \"#0d0887\"], [0.1111111111111111, \"#46039f\"], [0.2222222222222222, \"#7201a8\"], [0.3333333333333333, \"#9c179e\"], [0.4444444444444444, \"#bd3786\"], [0.5555555555555556, \"#d8576b\"], [0.6666666666666666, \"#ed7953\"], [0.7777777777777778, \"#fb9f3a\"], [0.8888888888888888, \"#fdca26\"], [1.0, \"#f0f921\"]], \"sequentialminus\": [[0.0, \"#0d0887\"], [0.1111111111111111, \"#46039f\"], [0.2222222222222222, \"#7201a8\"], [0.3333333333333333, \"#9c179e\"], [0.4444444444444444, \"#bd3786\"], [0.5555555555555556, \"#d8576b\"], [0.6666666666666666, \"#ed7953\"], [0.7777777777777778, \"#fb9f3a\"], [0.8888888888888888, \"#fdca26\"], [1.0, \"#f0f921\"]]}, \"colorway\": [\"#636efa\", \"#EF553B\", \"#00cc96\", \"#ab63fa\", \"#FFA15A\", \"#19d3f3\", \"#FF6692\", \"#B6E880\", \"#FF97FF\", \"#FECB52\"], \"font\": {\"color\": \"#2a3f5f\"}, \"geo\": {\"bgcolor\": \"white\", \"lakecolor\": \"white\", \"landcolor\": \"#E5ECF6\", \"showlakes\": true, \"showland\": true, \"subunitcolor\": \"white\"}, \"hoverlabel\": {\"align\": \"left\"}, \"hovermode\": \"closest\", \"mapbox\": {\"style\": \"light\"}, \"paper_bgcolor\": \"white\", \"plot_bgcolor\": \"#E5ECF6\", \"polar\": {\"angularaxis\": {\"gridcolor\": \"white\", \"linecolor\": \"white\", \"ticks\": \"\"}, \"bgcolor\": \"#E5ECF6\", \"radialaxis\": {\"gridcolor\": \"white\", \"linecolor\": \"white\", \"ticks\": \"\"}}, \"scene\": {\"xaxis\": {\"backgroundcolor\": \"#E5ECF6\", \"gridcolor\": \"white\", \"gridwidth\": 2, \"linecolor\": \"white\", \"showbackground\": true, \"ticks\": \"\", \"zerolinecolor\": \"white\"}, \"yaxis\": {\"backgroundcolor\": \"#E5ECF6\", \"gridcolor\": \"white\", \"gridwidth\": 2, \"linecolor\": \"white\", \"showbackground\": true, \"ticks\": \"\", \"zerolinecolor\": \"white\"}, \"zaxis\": {\"backgroundcolor\": \"#E5ECF6\", \"gridcolor\": \"white\", \"gridwidth\": 2, \"linecolor\": \"white\", \"showbackground\": true, \"ticks\": \"\", \"zerolinecolor\": \"white\"}}, \"shapedefaults\": {\"line\": {\"color\": \"#2a3f5f\"}}, \"ternary\": {\"aaxis\": {\"gridcolor\": \"white\", \"linecolor\": \"white\", \"ticks\": \"\"}, \"baxis\": {\"gridcolor\": \"white\", \"linecolor\": \"white\", \"ticks\": \"\"}, \"bgcolor\": \"#E5ECF6\", \"caxis\": {\"gridcolor\": \"white\", \"linecolor\": \"white\", \"ticks\": \"\"}}, \"title\": {\"x\": 0.05}, \"xaxis\": {\"automargin\": true, \"gridcolor\": \"white\", \"linecolor\": \"white\", \"ticks\": \"\", \"title\": {\"standoff\": 15}, \"zerolinecolor\": \"white\", \"zerolinewidth\": 2}, \"yaxis\": {\"automargin\": true, \"gridcolor\": \"white\", \"linecolor\": \"white\", \"ticks\": \"\", \"title\": {\"standoff\": 15}, \"zerolinecolor\": \"white\", \"zerolinewidth\": 2}}}, \"xaxis\": {\"anchor\": \"y\", \"categoryorder\": \"total descending\", \"domain\": [0.0, 1.0], \"title\": {\"text\": \"Country\"}}, \"yaxis\": {\"anchor\": \"x\", \"domain\": [0.0, 1.0], \"title\": {\"text\": \"Mortality\"}}},                        {\"responsive\": true}                    ).then(function(){\n",
       "                            \n",
       "var gd = document.getElementById('35bb3aee-442c-434f-8a89-9c64732de596');\n",
       "var x = new MutationObserver(function (mutations, observer) {{\n",
       "        var display = window.getComputedStyle(gd).display;\n",
       "        if (!display || display === 'none') {{\n",
       "            console.log([gd, 'removed!']);\n",
       "            Plotly.purge(gd);\n",
       "            observer.disconnect();\n",
       "        }}\n",
       "}});\n",
       "\n",
       "// Listen for the removal of the full notebook cells\n",
       "var notebookContainer = gd.closest('#notebook-container');\n",
       "if (notebookContainer) {{\n",
       "    x.observe(notebookContainer, {childList: true});\n",
       "}}\n",
       "\n",
       "// Listen for the clearing of the current output cell\n",
       "var outputEl = gd.closest('.output');\n",
       "if (outputEl) {{\n",
       "    x.observe(outputEl, {childList: true});\n",
       "}}\n",
       "\n",
       "                        })                };                });            </script>        </div>"
      ]
     },
     "metadata": {},
     "output_type": "display_data"
    }
   ],
   "source": [
    "# Distributions\n",
    "fig = px.bar(kg_df, x = \"Country\", y =\"Mortality\").update_xaxes(categoryorder=\"total descending\")\n",
    "fig.show()"
   ]
  },
  {
   "cell_type": "markdown",
   "metadata": {
    "papermill": {
     "duration": 0.166322,
     "end_time": "2020-10-22T17:40:09.386615",
     "exception": false,
     "start_time": "2020-10-22T17:40:09.220293",
     "status": "completed"
    },
    "tags": []
   },
   "source": [
    "From this last figure, we can see that `Yemen` stands out as having a very alarming mortality (almost $30\\%$). However, `Yemen` also appears as one of the lowest death rate countries (death rate of 0.001955). This is an outlier in our data, so we will get rid of this datapoint."
   ]
  },
  {
   "cell_type": "code",
   "execution_count": 1036,
   "metadata": {
    "execution": {
     "iopub.execute_input": "2020-10-22T17:40:09.728475Z",
     "iopub.status.busy": "2020-10-22T17:40:09.727366Z",
     "iopub.status.idle": "2020-10-22T17:40:09.732669Z",
     "shell.execute_reply": "2020-10-22T17:40:09.731896Z"
    },
    "papermill": {
     "duration": 0.179915,
     "end_time": "2020-10-22T17:40:09.732799",
     "exception": false,
     "start_time": "2020-10-22T17:40:09.552884",
     "status": "completed"
    },
    "tags": []
   },
   "outputs": [],
   "source": [
    "kg_df = kg_df[kg_df.Country != 'Yemen']\n",
    "kcal_df = kcal_df[kcal_df.Country != 'Yemen']\n",
    "protein_df = protein_df[protein_df.Country != 'Yemen']\n",
    "fat_df = fat_df[fat_df.Country != 'Yemen']"
   ]
  },
  {
   "cell_type": "markdown",
   "metadata": {},
   "source": [
    "To convert the percentage values to values in kgs, we will assume that the total intake of the countries \n",
    "is 1000 kgs. Using this quantity, we will get relative consumption values for all the countries. \n",
    "And we will multiply this with the protein, fat and kCal datasets to get respective consumption values."
   ]
  },
  {
   "cell_type": "code",
   "execution_count": 1037,
   "metadata": {},
   "outputs": [],
   "source": [
    "animalprod_kg = kg_df['Animal Products']\n",
    "vegetalprod_kg = kg_df['Vegetal Products']"
   ]
  },
  {
   "cell_type": "code",
   "execution_count": 1038,
   "metadata": {},
   "outputs": [],
   "source": [
    "kcal_animalprod = kcal_df['Animal Products'] * animalprod_kg\n",
    "kcal_vegetalprod = kcal_df['Vegetal Products'] * vegetalprod_kg\n",
    "kcal = kcal_animalprod + kcal_vegetalprod"
   ]
  },
  {
   "cell_type": "code",
   "execution_count": 1039,
   "metadata": {},
   "outputs": [],
   "source": [
    "fat_animalprod = fat_df['Animal Products'] * animalprod_kg\n",
    "fat_vegetalprod = fat_df['Vegetal Products'] * vegetalprod_kg\n",
    "fat = fat_animalprod + fat_vegetalprod"
   ]
  },
  {
   "cell_type": "code",
   "execution_count": 1040,
   "metadata": {},
   "outputs": [],
   "source": [
    "protein_animalprod = protein_df['Animal Products'] * animalprod_kg\n",
    "protein_vegetalprod = protein_df['Vegetal Products'] * vegetalprod_kg\n",
    "protein = protein_animalprod + protein_vegetalprod"
   ]
  },
  {
   "cell_type": "code",
   "execution_count": 1046,
   "metadata": {},
   "outputs": [],
   "source": [
    "country = kg_df['Country']\n",
    "mortality = kg_df['Mortality']"
   ]
  },
  {
   "cell_type": "code",
   "execution_count": 1047,
   "metadata": {},
   "outputs": [],
   "source": [
    "data = pd.concat([country, kcal, fat, protein, mortality], axis=1)"
   ]
  },
  {
   "cell_type": "code",
   "execution_count": 1048,
   "metadata": {},
   "outputs": [],
   "source": [
    "data.columns = data.columns.map(str)"
   ]
  },
  {
   "cell_type": "code",
   "execution_count": 1051,
   "metadata": {
    "scrolled": false
   },
   "outputs": [],
   "source": [
    "data = data.rename(columns={\"0\":\"KCal\", \"1\":\"Fat\", \"2\":\"Protein\"})"
   ]
  },
  {
   "cell_type": "code",
   "execution_count": 1052,
   "metadata": {
    "scrolled": true
   },
   "outputs": [
    {
     "data": {
      "text/html": [
       "<div>\n",
       "<style scoped>\n",
       "    .dataframe tbody tr th:only-of-type {\n",
       "        vertical-align: middle;\n",
       "    }\n",
       "\n",
       "    .dataframe tbody tr th {\n",
       "        vertical-align: top;\n",
       "    }\n",
       "\n",
       "    .dataframe thead th {\n",
       "        text-align: right;\n",
       "    }\n",
       "</style>\n",
       "<table border=\"1\" class=\"dataframe\">\n",
       "  <thead>\n",
       "    <tr style=\"text-align: right;\">\n",
       "      <th></th>\n",
       "      <th>KCal</th>\n",
       "      <th>Fat</th>\n",
       "      <th>Protein</th>\n",
       "      <th>Mortality</th>\n",
       "    </tr>\n",
       "  </thead>\n",
       "  <tbody>\n",
       "    <tr>\n",
       "      <th>count</th>\n",
       "      <td>150.000000</td>\n",
       "      <td>150.000000</td>\n",
       "      <td>150.000000</td>\n",
       "      <td>150.000000</td>\n",
       "    </tr>\n",
       "    <tr>\n",
       "      <th>mean</th>\n",
       "      <td>6853.811884</td>\n",
       "      <td>5770.677842</td>\n",
       "      <td>5766.362503</td>\n",
       "      <td>0.023013</td>\n",
       "    </tr>\n",
       "    <tr>\n",
       "      <th>std</th>\n",
       "      <td>1198.048981</td>\n",
       "      <td>1093.264384</td>\n",
       "      <td>1046.629247</td>\n",
       "      <td>0.017414</td>\n",
       "    </tr>\n",
       "    <tr>\n",
       "      <th>min</th>\n",
       "      <td>4912.790167</td>\n",
       "      <td>3916.769336</td>\n",
       "      <td>4435.604013</td>\n",
       "      <td>0.000000</td>\n",
       "    </tr>\n",
       "    <tr>\n",
       "      <th>25%</th>\n",
       "      <td>5741.231433</td>\n",
       "      <td>4923.557382</td>\n",
       "      <td>4883.981556</td>\n",
       "      <td>0.012297</td>\n",
       "    </tr>\n",
       "    <tr>\n",
       "      <th>50%</th>\n",
       "      <td>6694.024937</td>\n",
       "      <td>5443.816414</td>\n",
       "      <td>5408.897203</td>\n",
       "      <td>0.019719</td>\n",
       "    </tr>\n",
       "    <tr>\n",
       "      <th>75%</th>\n",
       "      <td>7814.942287</td>\n",
       "      <td>6434.278319</td>\n",
       "      <td>6489.506980</td>\n",
       "      <td>0.029333</td>\n",
       "    </tr>\n",
       "    <tr>\n",
       "      <th>max</th>\n",
       "      <td>9351.515444</td>\n",
       "      <td>8717.925388</td>\n",
       "      <td>8466.174395</td>\n",
       "      <td>0.100989</td>\n",
       "    </tr>\n",
       "  </tbody>\n",
       "</table>\n",
       "</div>"
      ],
      "text/plain": [
       "              KCal          Fat      Protein   Mortality\n",
       "count   150.000000   150.000000   150.000000  150.000000\n",
       "mean   6853.811884  5770.677842  5766.362503    0.023013\n",
       "std    1198.048981  1093.264384  1046.629247    0.017414\n",
       "min    4912.790167  3916.769336  4435.604013    0.000000\n",
       "25%    5741.231433  4923.557382  4883.981556    0.012297\n",
       "50%    6694.024937  5443.816414  5408.897203    0.019719\n",
       "75%    7814.942287  6434.278319  6489.506980    0.029333\n",
       "max    9351.515444  8717.925388  8466.174395    0.100989"
      ]
     },
     "execution_count": 1052,
     "metadata": {},
     "output_type": "execute_result"
    }
   ],
   "source": [
    "data.describe()"
   ]
  },
  {
   "cell_type": "markdown",
   "metadata": {},
   "source": [
    "Now creating our final dataframe, combining all the Series"
   ]
  },
  {
   "cell_type": "markdown",
   "metadata": {
    "papermill": {
     "duration": 0.199935,
     "end_time": "2020-10-22T17:40:37.338158",
     "exception": false,
     "start_time": "2020-10-22T17:40:37.138223",
     "status": "completed"
    },
    "tags": []
   },
   "source": [
    "# Supervised Learning - Regression\n",
    "\n",
    "## Prediciting mortality\n",
    "\n",
    "We'll try to build a model (regressor) to predict the mortality rate based on food intake information."
   ]
  },
  {
   "cell_type": "code",
   "execution_count": 1053,
   "metadata": {
    "execution": {
     "iopub.execute_input": "2020-10-22T17:40:38.174411Z",
     "iopub.status.busy": "2020-10-22T17:40:38.170566Z",
     "iopub.status.idle": "2020-10-22T17:40:38.178645Z",
     "shell.execute_reply": "2020-10-22T17:40:38.179507Z"
    },
    "papermill": {
     "duration": 0.225716,
     "end_time": "2020-10-22T17:40:38.179676",
     "exception": false,
     "start_time": "2020-10-22T17:40:37.953960",
     "status": "completed"
    },
    "tags": []
   },
   "outputs": [
    {
     "name": "stdout",
     "output_type": "stream",
     "text": [
      "Model features:  Index(['KCal', 'Fat', 'Protein'], dtype='object')\n",
      "Model target:  Mortality\n"
     ]
    }
   ],
   "source": [
    "features = data.columns.drop(['Country','Mortality'])\n",
    "target = 'Mortality'\n",
    "\n",
    "print('Model features: ', features)\n",
    "print('Model target: ', target)\n",
    "\n",
    "X = data[features]\n",
    "y = data[target]"
   ]
  },
  {
   "cell_type": "markdown",
   "metadata": {
    "papermill": {
     "duration": 0.222933,
     "end_time": "2020-10-22T17:40:38.612615",
     "exception": false,
     "start_time": "2020-10-22T17:40:38.389682",
     "status": "completed"
    },
    "tags": []
   },
   "source": [
    "### Train-test split"
   ]
  },
  {
   "cell_type": "code",
   "execution_count": 1054,
   "metadata": {
    "execution": {
     "iopub.execute_input": "2020-10-22T17:40:39.022055Z",
     "iopub.status.busy": "2020-10-22T17:40:39.019924Z",
     "iopub.status.idle": "2020-10-22T17:40:39.025317Z",
     "shell.execute_reply": "2020-10-22T17:40:39.024557Z"
    },
    "papermill": {
     "duration": 0.216148,
     "end_time": "2020-10-22T17:40:39.025459",
     "exception": false,
     "start_time": "2020-10-22T17:40:38.809311",
     "status": "completed"
    },
    "tags": []
   },
   "outputs": [],
   "source": [
    "train_data, test_data = train_test_split(data, test_size = 0.2, shuffle = True, random_state = 28)"
   ]
  },
  {
   "cell_type": "markdown",
   "metadata": {
    "papermill": {
     "duration": 0.198435,
     "end_time": "2020-10-22T17:40:39.423695",
     "exception": false,
     "start_time": "2020-10-22T17:40:39.225260",
     "status": "completed"
    },
    "tags": []
   },
   "source": [
    "Let's take a look at the data before building our models.\n",
    "\n",
    "We'll start with some visuals and build a scatter matrix for our dataframe. Because we have a large number of features, we will only plot those among the top intake in HOC (check the pie chart for HOC intake)."
   ]
  },
  {
   "cell_type": "code",
   "execution_count": 1055,
   "metadata": {
    "execution": {
     "iopub.execute_input": "2020-10-22T17:40:39.830737Z",
     "iopub.status.busy": "2020-10-22T17:40:39.823695Z",
     "iopub.status.idle": "2020-10-22T17:40:50.853551Z",
     "shell.execute_reply": "2020-10-22T17:40:50.854183Z"
    },
    "papermill": {
     "duration": 11.235118,
     "end_time": "2020-10-22T17:40:50.854346",
     "exception": false,
     "start_time": "2020-10-22T17:40:39.619228",
     "status": "completed"
    },
    "tags": []
   },
   "outputs": [
    {
     "data": {
      "text/plain": [
       "<seaborn.axisgrid.PairGrid at 0x7f8b30e517d0>"
      ]
     },
     "execution_count": 1055,
     "metadata": {},
     "output_type": "execute_result"
    },
    {
     "data": {
      "image/png": "[encoded data removed]",
      "text/plain": [
       "<Figure size 720x720 with 16 Axes>"
      ]
     },
     "metadata": {
      "needs_background": "light"
     },
     "output_type": "display_data"
    }
   ],
   "source": [
    "# df = data['Country', '0', '1', '2','Mortality']\n",
    "g = sns.PairGrid(data)\n",
    "g.map(plt.scatter)"
   ]
  },
  {
   "cell_type": "markdown",
   "metadata": {
    "papermill": {
     "duration": 0.201352,
     "end_time": "2020-10-22T17:40:51.260864",
     "exception": false,
     "start_time": "2020-10-22T17:40:51.059512",
     "status": "completed"
    },
    "tags": []
   },
   "source": [
    "So, we are interested in the last \"row\" of this matrix. Nothing seems particularly linear, but we'll see what we can tell from building linear models.\n",
    "\n",
    "**NOTE**: as the data seems very scattered, I am expecting bad values of $R^2$ score (for an interessting explanation on why this is so, I recommend reading this two well written articles: [Interpreting R-squared](https://statisticsbyjim.com/regression/interpret-r-squared-regression/) and [Interpreting low R-squared in regression models](https://statisticsbyjim.com/regression/low-r-squared-regression/))."
   ]
  },
  {
   "cell_type": "markdown",
   "metadata": {
    "papermill": {
     "duration": 0.202416,
     "end_time": "2020-10-22T17:40:51.669122",
     "exception": false,
     "start_time": "2020-10-22T17:40:51.466706",
     "status": "completed"
    },
    "tags": []
   },
   "source": [
    "To keep track of what is important later on, let's check what features correlate the most with our target."
   ]
  },
  {
   "cell_type": "markdown",
   "metadata": {
    "papermill": {
     "duration": 0.212272,
     "end_time": "2020-10-22T17:40:53.786593",
     "exception": false,
     "start_time": "2020-10-22T17:40:53.574321",
     "status": "completed"
    },
    "tags": []
   },
   "source": [
    "### [Ridge Regression](https://scikit-learn.org/stable/modules/linear_model.html#ridge-regression)\n",
    "\n",
    "First, we'll split our training data."
   ]
  },
  {
   "cell_type": "code",
   "execution_count": 1056,
   "metadata": {},
   "outputs": [],
   "source": [
    "X_train = train_data[features]\n",
    "y_train = train_data[target]"
   ]
  },
  {
   "cell_type": "markdown",
   "metadata": {
    "papermill": {
     "duration": 0.203471,
     "end_time": "2020-10-22T17:40:54.612296",
     "exception": false,
     "start_time": "2020-10-22T17:40:54.408825",
     "status": "completed"
    },
    "tags": []
   },
   "source": [
    "Now, to build our regressor with a standardization step in our pipeline (always scale your data for Ridge regression!)."
   ]
  },
  {
   "cell_type": "code",
   "execution_count": 1057,
   "metadata": {
    "execution": {
     "iopub.execute_input": "2020-10-22T17:40:55.035880Z",
     "iopub.status.busy": "2020-10-22T17:40:55.034506Z",
     "iopub.status.idle": "2020-10-22T17:40:55.039740Z",
     "shell.execute_reply": "2020-10-22T17:40:55.040319Z"
    },
    "papermill": {
     "duration": 0.224916,
     "end_time": "2020-10-22T17:40:55.040486",
     "exception": false,
     "start_time": "2020-10-22T17:40:54.815570",
     "status": "completed"
    },
    "tags": []
   },
   "outputs": [
    {
     "data": {
      "text/html": [
       "<style>div.sk-top-container {color: black;background-color: white;}div.sk-toggleable {background-color: white;}label.sk-toggleable__label {cursor: pointer;display: block;width: 100%;margin-bottom: 0;padding: 0.2em 0.3em;box-sizing: border-box;text-align: center;}div.sk-toggleable__content {max-height: 0;max-width: 0;overflow: hidden;text-align: left;background-color: #f0f8ff;}div.sk-toggleable__content pre {margin: 0.2em;color: black;border-radius: 0.25em;background-color: #f0f8ff;}input.sk-toggleable__control:checked~div.sk-toggleable__content {max-height: 200px;max-width: 100%;overflow: auto;}div.sk-estimator input.sk-toggleable__control:checked~label.sk-toggleable__label {background-color: #d4ebff;}div.sk-label input.sk-toggleable__control:checked~label.sk-toggleable__label {background-color: #d4ebff;}input.sk-hidden--visually {border: 0;clip: rect(1px 1px 1px 1px);clip: rect(1px, 1px, 1px, 1px);height: 1px;margin: -1px;overflow: hidden;padding: 0;position: absolute;width: 1px;}div.sk-estimator {font-family: monospace;background-color: #f0f8ff;margin: 0.25em 0.25em;border: 1px dotted black;border-radius: 0.25em;box-sizing: border-box;}div.sk-estimator:hover {background-color: #d4ebff;}div.sk-parallel-item::after {content: \"\";width: 100%;border-bottom: 1px solid gray;flex-grow: 1;}div.sk-label:hover label.sk-toggleable__label {background-color: #d4ebff;}div.sk-serial::before {content: \"\";position: absolute;border-left: 1px solid gray;box-sizing: border-box;top: 2em;bottom: 0;left: 50%;}div.sk-serial {display: flex;flex-direction: column;align-items: center;background-color: white;}div.sk-item {z-index: 1;}div.sk-parallel {display: flex;align-items: stretch;justify-content: center;background-color: white;}div.sk-parallel-item {display: flex;flex-direction: column;position: relative;background-color: white;}div.sk-parallel-item:first-child::after {align-self: flex-end;width: 50%;}div.sk-parallel-item:last-child::after {align-self: flex-start;width: 50%;}div.sk-parallel-item:only-child::after {width: 0;}div.sk-dashed-wrapped {border: 1px dashed gray;margin: 0.2em;box-sizing: border-box;padding-bottom: 0.1em;background-color: white;position: relative;}div.sk-label label {font-family: monospace;font-weight: bold;background-color: white;display: inline-block;line-height: 1.2em;}div.sk-label-container {position: relative;z-index: 2;text-align: center;}div.sk-container {display: inline-block;position: relative;}</style><div class=\"sk-top-container\"><div class=\"sk-container\"><div class=\"sk-item sk-dashed-wrapped\"><div class=\"sk-label-container\"><div class=\"sk-label sk-toggleable\"><input class=\"sk-toggleable__control sk-hidden--visually\" id=\"d60b0b9e-0601-486b-9cc0-86227fba70eb\" type=\"checkbox\" ><label class=\"sk-toggleable__label\" for=\"d60b0b9e-0601-486b-9cc0-86227fba70eb\">Pipeline</label><div class=\"sk-toggleable__content\"><pre>Pipeline(steps=[('scaler', StandardScaler()),\n",
       "                ('estimator', Ridge(random_state=28))])</pre></div></div></div><div class=\"sk-serial\"><div class=\"sk-item\"><div class=\"sk-estimator sk-toggleable\"><input class=\"sk-toggleable__control sk-hidden--visually\" id=\"0ae1ee8a-abb1-4d49-a7e5-7d3f245faa8e\" type=\"checkbox\" ><label class=\"sk-toggleable__label\" for=\"0ae1ee8a-abb1-4d49-a7e5-7d3f245faa8e\">StandardScaler</label><div class=\"sk-toggleable__content\"><pre>StandardScaler()</pre></div></div></div><div class=\"sk-item\"><div class=\"sk-estimator sk-toggleable\"><input class=\"sk-toggleable__control sk-hidden--visually\" id=\"4387daf9-fa4b-4b9f-b06d-277407461751\" type=\"checkbox\" ><label class=\"sk-toggleable__label\" for=\"4387daf9-fa4b-4b9f-b06d-277407461751\">Ridge</label><div class=\"sk-toggleable__content\"><pre>Ridge(random_state=28)</pre></div></div></div></div></div></div></div>"
      ],
      "text/plain": [
       "Pipeline(steps=[('scaler', StandardScaler()),\n",
       "                ('estimator', Ridge(random_state=28))])"
      ]
     },
     "execution_count": 1057,
     "metadata": {},
     "output_type": "execute_result"
    }
   ],
   "source": [
    "from sklearn.preprocessing import StandardScaler\n",
    "from sklearn.linear_model import Ridge\n",
    "from sklearn.model_selection import cross_val_score\n",
    "\n",
    "## Defining the pipeline\n",
    "\n",
    "regressor = Pipeline([\n",
    "    ('scaler', StandardScaler()),\n",
    "    ('estimator', Ridge(random_state=28))\n",
    "])\n",
    "\n",
    "# Visualize the pipeline\n",
    "from sklearn import set_config\n",
    "set_config(display='diagram')\n",
    "regressor"
   ]
  },
  {
   "cell_type": "markdown",
   "metadata": {
    "papermill": {
     "duration": 0.213403,
     "end_time": "2020-10-22T17:40:55.459707",
     "exception": false,
     "start_time": "2020-10-22T17:40:55.246304",
     "status": "completed"
    },
    "tags": []
   },
   "source": [
    "#### Training the model"
   ]
  },
  {
   "cell_type": "code",
   "execution_count": 1058,
   "metadata": {
    "execution": {
     "iopub.execute_input": "2020-10-22T17:40:55.903859Z",
     "iopub.status.busy": "2020-10-22T17:40:55.894873Z",
     "iopub.status.idle": "2020-10-22T17:40:55.909139Z",
     "shell.execute_reply": "2020-10-22T17:40:55.908317Z"
    },
    "papermill": {
     "duration": 0.242088,
     "end_time": "2020-10-22T17:40:55.909280",
     "exception": false,
     "start_time": "2020-10-22T17:40:55.667192",
     "status": "completed"
    },
    "tags": []
   },
   "outputs": [
    {
     "data": {
      "text/html": [
       "<style>div.sk-top-container {color: black;background-color: white;}div.sk-toggleable {background-color: white;}label.sk-toggleable__label {cursor: pointer;display: block;width: 100%;margin-bottom: 0;padding: 0.2em 0.3em;box-sizing: border-box;text-align: center;}div.sk-toggleable__content {max-height: 0;max-width: 0;overflow: hidden;text-align: left;background-color: #f0f8ff;}div.sk-toggleable__content pre {margin: 0.2em;color: black;border-radius: 0.25em;background-color: #f0f8ff;}input.sk-toggleable__control:checked~div.sk-toggleable__content {max-height: 200px;max-width: 100%;overflow: auto;}div.sk-estimator input.sk-toggleable__control:checked~label.sk-toggleable__label {background-color: #d4ebff;}div.sk-label input.sk-toggleable__control:checked~label.sk-toggleable__label {background-color: #d4ebff;}input.sk-hidden--visually {border: 0;clip: rect(1px 1px 1px 1px);clip: rect(1px, 1px, 1px, 1px);height: 1px;margin: -1px;overflow: hidden;padding: 0;position: absolute;width: 1px;}div.sk-estimator {font-family: monospace;background-color: #f0f8ff;margin: 0.25em 0.25em;border: 1px dotted black;border-radius: 0.25em;box-sizing: border-box;}div.sk-estimator:hover {background-color: #d4ebff;}div.sk-parallel-item::after {content: \"\";width: 100%;border-bottom: 1px solid gray;flex-grow: 1;}div.sk-label:hover label.sk-toggleable__label {background-color: #d4ebff;}div.sk-serial::before {content: \"\";position: absolute;border-left: 1px solid gray;box-sizing: border-box;top: 2em;bottom: 0;left: 50%;}div.sk-serial {display: flex;flex-direction: column;align-items: center;background-color: white;}div.sk-item {z-index: 1;}div.sk-parallel {display: flex;align-items: stretch;justify-content: center;background-color: white;}div.sk-parallel-item {display: flex;flex-direction: column;position: relative;background-color: white;}div.sk-parallel-item:first-child::after {align-self: flex-end;width: 50%;}div.sk-parallel-item:last-child::after {align-self: flex-start;width: 50%;}div.sk-parallel-item:only-child::after {width: 0;}div.sk-dashed-wrapped {border: 1px dashed gray;margin: 0.2em;box-sizing: border-box;padding-bottom: 0.1em;background-color: white;position: relative;}div.sk-label label {font-family: monospace;font-weight: bold;background-color: white;display: inline-block;line-height: 1.2em;}div.sk-label-container {position: relative;z-index: 2;text-align: center;}div.sk-container {display: inline-block;position: relative;}</style><div class=\"sk-top-container\"><div class=\"sk-container\"><div class=\"sk-item sk-dashed-wrapped\"><div class=\"sk-label-container\"><div class=\"sk-label sk-toggleable\"><input class=\"sk-toggleable__control sk-hidden--visually\" id=\"a646c379-516a-486c-a920-a86086667916\" type=\"checkbox\" ><label class=\"sk-toggleable__label\" for=\"a646c379-516a-486c-a920-a86086667916\">Pipeline</label><div class=\"sk-toggleable__content\"><pre>Pipeline(steps=[('scaler', StandardScaler()),\n",
       "                ('estimator', Ridge(random_state=28))])</pre></div></div></div><div class=\"sk-serial\"><div class=\"sk-item\"><div class=\"sk-estimator sk-toggleable\"><input class=\"sk-toggleable__control sk-hidden--visually\" id=\"b89d1799-e1ca-49c9-ae89-45c9b83e7150\" type=\"checkbox\" ><label class=\"sk-toggleable__label\" for=\"b89d1799-e1ca-49c9-ae89-45c9b83e7150\">StandardScaler</label><div class=\"sk-toggleable__content\"><pre>StandardScaler()</pre></div></div></div><div class=\"sk-item\"><div class=\"sk-estimator sk-toggleable\"><input class=\"sk-toggleable__control sk-hidden--visually\" id=\"fc712ff9-6797-45fb-b8d0-d34bf7a8f1e3\" type=\"checkbox\" ><label class=\"sk-toggleable__label\" for=\"fc712ff9-6797-45fb-b8d0-d34bf7a8f1e3\">Ridge</label><div class=\"sk-toggleable__content\"><pre>Ridge(random_state=28)</pre></div></div></div></div></div></div></div>"
      ],
      "text/plain": [
       "Pipeline(steps=[('scaler', StandardScaler()),\n",
       "                ('estimator', Ridge(random_state=28))])"
      ]
     },
     "execution_count": 1058,
     "metadata": {},
     "output_type": "execute_result"
    }
   ],
   "source": [
    "# Training\n",
    "regressor.fit(X_train, y_train)"
   ]
  },
  {
   "cell_type": "code",
   "execution_count": 1059,
   "metadata": {
    "execution": {
     "iopub.execute_input": "2020-10-22T17:40:56.338951Z",
     "iopub.status.busy": "2020-10-22T17:40:56.338158Z",
     "iopub.status.idle": "2020-10-22T17:40:56.348316Z",
     "shell.execute_reply": "2020-10-22T17:40:56.347323Z"
    },
    "papermill": {
     "duration": 0.229466,
     "end_time": "2020-10-22T17:40:56.348473",
     "exception": false,
     "start_time": "2020-10-22T17:40:56.119007",
     "status": "completed"
    },
    "tags": []
   },
   "outputs": [
    {
     "data": {
      "text/plain": [
       "0.02761307230754184"
      ]
     },
     "execution_count": 1059,
     "metadata": {},
     "output_type": "execute_result"
    }
   ],
   "source": [
    "# Scoring the training set\n",
    "\n",
    "train_preds = regressor.predict(X_train)\n",
    "regressor.score(X_train, y_train)"
   ]
  },
  {
   "cell_type": "markdown",
   "metadata": {
    "papermill": {
     "duration": 0.213791,
     "end_time": "2020-10-22T17:40:56.800007",
     "exception": false,
     "start_time": "2020-10-22T17:40:56.586216",
     "status": "completed"
    },
    "tags": []
   },
   "source": [
    "#### Cross validate our score"
   ]
  },
  {
   "cell_type": "code",
   "execution_count": 1060,
   "metadata": {
    "execution": {
     "iopub.execute_input": "2020-10-22T17:40:57.242187Z",
     "iopub.status.busy": "2020-10-22T17:40:57.241342Z",
     "iopub.status.idle": "2020-10-22T17:40:57.356987Z",
     "shell.execute_reply": "2020-10-22T17:40:57.356182Z"
    },
    "papermill": {
     "duration": 0.34187,
     "end_time": "2020-10-22T17:40:57.357143",
     "exception": false,
     "start_time": "2020-10-22T17:40:57.015273",
     "status": "completed"
    },
    "tags": []
   },
   "outputs": [
    {
     "name": "stdout",
     "output_type": "stream",
     "text": [
      "[-0.02938712 -0.38074369  0.03508441 -0.01285176  0.0739895  -0.14457562\n",
      "  0.00978867 -0.35400706 -0.4752464   0.03494401]\n",
      "-0.12430050810505913\n"
     ]
    }
   ],
   "source": [
    "# Cross validate\n",
    "cv_score = cross_val_score(regressor, X_train, y_train, cv = 10)\n",
    "print(cv_score)\n",
    "print(cv_score.mean())"
   ]
  },
  {
   "cell_type": "markdown",
   "metadata": {
    "papermill": {
     "duration": 0.206296,
     "end_time": "2020-10-22T17:40:57.784278",
     "exception": false,
     "start_time": "2020-10-22T17:40:57.577982",
     "status": "completed"
    },
    "tags": []
   },
   "source": [
    "This looks very bad... Let's see some other metrics for our model.\n",
    "\n",
    "We'll use [mean squared error](https://scikit-learn.org/stable/modules/generated/sklearn.metrics.mean_squared_error.html#sklearn.metrics.mean_squared_error), [mean absolute error](https://scikit-learn.org/stable/modules/generated/sklearn.metrics.mean_absolute_error.html#sklearn.metrics.mean_absolute_error) and [R2](https://scikit-learn.org/stable/modules/generated/sklearn.metrics.r2_score.html#sklearn.metrics.r2_score) to evaluate the model.\n",
    "\n",
    "First, let's build a simple helper function to return a dictionary with all of our scores for the chosen model."
   ]
  },
  {
   "cell_type": "code",
   "execution_count": 1061,
   "metadata": {
    "execution": {
     "iopub.execute_input": "2020-10-22T17:40:58.219622Z",
     "iopub.status.busy": "2020-10-22T17:40:58.218474Z",
     "iopub.status.idle": "2020-10-22T17:40:58.222423Z",
     "shell.execute_reply": "2020-10-22T17:40:58.221580Z"
    },
    "papermill": {
     "duration": 0.228501,
     "end_time": "2020-10-22T17:40:58.222577",
     "exception": false,
     "start_time": "2020-10-22T17:40:57.994076",
     "status": "completed"
    },
    "tags": []
   },
   "outputs": [],
   "source": [
    "from sklearn.metrics import mean_squared_error, mean_absolute_error, r2_score\n",
    "\n",
    "# Create function to evaluate model on a few different scores\n",
    "def show_scores(model, X_train, X_test, y_train, y_test):    \n",
    "    train_preds = model.predict(X_train)\n",
    "    test_preds = model.predict(X_test)\n",
    "    scores = {'Training MAE': mean_absolute_error(y_train, train_preds),\n",
    "              'Test MAE': mean_absolute_error(y_test, test_preds),\n",
    "              'Training MSE': mean_squared_error(y_train, train_preds),\n",
    "              'Test MSE': mean_squared_error(y_test, test_preds),\n",
    "              'Training R^2': r2_score(y_train, train_preds),\n",
    "              'Test R^2': r2_score(y_test, test_preds)}\n",
    "    return scores"
   ]
  },
  {
   "cell_type": "markdown",
   "metadata": {
    "papermill": {
     "duration": 0.206933,
     "end_time": "2020-10-22T17:40:58.645305",
     "exception": false,
     "start_time": "2020-10-22T17:40:58.438372",
     "status": "completed"
    },
    "tags": []
   },
   "source": [
    "Now, let's test the model in the test set."
   ]
  },
  {
   "cell_type": "code",
   "execution_count": 1062,
   "metadata": {
    "execution": {
     "iopub.execute_input": "2020-10-22T17:40:59.079189Z",
     "iopub.status.busy": "2020-10-22T17:40:59.074152Z",
     "iopub.status.idle": "2020-10-22T17:40:59.084878Z",
     "shell.execute_reply": "2020-10-22T17:40:59.084003Z"
    },
    "papermill": {
     "duration": 0.233609,
     "end_time": "2020-10-22T17:40:59.085024",
     "exception": false,
     "start_time": "2020-10-22T17:40:58.851415",
     "status": "completed"
    },
    "tags": []
   },
   "outputs": [
    {
     "data": {
      "text/plain": [
       "{'Training MAE': 0.0127365831606361,\n",
       " 'Test MAE': 0.011645972980826222,\n",
       " 'Training MSE': 0.0003143433343982977,\n",
       " 'Test MSE': 0.00022621501630385805,\n",
       " 'Training R^2': 0.02761307230754184,\n",
       " 'Test R^2': -0.08584355530667698}"
      ]
     },
     "execution_count": 1062,
     "metadata": {},
     "output_type": "execute_result"
    }
   ],
   "source": [
    "# Get data to test model\n",
    "X_test = test_data[features]\n",
    "y_test = test_data[target]\n",
    "\n",
    "show_scores(regressor, X_train, X_test , y_train, y_test)"
   ]
  },
  {
   "cell_type": "markdown",
   "metadata": {
    "papermill": {
     "duration": 0.211184,
     "end_time": "2020-10-22T17:41:02.227486",
     "exception": false,
     "start_time": "2020-10-22T17:41:02.016302",
     "status": "completed"
    },
    "tags": []
   },
   "source": [
    "### Training and testing multiple models\n",
    "\n",
    "Now that we have a general flow of testing our model, let's build a function to test different models.\n",
    "\n",
    "We will use, besides our Ridge regressor, three other models:\n",
    "* [SVR](https://scikit-learn.org/stable/modules/generated/sklearn.svm.SVR.html#sklearn.svm.SVR)\n",
    "* [Random Forest Regressor](https://scikit-learn.org/stable/modules/generated/sklearn.ensemble.RandomForestRegressor.html)\n",
    "*  [XGBoost Regressor](https://xgboost.readthedocs.io/en/latest/python/python_api.html#module-xgboost.sklearn)\n",
    "\n",
    "As tree base models don't require scaling as we have done for Ridge regressor, our function will have to account for scaling as a parameter. The main goal is to print out various metrics for each model."
   ]
  },
  {
   "cell_type": "code",
   "execution_count": 1063,
   "metadata": {
    "execution": {
     "iopub.execute_input": "2020-10-22T17:41:02.668865Z",
     "iopub.status.busy": "2020-10-22T17:41:02.668018Z",
     "iopub.status.idle": "2020-10-22T17:41:03.179089Z",
     "shell.execute_reply": "2020-10-22T17:41:03.178134Z"
    },
    "papermill": {
     "duration": 0.736038,
     "end_time": "2020-10-22T17:41:03.179242",
     "exception": false,
     "start_time": "2020-10-22T17:41:02.443204",
     "status": "completed"
    },
    "tags": []
   },
   "outputs": [],
   "source": [
    "from sklearn.svm import SVR\n",
    "from sklearn.ensemble import RandomForestRegressor\n",
    "from xgboost.sklearn import XGBRegressor\n",
    "\n",
    "# First, we create a dict with our desired models\n",
    "models = {'Ridge':Ridge(random_state=28),\n",
    "          'SVR':SVR(),\n",
    "          'RandomForest':RandomForestRegressor(),\n",
    "          'XGBoost':XGBRegressor(n_estimators = 1000, learning_rate = 0.05)}\n",
    "\n",
    "# Now to build the function that tests each model\n",
    "def model_build(model, X_train, y_train, X_test, y_test, scale=True):\n",
    "    \n",
    "    if scale:\n",
    "        regressor = Pipeline([\n",
    "            ('scaler', StandardScaler()),\n",
    "            ('estimator', model)\n",
    "        ])\n",
    "    \n",
    "    else:\n",
    "        regressor = Pipeline([\n",
    "            ('estimator', model)\n",
    "        ])\n",
    "\n",
    "    # Training\n",
    "    regressor.fit(X_train, y_train)\n",
    "\n",
    "    # Scoring the training set\n",
    "\n",
    "    train_preds = regressor.predict(X_train)\n",
    "    print(f\"R2 on single split: {regressor.score(X_train, y_train)}\")\n",
    "\n",
    "    # Cross validate\n",
    "    cv_score = cross_val_score(regressor, X_train, y_train, cv = 10)\n",
    "\n",
    "    print(f\"Cross validate R2 score: {cv_score.mean()}\")\n",
    "\n",
    "    # Scoring the test set\n",
    "    for k, v in show_scores(regressor, X_train, X_test , y_train, y_test).items():\n",
    "        print(\"     \", k, v)"
   ]
  },
  {
   "cell_type": "markdown",
   "metadata": {
    "papermill": {
     "duration": 0.209949,
     "end_time": "2020-10-22T17:41:03.610268",
     "exception": false,
     "start_time": "2020-10-22T17:41:03.400319",
     "status": "completed"
    },
    "tags": []
   },
   "source": [
    "Now that we have our helper function, we loop through our `models` dictionary and score each one of them."
   ]
  },
  {
   "cell_type": "code",
   "execution_count": 1064,
   "metadata": {
    "execution": {
     "iopub.execute_input": "2020-10-22T17:41:04.045384Z",
     "iopub.status.busy": "2020-10-22T17:41:04.039998Z",
     "iopub.status.idle": "2020-10-22T17:41:09.957638Z",
     "shell.execute_reply": "2020-10-22T17:41:09.958691Z"
    },
    "papermill": {
     "duration": 6.140509,
     "end_time": "2020-10-22T17:41:09.958907",
     "exception": false,
     "start_time": "2020-10-22T17:41:03.818398",
     "status": "completed"
    },
    "tags": []
   },
   "outputs": [
    {
     "name": "stdout",
     "output_type": "stream",
     "text": [
      "==== Scoring Ridge model====\n",
      "R2 on single split: 0.02761307230754184\n",
      "Cross validate R2 score: -0.12430050810505913\n",
      "      Training MAE 0.0127365831606361\n",
      "      Test MAE 0.011645972980826222\n",
      "      Training MSE 0.0003143433343982977\n",
      "      Test MSE 0.00022621501630385805\n",
      "      Training R^2 0.02761307230754184\n",
      "      Test R^2 -0.08584355530667698\n",
      "\n",
      "========================================\n",
      "==== Scoring SVR model====\n",
      "R2 on single split: -2.2540997652402153\n",
      "Cross validate R2 score: -4.194796518738435\n",
      "      Training MAE 0.03021768788356765\n",
      "      Test MAE 0.030708899196140314\n",
      "      Training MSE 0.0010519522029134541\n",
      "      Test MSE 0.0010745296406383118\n",
      "      Training R^2 -2.2540997652402153\n",
      "      Test R^2 -4.15779679146442\n",
      "\n",
      "========================================\n",
      "==== Scoring RandomForest model====\n",
      "R2 on single split: 0.8378498289111713\n",
      "Cross validate R2 score: -0.38587182353865945\n",
      "      Training MAE 0.0054822515065915045\n",
      "      Test MAE 0.013316193556703184\n",
      "      Training MSE 5.241825450520419e-05\n",
      "      Test MSE 0.0003382991771253241\n",
      "      Training R^2 0.8378498289111713\n",
      "      Test R^2 -0.6238532138541335\n",
      "\n",
      "========================================\n",
      "==== Scoring XGBoost model====\n",
      "R2 on single split: 0.9913928712517096\n",
      "Cross validate R2 score: -0.8174641024035078\n",
      "      Training MAE 0.00124373880262786\n",
      "      Test MAE 0.01328951200582072\n",
      "      Training MSE 2.7824248488753515e-06\n",
      "      Test MSE 0.00036267872942586965\n",
      "      Training R^2 0.9913928712517096\n",
      "      Test R^2 -0.7408763017964968\n",
      "\n",
      "========================================\n"
     ]
    }
   ],
   "source": [
    "for name, model in models.items():\n",
    "    print(f\"==== Scoring {name} model====\")\n",
    "    \n",
    "    if name == 'RandomForest' or name == 'XGBoost':\n",
    "        model_build(model, X_train, y_train, X_test, y_test, scale=False)\n",
    "    else:\n",
    "        model_build(model, X_train, y_train, X_test, y_test,)\n",
    "    print()\n",
    "    print(40*\"=\")\n",
    "        "
   ]
  },
  {
   "cell_type": "markdown",
   "metadata": {
    "papermill": {
     "duration": 0.213618,
     "end_time": "2020-10-22T17:41:10.422713",
     "exception": false,
     "start_time": "2020-10-22T17:41:10.209095",
     "status": "completed"
    },
    "tags": []
   },
   "source": [
    "### Hyperparameter tunning for XGBoost model\n",
    "\n",
    "We can pick our best perfroming model and try some hyperparameter tunning with a simple [GridSearch](https://scikit-learn.org/stable/modules/generated/sklearn.model_selection.GridSearchCV.html).\n",
    "\n",
    "Let's start by defining our parameters:"
   ]
  },
  {
   "cell_type": "code",
   "execution_count": 1065,
   "metadata": {
    "execution": {
     "iopub.execute_input": "2020-10-22T17:41:10.864203Z",
     "iopub.status.busy": "2020-10-22T17:41:10.863098Z",
     "iopub.status.idle": "2020-10-22T17:41:10.867048Z",
     "shell.execute_reply": "2020-10-22T17:41:10.866389Z"
    },
    "papermill": {
     "duration": 0.223589,
     "end_time": "2020-10-22T17:41:10.867179",
     "exception": false,
     "start_time": "2020-10-22T17:41:10.643590",
     "status": "completed"
    },
    "tags": []
   },
   "outputs": [],
   "source": [
    "xgb = XGBRegressor()\n",
    "\n",
    "parameters = {'nthread':[4], #when use hyperthread, xgboost may become slower\n",
    "              'objective':['reg:squarederror'],\n",
    "              'learning_rate': [.03, 0.05, .07], #so called `eta` value\n",
    "              'max_depth': [5, 6, 7],\n",
    "              'min_child_weight': [4],\n",
    "              'subsample': [0.7],\n",
    "              'colsample_bytree': [0.7],\n",
    "              'n_estimators': [500, 1000]}"
   ]
  },
  {
   "cell_type": "markdown",
   "metadata": {
    "papermill": {
     "duration": 0.213529,
     "end_time": "2020-10-22T17:41:11.295243",
     "exception": false,
     "start_time": "2020-10-22T17:41:11.081714",
     "status": "completed"
    },
    "tags": []
   },
   "source": [
    "Now we can do the search (note that it can take a long time)."
   ]
  },
  {
   "cell_type": "code",
   "execution_count": 1066,
   "metadata": {
    "execution": {
     "iopub.execute_input": "2020-10-22T17:41:11.729140Z",
     "iopub.status.busy": "2020-10-22T17:41:11.728019Z",
     "iopub.status.idle": "2020-10-22T17:41:11.731416Z",
     "shell.execute_reply": "2020-10-22T17:41:11.730716Z"
    },
    "papermill": {
     "duration": 0.223122,
     "end_time": "2020-10-22T17:41:11.731543",
     "exception": false,
     "start_time": "2020-10-22T17:41:11.508421",
     "status": "completed"
    },
    "tags": []
   },
   "outputs": [],
   "source": [
    "# from sklearn.model_selection import GridSearchCV\n",
    "\n",
    "# xgb_grid = GridSearchCV(xgb, parameters, cv = 5, n_jobs = 4, verbose = True)\n",
    "\n",
    "# xgb_grid.fit(X_train, y_train)\n",
    "\n",
    "# print(xgb_grid.best_score_)\n",
    "# print(xgb_grid.best_params_)\n",
    "\n",
    "## RAN AND GOT THE PARAMETERS USED BELLOW"
   ]
  },
  {
   "cell_type": "code",
   "execution_count": 1067,
   "metadata": {
    "execution": {
     "iopub.execute_input": "2020-10-22T17:41:12.169813Z",
     "iopub.status.busy": "2020-10-22T17:41:12.168781Z",
     "iopub.status.idle": "2020-10-22T17:41:12.172375Z",
     "shell.execute_reply": "2020-10-22T17:41:12.171629Z"
    },
    "papermill": {
     "duration": 0.227638,
     "end_time": "2020-10-22T17:41:12.172502",
     "exception": false,
     "start_time": "2020-10-22T17:41:11.944864",
     "status": "completed"
    },
    "tags": []
   },
   "outputs": [],
   "source": [
    "xgb_best = XGBRegressor(colsample_bytree = 0.7,\n",
    "                        learning_rate = 0.05,\n",
    "                        max_depth = 6,\n",
    "                        min_child_weight = 4,\n",
    "                        n_estimators = 500,\n",
    "                        nthread = 4,\n",
    "                        objective = 'reg:squarederror',\n",
    "                        subsample = 0.7)"
   ]
  },
  {
   "cell_type": "code",
   "execution_count": 1068,
   "metadata": {
    "execution": {
     "iopub.execute_input": "2020-10-22T17:41:12.608144Z",
     "iopub.status.busy": "2020-10-22T17:41:12.607338Z",
     "iopub.status.idle": "2020-10-22T17:41:13.977315Z",
     "shell.execute_reply": "2020-10-22T17:41:13.978220Z"
    },
    "papermill": {
     "duration": 1.59199,
     "end_time": "2020-10-22T17:41:13.978417",
     "exception": false,
     "start_time": "2020-10-22T17:41:12.386427",
     "status": "completed"
    },
    "tags": []
   },
   "outputs": [
    {
     "name": "stdout",
     "output_type": "stream",
     "text": [
      "R2 on single split: 0.9842437955101512\n",
      "Cross validate R2 score: -0.92672054346963\n",
      "      Training MAE 0.0016154164907529046\n",
      "      Test MAE 0.01380093788841862\n",
      "      Training MSE 5.093505183737897e-06\n",
      "      Test MSE 0.0004106568820805494\n",
      "      Training R^2 0.9842437955101512\n",
      "      Test R^2 -0.9711738687167499\n"
     ]
    }
   ],
   "source": [
    "model_build(xgb_best, X_train, y_train, X_test, y_test, scale=False)"
   ]
  },
  {
   "cell_type": "code",
   "execution_count": 1105,
   "metadata": {
    "execution": {
     "iopub.execute_input": "2020-10-22T17:41:17.876568Z",
     "iopub.status.busy": "2020-10-22T17:41:17.875441Z",
     "iopub.status.idle": "2020-10-22T17:41:17.879046Z",
     "shell.execute_reply": "2020-10-22T17:41:17.878458Z"
    },
    "papermill": {
     "duration": 0.230764,
     "end_time": "2020-10-22T17:41:17.879174",
     "exception": false,
     "start_time": "2020-10-22T17:41:17.648410",
     "status": "completed"
    },
    "tags": []
   },
   "outputs": [],
   "source": [
    "# First, we create a dict with our desired models\n",
    "models = {'Ridge':Ridge(random_state=28),\n",
    "          'SVR':SVR(),\n",
    "          'RandomForest':RandomForestRegressor(),\n",
    "          'XGBoost':XGBRegressor(n_estimators = 1000, learning_rate = 0.05)}"
   ]
  },
  {
   "cell_type": "code",
   "execution_count": 1106,
   "metadata": {
    "execution": {
     "iopub.execute_input": "2020-10-22T17:41:18.399128Z",
     "iopub.status.busy": "2020-10-22T17:41:18.380065Z",
     "iopub.status.idle": "2020-10-22T17:41:22.871488Z",
     "shell.execute_reply": "2020-10-22T17:41:22.872339Z"
    },
    "papermill": {
     "duration": 4.717919,
     "end_time": "2020-10-22T17:41:22.872521",
     "exception": false,
     "start_time": "2020-10-22T17:41:18.154602",
     "status": "completed"
    },
    "scrolled": false,
    "tags": []
   },
   "outputs": [
    {
     "name": "stdout",
     "output_type": "stream",
     "text": [
      "==== Scoring Ridge model====\n",
      "R2 on single split: 0.02761307230754184\n",
      "Cross validate R2 score: -0.12430050810505913\n",
      "      Training MAE 0.0127365831606361\n",
      "      Test MAE 0.011645972980826222\n",
      "      Training MSE 0.0003143433343982977\n",
      "      Test MSE 0.00022621501630385805\n",
      "      Training R^2 0.02761307230754184\n",
      "      Test R^2 -0.08584355530667698\n",
      "\n",
      "========================================\n",
      "==== Scoring SVR model====\n",
      "R2 on single split: -2.2540997652402153\n",
      "Cross validate R2 score: -4.194796518738435\n",
      "      Training MAE 0.03021768788356765\n",
      "      Test MAE 0.030708899196140314\n",
      "      Training MSE 0.0010519522029134541\n",
      "      Test MSE 0.0010745296406383118\n",
      "      Training R^2 -2.2540997652402153\n",
      "      Test R^2 -4.15779679146442\n",
      "\n",
      "========================================\n",
      "==== Scoring RandomForest model====\n",
      "R2 on single split: 0.8358006089338199\n",
      "Cross validate R2 score: -0.46696210469432753\n",
      "      Training MAE 0.0054266301591971286\n",
      "      Test MAE 0.01314999230612449\n",
      "      Training MSE 5.308070545168584e-05\n",
      "      Test MSE 0.00033990669903519443\n",
      "      Training R^2 0.8358006089338199\n",
      "      Test R^2 -0.6315694005793437\n",
      "\n",
      "========================================\n",
      "==== Scoring XGBoost model====\n",
      "R2 on single split: 0.9913928712517096\n",
      "Cross validate R2 score: -0.8174641024035078\n",
      "      Training MAE 0.00124373880262786\n",
      "      Test MAE 0.01328951200582072\n",
      "      Training MSE 2.7824248488753515e-06\n",
      "      Test MSE 0.00036267872942586965\n",
      "      Training R^2 0.9913928712517096\n",
      "      Test R^2 -0.7408763017964968\n",
      "\n",
      "========================================\n"
     ]
    }
   ],
   "source": [
    "for name, model in models.items():\n",
    "    print(f\"==== Scoring {name} model====\")\n",
    "    \n",
    "    if name == 'RandomForest' or name == 'XGBoost':\n",
    "        model_build(model, X_train, y_train, X_test, y_test, scale=False)\n",
    "    else:\n",
    "        model_build(model, X_train, y_train, X_test, y_test,)\n",
    "    print()\n",
    "    print(40*\"=\")"
   ]
  },
  {
   "cell_type": "markdown",
   "metadata": {
    "papermill": {
     "duration": 0.217736,
     "end_time": "2020-10-22T17:41:23.359248",
     "exception": false,
     "start_time": "2020-10-22T17:41:23.141512",
     "status": "completed"
    },
    "tags": []
   },
   "source": [
    "### Building best performing model"
   ]
  },
  {
   "cell_type": "code",
   "execution_count": 1107,
   "metadata": {
    "execution": {
     "iopub.execute_input": "2020-10-22T17:41:23.806807Z",
     "iopub.status.busy": "2020-10-22T17:41:23.805712Z",
     "iopub.status.idle": "2020-10-22T17:41:23.808790Z",
     "shell.execute_reply": "2020-10-22T17:41:23.809377Z"
    },
    "papermill": {
     "duration": 0.230017,
     "end_time": "2020-10-22T17:41:23.809541",
     "exception": false,
     "start_time": "2020-10-22T17:41:23.579524",
     "status": "completed"
    },
    "tags": []
   },
   "outputs": [],
   "source": [
    "model = XGBRegressor(n_estimators = 1000, learning_rate = 0.05)"
   ]
  },
  {
   "cell_type": "markdown",
   "metadata": {
    "papermill": {
     "duration": 0.227064,
     "end_time": "2020-10-22T17:41:24.261166",
     "exception": false,
     "start_time": "2020-10-22T17:41:24.034102",
     "status": "completed"
    },
    "tags": []
   },
   "source": [
    "#### Training"
   ]
  },
  {
   "cell_type": "code",
   "execution_count": 1108,
   "metadata": {
    "execution": {
     "iopub.execute_input": "2020-10-22T17:41:24.774417Z",
     "iopub.status.busy": "2020-10-22T17:41:24.769130Z",
     "iopub.status.idle": "2020-10-22T17:41:24.954079Z",
     "shell.execute_reply": "2020-10-22T17:41:24.953432Z"
    },
    "papermill": {
     "duration": 0.457022,
     "end_time": "2020-10-22T17:41:24.954212",
     "exception": false,
     "start_time": "2020-10-22T17:41:24.497190",
     "status": "completed"
    },
    "tags": []
   },
   "outputs": [
    {
     "data": {
      "text/html": [
       "<style>div.sk-top-container {color: black;background-color: white;}div.sk-toggleable {background-color: white;}label.sk-toggleable__label {cursor: pointer;display: block;width: 100%;margin-bottom: 0;padding: 0.2em 0.3em;box-sizing: border-box;text-align: center;}div.sk-toggleable__content {max-height: 0;max-width: 0;overflow: hidden;text-align: left;background-color: #f0f8ff;}div.sk-toggleable__content pre {margin: 0.2em;color: black;border-radius: 0.25em;background-color: #f0f8ff;}input.sk-toggleable__control:checked~div.sk-toggleable__content {max-height: 200px;max-width: 100%;overflow: auto;}div.sk-estimator input.sk-toggleable__control:checked~label.sk-toggleable__label {background-color: #d4ebff;}div.sk-label input.sk-toggleable__control:checked~label.sk-toggleable__label {background-color: #d4ebff;}input.sk-hidden--visually {border: 0;clip: rect(1px 1px 1px 1px);clip: rect(1px, 1px, 1px, 1px);height: 1px;margin: -1px;overflow: hidden;padding: 0;position: absolute;width: 1px;}div.sk-estimator {font-family: monospace;background-color: #f0f8ff;margin: 0.25em 0.25em;border: 1px dotted black;border-radius: 0.25em;box-sizing: border-box;}div.sk-estimator:hover {background-color: #d4ebff;}div.sk-parallel-item::after {content: \"\";width: 100%;border-bottom: 1px solid gray;flex-grow: 1;}div.sk-label:hover label.sk-toggleable__label {background-color: #d4ebff;}div.sk-serial::before {content: \"\";position: absolute;border-left: 1px solid gray;box-sizing: border-box;top: 2em;bottom: 0;left: 50%;}div.sk-serial {display: flex;flex-direction: column;align-items: center;background-color: white;}div.sk-item {z-index: 1;}div.sk-parallel {display: flex;align-items: stretch;justify-content: center;background-color: white;}div.sk-parallel-item {display: flex;flex-direction: column;position: relative;background-color: white;}div.sk-parallel-item:first-child::after {align-self: flex-end;width: 50%;}div.sk-parallel-item:last-child::after {align-self: flex-start;width: 50%;}div.sk-parallel-item:only-child::after {width: 0;}div.sk-dashed-wrapped {border: 1px dashed gray;margin: 0.2em;box-sizing: border-box;padding-bottom: 0.1em;background-color: white;position: relative;}div.sk-label label {font-family: monospace;font-weight: bold;background-color: white;display: inline-block;line-height: 1.2em;}div.sk-label-container {position: relative;z-index: 2;text-align: center;}div.sk-container {display: inline-block;position: relative;}</style><div class=\"sk-top-container\"><div class=\"sk-container\"><div class=\"sk-item\"><div class=\"sk-estimator sk-toggleable\"><input class=\"sk-toggleable__control sk-hidden--visually\" id=\"6b96a082-d747-45ef-a2b1-69e9bbd5997b\" type=\"checkbox\" checked><label class=\"sk-toggleable__label\" for=\"6b96a082-d747-45ef-a2b1-69e9bbd5997b\">XGBRegressor</label><div class=\"sk-toggleable__content\"><pre>XGBRegressor(base_score=0.5, booster='gbtree', colsample_bylevel=1,\n",
       "             colsample_bynode=1, colsample_bytree=1, gamma=0, gpu_id=-1,\n",
       "             importance_type='gain', interaction_constraints='',\n",
       "             learning_rate=0.05, max_delta_step=0, max_depth=6,\n",
       "             min_child_weight=1, missing=nan, monotone_constraints='()',\n",
       "             n_estimators=1000, n_jobs=0, num_parallel_tree=1, random_state=0,\n",
       "             reg_alpha=0, reg_lambda=1, scale_pos_weight=1, subsample=1,\n",
       "             tree_method='exact', validate_parameters=1, verbosity=None)</pre></div></div></div></div></div>"
      ],
      "text/plain": [
       "XGBRegressor(base_score=0.5, booster='gbtree', colsample_bylevel=1,\n",
       "             colsample_bynode=1, colsample_bytree=1, gamma=0, gpu_id=-1,\n",
       "             importance_type='gain', interaction_constraints='',\n",
       "             learning_rate=0.05, max_delta_step=0, max_depth=6,\n",
       "             min_child_weight=1, missing=nan, monotone_constraints='()',\n",
       "             n_estimators=1000, n_jobs=0, num_parallel_tree=1, random_state=0,\n",
       "             reg_alpha=0, reg_lambda=1, scale_pos_weight=1, subsample=1,\n",
       "             tree_method='exact', validate_parameters=1, verbosity=None)"
      ]
     },
     "execution_count": 1108,
     "metadata": {},
     "output_type": "execute_result"
    }
   ],
   "source": [
    "model.fit(X_train, y_train)"
   ]
  },
  {
   "cell_type": "markdown",
   "metadata": {
    "papermill": {
     "duration": 0.226172,
     "end_time": "2020-10-22T17:41:25.410326",
     "exception": false,
     "start_time": "2020-10-22T17:41:25.184154",
     "status": "completed"
    },
    "tags": []
   },
   "source": [
    "#### Making predictions and visualizing"
   ]
  },
  {
   "cell_type": "code",
   "execution_count": 1109,
   "metadata": {
    "execution": {
     "iopub.execute_input": "2020-10-22T17:41:25.876829Z",
     "iopub.status.busy": "2020-10-22T17:41:25.875566Z",
     "iopub.status.idle": "2020-10-22T17:41:25.897012Z",
     "shell.execute_reply": "2020-10-22T17:41:25.896403Z"
    },
    "papermill": {
     "duration": 0.260303,
     "end_time": "2020-10-22T17:41:25.897165",
     "exception": false,
     "start_time": "2020-10-22T17:41:25.636862",
     "status": "completed"
    },
    "scrolled": false,
    "tags": []
   },
   "outputs": [
    {
     "data": {
      "text/html": [
       "<div>\n",
       "<style scoped>\n",
       "    .dataframe tbody tr th:only-of-type {\n",
       "        vertical-align: middle;\n",
       "    }\n",
       "\n",
       "    .dataframe tbody tr th {\n",
       "        vertical-align: top;\n",
       "    }\n",
       "\n",
       "    .dataframe thead th {\n",
       "        text-align: right;\n",
       "    }\n",
       "</style>\n",
       "<table border=\"1\" class=\"dataframe\">\n",
       "  <thead>\n",
       "    <tr style=\"text-align: right;\">\n",
       "      <th></th>\n",
       "      <th>KCal</th>\n",
       "      <th>Fat</th>\n",
       "      <th>Protein</th>\n",
       "      <th>Mortality</th>\n",
       "      <th>Mortality_pred</th>\n",
       "    </tr>\n",
       "  </thead>\n",
       "  <tbody>\n",
       "    <tr>\n",
       "      <th>27</th>\n",
       "      <td>7546.195427</td>\n",
       "      <td>5935.027312</td>\n",
       "      <td>5456.127332</td>\n",
       "      <td>0.012768</td>\n",
       "      <td>0.016281</td>\n",
       "    </tr>\n",
       "    <tr>\n",
       "      <th>150</th>\n",
       "      <td>8117.010958</td>\n",
       "      <td>6109.029769</td>\n",
       "      <td>6785.675673</td>\n",
       "      <td>0.000000</td>\n",
       "      <td>0.037877</td>\n",
       "    </tr>\n",
       "    <tr>\n",
       "      <th>89</th>\n",
       "      <td>8769.123190</td>\n",
       "      <td>7986.437206</td>\n",
       "      <td>7162.956082</td>\n",
       "      <td>0.059377</td>\n",
       "      <td>0.007440</td>\n",
       "    </tr>\n",
       "    <tr>\n",
       "      <th>16</th>\n",
       "      <td>8830.549889</td>\n",
       "      <td>8201.068654</td>\n",
       "      <td>7352.648613</td>\n",
       "      <td>0.016426</td>\n",
       "      <td>0.007440</td>\n",
       "    </tr>\n",
       "    <tr>\n",
       "      <th>125</th>\n",
       "      <td>5859.262177</td>\n",
       "      <td>4822.360177</td>\n",
       "      <td>5037.696251</td>\n",
       "      <td>0.032436</td>\n",
       "      <td>0.021915</td>\n",
       "    </tr>\n",
       "    <tr>\n",
       "      <th>101</th>\n",
       "      <td>4967.477950</td>\n",
       "      <td>5084.516938</td>\n",
       "      <td>5064.286681</td>\n",
       "      <td>0.000000</td>\n",
       "      <td>0.025177</td>\n",
       "    </tr>\n",
       "    <tr>\n",
       "      <th>142</th>\n",
       "      <td>8305.372966</td>\n",
       "      <td>7313.320247</td>\n",
       "      <td>6627.416947</td>\n",
       "      <td>0.002311</td>\n",
       "      <td>0.018619</td>\n",
       "    </tr>\n",
       "    <tr>\n",
       "      <th>72</th>\n",
       "      <td>5564.213420</td>\n",
       "      <td>4888.258767</td>\n",
       "      <td>4818.872628</td>\n",
       "      <td>0.036319</td>\n",
       "      <td>0.033317</td>\n",
       "    </tr>\n",
       "    <tr>\n",
       "      <th>65</th>\n",
       "      <td>6662.127120</td>\n",
       "      <td>5755.230933</td>\n",
       "      <td>5693.896894</td>\n",
       "      <td>0.028820</td>\n",
       "      <td>0.029459</td>\n",
       "    </tr>\n",
       "    <tr>\n",
       "      <th>39</th>\n",
       "      <td>5104.554213</td>\n",
       "      <td>4850.748187</td>\n",
       "      <td>4894.069402</td>\n",
       "      <td>0.018875</td>\n",
       "      <td>0.016563</td>\n",
       "    </tr>\n",
       "    <tr>\n",
       "      <th>111</th>\n",
       "      <td>6768.479777</td>\n",
       "      <td>5663.220762</td>\n",
       "      <td>5788.776404</td>\n",
       "      <td>0.028769</td>\n",
       "      <td>0.027580</td>\n",
       "    </tr>\n",
       "    <tr>\n",
       "      <th>17</th>\n",
       "      <td>6579.898708</td>\n",
       "      <td>4426.065118</td>\n",
       "      <td>5244.500937</td>\n",
       "      <td>0.060776</td>\n",
       "      <td>0.019041</td>\n",
       "    </tr>\n",
       "    <tr>\n",
       "      <th>55</th>\n",
       "      <td>6226.577178</td>\n",
       "      <td>4978.037015</td>\n",
       "      <td>5496.872002</td>\n",
       "      <td>0.007662</td>\n",
       "      <td>0.028919</td>\n",
       "    </tr>\n",
       "    <tr>\n",
       "      <th>56</th>\n",
       "      <td>5318.887309</td>\n",
       "      <td>4895.021704</td>\n",
       "      <td>4824.543905</td>\n",
       "      <td>0.026101</td>\n",
       "      <td>0.021874</td>\n",
       "    </tr>\n",
       "    <tr>\n",
       "      <th>144</th>\n",
       "      <td>7734.164871</td>\n",
       "      <td>6473.476946</td>\n",
       "      <td>5653.951037</td>\n",
       "      <td>0.021235</td>\n",
       "      <td>0.021998</td>\n",
       "    </tr>\n",
       "    <tr>\n",
       "      <th>53</th>\n",
       "      <td>7391.990407</td>\n",
       "      <td>5769.403943</td>\n",
       "      <td>5087.640264</td>\n",
       "      <td>0.006078</td>\n",
       "      <td>0.025071</td>\n",
       "    </tr>\n",
       "    <tr>\n",
       "      <th>134</th>\n",
       "      <td>8495.150329</td>\n",
       "      <td>7970.152328</td>\n",
       "      <td>7241.625456</td>\n",
       "      <td>0.020671</td>\n",
       "      <td>0.022347</td>\n",
       "    </tr>\n",
       "    <tr>\n",
       "      <th>138</th>\n",
       "      <td>5553.570463</td>\n",
       "      <td>4921.607061</td>\n",
       "      <td>4878.226750</td>\n",
       "      <td>0.013890</td>\n",
       "      <td>0.033392</td>\n",
       "    </tr>\n",
       "    <tr>\n",
       "      <th>166</th>\n",
       "      <td>6844.750882</td>\n",
       "      <td>3916.769336</td>\n",
       "      <td>5599.601905</td>\n",
       "      <td>0.030702</td>\n",
       "      <td>0.011642</td>\n",
       "    </tr>\n",
       "    <tr>\n",
       "      <th>68</th>\n",
       "      <td>7123.498310</td>\n",
       "      <td>5976.930099</td>\n",
       "      <td>6501.014368</td>\n",
       "      <td>0.015163</td>\n",
       "      <td>0.048483</td>\n",
       "    </tr>\n",
       "    <tr>\n",
       "      <th>0</th>\n",
       "      <td>7522.066958</td>\n",
       "      <td>5419.604222</td>\n",
       "      <td>6898.528000</td>\n",
       "      <td>0.037158</td>\n",
       "      <td>0.041372</td>\n",
       "    </tr>\n",
       "    <tr>\n",
       "      <th>40</th>\n",
       "      <td>8313.398856</td>\n",
       "      <td>7162.585064</td>\n",
       "      <td>7393.495956</td>\n",
       "      <td>0.011154</td>\n",
       "      <td>0.010819</td>\n",
       "    </tr>\n",
       "    <tr>\n",
       "      <th>58</th>\n",
       "      <td>5790.884288</td>\n",
       "      <td>5414.570338</td>\n",
       "      <td>4884.058994</td>\n",
       "      <td>0.020153</td>\n",
       "      <td>0.024747</td>\n",
       "    </tr>\n",
       "    <tr>\n",
       "      <th>76</th>\n",
       "      <td>6148.849212</td>\n",
       "      <td>5428.939758</td>\n",
       "      <td>4785.676131</td>\n",
       "      <td>0.017943</td>\n",
       "      <td>0.015693</td>\n",
       "    </tr>\n",
       "    <tr>\n",
       "      <th>79</th>\n",
       "      <td>7072.484152</td>\n",
       "      <td>5788.981650</td>\n",
       "      <td>6339.609120</td>\n",
       "      <td>0.018613</td>\n",
       "      <td>0.047452</td>\n",
       "    </tr>\n",
       "    <tr>\n",
       "      <th>54</th>\n",
       "      <td>7523.329046</td>\n",
       "      <td>7248.358667</td>\n",
       "      <td>6422.387785</td>\n",
       "      <td>0.032338</td>\n",
       "      <td>0.021587</td>\n",
       "    </tr>\n",
       "    <tr>\n",
       "      <th>115</th>\n",
       "      <td>5287.636618</td>\n",
       "      <td>4931.976772</td>\n",
       "      <td>4869.458342</td>\n",
       "      <td>0.016744</td>\n",
       "      <td>0.023991</td>\n",
       "    </tr>\n",
       "    <tr>\n",
       "      <th>152</th>\n",
       "      <td>6467.681972</td>\n",
       "      <td>5161.901160</td>\n",
       "      <td>5004.129173</td>\n",
       "      <td>0.018309</td>\n",
       "      <td>0.012805</td>\n",
       "    </tr>\n",
       "    <tr>\n",
       "      <th>11</th>\n",
       "      <td>8586.950232</td>\n",
       "      <td>7400.811220</td>\n",
       "      <td>7389.721420</td>\n",
       "      <td>0.014559</td>\n",
       "      <td>0.025560</td>\n",
       "    </tr>\n",
       "    <tr>\n",
       "      <th>57</th>\n",
       "      <td>9043.272851</td>\n",
       "      <td>8060.240443</td>\n",
       "      <td>7266.312995</td>\n",
       "      <td>0.006544</td>\n",
       "      <td>0.004580</td>\n",
       "    </tr>\n",
       "  </tbody>\n",
       "</table>\n",
       "</div>"
      ],
      "text/plain": [
       "            KCal          Fat      Protein  Mortality  Mortality_pred\n",
       "27   7546.195427  5935.027312  5456.127332   0.012768        0.016281\n",
       "150  8117.010958  6109.029769  6785.675673   0.000000        0.037877\n",
       "89   8769.123190  7986.437206  7162.956082   0.059377        0.007440\n",
       "16   8830.549889  8201.068654  7352.648613   0.016426        0.007440\n",
       "125  5859.262177  4822.360177  5037.696251   0.032436        0.021915\n",
       "101  4967.477950  5084.516938  5064.286681   0.000000        0.025177\n",
       "142  8305.372966  7313.320247  6627.416947   0.002311        0.018619\n",
       "72   5564.213420  4888.258767  4818.872628   0.036319        0.033317\n",
       "65   6662.127120  5755.230933  5693.896894   0.028820        0.029459\n",
       "39   5104.554213  4850.748187  4894.069402   0.018875        0.016563\n",
       "111  6768.479777  5663.220762  5788.776404   0.028769        0.027580\n",
       "17   6579.898708  4426.065118  5244.500937   0.060776        0.019041\n",
       "55   6226.577178  4978.037015  5496.872002   0.007662        0.028919\n",
       "56   5318.887309  4895.021704  4824.543905   0.026101        0.021874\n",
       "144  7734.164871  6473.476946  5653.951037   0.021235        0.021998\n",
       "53   7391.990407  5769.403943  5087.640264   0.006078        0.025071\n",
       "134  8495.150329  7970.152328  7241.625456   0.020671        0.022347\n",
       "138  5553.570463  4921.607061  4878.226750   0.013890        0.033392\n",
       "166  6844.750882  3916.769336  5599.601905   0.030702        0.011642\n",
       "68   7123.498310  5976.930099  6501.014368   0.015163        0.048483\n",
       "0    7522.066958  5419.604222  6898.528000   0.037158        0.041372\n",
       "40   8313.398856  7162.585064  7393.495956   0.011154        0.010819\n",
       "58   5790.884288  5414.570338  4884.058994   0.020153        0.024747\n",
       "76   6148.849212  5428.939758  4785.676131   0.017943        0.015693\n",
       "79   7072.484152  5788.981650  6339.609120   0.018613        0.047452\n",
       "54   7523.329046  7248.358667  6422.387785   0.032338        0.021587\n",
       "115  5287.636618  4931.976772  4869.458342   0.016744        0.023991\n",
       "152  6467.681972  5161.901160  5004.129173   0.018309        0.012805\n",
       "11   8586.950232  7400.811220  7389.721420   0.014559        0.025560\n",
       "57   9043.272851  8060.240443  7266.312995   0.006544        0.004580"
      ]
     },
     "execution_count": 1109,
     "metadata": {},
     "output_type": "execute_result"
    }
   ],
   "source": [
    "test_preds = model.predict(X_test)\n",
    "\n",
    "test_plot = X_test.copy()\n",
    "test_plot['Mortality'] = y_test\n",
    "test_plot['Mortality_pred'] = test_preds\n",
    "\n",
    "test_plot"
   ]
  },
  {
   "cell_type": "code",
   "execution_count": null,
   "metadata": {},
   "outputs": [],
   "source": []
  },
  {
   "cell_type": "code",
   "execution_count": 1110,
   "metadata": {
    "execution": {
     "iopub.execute_input": "2020-10-22T17:41:26.371950Z",
     "iopub.status.busy": "2020-10-22T17:41:26.370999Z",
     "iopub.status.idle": "2020-10-22T17:41:26.375142Z",
     "shell.execute_reply": "2020-10-22T17:41:26.374510Z"
    },
    "papermill": {
     "duration": 0.24778,
     "end_time": "2020-10-22T17:41:26.375290",
     "exception": false,
     "start_time": "2020-10-22T17:41:26.127510",
     "status": "completed"
    },
    "tags": []
   },
   "outputs": [],
   "source": [
    "def plotTest(col, target, data):\n",
    "    fig, ax = plt.subplots(figsize=[10,8])\n",
    "\n",
    "    sns.regplot(x = col, y = target, data = data, ax = ax, label=target)\n",
    "    sns.regplot(x = col, y = target+'_pred', data = data, ax = ax, label=target+'_pred')\n",
    "\n",
    "    plt.legend();"
   ]
  },
  {
   "cell_type": "markdown",
   "metadata": {
    "papermill": {
     "duration": 0.231609,
     "end_time": "2020-10-22T17:41:26.845360",
     "exception": false,
     "start_time": "2020-10-22T17:41:26.613751",
     "status": "completed"
    },
    "tags": []
   },
   "source": [
    "To visualize the resulting model, let's plot target (`Mortality`) dependecy with all features separately. In each plot, let's see both **real** data and predicted data."
   ]
  },
  {
   "cell_type": "code",
   "execution_count": 1111,
   "metadata": {
    "execution": {
     "iopub.execute_input": "2020-10-22T17:41:27.305666Z",
     "iopub.status.busy": "2020-10-22T17:41:27.304680Z",
     "iopub.status.idle": "2020-10-22T17:41:27.814262Z",
     "shell.execute_reply": "2020-10-22T17:41:27.813540Z"
    },
    "papermill": {
     "duration": 0.745024,
     "end_time": "2020-10-22T17:41:27.814385",
     "exception": false,
     "start_time": "2020-10-22T17:41:27.069361",
     "status": "completed"
    },
    "scrolled": false,
    "tags": []
   },
   "outputs": [
    {
     "data": {
      "image/png": "[encoded data removed]",
      "text/plain": [
       "<Figure size 720x576 with 1 Axes>"
      ]
     },
     "metadata": {
      "needs_background": "light"
     },
     "output_type": "display_data"
    }
   ],
   "source": [
    "plotTest('Fat', 'Mortality', test_plot)"
   ]
  },
  {
   "cell_type": "code",
   "execution_count": 1112,
   "metadata": {
    "execution": {
     "iopub.execute_input": "2020-10-22T17:41:28.283390Z",
     "iopub.status.busy": "2020-10-22T17:41:28.273418Z",
     "iopub.status.idle": "2020-10-22T17:41:28.807203Z",
     "shell.execute_reply": "2020-10-22T17:41:28.806435Z"
    },
    "papermill": {
     "duration": 0.763459,
     "end_time": "2020-10-22T17:41:28.807339",
     "exception": false,
     "start_time": "2020-10-22T17:41:28.043880",
     "status": "completed"
    },
    "tags": []
   },
   "outputs": [
    {
     "data": {
      "image/png": "[encoded data removed]",
      "text/plain": [
       "<Figure size 720x576 with 1 Axes>"
      ]
     },
     "metadata": {
      "needs_background": "light"
     },
     "output_type": "display_data"
    }
   ],
   "source": [
    "plotTest('KCal', 'Mortality', test_plot)"
   ]
  },
  {
   "cell_type": "code",
   "execution_count": 1113,
   "metadata": {
    "execution": {
     "iopub.execute_input": "2020-10-22T17:41:29.285374Z",
     "iopub.status.busy": "2020-10-22T17:41:29.280088Z",
     "iopub.status.idle": "2020-10-22T17:41:29.878916Z",
     "shell.execute_reply": "2020-10-22T17:41:29.878260Z"
    },
    "papermill": {
     "duration": 0.840824,
     "end_time": "2020-10-22T17:41:29.879072",
     "exception": false,
     "start_time": "2020-10-22T17:41:29.038248",
     "status": "completed"
    },
    "scrolled": false,
    "tags": []
   },
   "outputs": [
    {
     "data": {
      "image/png": "[encoded data removed]",
      "text/plain": [
       "<Figure size 720x576 with 1 Axes>"
      ]
     },
     "metadata": {
      "needs_background": "light"
     },
     "output_type": "display_data"
    }
   ],
   "source": [
    "plotTest('Protein', 'Mortality', test_plot)"
   ]
  },
  {
   "cell_type": "markdown",
   "metadata": {
    "papermill": {
     "duration": 0.240167,
     "end_time": "2020-10-22T17:41:48.549658",
     "exception": false,
     "start_time": "2020-10-22T17:41:48.309491",
     "status": "completed"
    },
    "tags": []
   },
   "source": [
    "## Clustering countries by mortality due to COVID-19"
   ]
  },
  {
   "cell_type": "code",
   "execution_count": 1089,
   "metadata": {
    "execution": {
     "iopub.execute_input": "2020-10-22T17:41:49.037824Z",
     "iopub.status.busy": "2020-10-22T17:41:49.036885Z",
     "iopub.status.idle": "2020-10-22T17:41:49.042552Z",
     "shell.execute_reply": "2020-10-22T17:41:49.041776Z"
    },
    "papermill": {
     "duration": 0.256945,
     "end_time": "2020-10-22T17:41:49.042680",
     "exception": false,
     "start_time": "2020-10-22T17:41:48.785735",
     "status": "completed"
    },
    "scrolled": false,
    "tags": []
   },
   "outputs": [],
   "source": [
    "X = data[features]"
   ]
  },
  {
   "cell_type": "markdown",
   "metadata": {
    "papermill": {
     "duration": 0.240928,
     "end_time": "2020-10-22T17:41:49.528722",
     "exception": false,
     "start_time": "2020-10-22T17:41:49.287794",
     "status": "completed"
    },
    "tags": []
   },
   "source": [
    "All centroid-based algorithms need a scaling step before modelling. And, as this is a case of unsupervised learning model, we don't need to split the data.\n",
    "\n",
    "Let's first instantiate our scaler."
   ]
  },
  {
   "cell_type": "code",
   "execution_count": 1090,
   "metadata": {
    "execution": {
     "iopub.execute_input": "2020-10-22T17:41:50.022732Z",
     "iopub.status.busy": "2020-10-22T17:41:50.020497Z",
     "iopub.status.idle": "2020-10-22T17:41:50.030359Z",
     "shell.execute_reply": "2020-10-22T17:41:50.031146Z"
    },
    "papermill": {
     "duration": 0.261426,
     "end_time": "2020-10-22T17:41:50.031338",
     "exception": false,
     "start_time": "2020-10-22T17:41:49.769912",
     "status": "completed"
    },
    "scrolled": false,
    "tags": []
   },
   "outputs": [
    {
     "data": {
      "text/html": [
       "<style>div.sk-top-container {color: black;background-color: white;}div.sk-toggleable {background-color: white;}label.sk-toggleable__label {cursor: pointer;display: block;width: 100%;margin-bottom: 0;padding: 0.2em 0.3em;box-sizing: border-box;text-align: center;}div.sk-toggleable__content {max-height: 0;max-width: 0;overflow: hidden;text-align: left;background-color: #f0f8ff;}div.sk-toggleable__content pre {margin: 0.2em;color: black;border-radius: 0.25em;background-color: #f0f8ff;}input.sk-toggleable__control:checked~div.sk-toggleable__content {max-height: 200px;max-width: 100%;overflow: auto;}div.sk-estimator input.sk-toggleable__control:checked~label.sk-toggleable__label {background-color: #d4ebff;}div.sk-label input.sk-toggleable__control:checked~label.sk-toggleable__label {background-color: #d4ebff;}input.sk-hidden--visually {border: 0;clip: rect(1px 1px 1px 1px);clip: rect(1px, 1px, 1px, 1px);height: 1px;margin: -1px;overflow: hidden;padding: 0;position: absolute;width: 1px;}div.sk-estimator {font-family: monospace;background-color: #f0f8ff;margin: 0.25em 0.25em;border: 1px dotted black;border-radius: 0.25em;box-sizing: border-box;}div.sk-estimator:hover {background-color: #d4ebff;}div.sk-parallel-item::after {content: \"\";width: 100%;border-bottom: 1px solid gray;flex-grow: 1;}div.sk-label:hover label.sk-toggleable__label {background-color: #d4ebff;}div.sk-serial::before {content: \"\";position: absolute;border-left: 1px solid gray;box-sizing: border-box;top: 2em;bottom: 0;left: 50%;}div.sk-serial {display: flex;flex-direction: column;align-items: center;background-color: white;}div.sk-item {z-index: 1;}div.sk-parallel {display: flex;align-items: stretch;justify-content: center;background-color: white;}div.sk-parallel-item {display: flex;flex-direction: column;position: relative;background-color: white;}div.sk-parallel-item:first-child::after {align-self: flex-end;width: 50%;}div.sk-parallel-item:last-child::after {align-self: flex-start;width: 50%;}div.sk-parallel-item:only-child::after {width: 0;}div.sk-dashed-wrapped {border: 1px dashed gray;margin: 0.2em;box-sizing: border-box;padding-bottom: 0.1em;background-color: white;position: relative;}div.sk-label label {font-family: monospace;font-weight: bold;background-color: white;display: inline-block;line-height: 1.2em;}div.sk-label-container {position: relative;z-index: 2;text-align: center;}div.sk-container {display: inline-block;position: relative;}</style><div class=\"sk-top-container\"><div class=\"sk-container\"><div class=\"sk-item\"><div class=\"sk-estimator sk-toggleable\"><input class=\"sk-toggleable__control sk-hidden--visually\" id=\"ecb4ab31-6de4-4e30-8fb1-9a5b9fc549fc\" type=\"checkbox\" checked><label class=\"sk-toggleable__label\" for=\"ecb4ab31-6de4-4e30-8fb1-9a5b9fc549fc\">StandardScaler</label><div class=\"sk-toggleable__content\"><pre>StandardScaler()</pre></div></div></div></div></div>"
      ],
      "text/plain": [
       "StandardScaler()"
      ]
     },
     "execution_count": 1090,
     "metadata": {},
     "output_type": "execute_result"
    }
   ],
   "source": [
    "scaler = StandardScaler()\n",
    "\n",
    "# Fit the scaler\n",
    "scaler.fit(X)"
   ]
  },
  {
   "cell_type": "code",
   "execution_count": 1091,
   "metadata": {
    "execution": {
     "iopub.execute_input": "2020-10-22T17:41:50.575369Z",
     "iopub.status.busy": "2020-10-22T17:41:50.574259Z",
     "iopub.status.idle": "2020-10-22T17:41:50.577957Z",
     "shell.execute_reply": "2020-10-22T17:41:50.578577Z"
    },
    "papermill": {
     "duration": 0.300227,
     "end_time": "2020-10-22T17:41:50.578737",
     "exception": false,
     "start_time": "2020-10-22T17:41:50.278510",
     "status": "completed"
    },
    "tags": []
   },
   "outputs": [
    {
     "name": "stdout",
     "output_type": "stream",
     "text": [
      "[-1.11022302e-15 -3.16783636e-16 -1.56911521e-16]\n",
      "[1. 1. 1.]\n"
     ]
    }
   ],
   "source": [
    "# Transform our data\n",
    "X_scaled = scaler.transform(X)\n",
    "\n",
    "# Sanity checks\n",
    "print(X_scaled.mean(axis = 0))\n",
    "\n",
    "print(X_scaled.std(axis=0))"
   ]
  },
  {
   "cell_type": "markdown",
   "metadata": {
    "papermill": {
     "duration": 0.241325,
     "end_time": "2020-10-22T17:41:51.072270",
     "exception": false,
     "start_time": "2020-10-22T17:41:50.830945",
     "status": "completed"
    },
    "tags": []
   },
   "source": [
    "### K-means modeling"
   ]
  },
  {
   "cell_type": "code",
   "execution_count": 1092,
   "metadata": {
    "execution": {
     "iopub.execute_input": "2020-10-22T17:41:51.598642Z",
     "iopub.status.busy": "2020-10-22T17:41:51.597798Z",
     "iopub.status.idle": "2020-10-22T17:41:51.722613Z",
     "shell.execute_reply": "2020-10-22T17:41:51.721770Z"
    },
    "papermill": {
     "duration": 0.411237,
     "end_time": "2020-10-22T17:41:51.722766",
     "exception": false,
     "start_time": "2020-10-22T17:41:51.311529",
     "status": "completed"
    },
    "tags": []
   },
   "outputs": [
    {
     "name": "stdout",
     "output_type": "stream",
     "text": [
      "[2 1 2 0 1 1 1 1 2 0 1 1 1 2 0 1 2 2 1 1 0 2 2 0 2 2 1 1 2 1 0 1 2 1 1 1 0\n",
      " 1 2 1 0 2 1 2 0 2 1 1 2 0 1 1 0 1 2 0 0 2 0 2 1 1 2 0 2 0 1 1 1 1 1 2 1 2\n",
      " 2 2 1 0 1 2 0 0 1 1 0 0 2 1 2 1 2 2 1 1 1 2 0 2 0 1 1 2 0 0 2 1 1 1 1 2 2\n",
      " 2 1 1 1 1 0 1 0 2 0 1 0 1 1 0 2 1 0 2 2 1 1 2 0 0 1 2 2 0 1 2 1 0 1 1 2 1\n",
      " 0 0]\n"
     ]
    }
   ],
   "source": [
    "from sklearn.cluster import KMeans\n",
    "\n",
    "# Instantiate the model\n",
    "kmeans = KMeans(n_clusters = 3)\n",
    "\n",
    "# Fit the model\n",
    "kmeans.fit(X_scaled)\n",
    "\n",
    "# Make predictions\n",
    "preds = kmeans.predict(X_scaled)\n",
    "\n",
    "print(preds)"
   ]
  },
  {
   "cell_type": "code",
   "execution_count": 1093,
   "metadata": {
    "execution": {
     "iopub.execute_input": "2020-10-22T17:41:52.212942Z",
     "iopub.status.busy": "2020-10-22T17:41:52.212194Z",
     "iopub.status.idle": "2020-10-22T17:41:52.216138Z",
     "shell.execute_reply": "2020-10-22T17:41:52.216857Z"
    },
    "papermill": {
     "duration": 0.25433,
     "end_time": "2020-10-22T17:41:52.217012",
     "exception": false,
     "start_time": "2020-10-22T17:41:51.962682",
     "status": "completed"
    },
    "scrolled": true,
    "tags": []
   },
   "outputs": [
    {
     "name": "stdout",
     "output_type": "stream",
     "text": [
      "[0 1 2]\n",
      "[37 66 47]\n"
     ]
    }
   ],
   "source": [
    "# Amount of countries in each cluster\n",
    "\n",
    "unique_countries, counts_countries = np.unique(preds, return_counts=True)\n",
    "print(unique_countries)\n",
    "print(counts_countries)"
   ]
  },
  {
   "cell_type": "markdown",
   "metadata": {
    "papermill": {
     "duration": 0.245904,
     "end_time": "2020-10-22T17:41:53.184619",
     "exception": false,
     "start_time": "2020-10-22T17:41:52.938715",
     "status": "completed"
    },
    "tags": []
   },
   "source": [
    "#### Visualizing"
   ]
  },
  {
   "cell_type": "code",
   "execution_count": 1094,
   "metadata": {
    "execution": {
     "iopub.execute_input": "2020-10-22T17:41:53.696858Z",
     "iopub.status.busy": "2020-10-22T17:41:53.695897Z",
     "iopub.status.idle": "2020-10-22T17:41:53.712338Z",
     "shell.execute_reply": "2020-10-22T17:41:53.711089Z"
    },
    "papermill": {
     "duration": 0.284861,
     "end_time": "2020-10-22T17:41:53.712559",
     "exception": false,
     "start_time": "2020-10-22T17:41:53.427698",
     "status": "completed"
    },
    "tags": []
   },
   "outputs": [
    {
     "data": {
      "text/html": [
       "<div>\n",
       "<style scoped>\n",
       "    .dataframe tbody tr th:only-of-type {\n",
       "        vertical-align: middle;\n",
       "    }\n",
       "\n",
       "    .dataframe tbody tr th {\n",
       "        vertical-align: top;\n",
       "    }\n",
       "\n",
       "    .dataframe thead th {\n",
       "        text-align: right;\n",
       "    }\n",
       "</style>\n",
       "<table border=\"1\" class=\"dataframe\">\n",
       "  <thead>\n",
       "    <tr style=\"text-align: right;\">\n",
       "      <th></th>\n",
       "      <th>Country</th>\n",
       "      <th>KCal</th>\n",
       "      <th>Fat</th>\n",
       "      <th>Protein</th>\n",
       "      <th>Mortality</th>\n",
       "      <th>cluster</th>\n",
       "    </tr>\n",
       "  </thead>\n",
       "  <tbody>\n",
       "    <tr>\n",
       "      <th>0</th>\n",
       "      <td>Afghanistan</td>\n",
       "      <td>7522.066958</td>\n",
       "      <td>5419.604222</td>\n",
       "      <td>6898.528000</td>\n",
       "      <td>0.037158</td>\n",
       "      <td>2</td>\n",
       "    </tr>\n",
       "    <tr>\n",
       "      <th>1</th>\n",
       "      <td>Albania</td>\n",
       "      <td>5443.876136</td>\n",
       "      <td>4650.934030</td>\n",
       "      <td>4863.214864</td>\n",
       "      <td>0.026167</td>\n",
       "      <td>1</td>\n",
       "    </tr>\n",
       "    <tr>\n",
       "      <th>2</th>\n",
       "      <td>Algeria</td>\n",
       "      <td>7332.662739</td>\n",
       "      <td>6301.239534</td>\n",
       "      <td>6373.076681</td>\n",
       "      <td>0.034148</td>\n",
       "      <td>2</td>\n",
       "    </tr>\n",
       "    <tr>\n",
       "      <th>3</th>\n",
       "      <td>Angola</td>\n",
       "      <td>8262.898702</td>\n",
       "      <td>6557.863825</td>\n",
       "      <td>6570.343202</td>\n",
       "      <td>0.031677</td>\n",
       "      <td>0</td>\n",
       "    </tr>\n",
       "    <tr>\n",
       "      <th>5</th>\n",
       "      <td>Argentina</td>\n",
       "      <td>5450.310065</td>\n",
       "      <td>4758.017067</td>\n",
       "      <td>4684.038805</td>\n",
       "      <td>0.026645</td>\n",
       "      <td>1</td>\n",
       "    </tr>\n",
       "  </tbody>\n",
       "</table>\n",
       "</div>"
      ],
      "text/plain": [
       "       Country         KCal          Fat      Protein  Mortality cluster\n",
       "0  Afghanistan  7522.066958  5419.604222  6898.528000   0.037158       2\n",
       "1      Albania  5443.876136  4650.934030  4863.214864   0.026167       1\n",
       "2      Algeria  7332.662739  6301.239534  6373.076681   0.034148       2\n",
       "3       Angola  8262.898702  6557.863825  6570.343202   0.031677       0\n",
       "5    Argentina  5450.310065  4758.017067  4684.038805   0.026645       1"
      ]
     },
     "execution_count": 1094,
     "metadata": {},
     "output_type": "execute_result"
    }
   ],
   "source": [
    "df_vis = data.copy()\n",
    "df_vis['cluster'] = [str(i) for i in preds]\n",
    "\n",
    "df_vis.head()"
   ]
  },
  {
   "cell_type": "code",
   "execution_count": 1095,
   "metadata": {
    "execution": {
     "iopub.execute_input": "2020-10-22T17:41:54.250376Z",
     "iopub.status.busy": "2020-10-22T17:41:54.223561Z",
     "iopub.status.idle": "2020-10-22T17:41:54.291537Z",
     "shell.execute_reply": "2020-10-22T17:41:54.292157Z"
    },
    "papermill": {
     "duration": 0.334652,
     "end_time": "2020-10-22T17:41:54.292338",
     "exception": false,
     "start_time": "2020-10-22T17:41:53.957686",
     "status": "completed"
    },
    "tags": []
   },
   "outputs": [
    {
     "data": {
      "application/vnd.plotly.v1+json": {
       "config": {
        "plotlyServerURL": "https://plot.ly"
       },
       "data": [
        {
         "hovertemplate": "<b>%{hovertext}</b><br><br>cluster=2<br>Fat=%{x}<br>Mortality=%{y}<extra></extra>",
         "hovertext": [
          "Afghanistan",
          "Algeria",
          "Azerbaijan",
          "Belize",
          "Bosnia and Herzegovina",
          "Botswana",
          "Cabo Verde",
          "Cambodia",
          "Central African Republic",
          "Chad",
          "Congo",
          "Cuba",
          "Dominican Republic",
          "El Salvador",
          "Eswatini",
          "Fiji",
          "Gabon",
          "Guatemala",
          "Guyana",
          "Honduras",
          "India",
          "Iran (Islamic Republic of)",
          "Jordan",
          "Kenya",
          "Korea, South",
          "Kuwait",
          "Lebanon",
          "Malaysia",
          "Mali",
          "Mauritania",
          "Mauritius",
          "Morocco",
          "Namibia",
          "Nicaragua",
          "North Macedonia",
          "Paraguay",
          "Peru",
          "Philippines",
          "Saudi Arabia",
          "South Africa",
          "Sudan",
          "Suriname",
          "Thailand",
          "Tunisia",
          "Turkey",
          "United Arab Emirates",
          "Venezuela (Bolivarian Republic of)"
         ],
         "legendgroup": "2",
         "marker": {
          "color": "#636efa",
          "symbol": "circle"
         },
         "mode": "markers",
         "name": "2",
         "orientation": "v",
         "showlegend": true,
         "type": "scatter",
         "x": [
          5419.604222280001,
          6301.23953428,
          4239.1269094399995,
          5157.99290872,
          5035.49758088,
          5677.5347668800005,
          5370.364333879999,
          5930.650342,
          5935.027312480001,
          5828.573874399999,
          6810.610423199999,
          4891.682561,
          6069.9932143999995,
          5163.44136928,
          5589.4189043999995,
          5679.67928072,
          5769.403943040001,
          6118.509497,
          5285.62191976,
          5755.23093264,
          5976.930099279999,
          6102.925783759999,
          6597.730773439999,
          5788.98164976,
          5522.72108288,
          5583.381973959999,
          6705.39288992,
          5774.5107228,
          5893.243185,
          5606.78347836,
          6521.232039,
          6265.16960088,
          6016.57902648,
          5663.22076216,
          5554.8448648,
          5568.97956304,
          5909.34336752,
          4304.34663404,
          5922.68881632,
          5549.86656388,
          5460.8173406000005,
          6473.47694644,
          5745.36297716,
          6501.1732461599995,
          6148.03871184,
          5410.5856044,
          5712.1880458
         ],
         "xaxis": "x",
         "y": [
          0.03715838856206697,
          0.034147502563351556,
          0.013908819958052779,
          0.015884221673137997,
          0.02876431724416482,
          0.003743982884649671,
          0.011153846153846136,
          0,
          0.01276771004942331,
          0.06690647482014393,
          0.024370681145113548,
          0.02029402364972836,
          0.01810679970739813,
          0.02924272089938742,
          0.020041465100207323,
          0.0625000000000001,
          0.006078343088698788,
          0.0348527052431618,
          0.029482071713147314,
          0.02882044282341889,
          0.015163359840506789,
          0.05744522857821567,
          0.009759354855279026,
          0.018613009140118864,
          0.017644969012750172,
          0.006077102163790727,
          0.008356634468734117,
          0.008893881945419646,
          0.038743762841209235,
          0.02138826925600308,
          0.023866348448687336,
          0.01693324001843539,
          0.010627940937854925,
          0.028768914627311785,
          0.035564149991592256,
          0.021766572891870447,
          0.038862635623219365,
          0.018584566039942182,
          0.015181722385524147,
          0.02622034047307767,
          0.06091518507723691,
          0.02123514513929471,
          0.01594594594594597,
          0.016078826035059807,
          0.02681113186979831,
          0.003999416394174248,
          0.008495313726395497
         ],
         "yaxis": "y"
        },
        {
         "hovertemplate": "<b>%{hovertext}</b><br><br>cluster=1<br>Fat=%{x}<br>Mortality=%{y}<extra></extra>",
         "hovertext": [
          "Albania",
          "Argentina",
          "Armenia",
          "Australia",
          "Austria",
          "Barbados",
          "Belarus",
          "Belgium",
          "Bolivia",
          "Brazil",
          "Bulgaria",
          "China",
          "Colombia",
          "Costa Rica",
          "Croatia",
          "Cyprus",
          "Czechia",
          "Denmark",
          "Dominica",
          "Ecuador",
          "Estonia",
          "Finland",
          "France",
          "Georgia",
          "Germany",
          "Greece",
          "Hungary",
          "Iceland",
          "Ireland",
          "Israel",
          "Italy",
          "Jamaica",
          "Japan",
          "Kazakhstan",
          "Kyrgyzstan",
          "Latvia",
          "Lithuania",
          "Luxembourg",
          "Maldives",
          "Malta",
          "Mexico",
          "Mongolia",
          "Montenegro",
          "Netherlands",
          "New Zealand",
          "Norway",
          "Oman",
          "Pakistan",
          "Panama",
          "Poland",
          "Portugal",
          "Romania",
          "Russian Federation",
          "Saint Vincent and the Grenadines",
          "Serbia",
          "Slovakia",
          "Slovenia",
          "Spain",
          "Sweden",
          "Switzerland",
          "Trinidad and Tobago",
          "Ukraine",
          "United Kingdom",
          "Uruguay",
          "Uzbekistan",
          "Vietnam"
         ],
         "legendgroup": "1",
         "marker": {
          "color": "#EF553B",
          "symbol": "circle"
         },
         "mode": "markers",
         "name": "1",
         "orientation": "v",
         "showlegend": true,
         "type": "scatter",
         "x": [
          4650.9340304,
          4758.017067160001,
          4573.64433408,
          5025.31350124,
          4877.39403312,
          4917.26061472,
          5116.7381458,
          4898.11874704,
          4426.06511832,
          5008.6397206,
          4865.85346312,
          4439.9244256,
          5350.49421952,
          5225.4102288,
          4730.63293328,
          5285.1853042,
          4990.624355080001,
          4850.748186839999,
          4753.09619272,
          5314.71966468,
          4823.28708668,
          5176.77135496,
          4861.559969440001,
          4978.03701532,
          4895.02170392,
          5414.570337680001,
          4840.0379289600005,
          4922.71809072,
          4888.25876744,
          5458.69307032,
          5149.69606036,
          5198.8429458,
          5428.9397584,
          5073.68457408,
          4686.35364352,
          4731.203606,
          4885.9585498,
          4379.88422272,
          4591.69458368,
          4600.28184832,
          5096.04764844,
          5084.5169377600005,
          4864.80052784,
          4970.75572452,
          4457.65720832,
          4931.976772399999,
          5126.4516322399995,
          5004.04068096,
          4900.9306378,
          4476.790080000001,
          4926.0752576,
          4822.36017732,
          4792.1634432,
          5057.6906568,
          4469.0514584,
          4976.979092,
          4921.607060799999,
          5291.117214280001,
          4973.252634439999,
          4935.55253872,
          5161.9011604,
          4818.411868,
          4956.46558584,
          4970.27990772,
          4915.99153076,
          3916.76933584
         ],
         "xaxis": "x",
         "y": [
          0.026167146974063443,
          0.026645070821473275,
          0.016666666666666653,
          0.03302317095420557,
          0.013712136150590788,
          0.03153153153153151,
          0.01056744818212708,
          0.0453097882679626,
          0.060776324254771384,
          0.02936279109540446,
          0.0330199495528548,
          0.052073489660022516,
          0.030129943274703086,
          0.012402781354622725,
          0.014399568782966936,
          0.009304056568663933,
          0.00831492289598928,
          0.01887467327005085,
          0,
          0.08078971210313968,
          0.016646266829865336,
          0.025894503873109573,
          0.03532122611799292,
          0.007662219364518032,
          0.02610139285221773,
          0.020153476474691873,
          0.024556188243175268,
          0.0026822726164350253,
          0.03631871041123304,
          0.007422689880476014,
          0.08644452733616957,
          0.02079077034010332,
          0.017942788626241893,
          0.016128002335276354,
          0.021151429768114783,
          0.012593016599885523,
          0.014625938389852447,
          0.012261580381471375,
          0.0032941595441595434,
          0.009499683343888536,
          0.10098885751515331,
          0,
          0.015228426395939096,
          0.028189598583088737,
          0.013248542660307344,
          0.016743961934590153,
          0.010072879179702338,
          0.02059351796416435,
          0.020562225896901286,
          0.019721906923950056,
          0.021578637345375993,
          0.03243571373882984,
          0.01720734189399478,
          0,
          0.021443139848961013,
          0.0029972308193516777,
          0.013889904232765555,
          0.034883303282162596,
          0.05734496124031006,
          0.02570978486994796,
          0.018308795771989444,
          0.0186815333331199,
          0.058882817602490166,
          0.01992187499999995,
          0.008359176991011111,
          0.030701754385965015
         ],
         "yaxis": "y"
        },
        {
         "hovertemplate": "<b>%{hovertext}</b><br><br>cluster=0<br>Fat=%{x}<br>Mortality=%{y}<extra></extra>",
         "hovertext": [
          "Angola",
          "Bangladesh",
          "Benin",
          "Burkina Faso",
          "Cameroon",
          "Cote d'Ivoire",
          "Djibouti",
          "Egypt",
          "Ethiopia",
          "Gambia",
          "Ghana",
          "Guinea",
          "Guinea-Bissau",
          "Haiti",
          "Indonesia",
          "Iraq",
          "Lao People's Democratic Republic",
          "Lesotho",
          "Liberia",
          "Madagascar",
          "Malawi",
          "Mozambique",
          "Nepal",
          "Niger",
          "Nigeria",
          "Rwanda",
          "Sao Tome and Principe",
          "Senegal",
          "Sierra Leone",
          "Solomon Islands",
          "Sri Lanka",
          "Timor-Leste",
          "Togo",
          "Uganda",
          "United Republic of Tanzania",
          "Zambia",
          "Zimbabwe"
         ],
         "legendgroup": "0",
         "marker": {
          "color": "#00cc96",
          "symbol": "circle"
         },
         "mode": "markers",
         "name": "0",
         "orientation": "v",
         "showlegend": true,
         "type": "scatter",
         "x": [
          6557.863824720001,
          7400.81122012,
          8201.06865444,
          7891.098507640001,
          8295.677790000002,
          8475.326940559999,
          7162.58506356,
          6316.68243776,
          7177.719608799999,
          7248.358666719999,
          8060.240443320001,
          8197.59551112,
          7274.211566680001,
          7199.41776344,
          7375.007413359999,
          7076.262783520001,
          5577.04042584,
          6817.8050392000005,
          7986.4372064,
          5949.14858368,
          6088.647848240001,
          7252.27765352,
          7004.66189948,
          6992.9230112000005,
          8717.92538768,
          7488.24619104,
          7950.04299728,
          7970.15232816,
          7935.9665809200005,
          6917.804511519999,
          7313.320247199999,
          6109.02976856,
          8359.4708892,
          6965.2114903599995,
          7812.95165772,
          7337.085674240001,
          6971.93290768
         ],
         "xaxis": "x",
         "y": [
          0.03167709796908935,
          0.014558976540596517,
          0.01642628205128206,
          0.02723083368244655,
          0.019715428252580658,
          0.005953552450305064,
          0.011153775827390754,
          0.05807839161700478,
          0.015190296016024962,
          0.0323376267470539,
          0.0065439500126657025,
          0.006077444000694559,
          0.017062005826050785,
          0.025735294117646995,
          0.034544409155623595,
          0.023955251951574108,
          0,
          0.02291325695581013,
          0.0593772628530052,
          0.014158239143367052,
          0.03088737201365189,
          0.006768953068592062,
          0.005564703460848605,
          0.05697770437654827,
          0.018275447545404357,
          0.006810897435897429,
          0.01607717041800644,
          0.02067133229652669,
          0.03131703131703126,
          0,
          0.002311111111111108,
          0,
          0.024625784645099,
          0.00907305209989712,
          0.041257367387033436,
          0.02176511291438636,
          0.028434857212893655
         ],
         "yaxis": "y"
        }
       ],
       "layout": {
        "legend": {
         "title": {
          "text": "cluster"
         },
         "tracegroupgap": 0
        },
        "margin": {
         "t": 60
        },
        "template": {
         "data": {
          "bar": [
           {
            "error_x": {
             "color": "#2a3f5f"
            },
            "error_y": {
             "color": "#2a3f5f"
            },
            "marker": {
             "line": {
              "color": "#E5ECF6",
              "width": 0.5
             }
            },
            "type": "bar"
           }
          ],
          "barpolar": [
           {
            "marker": {
             "line": {
              "color": "#E5ECF6",
              "width": 0.5
             }
            },
            "type": "barpolar"
           }
          ],
          "carpet": [
           {
            "aaxis": {
             "endlinecolor": "#2a3f5f",
             "gridcolor": "white",
             "linecolor": "white",
             "minorgridcolor": "white",
             "startlinecolor": "#2a3f5f"
            },
            "baxis": {
             "endlinecolor": "#2a3f5f",
             "gridcolor": "white",
             "linecolor": "white",
             "minorgridcolor": "white",
             "startlinecolor": "#2a3f5f"
            },
            "type": "carpet"
           }
          ],
          "choropleth": [
           {
            "colorbar": {
             "outlinewidth": 0,
             "ticks": ""
            },
            "type": "choropleth"
           }
          ],
          "contour": [
           {
            "colorbar": {
             "outlinewidth": 0,
             "ticks": ""
            },
            "colorscale": [
             [
              0,
              "#0d0887"
             ],
             [
              0.1111111111111111,
              "#46039f"
             ],
             [
              0.2222222222222222,
              "#7201a8"
             ],
             [
              0.3333333333333333,
              "#9c179e"
             ],
             [
              0.4444444444444444,
              "#bd3786"
             ],
             [
              0.5555555555555556,
              "#d8576b"
             ],
             [
              0.6666666666666666,
              "#ed7953"
             ],
             [
              0.7777777777777778,
              "#fb9f3a"
             ],
             [
              0.8888888888888888,
              "#fdca26"
             ],
             [
              1,
              "#f0f921"
             ]
            ],
            "type": "contour"
           }
          ],
          "contourcarpet": [
           {
            "colorbar": {
             "outlinewidth": 0,
             "ticks": ""
            },
            "type": "contourcarpet"
           }
          ],
          "heatmap": [
           {
            "colorbar": {
             "outlinewidth": 0,
             "ticks": ""
            },
            "colorscale": [
             [
              0,
              "#0d0887"
             ],
             [
              0.1111111111111111,
              "#46039f"
             ],
             [
              0.2222222222222222,
              "#7201a8"
             ],
             [
              0.3333333333333333,
              "#9c179e"
             ],
             [
              0.4444444444444444,
              "#bd3786"
             ],
             [
              0.5555555555555556,
              "#d8576b"
             ],
             [
              0.6666666666666666,
              "#ed7953"
             ],
             [
              0.7777777777777778,
              "#fb9f3a"
             ],
             [
              0.8888888888888888,
              "#fdca26"
             ],
             [
              1,
              "#f0f921"
             ]
            ],
            "type": "heatmap"
           }
          ],
          "heatmapgl": [
           {
            "colorbar": {
             "outlinewidth": 0,
             "ticks": ""
            },
            "colorscale": [
             [
              0,
              "#0d0887"
             ],
             [
              0.1111111111111111,
              "#46039f"
             ],
             [
              0.2222222222222222,
              "#7201a8"
             ],
             [
              0.3333333333333333,
              "#9c179e"
             ],
             [
              0.4444444444444444,
              "#bd3786"
             ],
             [
              0.5555555555555556,
              "#d8576b"
             ],
             [
              0.6666666666666666,
              "#ed7953"
             ],
             [
              0.7777777777777778,
              "#fb9f3a"
             ],
             [
              0.8888888888888888,
              "#fdca26"
             ],
             [
              1,
              "#f0f921"
             ]
            ],
            "type": "heatmapgl"
           }
          ],
          "histogram": [
           {
            "marker": {
             "colorbar": {
              "outlinewidth": 0,
              "ticks": ""
             }
            },
            "type": "histogram"
           }
          ],
          "histogram2d": [
           {
            "colorbar": {
             "outlinewidth": 0,
             "ticks": ""
            },
            "colorscale": [
             [
              0,
              "#0d0887"
             ],
             [
              0.1111111111111111,
              "#46039f"
             ],
             [
              0.2222222222222222,
              "#7201a8"
             ],
             [
              0.3333333333333333,
              "#9c179e"
             ],
             [
              0.4444444444444444,
              "#bd3786"
             ],
             [
              0.5555555555555556,
              "#d8576b"
             ],
             [
              0.6666666666666666,
              "#ed7953"
             ],
             [
              0.7777777777777778,
              "#fb9f3a"
             ],
             [
              0.8888888888888888,
              "#fdca26"
             ],
             [
              1,
              "#f0f921"
             ]
            ],
            "type": "histogram2d"
           }
          ],
          "histogram2dcontour": [
           {
            "colorbar": {
             "outlinewidth": 0,
             "ticks": ""
            },
            "colorscale": [
             [
              0,
              "#0d0887"
             ],
             [
              0.1111111111111111,
              "#46039f"
             ],
             [
              0.2222222222222222,
              "#7201a8"
             ],
             [
              0.3333333333333333,
              "#9c179e"
             ],
             [
              0.4444444444444444,
              "#bd3786"
             ],
             [
              0.5555555555555556,
              "#d8576b"
             ],
             [
              0.6666666666666666,
              "#ed7953"
             ],
             [
              0.7777777777777778,
              "#fb9f3a"
             ],
             [
              0.8888888888888888,
              "#fdca26"
             ],
             [
              1,
              "#f0f921"
             ]
            ],
            "type": "histogram2dcontour"
           }
          ],
          "mesh3d": [
           {
            "colorbar": {
             "outlinewidth": 0,
             "ticks": ""
            },
            "type": "mesh3d"
           }
          ],
          "parcoords": [
           {
            "line": {
             "colorbar": {
              "outlinewidth": 0,
              "ticks": ""
             }
            },
            "type": "parcoords"
           }
          ],
          "pie": [
           {
            "automargin": true,
            "type": "pie"
           }
          ],
          "scatter": [
           {
            "marker": {
             "colorbar": {
              "outlinewidth": 0,
              "ticks": ""
             }
            },
            "type": "scatter"
           }
          ],
          "scatter3d": [
           {
            "line": {
             "colorbar": {
              "outlinewidth": 0,
              "ticks": ""
             }
            },
            "marker": {
             "colorbar": {
              "outlinewidth": 0,
              "ticks": ""
             }
            },
            "type": "scatter3d"
           }
          ],
          "scattercarpet": [
           {
            "marker": {
             "colorbar": {
              "outlinewidth": 0,
              "ticks": ""
             }
            },
            "type": "scattercarpet"
           }
          ],
          "scattergeo": [
           {
            "marker": {
             "colorbar": {
              "outlinewidth": 0,
              "ticks": ""
             }
            },
            "type": "scattergeo"
           }
          ],
          "scattergl": [
           {
            "marker": {
             "colorbar": {
              "outlinewidth": 0,
              "ticks": ""
             }
            },
            "type": "scattergl"
           }
          ],
          "scattermapbox": [
           {
            "marker": {
             "colorbar": {
              "outlinewidth": 0,
              "ticks": ""
             }
            },
            "type": "scattermapbox"
           }
          ],
          "scatterpolar": [
           {
            "marker": {
             "colorbar": {
              "outlinewidth": 0,
              "ticks": ""
             }
            },
            "type": "scatterpolar"
           }
          ],
          "scatterpolargl": [
           {
            "marker": {
             "colorbar": {
              "outlinewidth": 0,
              "ticks": ""
             }
            },
            "type": "scatterpolargl"
           }
          ],
          "scatterternary": [
           {
            "marker": {
             "colorbar": {
              "outlinewidth": 0,
              "ticks": ""
             }
            },
            "type": "scatterternary"
           }
          ],
          "surface": [
           {
            "colorbar": {
             "outlinewidth": 0,
             "ticks": ""
            },
            "colorscale": [
             [
              0,
              "#0d0887"
             ],
             [
              0.1111111111111111,
              "#46039f"
             ],
             [
              0.2222222222222222,
              "#7201a8"
             ],
             [
              0.3333333333333333,
              "#9c179e"
             ],
             [
              0.4444444444444444,
              "#bd3786"
             ],
             [
              0.5555555555555556,
              "#d8576b"
             ],
             [
              0.6666666666666666,
              "#ed7953"
             ],
             [
              0.7777777777777778,
              "#fb9f3a"
             ],
             [
              0.8888888888888888,
              "#fdca26"
             ],
             [
              1,
              "#f0f921"
             ]
            ],
            "type": "surface"
           }
          ],
          "table": [
           {
            "cells": {
             "fill": {
              "color": "#EBF0F8"
             },
             "line": {
              "color": "white"
             }
            },
            "header": {
             "fill": {
              "color": "#C8D4E3"
             },
             "line": {
              "color": "white"
             }
            },
            "type": "table"
           }
          ]
         },
         "layout": {
          "annotationdefaults": {
           "arrowcolor": "#2a3f5f",
           "arrowhead": 0,
           "arrowwidth": 1
          },
          "coloraxis": {
           "colorbar": {
            "outlinewidth": 0,
            "ticks": ""
           }
          },
          "colorscale": {
           "diverging": [
            [
             0,
             "#8e0152"
            ],
            [
             0.1,
             "#c51b7d"
            ],
            [
             0.2,
             "#de77ae"
            ],
            [
             0.3,
             "#f1b6da"
            ],
            [
             0.4,
             "#fde0ef"
            ],
            [
             0.5,
             "#f7f7f7"
            ],
            [
             0.6,
             "#e6f5d0"
            ],
            [
             0.7,
             "#b8e186"
            ],
            [
             0.8,
             "#7fbc41"
            ],
            [
             0.9,
             "#4d9221"
            ],
            [
             1,
             "#276419"
            ]
           ],
           "sequential": [
            [
             0,
             "#0d0887"
            ],
            [
             0.1111111111111111,
             "#46039f"
            ],
            [
             0.2222222222222222,
             "#7201a8"
            ],
            [
             0.3333333333333333,
             "#9c179e"
            ],
            [
             0.4444444444444444,
             "#bd3786"
            ],
            [
             0.5555555555555556,
             "#d8576b"
            ],
            [
             0.6666666666666666,
             "#ed7953"
            ],
            [
             0.7777777777777778,
             "#fb9f3a"
            ],
            [
             0.8888888888888888,
             "#fdca26"
            ],
            [
             1,
             "#f0f921"
            ]
           ],
           "sequentialminus": [
            [
             0,
             "#0d0887"
            ],
            [
             0.1111111111111111,
             "#46039f"
            ],
            [
             0.2222222222222222,
             "#7201a8"
            ],
            [
             0.3333333333333333,
             "#9c179e"
            ],
            [
             0.4444444444444444,
             "#bd3786"
            ],
            [
             0.5555555555555556,
             "#d8576b"
            ],
            [
             0.6666666666666666,
             "#ed7953"
            ],
            [
             0.7777777777777778,
             "#fb9f3a"
            ],
            [
             0.8888888888888888,
             "#fdca26"
            ],
            [
             1,
             "#f0f921"
            ]
           ]
          },
          "colorway": [
           "#636efa",
           "#EF553B",
           "#00cc96",
           "#ab63fa",
           "#FFA15A",
           "#19d3f3",
           "#FF6692",
           "#B6E880",
           "#FF97FF",
           "#FECB52"
          ],
          "font": {
           "color": "#2a3f5f"
          },
          "geo": {
           "bgcolor": "white",
           "lakecolor": "white",
           "landcolor": "#E5ECF6",
           "showlakes": true,
           "showland": true,
           "subunitcolor": "white"
          },
          "hoverlabel": {
           "align": "left"
          },
          "hovermode": "closest",
          "mapbox": {
           "style": "light"
          },
          "paper_bgcolor": "white",
          "plot_bgcolor": "#E5ECF6",
          "polar": {
           "angularaxis": {
            "gridcolor": "white",
            "linecolor": "white",
            "ticks": ""
           },
           "bgcolor": "#E5ECF6",
           "radialaxis": {
            "gridcolor": "white",
            "linecolor": "white",
            "ticks": ""
           }
          },
          "scene": {
           "xaxis": {
            "backgroundcolor": "#E5ECF6",
            "gridcolor": "white",
            "gridwidth": 2,
            "linecolor": "white",
            "showbackground": true,
            "ticks": "",
            "zerolinecolor": "white"
           },
           "yaxis": {
            "backgroundcolor": "#E5ECF6",
            "gridcolor": "white",
            "gridwidth": 2,
            "linecolor": "white",
            "showbackground": true,
            "ticks": "",
            "zerolinecolor": "white"
           },
           "zaxis": {
            "backgroundcolor": "#E5ECF6",
            "gridcolor": "white",
            "gridwidth": 2,
            "linecolor": "white",
            "showbackground": true,
            "ticks": "",
            "zerolinecolor": "white"
           }
          },
          "shapedefaults": {
           "line": {
            "color": "#2a3f5f"
           }
          },
          "ternary": {
           "aaxis": {
            "gridcolor": "white",
            "linecolor": "white",
            "ticks": ""
           },
           "baxis": {
            "gridcolor": "white",
            "linecolor": "white",
            "ticks": ""
           },
           "bgcolor": "#E5ECF6",
           "caxis": {
            "gridcolor": "white",
            "linecolor": "white",
            "ticks": ""
           }
          },
          "title": {
           "x": 0.05
          },
          "xaxis": {
           "automargin": true,
           "gridcolor": "white",
           "linecolor": "white",
           "ticks": "",
           "title": {
            "standoff": 15
           },
           "zerolinecolor": "white",
           "zerolinewidth": 2
          },
          "yaxis": {
           "automargin": true,
           "gridcolor": "white",
           "linecolor": "white",
           "ticks": "",
           "title": {
            "standoff": 15
           },
           "zerolinecolor": "white",
           "zerolinewidth": 2
          }
         }
        },
        "xaxis": {
         "anchor": "y",
         "domain": [
          0,
          1
         ],
         "title": {
          "text": "Fat"
         }
        },
        "yaxis": {
         "anchor": "x",
         "domain": [
          0,
          1
         ],
         "title": {
          "text": "Mortality"
         }
        }
       }
      },
      "text/html": [
       "<div>                            <div id=\"a919d8f4-2d2b-41a5-ad44-767aeb273afd\" class=\"plotly-graph-div\" style=\"height:525px; width:100%;\"></div>            <script type=\"text/javascript\">                require([\"plotly\"], function(Plotly) {                    window.PLOTLYENV=window.PLOTLYENV || {};                                    if (document.getElementById(\"a919d8f4-2d2b-41a5-ad44-767aeb273afd\")) {                    Plotly.newPlot(                        \"a919d8f4-2d2b-41a5-ad44-767aeb273afd\",                        [{\"hovertemplate\": \"<b>%{hovertext}</b><br><br>cluster=2<br>Fat=%{x}<br>Mortality=%{y}<extra></extra>\", \"hovertext\": [\"Afghanistan\", \"Algeria\", \"Azerbaijan\", \"Belize\", \"Bosnia and Herzegovina\", \"Botswana\", \"Cabo Verde\", \"Cambodia\", \"Central African Republic\", \"Chad\", \"Congo\", \"Cuba\", \"Dominican Republic\", \"El Salvador\", \"Eswatini\", \"Fiji\", \"Gabon\", \"Guatemala\", \"Guyana\", \"Honduras\", \"India\", \"Iran (Islamic Republic of)\", \"Jordan\", \"Kenya\", \"Korea, South\", \"Kuwait\", \"Lebanon\", \"Malaysia\", \"Mali\", \"Mauritania\", \"Mauritius\", \"Morocco\", \"Namibia\", \"Nicaragua\", \"North Macedonia\", \"Paraguay\", \"Peru\", \"Philippines\", \"Saudi Arabia\", \"South Africa\", \"Sudan\", \"Suriname\", \"Thailand\", \"Tunisia\", \"Turkey\", \"United Arab Emirates\", \"Venezuela (Bolivarian Republic of)\"], \"legendgroup\": \"2\", \"marker\": {\"color\": \"#636efa\", \"symbol\": \"circle\"}, \"mode\": \"markers\", \"name\": \"2\", \"orientation\": \"v\", \"showlegend\": true, \"type\": \"scatter\", \"x\": [5419.604222280001, 6301.23953428, 4239.1269094399995, 5157.99290872, 5035.49758088, 5677.5347668800005, 5370.364333879999, 5930.650342, 5935.027312480001, 5828.573874399999, 6810.610423199999, 4891.682561, 6069.9932143999995, 5163.44136928, 5589.4189043999995, 5679.67928072, 5769.403943040001, 6118.509497, 5285.62191976, 5755.23093264, 5976.930099279999, 6102.925783759999, 6597.730773439999, 5788.98164976, 5522.72108288, 5583.381973959999, 6705.39288992, 5774.5107228, 5893.243185, 5606.78347836, 6521.232039, 6265.16960088, 6016.57902648, 5663.22076216, 5554.8448648, 5568.97956304, 5909.34336752, 4304.34663404, 5922.68881632, 5549.86656388, 5460.8173406000005, 6473.47694644, 5745.36297716, 6501.1732461599995, 6148.03871184, 5410.5856044, 5712.1880458], \"xaxis\": \"x\", \"y\": [0.03715838856206697, 0.034147502563351556, 0.013908819958052779, 0.015884221673137997, 0.02876431724416482, 0.003743982884649671, 0.011153846153846136, 0.0, 0.01276771004942331, 0.06690647482014393, 0.024370681145113548, 0.02029402364972836, 0.01810679970739813, 0.02924272089938742, 0.020041465100207323, 0.0625000000000001, 0.006078343088698788, 0.0348527052431618, 0.029482071713147314, 0.02882044282341889, 0.015163359840506789, 0.05744522857821567, 0.009759354855279026, 0.018613009140118864, 0.017644969012750172, 0.006077102163790727, 0.008356634468734117, 0.008893881945419646, 0.038743762841209235, 0.02138826925600308, 0.023866348448687336, 0.01693324001843539, 0.010627940937854925, 0.028768914627311785, 0.035564149991592256, 0.021766572891870447, 0.038862635623219365, 0.018584566039942182, 0.015181722385524147, 0.02622034047307767, 0.06091518507723691, 0.02123514513929471, 0.01594594594594597, 0.016078826035059807, 0.02681113186979831, 0.003999416394174248, 0.008495313726395497], \"yaxis\": \"y\"}, {\"hovertemplate\": \"<b>%{hovertext}</b><br><br>cluster=1<br>Fat=%{x}<br>Mortality=%{y}<extra></extra>\", \"hovertext\": [\"Albania\", \"Argentina\", \"Armenia\", \"Australia\", \"Austria\", \"Barbados\", \"Belarus\", \"Belgium\", \"Bolivia\", \"Brazil\", \"Bulgaria\", \"China\", \"Colombia\", \"Costa Rica\", \"Croatia\", \"Cyprus\", \"Czechia\", \"Denmark\", \"Dominica\", \"Ecuador\", \"Estonia\", \"Finland\", \"France\", \"Georgia\", \"Germany\", \"Greece\", \"Hungary\", \"Iceland\", \"Ireland\", \"Israel\", \"Italy\", \"Jamaica\", \"Japan\", \"Kazakhstan\", \"Kyrgyzstan\", \"Latvia\", \"Lithuania\", \"Luxembourg\", \"Maldives\", \"Malta\", \"Mexico\", \"Mongolia\", \"Montenegro\", \"Netherlands\", \"New Zealand\", \"Norway\", \"Oman\", \"Pakistan\", \"Panama\", \"Poland\", \"Portugal\", \"Romania\", \"Russian Federation\", \"Saint Vincent and the Grenadines\", \"Serbia\", \"Slovakia\", \"Slovenia\", \"Spain\", \"Sweden\", \"Switzerland\", \"Trinidad and Tobago\", \"Ukraine\", \"United Kingdom\", \"Uruguay\", \"Uzbekistan\", \"Vietnam\"], \"legendgroup\": \"1\", \"marker\": {\"color\": \"#EF553B\", \"symbol\": \"circle\"}, \"mode\": \"markers\", \"name\": \"1\", \"orientation\": \"v\", \"showlegend\": true, \"type\": \"scatter\", \"x\": [4650.9340304, 4758.017067160001, 4573.64433408, 5025.31350124, 4877.39403312, 4917.26061472, 5116.7381458, 4898.11874704, 4426.06511832, 5008.6397206, 4865.85346312, 4439.9244256, 5350.49421952, 5225.4102288, 4730.63293328, 5285.1853042, 4990.624355080001, 4850.748186839999, 4753.09619272, 5314.71966468, 4823.28708668, 5176.77135496, 4861.559969440001, 4978.03701532, 4895.02170392, 5414.570337680001, 4840.0379289600005, 4922.71809072, 4888.25876744, 5458.69307032, 5149.69606036, 5198.8429458, 5428.9397584, 5073.68457408, 4686.35364352, 4731.203606, 4885.9585498, 4379.88422272, 4591.69458368, 4600.28184832, 5096.04764844, 5084.5169377600005, 4864.80052784, 4970.75572452, 4457.65720832, 4931.976772399999, 5126.4516322399995, 5004.04068096, 4900.9306378, 4476.790080000001, 4926.0752576, 4822.36017732, 4792.1634432, 5057.6906568, 4469.0514584, 4976.979092, 4921.607060799999, 5291.117214280001, 4973.252634439999, 4935.55253872, 5161.9011604, 4818.411868, 4956.46558584, 4970.27990772, 4915.99153076, 3916.76933584], \"xaxis\": \"x\", \"y\": [0.026167146974063443, 0.026645070821473275, 0.016666666666666653, 0.03302317095420557, 0.013712136150590788, 0.03153153153153151, 0.01056744818212708, 0.0453097882679626, 0.060776324254771384, 0.02936279109540446, 0.0330199495528548, 0.052073489660022516, 0.030129943274703086, 0.012402781354622725, 0.014399568782966936, 0.009304056568663933, 0.00831492289598928, 0.01887467327005085, 0.0, 0.08078971210313968, 0.016646266829865336, 0.025894503873109573, 0.03532122611799292, 0.007662219364518032, 0.02610139285221773, 0.020153476474691873, 0.024556188243175268, 0.0026822726164350253, 0.03631871041123304, 0.007422689880476014, 0.08644452733616957, 0.02079077034010332, 0.017942788626241893, 0.016128002335276354, 0.021151429768114783, 0.012593016599885523, 0.014625938389852447, 0.012261580381471375, 0.0032941595441595434, 0.009499683343888536, 0.10098885751515331, 0.0, 0.015228426395939096, 0.028189598583088737, 0.013248542660307344, 0.016743961934590153, 0.010072879179702338, 0.02059351796416435, 0.020562225896901286, 0.019721906923950056, 0.021578637345375993, 0.03243571373882984, 0.01720734189399478, 0.0, 0.021443139848961013, 0.0029972308193516777, 0.013889904232765555, 0.034883303282162596, 0.05734496124031006, 0.02570978486994796, 0.018308795771989444, 0.0186815333331199, 0.058882817602490166, 0.01992187499999995, 0.008359176991011111, 0.030701754385965015], \"yaxis\": \"y\"}, {\"hovertemplate\": \"<b>%{hovertext}</b><br><br>cluster=0<br>Fat=%{x}<br>Mortality=%{y}<extra></extra>\", \"hovertext\": [\"Angola\", \"Bangladesh\", \"Benin\", \"Burkina Faso\", \"Cameroon\", \"Cote d'Ivoire\", \"Djibouti\", \"Egypt\", \"Ethiopia\", \"Gambia\", \"Ghana\", \"Guinea\", \"Guinea-Bissau\", \"Haiti\", \"Indonesia\", \"Iraq\", \"Lao People's Democratic Republic\", \"Lesotho\", \"Liberia\", \"Madagascar\", \"Malawi\", \"Mozambique\", \"Nepal\", \"Niger\", \"Nigeria\", \"Rwanda\", \"Sao Tome and Principe\", \"Senegal\", \"Sierra Leone\", \"Solomon Islands\", \"Sri Lanka\", \"Timor-Leste\", \"Togo\", \"Uganda\", \"United Republic of Tanzania\", \"Zambia\", \"Zimbabwe\"], \"legendgroup\": \"0\", \"marker\": {\"color\": \"#00cc96\", \"symbol\": \"circle\"}, \"mode\": \"markers\", \"name\": \"0\", \"orientation\": \"v\", \"showlegend\": true, \"type\": \"scatter\", \"x\": [6557.863824720001, 7400.81122012, 8201.06865444, 7891.098507640001, 8295.677790000002, 8475.326940559999, 7162.58506356, 6316.68243776, 7177.719608799999, 7248.358666719999, 8060.240443320001, 8197.59551112, 7274.211566680001, 7199.41776344, 7375.007413359999, 7076.262783520001, 5577.04042584, 6817.8050392000005, 7986.4372064, 5949.14858368, 6088.647848240001, 7252.27765352, 7004.66189948, 6992.9230112000005, 8717.92538768, 7488.24619104, 7950.04299728, 7970.15232816, 7935.9665809200005, 6917.804511519999, 7313.320247199999, 6109.02976856, 8359.4708892, 6965.2114903599995, 7812.95165772, 7337.085674240001, 6971.93290768], \"xaxis\": \"x\", \"y\": [0.03167709796908935, 0.014558976540596517, 0.01642628205128206, 0.02723083368244655, 0.019715428252580658, 0.005953552450305064, 0.011153775827390754, 0.05807839161700478, 0.015190296016024962, 0.0323376267470539, 0.0065439500126657025, 0.006077444000694559, 0.017062005826050785, 0.025735294117646995, 0.034544409155623595, 0.023955251951574108, 0.0, 0.02291325695581013, 0.0593772628530052, 0.014158239143367052, 0.03088737201365189, 0.006768953068592062, 0.005564703460848605, 0.05697770437654827, 0.018275447545404357, 0.006810897435897429, 0.01607717041800644, 0.02067133229652669, 0.03131703131703126, 0.0, 0.002311111111111108, 0.0, 0.024625784645099, 0.00907305209989712, 0.041257367387033436, 0.02176511291438636, 0.028434857212893655], \"yaxis\": \"y\"}],                        {\"legend\": {\"title\": {\"text\": \"cluster\"}, \"tracegroupgap\": 0}, \"margin\": {\"t\": 60}, \"template\": {\"data\": {\"bar\": [{\"error_x\": {\"color\": \"#2a3f5f\"}, \"error_y\": {\"color\": \"#2a3f5f\"}, \"marker\": {\"line\": {\"color\": \"#E5ECF6\", \"width\": 0.5}}, \"type\": \"bar\"}], \"barpolar\": [{\"marker\": {\"line\": {\"color\": \"#E5ECF6\", \"width\": 0.5}}, \"type\": \"barpolar\"}], \"carpet\": [{\"aaxis\": {\"endlinecolor\": \"#2a3f5f\", \"gridcolor\": \"white\", \"linecolor\": \"white\", \"minorgridcolor\": \"white\", \"startlinecolor\": \"#2a3f5f\"}, \"baxis\": {\"endlinecolor\": \"#2a3f5f\", \"gridcolor\": \"white\", \"linecolor\": \"white\", \"minorgridcolor\": \"white\", \"startlinecolor\": \"#2a3f5f\"}, \"type\": \"carpet\"}], \"choropleth\": [{\"colorbar\": {\"outlinewidth\": 0, \"ticks\": \"\"}, \"type\": \"choropleth\"}], \"contour\": [{\"colorbar\": {\"outlinewidth\": 0, \"ticks\": \"\"}, \"colorscale\": [[0.0, \"#0d0887\"], [0.1111111111111111, \"#46039f\"], [0.2222222222222222, \"#7201a8\"], [0.3333333333333333, \"#9c179e\"], [0.4444444444444444, \"#bd3786\"], [0.5555555555555556, \"#d8576b\"], [0.6666666666666666, \"#ed7953\"], [0.7777777777777778, \"#fb9f3a\"], [0.8888888888888888, \"#fdca26\"], [1.0, \"#f0f921\"]], \"type\": \"contour\"}], \"contourcarpet\": [{\"colorbar\": {\"outlinewidth\": 0, \"ticks\": \"\"}, \"type\": \"contourcarpet\"}], \"heatmap\": [{\"colorbar\": {\"outlinewidth\": 0, \"ticks\": \"\"}, \"colorscale\": [[0.0, \"#0d0887\"], [0.1111111111111111, \"#46039f\"], [0.2222222222222222, \"#7201a8\"], [0.3333333333333333, \"#9c179e\"], [0.4444444444444444, \"#bd3786\"], [0.5555555555555556, \"#d8576b\"], [0.6666666666666666, \"#ed7953\"], [0.7777777777777778, \"#fb9f3a\"], [0.8888888888888888, \"#fdca26\"], [1.0, \"#f0f921\"]], \"type\": \"heatmap\"}], \"heatmapgl\": [{\"colorbar\": {\"outlinewidth\": 0, \"ticks\": \"\"}, \"colorscale\": [[0.0, \"#0d0887\"], [0.1111111111111111, \"#46039f\"], [0.2222222222222222, \"#7201a8\"], [0.3333333333333333, \"#9c179e\"], [0.4444444444444444, \"#bd3786\"], [0.5555555555555556, \"#d8576b\"], [0.6666666666666666, \"#ed7953\"], [0.7777777777777778, \"#fb9f3a\"], [0.8888888888888888, \"#fdca26\"], [1.0, \"#f0f921\"]], \"type\": \"heatmapgl\"}], \"histogram\": [{\"marker\": {\"colorbar\": {\"outlinewidth\": 0, \"ticks\": \"\"}}, \"type\": \"histogram\"}], \"histogram2d\": [{\"colorbar\": {\"outlinewidth\": 0, \"ticks\": \"\"}, \"colorscale\": [[0.0, \"#0d0887\"], [0.1111111111111111, \"#46039f\"], [0.2222222222222222, \"#7201a8\"], [0.3333333333333333, \"#9c179e\"], [0.4444444444444444, \"#bd3786\"], [0.5555555555555556, \"#d8576b\"], [0.6666666666666666, \"#ed7953\"], [0.7777777777777778, \"#fb9f3a\"], [0.8888888888888888, \"#fdca26\"], [1.0, \"#f0f921\"]], \"type\": \"histogram2d\"}], \"histogram2dcontour\": [{\"colorbar\": {\"outlinewidth\": 0, \"ticks\": \"\"}, \"colorscale\": [[0.0, \"#0d0887\"], [0.1111111111111111, \"#46039f\"], [0.2222222222222222, \"#7201a8\"], [0.3333333333333333, \"#9c179e\"], [0.4444444444444444, \"#bd3786\"], [0.5555555555555556, \"#d8576b\"], [0.6666666666666666, \"#ed7953\"], [0.7777777777777778, \"#fb9f3a\"], [0.8888888888888888, \"#fdca26\"], [1.0, \"#f0f921\"]], \"type\": \"histogram2dcontour\"}], \"mesh3d\": [{\"colorbar\": {\"outlinewidth\": 0, \"ticks\": \"\"}, \"type\": \"mesh3d\"}], \"parcoords\": [{\"line\": {\"colorbar\": {\"outlinewidth\": 0, \"ticks\": \"\"}}, \"type\": \"parcoords\"}], \"pie\": [{\"automargin\": true, \"type\": \"pie\"}], \"scatter\": [{\"marker\": {\"colorbar\": {\"outlinewidth\": 0, \"ticks\": \"\"}}, \"type\": \"scatter\"}], \"scatter3d\": [{\"line\": {\"colorbar\": {\"outlinewidth\": 0, \"ticks\": \"\"}}, \"marker\": {\"colorbar\": {\"outlinewidth\": 0, \"ticks\": \"\"}}, \"type\": \"scatter3d\"}], \"scattercarpet\": [{\"marker\": {\"colorbar\": {\"outlinewidth\": 0, \"ticks\": \"\"}}, \"type\": \"scattercarpet\"}], \"scattergeo\": [{\"marker\": {\"colorbar\": {\"outlinewidth\": 0, \"ticks\": \"\"}}, \"type\": \"scattergeo\"}], \"scattergl\": [{\"marker\": {\"colorbar\": {\"outlinewidth\": 0, \"ticks\": \"\"}}, \"type\": \"scattergl\"}], \"scattermapbox\": [{\"marker\": {\"colorbar\": {\"outlinewidth\": 0, \"ticks\": \"\"}}, \"type\": \"scattermapbox\"}], \"scatterpolar\": [{\"marker\": {\"colorbar\": {\"outlinewidth\": 0, \"ticks\": \"\"}}, \"type\": \"scatterpolar\"}], \"scatterpolargl\": [{\"marker\": {\"colorbar\": {\"outlinewidth\": 0, \"ticks\": \"\"}}, \"type\": \"scatterpolargl\"}], \"scatterternary\": [{\"marker\": {\"colorbar\": {\"outlinewidth\": 0, \"ticks\": \"\"}}, \"type\": \"scatterternary\"}], \"surface\": [{\"colorbar\": {\"outlinewidth\": 0, \"ticks\": \"\"}, \"colorscale\": [[0.0, \"#0d0887\"], [0.1111111111111111, \"#46039f\"], [0.2222222222222222, \"#7201a8\"], [0.3333333333333333, \"#9c179e\"], [0.4444444444444444, \"#bd3786\"], [0.5555555555555556, \"#d8576b\"], [0.6666666666666666, \"#ed7953\"], [0.7777777777777778, \"#fb9f3a\"], [0.8888888888888888, \"#fdca26\"], [1.0, \"#f0f921\"]], \"type\": \"surface\"}], \"table\": [{\"cells\": {\"fill\": {\"color\": \"#EBF0F8\"}, \"line\": {\"color\": \"white\"}}, \"header\": {\"fill\": {\"color\": \"#C8D4E3\"}, \"line\": {\"color\": \"white\"}}, \"type\": \"table\"}]}, \"layout\": {\"annotationdefaults\": {\"arrowcolor\": \"#2a3f5f\", \"arrowhead\": 0, \"arrowwidth\": 1}, \"coloraxis\": {\"colorbar\": {\"outlinewidth\": 0, \"ticks\": \"\"}}, \"colorscale\": {\"diverging\": [[0, \"#8e0152\"], [0.1, \"#c51b7d\"], [0.2, \"#de77ae\"], [0.3, \"#f1b6da\"], [0.4, \"#fde0ef\"], [0.5, \"#f7f7f7\"], [0.6, \"#e6f5d0\"], [0.7, \"#b8e186\"], [0.8, \"#7fbc41\"], [0.9, \"#4d9221\"], [1, \"#276419\"]], \"sequential\": [[0.0, \"#0d0887\"], [0.1111111111111111, \"#46039f\"], [0.2222222222222222, \"#7201a8\"], [0.3333333333333333, \"#9c179e\"], [0.4444444444444444, \"#bd3786\"], [0.5555555555555556, \"#d8576b\"], [0.6666666666666666, \"#ed7953\"], [0.7777777777777778, \"#fb9f3a\"], [0.8888888888888888, \"#fdca26\"], [1.0, \"#f0f921\"]], \"sequentialminus\": [[0.0, \"#0d0887\"], [0.1111111111111111, \"#46039f\"], [0.2222222222222222, \"#7201a8\"], [0.3333333333333333, \"#9c179e\"], [0.4444444444444444, \"#bd3786\"], [0.5555555555555556, \"#d8576b\"], [0.6666666666666666, \"#ed7953\"], [0.7777777777777778, \"#fb9f3a\"], [0.8888888888888888, \"#fdca26\"], [1.0, \"#f0f921\"]]}, \"colorway\": [\"#636efa\", \"#EF553B\", \"#00cc96\", \"#ab63fa\", \"#FFA15A\", \"#19d3f3\", \"#FF6692\", \"#B6E880\", \"#FF97FF\", \"#FECB52\"], \"font\": {\"color\": \"#2a3f5f\"}, \"geo\": {\"bgcolor\": \"white\", \"lakecolor\": \"white\", \"landcolor\": \"#E5ECF6\", \"showlakes\": true, \"showland\": true, \"subunitcolor\": \"white\"}, \"hoverlabel\": {\"align\": \"left\"}, \"hovermode\": \"closest\", \"mapbox\": {\"style\": \"light\"}, \"paper_bgcolor\": \"white\", \"plot_bgcolor\": \"#E5ECF6\", \"polar\": {\"angularaxis\": {\"gridcolor\": \"white\", \"linecolor\": \"white\", \"ticks\": \"\"}, \"bgcolor\": \"#E5ECF6\", \"radialaxis\": {\"gridcolor\": \"white\", \"linecolor\": \"white\", \"ticks\": \"\"}}, \"scene\": {\"xaxis\": {\"backgroundcolor\": \"#E5ECF6\", \"gridcolor\": \"white\", \"gridwidth\": 2, \"linecolor\": \"white\", \"showbackground\": true, \"ticks\": \"\", \"zerolinecolor\": \"white\"}, \"yaxis\": {\"backgroundcolor\": \"#E5ECF6\", \"gridcolor\": \"white\", \"gridwidth\": 2, \"linecolor\": \"white\", \"showbackground\": true, \"ticks\": \"\", \"zerolinecolor\": \"white\"}, \"zaxis\": {\"backgroundcolor\": \"#E5ECF6\", \"gridcolor\": \"white\", \"gridwidth\": 2, \"linecolor\": \"white\", \"showbackground\": true, \"ticks\": \"\", \"zerolinecolor\": \"white\"}}, \"shapedefaults\": {\"line\": {\"color\": \"#2a3f5f\"}}, \"ternary\": {\"aaxis\": {\"gridcolor\": \"white\", \"linecolor\": \"white\", \"ticks\": \"\"}, \"baxis\": {\"gridcolor\": \"white\", \"linecolor\": \"white\", \"ticks\": \"\"}, \"bgcolor\": \"#E5ECF6\", \"caxis\": {\"gridcolor\": \"white\", \"linecolor\": \"white\", \"ticks\": \"\"}}, \"title\": {\"x\": 0.05}, \"xaxis\": {\"automargin\": true, \"gridcolor\": \"white\", \"linecolor\": \"white\", \"ticks\": \"\", \"title\": {\"standoff\": 15}, \"zerolinecolor\": \"white\", \"zerolinewidth\": 2}, \"yaxis\": {\"automargin\": true, \"gridcolor\": \"white\", \"linecolor\": \"white\", \"ticks\": \"\", \"title\": {\"standoff\": 15}, \"zerolinecolor\": \"white\", \"zerolinewidth\": 2}}}, \"xaxis\": {\"anchor\": \"y\", \"domain\": [0.0, 1.0], \"title\": {\"text\": \"Fat\"}}, \"yaxis\": {\"anchor\": \"x\", \"domain\": [0.0, 1.0], \"title\": {\"text\": \"Mortality\"}}},                        {\"responsive\": true}                    ).then(function(){\n",
       "                            \n",
       "var gd = document.getElementById('a919d8f4-2d2b-41a5-ad44-767aeb273afd');\n",
       "var x = new MutationObserver(function (mutations, observer) {{\n",
       "        var display = window.getComputedStyle(gd).display;\n",
       "        if (!display || display === 'none') {{\n",
       "            console.log([gd, 'removed!']);\n",
       "            Plotly.purge(gd);\n",
       "            observer.disconnect();\n",
       "        }}\n",
       "}});\n",
       "\n",
       "// Listen for the removal of the full notebook cells\n",
       "var notebookContainer = gd.closest('#notebook-container');\n",
       "if (notebookContainer) {{\n",
       "    x.observe(notebookContainer, {childList: true});\n",
       "}}\n",
       "\n",
       "// Listen for the clearing of the current output cell\n",
       "var outputEl = gd.closest('.output');\n",
       "if (outputEl) {{\n",
       "    x.observe(outputEl, {childList: true});\n",
       "}}\n",
       "\n",
       "                        })                };                });            </script>        </div>"
      ]
     },
     "metadata": {},
     "output_type": "display_data"
    }
   ],
   "source": [
    "fig = px.scatter(df_vis, x = 'Fat', y = 'Mortality', color = 'cluster', hover_name = 'Country')\n",
    "fig.show()"
   ]
  },
  {
   "cell_type": "code",
   "execution_count": 1096,
   "metadata": {},
   "outputs": [
    {
     "data": {
      "application/vnd.plotly.v1+json": {
       "config": {
        "plotlyServerURL": "https://plot.ly"
       },
       "data": [
        {
         "hovertemplate": "<b>%{hovertext}</b><br><br>cluster=2<br>KCal=%{x}<br>Mortality=%{y}<extra></extra>",
         "hovertext": [
          "Afghanistan",
          "Algeria",
          "Azerbaijan",
          "Belize",
          "Bosnia and Herzegovina",
          "Botswana",
          "Cabo Verde",
          "Cambodia",
          "Central African Republic",
          "Chad",
          "Congo",
          "Cuba",
          "Dominican Republic",
          "El Salvador",
          "Eswatini",
          "Fiji",
          "Gabon",
          "Guatemala",
          "Guyana",
          "Honduras",
          "India",
          "Iran (Islamic Republic of)",
          "Jordan",
          "Kenya",
          "Korea, South",
          "Kuwait",
          "Lebanon",
          "Malaysia",
          "Mali",
          "Mauritania",
          "Mauritius",
          "Morocco",
          "Namibia",
          "Nicaragua",
          "North Macedonia",
          "Paraguay",
          "Peru",
          "Philippines",
          "Saudi Arabia",
          "South Africa",
          "Sudan",
          "Suriname",
          "Thailand",
          "Tunisia",
          "Turkey",
          "United Arab Emirates",
          "Venezuela (Bolivarian Republic of)"
         ],
         "legendgroup": "2",
         "marker": {
          "color": "#636efa",
          "symbol": "circle"
         },
         "mode": "markers",
         "name": "2",
         "orientation": "v",
         "showlegend": true,
         "type": "scatter",
         "x": [
          7522.0669581600005,
          7332.66273932,
          6797.524524800001,
          7069.611595359999,
          6603.6286053600015,
          6424.5010806,
          7008.64260544,
          8168.304959800001,
          7546.19542664,
          6841.10123744,
          8022.2221178,
          7086.34762584,
          6797.73136316,
          6644.2981542,
          7729.5715740000005,
          7264.702061000001,
          7391.990406960001,
          7278.214255600001,
          7029.66177572,
          6662.12711964,
          7123.498310319999,
          7615.211897439999,
          7373.30579392,
          7072.48415228,
          6651.77263056,
          6809.619854039999,
          7656.47779888,
          6603.89303928,
          7287.7373433600005,
          6407.07273696,
          7219.137441,
          7661.134222799999,
          7270.523914480001,
          6768.47977712,
          6612.6788758,
          6716.16060968,
          7509.40560488,
          7528.153067000001,
          6671.889263999999,
          6828.451923119999,
          6618.3279202,
          7734.16487144,
          7561.104163,
          7364.08307268,
          6765.6444192,
          6864.87897824,
          6454.30159884
         ],
         "xaxis": "x",
         "y": [
          0.03715838856206697,
          0.034147502563351556,
          0.013908819958052779,
          0.015884221673137997,
          0.02876431724416482,
          0.003743982884649671,
          0.011153846153846136,
          0,
          0.01276771004942331,
          0.06690647482014393,
          0.024370681145113548,
          0.02029402364972836,
          0.01810679970739813,
          0.02924272089938742,
          0.020041465100207323,
          0.0625000000000001,
          0.006078343088698788,
          0.0348527052431618,
          0.029482071713147314,
          0.02882044282341889,
          0.015163359840506789,
          0.05744522857821567,
          0.009759354855279026,
          0.018613009140118864,
          0.017644969012750172,
          0.006077102163790727,
          0.008356634468734117,
          0.008893881945419646,
          0.038743762841209235,
          0.02138826925600308,
          0.023866348448687336,
          0.01693324001843539,
          0.010627940937854925,
          0.028768914627311785,
          0.035564149991592256,
          0.021766572891870447,
          0.038862635623219365,
          0.018584566039942182,
          0.015181722385524147,
          0.02622034047307767,
          0.06091518507723691,
          0.02123514513929471,
          0.01594594594594597,
          0.016078826035059807,
          0.02681113186979831,
          0.003999416394174248,
          0.008495313726395497
         ],
         "yaxis": "y"
        },
        {
         "hovertemplate": "<b>%{hovertext}</b><br><br>cluster=1<br>KCal=%{x}<br>Mortality=%{y}<extra></extra>",
         "hovertext": [
          "Albania",
          "Argentina",
          "Armenia",
          "Australia",
          "Austria",
          "Barbados",
          "Belarus",
          "Belgium",
          "Bolivia",
          "Brazil",
          "Bulgaria",
          "China",
          "Colombia",
          "Costa Rica",
          "Croatia",
          "Cyprus",
          "Czechia",
          "Denmark",
          "Dominica",
          "Ecuador",
          "Estonia",
          "Finland",
          "France",
          "Georgia",
          "Germany",
          "Greece",
          "Hungary",
          "Iceland",
          "Ireland",
          "Israel",
          "Italy",
          "Jamaica",
          "Japan",
          "Kazakhstan",
          "Kyrgyzstan",
          "Latvia",
          "Lithuania",
          "Luxembourg",
          "Maldives",
          "Malta",
          "Mexico",
          "Mongolia",
          "Montenegro",
          "Netherlands",
          "New Zealand",
          "Norway",
          "Oman",
          "Pakistan",
          "Panama",
          "Poland",
          "Portugal",
          "Romania",
          "Russian Federation",
          "Saint Vincent and the Grenadines",
          "Serbia",
          "Slovakia",
          "Slovenia",
          "Spain",
          "Sweden",
          "Switzerland",
          "Trinidad and Tobago",
          "Ukraine",
          "United Kingdom",
          "Uruguay",
          "Uzbekistan",
          "Vietnam"
         ],
         "legendgroup": "1",
         "marker": {
          "color": "#EF553B",
          "symbol": "circle"
         },
         "mode": "markers",
         "name": "1",
         "orientation": "v",
         "showlegend": true,
         "type": "scatter",
         "x": [
          5443.876135999999,
          5450.310065040001,
          6113.1047624,
          5268.72423496,
          5408.11101984,
          6294.9370742,
          6249.903349279999,
          5629.507874159999,
          6579.8987076,
          5723.178490480001,
          5788.1085391999995,
          5817.334416000001,
          6571.630219600001,
          5692.8144124,
          5634.4455868000005,
          5858.16107268,
          5632.72662812,
          5104.554212839999,
          6811.12625,
          6174.355355880001,
          5207.526759320001,
          4912.79016748,
          5210.84505624,
          6226.577178,
          5318.88730912,
          5790.8842883199995,
          5354.16262272,
          5022.66492636,
          5564.213419600001,
          5668.4586045999995,
          5594.453157880001,
          6616.8579018,
          6148.84921168,
          5508.6179702399995,
          6072.941669920001,
          5474.25274676,
          5147.87245552,
          5629.948343999999,
          6107.19353088,
          5982.69117424,
          6157.7607413999995,
          4967.477950480001,
          5127.8388780800005,
          5047.51853476,
          5585.17814116,
          5287.63661848,
          6373.771007919999,
          5292.1495236,
          6447.94606136,
          5702.4242596,
          5486.0755856000005,
          5859.26217664,
          5866.01231892,
          6643.1081824,
          5782.102032399999,
          5408.1053132,
          5553.5704630400005,
          5630.2294072,
          5060.9788482,
          5195.650799999999,
          6467.6819724,
          6435.18685732,
          5526.521396079999,
          5727.60790032,
          6201.016940760001,
          6844.750881520001
         ],
         "xaxis": "x",
         "y": [
          0.026167146974063443,
          0.026645070821473275,
          0.016666666666666653,
          0.03302317095420557,
          0.013712136150590788,
          0.03153153153153151,
          0.01056744818212708,
          0.0453097882679626,
          0.060776324254771384,
          0.02936279109540446,
          0.0330199495528548,
          0.052073489660022516,
          0.030129943274703086,
          0.012402781354622725,
          0.014399568782966936,
          0.009304056568663933,
          0.00831492289598928,
          0.01887467327005085,
          0,
          0.08078971210313968,
          0.016646266829865336,
          0.025894503873109573,
          0.03532122611799292,
          0.007662219364518032,
          0.02610139285221773,
          0.020153476474691873,
          0.024556188243175268,
          0.0026822726164350253,
          0.03631871041123304,
          0.007422689880476014,
          0.08644452733616957,
          0.02079077034010332,
          0.017942788626241893,
          0.016128002335276354,
          0.021151429768114783,
          0.012593016599885523,
          0.014625938389852447,
          0.012261580381471375,
          0.0032941595441595434,
          0.009499683343888536,
          0.10098885751515331,
          0,
          0.015228426395939096,
          0.028189598583088737,
          0.013248542660307344,
          0.016743961934590153,
          0.010072879179702338,
          0.02059351796416435,
          0.020562225896901286,
          0.019721906923950056,
          0.021578637345375993,
          0.03243571373882984,
          0.01720734189399478,
          0,
          0.021443139848961013,
          0.0029972308193516777,
          0.013889904232765555,
          0.034883303282162596,
          0.05734496124031006,
          0.02570978486994796,
          0.018308795771989444,
          0.0186815333331199,
          0.058882817602490166,
          0.01992187499999995,
          0.008359176991011111,
          0.030701754385965015
         ],
         "yaxis": "y"
        },
        {
         "hovertemplate": "<b>%{hovertext}</b><br><br>cluster=0<br>KCal=%{x}<br>Mortality=%{y}<extra></extra>",
         "hovertext": [
          "Angola",
          "Bangladesh",
          "Benin",
          "Burkina Faso",
          "Cameroon",
          "Cote d'Ivoire",
          "Djibouti",
          "Egypt",
          "Ethiopia",
          "Gambia",
          "Ghana",
          "Guinea",
          "Guinea-Bissau",
          "Haiti",
          "Indonesia",
          "Iraq",
          "Lao People's Democratic Republic",
          "Lesotho",
          "Liberia",
          "Madagascar",
          "Malawi",
          "Mozambique",
          "Nepal",
          "Niger",
          "Nigeria",
          "Rwanda",
          "Sao Tome and Principe",
          "Senegal",
          "Sierra Leone",
          "Solomon Islands",
          "Sri Lanka",
          "Timor-Leste",
          "Togo",
          "Uganda",
          "United Republic of Tanzania",
          "Zambia",
          "Zimbabwe"
         ],
         "legendgroup": "0",
         "marker": {
          "color": "#00cc96",
          "symbol": "circle"
         },
         "mode": "markers",
         "name": "0",
         "orientation": "v",
         "showlegend": true,
         "type": "scatter",
         "x": [
          8262.898702159999,
          8586.95023212,
          8830.5498892,
          8610.83245456,
          9029.0755956,
          9034.31203424,
          8313.39885564,
          8037.54010392,
          8617.80517524,
          7523.329046479999,
          9043.27285132,
          8815.976483999999,
          8395.21881688,
          8629.196304960002,
          8244.66706984,
          8116.999928360001,
          8453.267141280001,
          8221.58247768,
          8769.1231902,
          8451.595889920001,
          8731.207948320001,
          8711.12905816,
          8318.92698824,
          8066.894624,
          9351.51544428,
          9050.685526639998,
          8567.84115128,
          8495.1503286,
          8457.26290064,
          8526.334259360001,
          8305.3729664,
          8117.01095772,
          8918.0049714,
          8275.23131576,
          8597.747660519999,
          8296.2470152,
          7841.868092719999
         ],
         "xaxis": "x",
         "y": [
          0.03167709796908935,
          0.014558976540596517,
          0.01642628205128206,
          0.02723083368244655,
          0.019715428252580658,
          0.005953552450305064,
          0.011153775827390754,
          0.05807839161700478,
          0.015190296016024962,
          0.0323376267470539,
          0.0065439500126657025,
          0.006077444000694559,
          0.017062005826050785,
          0.025735294117646995,
          0.034544409155623595,
          0.023955251951574108,
          0,
          0.02291325695581013,
          0.0593772628530052,
          0.014158239143367052,
          0.03088737201365189,
          0.006768953068592062,
          0.005564703460848605,
          0.05697770437654827,
          0.018275447545404357,
          0.006810897435897429,
          0.01607717041800644,
          0.02067133229652669,
          0.03131703131703126,
          0,
          0.002311111111111108,
          0,
          0.024625784645099,
          0.00907305209989712,
          0.041257367387033436,
          0.02176511291438636,
          0.028434857212893655
         ],
         "yaxis": "y"
        }
       ],
       "layout": {
        "legend": {
         "title": {
          "text": "cluster"
         },
         "tracegroupgap": 0
        },
        "margin": {
         "t": 60
        },
        "template": {
         "data": {
          "bar": [
           {
            "error_x": {
             "color": "#2a3f5f"
            },
            "error_y": {
             "color": "#2a3f5f"
            },
            "marker": {
             "line": {
              "color": "#E5ECF6",
              "width": 0.5
             }
            },
            "type": "bar"
           }
          ],
          "barpolar": [
           {
            "marker": {
             "line": {
              "color": "#E5ECF6",
              "width": 0.5
             }
            },
            "type": "barpolar"
           }
          ],
          "carpet": [
           {
            "aaxis": {
             "endlinecolor": "#2a3f5f",
             "gridcolor": "white",
             "linecolor": "white",
             "minorgridcolor": "white",
             "startlinecolor": "#2a3f5f"
            },
            "baxis": {
             "endlinecolor": "#2a3f5f",
             "gridcolor": "white",
             "linecolor": "white",
             "minorgridcolor": "white",
             "startlinecolor": "#2a3f5f"
            },
            "type": "carpet"
           }
          ],
          "choropleth": [
           {
            "colorbar": {
             "outlinewidth": 0,
             "ticks": ""
            },
            "type": "choropleth"
           }
          ],
          "contour": [
           {
            "colorbar": {
             "outlinewidth": 0,
             "ticks": ""
            },
            "colorscale": [
             [
              0,
              "#0d0887"
             ],
             [
              0.1111111111111111,
              "#46039f"
             ],
             [
              0.2222222222222222,
              "#7201a8"
             ],
             [
              0.3333333333333333,
              "#9c179e"
             ],
             [
              0.4444444444444444,
              "#bd3786"
             ],
             [
              0.5555555555555556,
              "#d8576b"
             ],
             [
              0.6666666666666666,
              "#ed7953"
             ],
             [
              0.7777777777777778,
              "#fb9f3a"
             ],
             [
              0.8888888888888888,
              "#fdca26"
             ],
             [
              1,
              "#f0f921"
             ]
            ],
            "type": "contour"
           }
          ],
          "contourcarpet": [
           {
            "colorbar": {
             "outlinewidth": 0,
             "ticks": ""
            },
            "type": "contourcarpet"
           }
          ],
          "heatmap": [
           {
            "colorbar": {
             "outlinewidth": 0,
             "ticks": ""
            },
            "colorscale": [
             [
              0,
              "#0d0887"
             ],
             [
              0.1111111111111111,
              "#46039f"
             ],
             [
              0.2222222222222222,
              "#7201a8"
             ],
             [
              0.3333333333333333,
              "#9c179e"
             ],
             [
              0.4444444444444444,
              "#bd3786"
             ],
             [
              0.5555555555555556,
              "#d8576b"
             ],
             [
              0.6666666666666666,
              "#ed7953"
             ],
             [
              0.7777777777777778,
              "#fb9f3a"
             ],
             [
              0.8888888888888888,
              "#fdca26"
             ],
             [
              1,
              "#f0f921"
             ]
            ],
            "type": "heatmap"
           }
          ],
          "heatmapgl": [
           {
            "colorbar": {
             "outlinewidth": 0,
             "ticks": ""
            },
            "colorscale": [
             [
              0,
              "#0d0887"
             ],
             [
              0.1111111111111111,
              "#46039f"
             ],
             [
              0.2222222222222222,
              "#7201a8"
             ],
             [
              0.3333333333333333,
              "#9c179e"
             ],
             [
              0.4444444444444444,
              "#bd3786"
             ],
             [
              0.5555555555555556,
              "#d8576b"
             ],
             [
              0.6666666666666666,
              "#ed7953"
             ],
             [
              0.7777777777777778,
              "#fb9f3a"
             ],
             [
              0.8888888888888888,
              "#fdca26"
             ],
             [
              1,
              "#f0f921"
             ]
            ],
            "type": "heatmapgl"
           }
          ],
          "histogram": [
           {
            "marker": {
             "colorbar": {
              "outlinewidth": 0,
              "ticks": ""
             }
            },
            "type": "histogram"
           }
          ],
          "histogram2d": [
           {
            "colorbar": {
             "outlinewidth": 0,
             "ticks": ""
            },
            "colorscale": [
             [
              0,
              "#0d0887"
             ],
             [
              0.1111111111111111,
              "#46039f"
             ],
             [
              0.2222222222222222,
              "#7201a8"
             ],
             [
              0.3333333333333333,
              "#9c179e"
             ],
             [
              0.4444444444444444,
              "#bd3786"
             ],
             [
              0.5555555555555556,
              "#d8576b"
             ],
             [
              0.6666666666666666,
              "#ed7953"
             ],
             [
              0.7777777777777778,
              "#fb9f3a"
             ],
             [
              0.8888888888888888,
              "#fdca26"
             ],
             [
              1,
              "#f0f921"
             ]
            ],
            "type": "histogram2d"
           }
          ],
          "histogram2dcontour": [
           {
            "colorbar": {
             "outlinewidth": 0,
             "ticks": ""
            },
            "colorscale": [
             [
              0,
              "#0d0887"
             ],
             [
              0.1111111111111111,
              "#46039f"
             ],
             [
              0.2222222222222222,
              "#7201a8"
             ],
             [
              0.3333333333333333,
              "#9c179e"
             ],
             [
              0.4444444444444444,
              "#bd3786"
             ],
             [
              0.5555555555555556,
              "#d8576b"
             ],
             [
              0.6666666666666666,
              "#ed7953"
             ],
             [
              0.7777777777777778,
              "#fb9f3a"
             ],
             [
              0.8888888888888888,
              "#fdca26"
             ],
             [
              1,
              "#f0f921"
             ]
            ],
            "type": "histogram2dcontour"
           }
          ],
          "mesh3d": [
           {
            "colorbar": {
             "outlinewidth": 0,
             "ticks": ""
            },
            "type": "mesh3d"
           }
          ],
          "parcoords": [
           {
            "line": {
             "colorbar": {
              "outlinewidth": 0,
              "ticks": ""
             }
            },
            "type": "parcoords"
           }
          ],
          "pie": [
           {
            "automargin": true,
            "type": "pie"
           }
          ],
          "scatter": [
           {
            "marker": {
             "colorbar": {
              "outlinewidth": 0,
              "ticks": ""
             }
            },
            "type": "scatter"
           }
          ],
          "scatter3d": [
           {
            "line": {
             "colorbar": {
              "outlinewidth": 0,
              "ticks": ""
             }
            },
            "marker": {
             "colorbar": {
              "outlinewidth": 0,
              "ticks": ""
             }
            },
            "type": "scatter3d"
           }
          ],
          "scattercarpet": [
           {
            "marker": {
             "colorbar": {
              "outlinewidth": 0,
              "ticks": ""
             }
            },
            "type": "scattercarpet"
           }
          ],
          "scattergeo": [
           {
            "marker": {
             "colorbar": {
              "outlinewidth": 0,
              "ticks": ""
             }
            },
            "type": "scattergeo"
           }
          ],
          "scattergl": [
           {
            "marker": {
             "colorbar": {
              "outlinewidth": 0,
              "ticks": ""
             }
            },
            "type": "scattergl"
           }
          ],
          "scattermapbox": [
           {
            "marker": {
             "colorbar": {
              "outlinewidth": 0,
              "ticks": ""
             }
            },
            "type": "scattermapbox"
           }
          ],
          "scatterpolar": [
           {
            "marker": {
             "colorbar": {
              "outlinewidth": 0,
              "ticks": ""
             }
            },
            "type": "scatterpolar"
           }
          ],
          "scatterpolargl": [
           {
            "marker": {
             "colorbar": {
              "outlinewidth": 0,
              "ticks": ""
             }
            },
            "type": "scatterpolargl"
           }
          ],
          "scatterternary": [
           {
            "marker": {
             "colorbar": {
              "outlinewidth": 0,
              "ticks": ""
             }
            },
            "type": "scatterternary"
           }
          ],
          "surface": [
           {
            "colorbar": {
             "outlinewidth": 0,
             "ticks": ""
            },
            "colorscale": [
             [
              0,
              "#0d0887"
             ],
             [
              0.1111111111111111,
              "#46039f"
             ],
             [
              0.2222222222222222,
              "#7201a8"
             ],
             [
              0.3333333333333333,
              "#9c179e"
             ],
             [
              0.4444444444444444,
              "#bd3786"
             ],
             [
              0.5555555555555556,
              "#d8576b"
             ],
             [
              0.6666666666666666,
              "#ed7953"
             ],
             [
              0.7777777777777778,
              "#fb9f3a"
             ],
             [
              0.8888888888888888,
              "#fdca26"
             ],
             [
              1,
              "#f0f921"
             ]
            ],
            "type": "surface"
           }
          ],
          "table": [
           {
            "cells": {
             "fill": {
              "color": "#EBF0F8"
             },
             "line": {
              "color": "white"
             }
            },
            "header": {
             "fill": {
              "color": "#C8D4E3"
             },
             "line": {
              "color": "white"
             }
            },
            "type": "table"
           }
          ]
         },
         "layout": {
          "annotationdefaults": {
           "arrowcolor": "#2a3f5f",
           "arrowhead": 0,
           "arrowwidth": 1
          },
          "coloraxis": {
           "colorbar": {
            "outlinewidth": 0,
            "ticks": ""
           }
          },
          "colorscale": {
           "diverging": [
            [
             0,
             "#8e0152"
            ],
            [
             0.1,
             "#c51b7d"
            ],
            [
             0.2,
             "#de77ae"
            ],
            [
             0.3,
             "#f1b6da"
            ],
            [
             0.4,
             "#fde0ef"
            ],
            [
             0.5,
             "#f7f7f7"
            ],
            [
             0.6,
             "#e6f5d0"
            ],
            [
             0.7,
             "#b8e186"
            ],
            [
             0.8,
             "#7fbc41"
            ],
            [
             0.9,
             "#4d9221"
            ],
            [
             1,
             "#276419"
            ]
           ],
           "sequential": [
            [
             0,
             "#0d0887"
            ],
            [
             0.1111111111111111,
             "#46039f"
            ],
            [
             0.2222222222222222,
             "#7201a8"
            ],
            [
             0.3333333333333333,
             "#9c179e"
            ],
            [
             0.4444444444444444,
             "#bd3786"
            ],
            [
             0.5555555555555556,
             "#d8576b"
            ],
            [
             0.6666666666666666,
             "#ed7953"
            ],
            [
             0.7777777777777778,
             "#fb9f3a"
            ],
            [
             0.8888888888888888,
             "#fdca26"
            ],
            [
             1,
             "#f0f921"
            ]
           ],
           "sequentialminus": [
            [
             0,
             "#0d0887"
            ],
            [
             0.1111111111111111,
             "#46039f"
            ],
            [
             0.2222222222222222,
             "#7201a8"
            ],
            [
             0.3333333333333333,
             "#9c179e"
            ],
            [
             0.4444444444444444,
             "#bd3786"
            ],
            [
             0.5555555555555556,
             "#d8576b"
            ],
            [
             0.6666666666666666,
             "#ed7953"
            ],
            [
             0.7777777777777778,
             "#fb9f3a"
            ],
            [
             0.8888888888888888,
             "#fdca26"
            ],
            [
             1,
             "#f0f921"
            ]
           ]
          },
          "colorway": [
           "#636efa",
           "#EF553B",
           "#00cc96",
           "#ab63fa",
           "#FFA15A",
           "#19d3f3",
           "#FF6692",
           "#B6E880",
           "#FF97FF",
           "#FECB52"
          ],
          "font": {
           "color": "#2a3f5f"
          },
          "geo": {
           "bgcolor": "white",
           "lakecolor": "white",
           "landcolor": "#E5ECF6",
           "showlakes": true,
           "showland": true,
           "subunitcolor": "white"
          },
          "hoverlabel": {
           "align": "left"
          },
          "hovermode": "closest",
          "mapbox": {
           "style": "light"
          },
          "paper_bgcolor": "white",
          "plot_bgcolor": "#E5ECF6",
          "polar": {
           "angularaxis": {
            "gridcolor": "white",
            "linecolor": "white",
            "ticks": ""
           },
           "bgcolor": "#E5ECF6",
           "radialaxis": {
            "gridcolor": "white",
            "linecolor": "white",
            "ticks": ""
           }
          },
          "scene": {
           "xaxis": {
            "backgroundcolor": "#E5ECF6",
            "gridcolor": "white",
            "gridwidth": 2,
            "linecolor": "white",
            "showbackground": true,
            "ticks": "",
            "zerolinecolor": "white"
           },
           "yaxis": {
            "backgroundcolor": "#E5ECF6",
            "gridcolor": "white",
            "gridwidth": 2,
            "linecolor": "white",
            "showbackground": true,
            "ticks": "",
            "zerolinecolor": "white"
           },
           "zaxis": {
            "backgroundcolor": "#E5ECF6",
            "gridcolor": "white",
            "gridwidth": 2,
            "linecolor": "white",
            "showbackground": true,
            "ticks": "",
            "zerolinecolor": "white"
           }
          },
          "shapedefaults": {
           "line": {
            "color": "#2a3f5f"
           }
          },
          "ternary": {
           "aaxis": {
            "gridcolor": "white",
            "linecolor": "white",
            "ticks": ""
           },
           "baxis": {
            "gridcolor": "white",
            "linecolor": "white",
            "ticks": ""
           },
           "bgcolor": "#E5ECF6",
           "caxis": {
            "gridcolor": "white",
            "linecolor": "white",
            "ticks": ""
           }
          },
          "title": {
           "x": 0.05
          },
          "xaxis": {
           "automargin": true,
           "gridcolor": "white",
           "linecolor": "white",
           "ticks": "",
           "title": {
            "standoff": 15
           },
           "zerolinecolor": "white",
           "zerolinewidth": 2
          },
          "yaxis": {
           "automargin": true,
           "gridcolor": "white",
           "linecolor": "white",
           "ticks": "",
           "title": {
            "standoff": 15
           },
           "zerolinecolor": "white",
           "zerolinewidth": 2
          }
         }
        },
        "xaxis": {
         "anchor": "y",
         "domain": [
          0,
          1
         ],
         "title": {
          "text": "KCal"
         }
        },
        "yaxis": {
         "anchor": "x",
         "domain": [
          0,
          1
         ],
         "title": {
          "text": "Mortality"
         }
        }
       }
      },
      "text/html": [
       "<div>                            <div id=\"d460f81d-91e4-41fc-b762-31ee33a51851\" class=\"plotly-graph-div\" style=\"height:525px; width:100%;\"></div>            <script type=\"text/javascript\">                require([\"plotly\"], function(Plotly) {                    window.PLOTLYENV=window.PLOTLYENV || {};                                    if (document.getElementById(\"d460f81d-91e4-41fc-b762-31ee33a51851\")) {                    Plotly.newPlot(                        \"d460f81d-91e4-41fc-b762-31ee33a51851\",                        [{\"hovertemplate\": \"<b>%{hovertext}</b><br><br>cluster=2<br>KCal=%{x}<br>Mortality=%{y}<extra></extra>\", \"hovertext\": [\"Afghanistan\", \"Algeria\", \"Azerbaijan\", \"Belize\", \"Bosnia and Herzegovina\", \"Botswana\", \"Cabo Verde\", \"Cambodia\", \"Central African Republic\", \"Chad\", \"Congo\", \"Cuba\", \"Dominican Republic\", \"El Salvador\", \"Eswatini\", \"Fiji\", \"Gabon\", \"Guatemala\", \"Guyana\", \"Honduras\", \"India\", \"Iran (Islamic Republic of)\", \"Jordan\", \"Kenya\", \"Korea, South\", \"Kuwait\", \"Lebanon\", \"Malaysia\", \"Mali\", \"Mauritania\", \"Mauritius\", \"Morocco\", \"Namibia\", \"Nicaragua\", \"North Macedonia\", \"Paraguay\", \"Peru\", \"Philippines\", \"Saudi Arabia\", \"South Africa\", \"Sudan\", \"Suriname\", \"Thailand\", \"Tunisia\", \"Turkey\", \"United Arab Emirates\", \"Venezuela (Bolivarian Republic of)\"], \"legendgroup\": \"2\", \"marker\": {\"color\": \"#636efa\", \"symbol\": \"circle\"}, \"mode\": \"markers\", \"name\": \"2\", \"orientation\": \"v\", \"showlegend\": true, \"type\": \"scatter\", \"x\": [7522.0669581600005, 7332.66273932, 6797.524524800001, 7069.611595359999, 6603.6286053600015, 6424.5010806, 7008.64260544, 8168.304959800001, 7546.19542664, 6841.10123744, 8022.2221178, 7086.34762584, 6797.73136316, 6644.2981542, 7729.5715740000005, 7264.702061000001, 7391.990406960001, 7278.214255600001, 7029.66177572, 6662.12711964, 7123.498310319999, 7615.211897439999, 7373.30579392, 7072.48415228, 6651.77263056, 6809.619854039999, 7656.47779888, 6603.89303928, 7287.7373433600005, 6407.07273696, 7219.137441, 7661.134222799999, 7270.523914480001, 6768.47977712, 6612.6788758, 6716.16060968, 7509.40560488, 7528.153067000001, 6671.889263999999, 6828.451923119999, 6618.3279202, 7734.16487144, 7561.104163, 7364.08307268, 6765.6444192, 6864.87897824, 6454.30159884], \"xaxis\": \"x\", \"y\": [0.03715838856206697, 0.034147502563351556, 0.013908819958052779, 0.015884221673137997, 0.02876431724416482, 0.003743982884649671, 0.011153846153846136, 0.0, 0.01276771004942331, 0.06690647482014393, 0.024370681145113548, 0.02029402364972836, 0.01810679970739813, 0.02924272089938742, 0.020041465100207323, 0.0625000000000001, 0.006078343088698788, 0.0348527052431618, 0.029482071713147314, 0.02882044282341889, 0.015163359840506789, 0.05744522857821567, 0.009759354855279026, 0.018613009140118864, 0.017644969012750172, 0.006077102163790727, 0.008356634468734117, 0.008893881945419646, 0.038743762841209235, 0.02138826925600308, 0.023866348448687336, 0.01693324001843539, 0.010627940937854925, 0.028768914627311785, 0.035564149991592256, 0.021766572891870447, 0.038862635623219365, 0.018584566039942182, 0.015181722385524147, 0.02622034047307767, 0.06091518507723691, 0.02123514513929471, 0.01594594594594597, 0.016078826035059807, 0.02681113186979831, 0.003999416394174248, 0.008495313726395497], \"yaxis\": \"y\"}, {\"hovertemplate\": \"<b>%{hovertext}</b><br><br>cluster=1<br>KCal=%{x}<br>Mortality=%{y}<extra></extra>\", \"hovertext\": [\"Albania\", \"Argentina\", \"Armenia\", \"Australia\", \"Austria\", \"Barbados\", \"Belarus\", \"Belgium\", \"Bolivia\", \"Brazil\", \"Bulgaria\", \"China\", \"Colombia\", \"Costa Rica\", \"Croatia\", \"Cyprus\", \"Czechia\", \"Denmark\", \"Dominica\", \"Ecuador\", \"Estonia\", \"Finland\", \"France\", \"Georgia\", \"Germany\", \"Greece\", \"Hungary\", \"Iceland\", \"Ireland\", \"Israel\", \"Italy\", \"Jamaica\", \"Japan\", \"Kazakhstan\", \"Kyrgyzstan\", \"Latvia\", \"Lithuania\", \"Luxembourg\", \"Maldives\", \"Malta\", \"Mexico\", \"Mongolia\", \"Montenegro\", \"Netherlands\", \"New Zealand\", \"Norway\", \"Oman\", \"Pakistan\", \"Panama\", \"Poland\", \"Portugal\", \"Romania\", \"Russian Federation\", \"Saint Vincent and the Grenadines\", \"Serbia\", \"Slovakia\", \"Slovenia\", \"Spain\", \"Sweden\", \"Switzerland\", \"Trinidad and Tobago\", \"Ukraine\", \"United Kingdom\", \"Uruguay\", \"Uzbekistan\", \"Vietnam\"], \"legendgroup\": \"1\", \"marker\": {\"color\": \"#EF553B\", \"symbol\": \"circle\"}, \"mode\": \"markers\", \"name\": \"1\", \"orientation\": \"v\", \"showlegend\": true, \"type\": \"scatter\", \"x\": [5443.876135999999, 5450.310065040001, 6113.1047624, 5268.72423496, 5408.11101984, 6294.9370742, 6249.903349279999, 5629.507874159999, 6579.8987076, 5723.178490480001, 5788.1085391999995, 5817.334416000001, 6571.630219600001, 5692.8144124, 5634.4455868000005, 5858.16107268, 5632.72662812, 5104.554212839999, 6811.12625, 6174.355355880001, 5207.526759320001, 4912.79016748, 5210.84505624, 6226.577178, 5318.88730912, 5790.8842883199995, 5354.16262272, 5022.66492636, 5564.213419600001, 5668.4586045999995, 5594.453157880001, 6616.8579018, 6148.84921168, 5508.6179702399995, 6072.941669920001, 5474.25274676, 5147.87245552, 5629.948343999999, 6107.19353088, 5982.69117424, 6157.7607413999995, 4967.477950480001, 5127.8388780800005, 5047.51853476, 5585.17814116, 5287.63661848, 6373.771007919999, 5292.1495236, 6447.94606136, 5702.4242596, 5486.0755856000005, 5859.26217664, 5866.01231892, 6643.1081824, 5782.102032399999, 5408.1053132, 5553.5704630400005, 5630.2294072, 5060.9788482, 5195.650799999999, 6467.6819724, 6435.18685732, 5526.521396079999, 5727.60790032, 6201.016940760001, 6844.750881520001], \"xaxis\": \"x\", \"y\": [0.026167146974063443, 0.026645070821473275, 0.016666666666666653, 0.03302317095420557, 0.013712136150590788, 0.03153153153153151, 0.01056744818212708, 0.0453097882679626, 0.060776324254771384, 0.02936279109540446, 0.0330199495528548, 0.052073489660022516, 0.030129943274703086, 0.012402781354622725, 0.014399568782966936, 0.009304056568663933, 0.00831492289598928, 0.01887467327005085, 0.0, 0.08078971210313968, 0.016646266829865336, 0.025894503873109573, 0.03532122611799292, 0.007662219364518032, 0.02610139285221773, 0.020153476474691873, 0.024556188243175268, 0.0026822726164350253, 0.03631871041123304, 0.007422689880476014, 0.08644452733616957, 0.02079077034010332, 0.017942788626241893, 0.016128002335276354, 0.021151429768114783, 0.012593016599885523, 0.014625938389852447, 0.012261580381471375, 0.0032941595441595434, 0.009499683343888536, 0.10098885751515331, 0.0, 0.015228426395939096, 0.028189598583088737, 0.013248542660307344, 0.016743961934590153, 0.010072879179702338, 0.02059351796416435, 0.020562225896901286, 0.019721906923950056, 0.021578637345375993, 0.03243571373882984, 0.01720734189399478, 0.0, 0.021443139848961013, 0.0029972308193516777, 0.013889904232765555, 0.034883303282162596, 0.05734496124031006, 0.02570978486994796, 0.018308795771989444, 0.0186815333331199, 0.058882817602490166, 0.01992187499999995, 0.008359176991011111, 0.030701754385965015], \"yaxis\": \"y\"}, {\"hovertemplate\": \"<b>%{hovertext}</b><br><br>cluster=0<br>KCal=%{x}<br>Mortality=%{y}<extra></extra>\", \"hovertext\": [\"Angola\", \"Bangladesh\", \"Benin\", \"Burkina Faso\", \"Cameroon\", \"Cote d'Ivoire\", \"Djibouti\", \"Egypt\", \"Ethiopia\", \"Gambia\", \"Ghana\", \"Guinea\", \"Guinea-Bissau\", \"Haiti\", \"Indonesia\", \"Iraq\", \"Lao People's Democratic Republic\", \"Lesotho\", \"Liberia\", \"Madagascar\", \"Malawi\", \"Mozambique\", \"Nepal\", \"Niger\", \"Nigeria\", \"Rwanda\", \"Sao Tome and Principe\", \"Senegal\", \"Sierra Leone\", \"Solomon Islands\", \"Sri Lanka\", \"Timor-Leste\", \"Togo\", \"Uganda\", \"United Republic of Tanzania\", \"Zambia\", \"Zimbabwe\"], \"legendgroup\": \"0\", \"marker\": {\"color\": \"#00cc96\", \"symbol\": \"circle\"}, \"mode\": \"markers\", \"name\": \"0\", \"orientation\": \"v\", \"showlegend\": true, \"type\": \"scatter\", \"x\": [8262.898702159999, 8586.95023212, 8830.5498892, 8610.83245456, 9029.0755956, 9034.31203424, 8313.39885564, 8037.54010392, 8617.80517524, 7523.329046479999, 9043.27285132, 8815.976483999999, 8395.21881688, 8629.196304960002, 8244.66706984, 8116.999928360001, 8453.267141280001, 8221.58247768, 8769.1231902, 8451.595889920001, 8731.207948320001, 8711.12905816, 8318.92698824, 8066.894624, 9351.51544428, 9050.685526639998, 8567.84115128, 8495.1503286, 8457.26290064, 8526.334259360001, 8305.3729664, 8117.01095772, 8918.0049714, 8275.23131576, 8597.747660519999, 8296.2470152, 7841.868092719999], \"xaxis\": \"x\", \"y\": [0.03167709796908935, 0.014558976540596517, 0.01642628205128206, 0.02723083368244655, 0.019715428252580658, 0.005953552450305064, 0.011153775827390754, 0.05807839161700478, 0.015190296016024962, 0.0323376267470539, 0.0065439500126657025, 0.006077444000694559, 0.017062005826050785, 0.025735294117646995, 0.034544409155623595, 0.023955251951574108, 0.0, 0.02291325695581013, 0.0593772628530052, 0.014158239143367052, 0.03088737201365189, 0.006768953068592062, 0.005564703460848605, 0.05697770437654827, 0.018275447545404357, 0.006810897435897429, 0.01607717041800644, 0.02067133229652669, 0.03131703131703126, 0.0, 0.002311111111111108, 0.0, 0.024625784645099, 0.00907305209989712, 0.041257367387033436, 0.02176511291438636, 0.028434857212893655], \"yaxis\": \"y\"}],                        {\"legend\": {\"title\": {\"text\": \"cluster\"}, \"tracegroupgap\": 0}, \"margin\": {\"t\": 60}, \"template\": {\"data\": {\"bar\": [{\"error_x\": {\"color\": \"#2a3f5f\"}, \"error_y\": {\"color\": \"#2a3f5f\"}, \"marker\": {\"line\": {\"color\": \"#E5ECF6\", \"width\": 0.5}}, \"type\": \"bar\"}], \"barpolar\": [{\"marker\": {\"line\": {\"color\": \"#E5ECF6\", \"width\": 0.5}}, \"type\": \"barpolar\"}], \"carpet\": [{\"aaxis\": {\"endlinecolor\": \"#2a3f5f\", \"gridcolor\": \"white\", \"linecolor\": \"white\", \"minorgridcolor\": \"white\", \"startlinecolor\": \"#2a3f5f\"}, \"baxis\": {\"endlinecolor\": \"#2a3f5f\", \"gridcolor\": \"white\", \"linecolor\": \"white\", \"minorgridcolor\": \"white\", \"startlinecolor\": \"#2a3f5f\"}, \"type\": \"carpet\"}], \"choropleth\": [{\"colorbar\": {\"outlinewidth\": 0, \"ticks\": \"\"}, \"type\": \"choropleth\"}], \"contour\": [{\"colorbar\": {\"outlinewidth\": 0, \"ticks\": \"\"}, \"colorscale\": [[0.0, \"#0d0887\"], [0.1111111111111111, \"#46039f\"], [0.2222222222222222, \"#7201a8\"], [0.3333333333333333, \"#9c179e\"], [0.4444444444444444, \"#bd3786\"], [0.5555555555555556, \"#d8576b\"], [0.6666666666666666, \"#ed7953\"], [0.7777777777777778, \"#fb9f3a\"], [0.8888888888888888, \"#fdca26\"], [1.0, \"#f0f921\"]], \"type\": \"contour\"}], \"contourcarpet\": [{\"colorbar\": {\"outlinewidth\": 0, \"ticks\": \"\"}, \"type\": \"contourcarpet\"}], \"heatmap\": [{\"colorbar\": {\"outlinewidth\": 0, \"ticks\": \"\"}, \"colorscale\": [[0.0, \"#0d0887\"], [0.1111111111111111, \"#46039f\"], [0.2222222222222222, \"#7201a8\"], [0.3333333333333333, \"#9c179e\"], [0.4444444444444444, \"#bd3786\"], [0.5555555555555556, \"#d8576b\"], [0.6666666666666666, \"#ed7953\"], [0.7777777777777778, \"#fb9f3a\"], [0.8888888888888888, \"#fdca26\"], [1.0, \"#f0f921\"]], \"type\": \"heatmap\"}], \"heatmapgl\": [{\"colorbar\": {\"outlinewidth\": 0, \"ticks\": \"\"}, \"colorscale\": [[0.0, \"#0d0887\"], [0.1111111111111111, \"#46039f\"], [0.2222222222222222, \"#7201a8\"], [0.3333333333333333, \"#9c179e\"], [0.4444444444444444, \"#bd3786\"], [0.5555555555555556, \"#d8576b\"], [0.6666666666666666, \"#ed7953\"], [0.7777777777777778, \"#fb9f3a\"], [0.8888888888888888, \"#fdca26\"], [1.0, \"#f0f921\"]], \"type\": \"heatmapgl\"}], \"histogram\": [{\"marker\": {\"colorbar\": {\"outlinewidth\": 0, \"ticks\": \"\"}}, \"type\": \"histogram\"}], \"histogram2d\": [{\"colorbar\": {\"outlinewidth\": 0, \"ticks\": \"\"}, \"colorscale\": [[0.0, \"#0d0887\"], [0.1111111111111111, \"#46039f\"], [0.2222222222222222, \"#7201a8\"], [0.3333333333333333, \"#9c179e\"], [0.4444444444444444, \"#bd3786\"], [0.5555555555555556, \"#d8576b\"], [0.6666666666666666, \"#ed7953\"], [0.7777777777777778, \"#fb9f3a\"], [0.8888888888888888, \"#fdca26\"], [1.0, \"#f0f921\"]], \"type\": \"histogram2d\"}], \"histogram2dcontour\": [{\"colorbar\": {\"outlinewidth\": 0, \"ticks\": \"\"}, \"colorscale\": [[0.0, \"#0d0887\"], [0.1111111111111111, \"#46039f\"], [0.2222222222222222, \"#7201a8\"], [0.3333333333333333, \"#9c179e\"], [0.4444444444444444, \"#bd3786\"], [0.5555555555555556, \"#d8576b\"], [0.6666666666666666, \"#ed7953\"], [0.7777777777777778, \"#fb9f3a\"], [0.8888888888888888, \"#fdca26\"], [1.0, \"#f0f921\"]], \"type\": \"histogram2dcontour\"}], \"mesh3d\": [{\"colorbar\": {\"outlinewidth\": 0, \"ticks\": \"\"}, \"type\": \"mesh3d\"}], \"parcoords\": [{\"line\": {\"colorbar\": {\"outlinewidth\": 0, \"ticks\": \"\"}}, \"type\": \"parcoords\"}], \"pie\": [{\"automargin\": true, \"type\": \"pie\"}], \"scatter\": [{\"marker\": {\"colorbar\": {\"outlinewidth\": 0, \"ticks\": \"\"}}, \"type\": \"scatter\"}], \"scatter3d\": [{\"line\": {\"colorbar\": {\"outlinewidth\": 0, \"ticks\": \"\"}}, \"marker\": {\"colorbar\": {\"outlinewidth\": 0, \"ticks\": \"\"}}, \"type\": \"scatter3d\"}], \"scattercarpet\": [{\"marker\": {\"colorbar\": {\"outlinewidth\": 0, \"ticks\": \"\"}}, \"type\": \"scattercarpet\"}], \"scattergeo\": [{\"marker\": {\"colorbar\": {\"outlinewidth\": 0, \"ticks\": \"\"}}, \"type\": \"scattergeo\"}], \"scattergl\": [{\"marker\": {\"colorbar\": {\"outlinewidth\": 0, \"ticks\": \"\"}}, \"type\": \"scattergl\"}], \"scattermapbox\": [{\"marker\": {\"colorbar\": {\"outlinewidth\": 0, \"ticks\": \"\"}}, \"type\": \"scattermapbox\"}], \"scatterpolar\": [{\"marker\": {\"colorbar\": {\"outlinewidth\": 0, \"ticks\": \"\"}}, \"type\": \"scatterpolar\"}], \"scatterpolargl\": [{\"marker\": {\"colorbar\": {\"outlinewidth\": 0, \"ticks\": \"\"}}, \"type\": \"scatterpolargl\"}], \"scatterternary\": [{\"marker\": {\"colorbar\": {\"outlinewidth\": 0, \"ticks\": \"\"}}, \"type\": \"scatterternary\"}], \"surface\": [{\"colorbar\": {\"outlinewidth\": 0, \"ticks\": \"\"}, \"colorscale\": [[0.0, \"#0d0887\"], [0.1111111111111111, \"#46039f\"], [0.2222222222222222, \"#7201a8\"], [0.3333333333333333, \"#9c179e\"], [0.4444444444444444, \"#bd3786\"], [0.5555555555555556, \"#d8576b\"], [0.6666666666666666, \"#ed7953\"], [0.7777777777777778, \"#fb9f3a\"], [0.8888888888888888, \"#fdca26\"], [1.0, \"#f0f921\"]], \"type\": \"surface\"}], \"table\": [{\"cells\": {\"fill\": {\"color\": \"#EBF0F8\"}, \"line\": {\"color\": \"white\"}}, \"header\": {\"fill\": {\"color\": \"#C8D4E3\"}, \"line\": {\"color\": \"white\"}}, \"type\": \"table\"}]}, \"layout\": {\"annotationdefaults\": {\"arrowcolor\": \"#2a3f5f\", \"arrowhead\": 0, \"arrowwidth\": 1}, \"coloraxis\": {\"colorbar\": {\"outlinewidth\": 0, \"ticks\": \"\"}}, \"colorscale\": {\"diverging\": [[0, \"#8e0152\"], [0.1, \"#c51b7d\"], [0.2, \"#de77ae\"], [0.3, \"#f1b6da\"], [0.4, \"#fde0ef\"], [0.5, \"#f7f7f7\"], [0.6, \"#e6f5d0\"], [0.7, \"#b8e186\"], [0.8, \"#7fbc41\"], [0.9, \"#4d9221\"], [1, \"#276419\"]], \"sequential\": [[0.0, \"#0d0887\"], [0.1111111111111111, \"#46039f\"], [0.2222222222222222, \"#7201a8\"], [0.3333333333333333, \"#9c179e\"], [0.4444444444444444, \"#bd3786\"], [0.5555555555555556, \"#d8576b\"], [0.6666666666666666, \"#ed7953\"], [0.7777777777777778, \"#fb9f3a\"], [0.8888888888888888, \"#fdca26\"], [1.0, \"#f0f921\"]], \"sequentialminus\": [[0.0, \"#0d0887\"], [0.1111111111111111, \"#46039f\"], [0.2222222222222222, \"#7201a8\"], [0.3333333333333333, \"#9c179e\"], [0.4444444444444444, \"#bd3786\"], [0.5555555555555556, \"#d8576b\"], [0.6666666666666666, \"#ed7953\"], [0.7777777777777778, \"#fb9f3a\"], [0.8888888888888888, \"#fdca26\"], [1.0, \"#f0f921\"]]}, \"colorway\": [\"#636efa\", \"#EF553B\", \"#00cc96\", \"#ab63fa\", \"#FFA15A\", \"#19d3f3\", \"#FF6692\", \"#B6E880\", \"#FF97FF\", \"#FECB52\"], \"font\": {\"color\": \"#2a3f5f\"}, \"geo\": {\"bgcolor\": \"white\", \"lakecolor\": \"white\", \"landcolor\": \"#E5ECF6\", \"showlakes\": true, \"showland\": true, \"subunitcolor\": \"white\"}, \"hoverlabel\": {\"align\": \"left\"}, \"hovermode\": \"closest\", \"mapbox\": {\"style\": \"light\"}, \"paper_bgcolor\": \"white\", \"plot_bgcolor\": \"#E5ECF6\", \"polar\": {\"angularaxis\": {\"gridcolor\": \"white\", \"linecolor\": \"white\", \"ticks\": \"\"}, \"bgcolor\": \"#E5ECF6\", \"radialaxis\": {\"gridcolor\": \"white\", \"linecolor\": \"white\", \"ticks\": \"\"}}, \"scene\": {\"xaxis\": {\"backgroundcolor\": \"#E5ECF6\", \"gridcolor\": \"white\", \"gridwidth\": 2, \"linecolor\": \"white\", \"showbackground\": true, \"ticks\": \"\", \"zerolinecolor\": \"white\"}, \"yaxis\": {\"backgroundcolor\": \"#E5ECF6\", \"gridcolor\": \"white\", \"gridwidth\": 2, \"linecolor\": \"white\", \"showbackground\": true, \"ticks\": \"\", \"zerolinecolor\": \"white\"}, \"zaxis\": {\"backgroundcolor\": \"#E5ECF6\", \"gridcolor\": \"white\", \"gridwidth\": 2, \"linecolor\": \"white\", \"showbackground\": true, \"ticks\": \"\", \"zerolinecolor\": \"white\"}}, \"shapedefaults\": {\"line\": {\"color\": \"#2a3f5f\"}}, \"ternary\": {\"aaxis\": {\"gridcolor\": \"white\", \"linecolor\": \"white\", \"ticks\": \"\"}, \"baxis\": {\"gridcolor\": \"white\", \"linecolor\": \"white\", \"ticks\": \"\"}, \"bgcolor\": \"#E5ECF6\", \"caxis\": {\"gridcolor\": \"white\", \"linecolor\": \"white\", \"ticks\": \"\"}}, \"title\": {\"x\": 0.05}, \"xaxis\": {\"automargin\": true, \"gridcolor\": \"white\", \"linecolor\": \"white\", \"ticks\": \"\", \"title\": {\"standoff\": 15}, \"zerolinecolor\": \"white\", \"zerolinewidth\": 2}, \"yaxis\": {\"automargin\": true, \"gridcolor\": \"white\", \"linecolor\": \"white\", \"ticks\": \"\", \"title\": {\"standoff\": 15}, \"zerolinecolor\": \"white\", \"zerolinewidth\": 2}}}, \"xaxis\": {\"anchor\": \"y\", \"domain\": [0.0, 1.0], \"title\": {\"text\": \"KCal\"}}, \"yaxis\": {\"anchor\": \"x\", \"domain\": [0.0, 1.0], \"title\": {\"text\": \"Mortality\"}}},                        {\"responsive\": true}                    ).then(function(){\n",
       "                            \n",
       "var gd = document.getElementById('d460f81d-91e4-41fc-b762-31ee33a51851');\n",
       "var x = new MutationObserver(function (mutations, observer) {{\n",
       "        var display = window.getComputedStyle(gd).display;\n",
       "        if (!display || display === 'none') {{\n",
       "            console.log([gd, 'removed!']);\n",
       "            Plotly.purge(gd);\n",
       "            observer.disconnect();\n",
       "        }}\n",
       "}});\n",
       "\n",
       "// Listen for the removal of the full notebook cells\n",
       "var notebookContainer = gd.closest('#notebook-container');\n",
       "if (notebookContainer) {{\n",
       "    x.observe(notebookContainer, {childList: true});\n",
       "}}\n",
       "\n",
       "// Listen for the clearing of the current output cell\n",
       "var outputEl = gd.closest('.output');\n",
       "if (outputEl) {{\n",
       "    x.observe(outputEl, {childList: true});\n",
       "}}\n",
       "\n",
       "                        })                };                });            </script>        </div>"
      ]
     },
     "metadata": {},
     "output_type": "display_data"
    }
   ],
   "source": [
    "fig = px.scatter(df_vis, x = 'KCal', y = 'Mortality', color = 'cluster', hover_name = 'Country')\n",
    "fig.show()"
   ]
  },
  {
   "cell_type": "code",
   "execution_count": 1097,
   "metadata": {},
   "outputs": [
    {
     "data": {
      "application/vnd.plotly.v1+json": {
       "config": {
        "plotlyServerURL": "https://plot.ly"
       },
       "data": [
        {
         "hovertemplate": "<b>%{hovertext}</b><br><br>cluster=2<br>Protein=%{x}<br>Mortality=%{y}<extra></extra>",
         "hovertext": [
          "Afghanistan",
          "Algeria",
          "Azerbaijan",
          "Belize",
          "Bosnia and Herzegovina",
          "Botswana",
          "Cabo Verde",
          "Cambodia",
          "Central African Republic",
          "Chad",
          "Congo",
          "Cuba",
          "Dominican Republic",
          "El Salvador",
          "Eswatini",
          "Fiji",
          "Gabon",
          "Guatemala",
          "Guyana",
          "Honduras",
          "India",
          "Iran (Islamic Republic of)",
          "Jordan",
          "Kenya",
          "Korea, South",
          "Kuwait",
          "Lebanon",
          "Malaysia",
          "Mali",
          "Mauritania",
          "Mauritius",
          "Morocco",
          "Namibia",
          "Nicaragua",
          "North Macedonia",
          "Paraguay",
          "Peru",
          "Philippines",
          "Saudi Arabia",
          "South Africa",
          "Sudan",
          "Suriname",
          "Thailand",
          "Tunisia",
          "Turkey",
          "United Arab Emirates",
          "Venezuela (Bolivarian Republic of)"
         ],
         "legendgroup": "2",
         "marker": {
          "color": "#636efa",
          "symbol": "circle"
         },
         "mode": "markers",
         "name": "2",
         "orientation": "v",
         "showlegend": true,
         "type": "scatter",
         "x": [
          6898.5280003200005,
          6373.076681359999,
          5930.156399360001,
          5790.8721596000005,
          5669.38000284,
          5397.30342,
          5789.17352944,
          6567.2636912,
          5456.127331520001,
          5972.1052670399995,
          5172.52745996,
          5789.06491172,
          4923.8417504,
          5739.5019902,
          6439.46791264,
          5533.74445104,
          5087.64026392,
          6122.56905,
          5360.936109480001,
          5693.896894400001,
          6501.014367919999,
          6443.68042508,
          5946.4175704,
          6339.60911952,
          4965.06113888,
          5142.037432319999,
          6355.4093072,
          4764.8435136,
          6345.37012392,
          5522.9619965599995,
          5395.6527,
          6454.9848168,
          5822.0289335200005,
          5788.7764042399995,
          5475.2205216,
          5179.5082688,
          5806.8428104800005,
          5657.2623626800005,
          5370.46896984,
          5450.98046392,
          5895.947470920001,
          5653.951037039999,
          5486.518007000001,
          6322.715362519999,
          5744.2286568,
          5529.07028188,
          5200.6729974
         ],
         "xaxis": "x",
         "y": [
          0.03715838856206697,
          0.034147502563351556,
          0.013908819958052779,
          0.015884221673137997,
          0.02876431724416482,
          0.003743982884649671,
          0.011153846153846136,
          0,
          0.01276771004942331,
          0.06690647482014393,
          0.024370681145113548,
          0.02029402364972836,
          0.01810679970739813,
          0.02924272089938742,
          0.020041465100207323,
          0.0625000000000001,
          0.006078343088698788,
          0.0348527052431618,
          0.029482071713147314,
          0.02882044282341889,
          0.015163359840506789,
          0.05744522857821567,
          0.009759354855279026,
          0.018613009140118864,
          0.017644969012750172,
          0.006077102163790727,
          0.008356634468734117,
          0.008893881945419646,
          0.038743762841209235,
          0.02138826925600308,
          0.023866348448687336,
          0.01693324001843539,
          0.010627940937854925,
          0.028768914627311785,
          0.035564149991592256,
          0.021766572891870447,
          0.038862635623219365,
          0.018584566039942182,
          0.015181722385524147,
          0.02622034047307767,
          0.06091518507723691,
          0.02123514513929471,
          0.01594594594594597,
          0.016078826035059807,
          0.02681113186979831,
          0.003999416394174248,
          0.008495313726395497
         ],
         "yaxis": "y"
        },
        {
         "hovertemplate": "<b>%{hovertext}</b><br><br>cluster=1<br>Protein=%{x}<br>Mortality=%{y}<extra></extra>",
         "hovertext": [
          "Albania",
          "Argentina",
          "Armenia",
          "Australia",
          "Austria",
          "Barbados",
          "Belarus",
          "Belgium",
          "Bolivia",
          "Brazil",
          "Bulgaria",
          "China",
          "Colombia",
          "Costa Rica",
          "Croatia",
          "Cyprus",
          "Czechia",
          "Denmark",
          "Dominica",
          "Ecuador",
          "Estonia",
          "Finland",
          "France",
          "Georgia",
          "Germany",
          "Greece",
          "Hungary",
          "Iceland",
          "Ireland",
          "Israel",
          "Italy",
          "Jamaica",
          "Japan",
          "Kazakhstan",
          "Kyrgyzstan",
          "Latvia",
          "Lithuania",
          "Luxembourg",
          "Maldives",
          "Malta",
          "Mexico",
          "Mongolia",
          "Montenegro",
          "Netherlands",
          "New Zealand",
          "Norway",
          "Oman",
          "Pakistan",
          "Panama",
          "Poland",
          "Portugal",
          "Romania",
          "Russian Federation",
          "Saint Vincent and the Grenadines",
          "Serbia",
          "Slovakia",
          "Slovenia",
          "Spain",
          "Sweden",
          "Switzerland",
          "Trinidad and Tobago",
          "Ukraine",
          "United Kingdom",
          "Uruguay",
          "Uzbekistan",
          "Vietnam"
         ],
         "legendgroup": "1",
         "marker": {
          "color": "#EF553B",
          "symbol": "circle"
         },
         "mode": "markers",
         "name": "1",
         "orientation": "v",
         "showlegend": true,
         "type": "scatter",
         "x": [
          4863.21486416,
          4684.0388052,
          5193.512022880001,
          4771.20109612,
          4782.51287376,
          4678.813977,
          4794.084519,
          4796.7533492,
          5244.50093748,
          4751.75246724,
          4999.9237696,
          4477.02397056,
          4933.20401704,
          4844.5536059999995,
          4706.569154,
          4756.75438316,
          4669.674754080001,
          4894.069401919999,
          4709.4450748,
          5173.06309676,
          4922.33675168,
          5094.051401480001,
          4840.32873752,
          5496.87200184,
          4824.54390544,
          4884.05899376,
          4866.87439424,
          4911.48705192,
          4818.87262776,
          4771.133569600001,
          4918.29023544,
          5035.8654116,
          4785.6761312,
          4814.9651088,
          5363.215956,
          4822.269666239999,
          4909.93695004,
          4435.60401304,
          4567.140034239999,
          4656.10497692,
          5122.54039848,
          5064.28668104,
          4907.39024464,
          4956.0079319199995,
          4788.23551932,
          4869.458341760001,
          5020.17520144,
          5086.41361792,
          4841.62002028,
          4872.3051940000005,
          4657.00744368,
          5037.6962512400005,
          4830.7732786,
          4763.634748799999,
          5049.13065784,
          4788.4249996,
          4878.2267496,
          4676.5549448,
          4950.49646524,
          4883.95574288,
          5004.1291732,
          5314.1583364,
          4847.37293376,
          4901.88738464,
          5420.49098552,
          5599.601905359999
         ],
         "xaxis": "x",
         "y": [
          0.026167146974063443,
          0.026645070821473275,
          0.016666666666666653,
          0.03302317095420557,
          0.013712136150590788,
          0.03153153153153151,
          0.01056744818212708,
          0.0453097882679626,
          0.060776324254771384,
          0.02936279109540446,
          0.0330199495528548,
          0.052073489660022516,
          0.030129943274703086,
          0.012402781354622725,
          0.014399568782966936,
          0.009304056568663933,
          0.00831492289598928,
          0.01887467327005085,
          0,
          0.08078971210313968,
          0.016646266829865336,
          0.025894503873109573,
          0.03532122611799292,
          0.007662219364518032,
          0.02610139285221773,
          0.020153476474691873,
          0.024556188243175268,
          0.0026822726164350253,
          0.03631871041123304,
          0.007422689880476014,
          0.08644452733616957,
          0.02079077034010332,
          0.017942788626241893,
          0.016128002335276354,
          0.021151429768114783,
          0.012593016599885523,
          0.014625938389852447,
          0.012261580381471375,
          0.0032941595441595434,
          0.009499683343888536,
          0.10098885751515331,
          0,
          0.015228426395939096,
          0.028189598583088737,
          0.013248542660307344,
          0.016743961934590153,
          0.010072879179702338,
          0.02059351796416435,
          0.020562225896901286,
          0.019721906923950056,
          0.021578637345375993,
          0.03243571373882984,
          0.01720734189399478,
          0,
          0.021443139848961013,
          0.0029972308193516777,
          0.013889904232765555,
          0.034883303282162596,
          0.05734496124031006,
          0.02570978486994796,
          0.018308795771989444,
          0.0186815333331199,
          0.058882817602490166,
          0.01992187499999995,
          0.008359176991011111,
          0.030701754385965015
         ],
         "yaxis": "y"
        },
        {
         "hovertemplate": "<b>%{hovertext}</b><br><br>cluster=0<br>Protein=%{x}<br>Mortality=%{y}<extra></extra>",
         "hovertext": [
          "Angola",
          "Bangladesh",
          "Benin",
          "Burkina Faso",
          "Cameroon",
          "Cote d'Ivoire",
          "Djibouti",
          "Egypt",
          "Ethiopia",
          "Gambia",
          "Ghana",
          "Guinea",
          "Guinea-Bissau",
          "Haiti",
          "Indonesia",
          "Iraq",
          "Lao People's Democratic Republic",
          "Lesotho",
          "Liberia",
          "Madagascar",
          "Malawi",
          "Mozambique",
          "Nepal",
          "Niger",
          "Nigeria",
          "Rwanda",
          "Sao Tome and Principe",
          "Senegal",
          "Sierra Leone",
          "Solomon Islands",
          "Sri Lanka",
          "Timor-Leste",
          "Togo",
          "Uganda",
          "United Republic of Tanzania",
          "Zambia",
          "Zimbabwe"
         ],
         "legendgroup": "0",
         "marker": {
          "color": "#00cc96",
          "symbol": "circle"
         },
         "mode": "markers",
         "name": "0",
         "orientation": "v",
         "showlegend": true,
         "type": "scatter",
         "x": [
          6570.34320248,
          7389.72141952,
          7352.64861332,
          7897.652893800001,
          7982.2932624000005,
          7369.7586221599995,
          7393.4959561199985,
          6826.7375864000005,
          8238.79866604,
          6422.387785,
          7266.312994760001,
          7665.8416668,
          7316.917441080001,
          7570.022424800001,
          6325.0457872,
          7068.981677040001,
          7205.52654552,
          7338.3647245600005,
          7162.95608248,
          7295.037711280001,
          7946.28763992,
          7722.760204520001,
          7566.4326006,
          7468.5912346,
          8466.174395279999,
          8151.41454656,
          6635.9140748,
          7241.625455519999,
          7020.248678680001,
          6729.43949536,
          6627.416947279999,
          6785.675672999999,
          7896.385086599999,
          7261.1416877599995,
          7776.54770684,
          7294.473301520001,
          6840.3201534
         ],
         "xaxis": "x",
         "y": [
          0.03167709796908935,
          0.014558976540596517,
          0.01642628205128206,
          0.02723083368244655,
          0.019715428252580658,
          0.005953552450305064,
          0.011153775827390754,
          0.05807839161700478,
          0.015190296016024962,
          0.0323376267470539,
          0.0065439500126657025,
          0.006077444000694559,
          0.017062005826050785,
          0.025735294117646995,
          0.034544409155623595,
          0.023955251951574108,
          0,
          0.02291325695581013,
          0.0593772628530052,
          0.014158239143367052,
          0.03088737201365189,
          0.006768953068592062,
          0.005564703460848605,
          0.05697770437654827,
          0.018275447545404357,
          0.006810897435897429,
          0.01607717041800644,
          0.02067133229652669,
          0.03131703131703126,
          0,
          0.002311111111111108,
          0,
          0.024625784645099,
          0.00907305209989712,
          0.041257367387033436,
          0.02176511291438636,
          0.028434857212893655
         ],
         "yaxis": "y"
        }
       ],
       "layout": {
        "legend": {
         "title": {
          "text": "cluster"
         },
         "tracegroupgap": 0
        },
        "margin": {
         "t": 60
        },
        "template": {
         "data": {
          "bar": [
           {
            "error_x": {
             "color": "#2a3f5f"
            },
            "error_y": {
             "color": "#2a3f5f"
            },
            "marker": {
             "line": {
              "color": "#E5ECF6",
              "width": 0.5
             }
            },
            "type": "bar"
           }
          ],
          "barpolar": [
           {
            "marker": {
             "line": {
              "color": "#E5ECF6",
              "width": 0.5
             }
            },
            "type": "barpolar"
           }
          ],
          "carpet": [
           {
            "aaxis": {
             "endlinecolor": "#2a3f5f",
             "gridcolor": "white",
             "linecolor": "white",
             "minorgridcolor": "white",
             "startlinecolor": "#2a3f5f"
            },
            "baxis": {
             "endlinecolor": "#2a3f5f",
             "gridcolor": "white",
             "linecolor": "white",
             "minorgridcolor": "white",
             "startlinecolor": "#2a3f5f"
            },
            "type": "carpet"
           }
          ],
          "choropleth": [
           {
            "colorbar": {
             "outlinewidth": 0,
             "ticks": ""
            },
            "type": "choropleth"
           }
          ],
          "contour": [
           {
            "colorbar": {
             "outlinewidth": 0,
             "ticks": ""
            },
            "colorscale": [
             [
              0,
              "#0d0887"
             ],
             [
              0.1111111111111111,
              "#46039f"
             ],
             [
              0.2222222222222222,
              "#7201a8"
             ],
             [
              0.3333333333333333,
              "#9c179e"
             ],
             [
              0.4444444444444444,
              "#bd3786"
             ],
             [
              0.5555555555555556,
              "#d8576b"
             ],
             [
              0.6666666666666666,
              "#ed7953"
             ],
             [
              0.7777777777777778,
              "#fb9f3a"
             ],
             [
              0.8888888888888888,
              "#fdca26"
             ],
             [
              1,
              "#f0f921"
             ]
            ],
            "type": "contour"
           }
          ],
          "contourcarpet": [
           {
            "colorbar": {
             "outlinewidth": 0,
             "ticks": ""
            },
            "type": "contourcarpet"
           }
          ],
          "heatmap": [
           {
            "colorbar": {
             "outlinewidth": 0,
             "ticks": ""
            },
            "colorscale": [
             [
              0,
              "#0d0887"
             ],
             [
              0.1111111111111111,
              "#46039f"
             ],
             [
              0.2222222222222222,
              "#7201a8"
             ],
             [
              0.3333333333333333,
              "#9c179e"
             ],
             [
              0.4444444444444444,
              "#bd3786"
             ],
             [
              0.5555555555555556,
              "#d8576b"
             ],
             [
              0.6666666666666666,
              "#ed7953"
             ],
             [
              0.7777777777777778,
              "#fb9f3a"
             ],
             [
              0.8888888888888888,
              "#fdca26"
             ],
             [
              1,
              "#f0f921"
             ]
            ],
            "type": "heatmap"
           }
          ],
          "heatmapgl": [
           {
            "colorbar": {
             "outlinewidth": 0,
             "ticks": ""
            },
            "colorscale": [
             [
              0,
              "#0d0887"
             ],
             [
              0.1111111111111111,
              "#46039f"
             ],
             [
              0.2222222222222222,
              "#7201a8"
             ],
             [
              0.3333333333333333,
              "#9c179e"
             ],
             [
              0.4444444444444444,
              "#bd3786"
             ],
             [
              0.5555555555555556,
              "#d8576b"
             ],
             [
              0.6666666666666666,
              "#ed7953"
             ],
             [
              0.7777777777777778,
              "#fb9f3a"
             ],
             [
              0.8888888888888888,
              "#fdca26"
             ],
             [
              1,
              "#f0f921"
             ]
            ],
            "type": "heatmapgl"
           }
          ],
          "histogram": [
           {
            "marker": {
             "colorbar": {
              "outlinewidth": 0,
              "ticks": ""
             }
            },
            "type": "histogram"
           }
          ],
          "histogram2d": [
           {
            "colorbar": {
             "outlinewidth": 0,
             "ticks": ""
            },
            "colorscale": [
             [
              0,
              "#0d0887"
             ],
             [
              0.1111111111111111,
              "#46039f"
             ],
             [
              0.2222222222222222,
              "#7201a8"
             ],
             [
              0.3333333333333333,
              "#9c179e"
             ],
             [
              0.4444444444444444,
              "#bd3786"
             ],
             [
              0.5555555555555556,
              "#d8576b"
             ],
             [
              0.6666666666666666,
              "#ed7953"
             ],
             [
              0.7777777777777778,
              "#fb9f3a"
             ],
             [
              0.8888888888888888,
              "#fdca26"
             ],
             [
              1,
              "#f0f921"
             ]
            ],
            "type": "histogram2d"
           }
          ],
          "histogram2dcontour": [
           {
            "colorbar": {
             "outlinewidth": 0,
             "ticks": ""
            },
            "colorscale": [
             [
              0,
              "#0d0887"
             ],
             [
              0.1111111111111111,
              "#46039f"
             ],
             [
              0.2222222222222222,
              "#7201a8"
             ],
             [
              0.3333333333333333,
              "#9c179e"
             ],
             [
              0.4444444444444444,
              "#bd3786"
             ],
             [
              0.5555555555555556,
              "#d8576b"
             ],
             [
              0.6666666666666666,
              "#ed7953"
             ],
             [
              0.7777777777777778,
              "#fb9f3a"
             ],
             [
              0.8888888888888888,
              "#fdca26"
             ],
             [
              1,
              "#f0f921"
             ]
            ],
            "type": "histogram2dcontour"
           }
          ],
          "mesh3d": [
           {
            "colorbar": {
             "outlinewidth": 0,
             "ticks": ""
            },
            "type": "mesh3d"
           }
          ],
          "parcoords": [
           {
            "line": {
             "colorbar": {
              "outlinewidth": 0,
              "ticks": ""
             }
            },
            "type": "parcoords"
           }
          ],
          "pie": [
           {
            "automargin": true,
            "type": "pie"
           }
          ],
          "scatter": [
           {
            "marker": {
             "colorbar": {
              "outlinewidth": 0,
              "ticks": ""
             }
            },
            "type": "scatter"
           }
          ],
          "scatter3d": [
           {
            "line": {
             "colorbar": {
              "outlinewidth": 0,
              "ticks": ""
             }
            },
            "marker": {
             "colorbar": {
              "outlinewidth": 0,
              "ticks": ""
             }
            },
            "type": "scatter3d"
           }
          ],
          "scattercarpet": [
           {
            "marker": {
             "colorbar": {
              "outlinewidth": 0,
              "ticks": ""
             }
            },
            "type": "scattercarpet"
           }
          ],
          "scattergeo": [
           {
            "marker": {
             "colorbar": {
              "outlinewidth": 0,
              "ticks": ""
             }
            },
            "type": "scattergeo"
           }
          ],
          "scattergl": [
           {
            "marker": {
             "colorbar": {
              "outlinewidth": 0,
              "ticks": ""
             }
            },
            "type": "scattergl"
           }
          ],
          "scattermapbox": [
           {
            "marker": {
             "colorbar": {
              "outlinewidth": 0,
              "ticks": ""
             }
            },
            "type": "scattermapbox"
           }
          ],
          "scatterpolar": [
           {
            "marker": {
             "colorbar": {
              "outlinewidth": 0,
              "ticks": ""
             }
            },
            "type": "scatterpolar"
           }
          ],
          "scatterpolargl": [
           {
            "marker": {
             "colorbar": {
              "outlinewidth": 0,
              "ticks": ""
             }
            },
            "type": "scatterpolargl"
           }
          ],
          "scatterternary": [
           {
            "marker": {
             "colorbar": {
              "outlinewidth": 0,
              "ticks": ""
             }
            },
            "type": "scatterternary"
           }
          ],
          "surface": [
           {
            "colorbar": {
             "outlinewidth": 0,
             "ticks": ""
            },
            "colorscale": [
             [
              0,
              "#0d0887"
             ],
             [
              0.1111111111111111,
              "#46039f"
             ],
             [
              0.2222222222222222,
              "#7201a8"
             ],
             [
              0.3333333333333333,
              "#9c179e"
             ],
             [
              0.4444444444444444,
              "#bd3786"
             ],
             [
              0.5555555555555556,
              "#d8576b"
             ],
             [
              0.6666666666666666,
              "#ed7953"
             ],
             [
              0.7777777777777778,
              "#fb9f3a"
             ],
             [
              0.8888888888888888,
              "#fdca26"
             ],
             [
              1,
              "#f0f921"
             ]
            ],
            "type": "surface"
           }
          ],
          "table": [
           {
            "cells": {
             "fill": {
              "color": "#EBF0F8"
             },
             "line": {
              "color": "white"
             }
            },
            "header": {
             "fill": {
              "color": "#C8D4E3"
             },
             "line": {
              "color": "white"
             }
            },
            "type": "table"
           }
          ]
         },
         "layout": {
          "annotationdefaults": {
           "arrowcolor": "#2a3f5f",
           "arrowhead": 0,
           "arrowwidth": 1
          },
          "coloraxis": {
           "colorbar": {
            "outlinewidth": 0,
            "ticks": ""
           }
          },
          "colorscale": {
           "diverging": [
            [
             0,
             "#8e0152"
            ],
            [
             0.1,
             "#c51b7d"
            ],
            [
             0.2,
             "#de77ae"
            ],
            [
             0.3,
             "#f1b6da"
            ],
            [
             0.4,
             "#fde0ef"
            ],
            [
             0.5,
             "#f7f7f7"
            ],
            [
             0.6,
             "#e6f5d0"
            ],
            [
             0.7,
             "#b8e186"
            ],
            [
             0.8,
             "#7fbc41"
            ],
            [
             0.9,
             "#4d9221"
            ],
            [
             1,
             "#276419"
            ]
           ],
           "sequential": [
            [
             0,
             "#0d0887"
            ],
            [
             0.1111111111111111,
             "#46039f"
            ],
            [
             0.2222222222222222,
             "#7201a8"
            ],
            [
             0.3333333333333333,
             "#9c179e"
            ],
            [
             0.4444444444444444,
             "#bd3786"
            ],
            [
             0.5555555555555556,
             "#d8576b"
            ],
            [
             0.6666666666666666,
             "#ed7953"
            ],
            [
             0.7777777777777778,
             "#fb9f3a"
            ],
            [
             0.8888888888888888,
             "#fdca26"
            ],
            [
             1,
             "#f0f921"
            ]
           ],
           "sequentialminus": [
            [
             0,
             "#0d0887"
            ],
            [
             0.1111111111111111,
             "#46039f"
            ],
            [
             0.2222222222222222,
             "#7201a8"
            ],
            [
             0.3333333333333333,
             "#9c179e"
            ],
            [
             0.4444444444444444,
             "#bd3786"
            ],
            [
             0.5555555555555556,
             "#d8576b"
            ],
            [
             0.6666666666666666,
             "#ed7953"
            ],
            [
             0.7777777777777778,
             "#fb9f3a"
            ],
            [
             0.8888888888888888,
             "#fdca26"
            ],
            [
             1,
             "#f0f921"
            ]
           ]
          },
          "colorway": [
           "#636efa",
           "#EF553B",
           "#00cc96",
           "#ab63fa",
           "#FFA15A",
           "#19d3f3",
           "#FF6692",
           "#B6E880",
           "#FF97FF",
           "#FECB52"
          ],
          "font": {
           "color": "#2a3f5f"
          },
          "geo": {
           "bgcolor": "white",
           "lakecolor": "white",
           "landcolor": "#E5ECF6",
           "showlakes": true,
           "showland": true,
           "subunitcolor": "white"
          },
          "hoverlabel": {
           "align": "left"
          },
          "hovermode": "closest",
          "mapbox": {
           "style": "light"
          },
          "paper_bgcolor": "white",
          "plot_bgcolor": "#E5ECF6",
          "polar": {
           "angularaxis": {
            "gridcolor": "white",
            "linecolor": "white",
            "ticks": ""
           },
           "bgcolor": "#E5ECF6",
           "radialaxis": {
            "gridcolor": "white",
            "linecolor": "white",
            "ticks": ""
           }
          },
          "scene": {
           "xaxis": {
            "backgroundcolor": "#E5ECF6",
            "gridcolor": "white",
            "gridwidth": 2,
            "linecolor": "white",
            "showbackground": true,
            "ticks": "",
            "zerolinecolor": "white"
           },
           "yaxis": {
            "backgroundcolor": "#E5ECF6",
            "gridcolor": "white",
            "gridwidth": 2,
            "linecolor": "white",
            "showbackground": true,
            "ticks": "",
            "zerolinecolor": "white"
           },
           "zaxis": {
            "backgroundcolor": "#E5ECF6",
            "gridcolor": "white",
            "gridwidth": 2,
            "linecolor": "white",
            "showbackground": true,
            "ticks": "",
            "zerolinecolor": "white"
           }
          },
          "shapedefaults": {
           "line": {
            "color": "#2a3f5f"
           }
          },
          "ternary": {
           "aaxis": {
            "gridcolor": "white",
            "linecolor": "white",
            "ticks": ""
           },
           "baxis": {
            "gridcolor": "white",
            "linecolor": "white",
            "ticks": ""
           },
           "bgcolor": "#E5ECF6",
           "caxis": {
            "gridcolor": "white",
            "linecolor": "white",
            "ticks": ""
           }
          },
          "title": {
           "x": 0.05
          },
          "xaxis": {
           "automargin": true,
           "gridcolor": "white",
           "linecolor": "white",
           "ticks": "",
           "title": {
            "standoff": 15
           },
           "zerolinecolor": "white",
           "zerolinewidth": 2
          },
          "yaxis": {
           "automargin": true,
           "gridcolor": "white",
           "linecolor": "white",
           "ticks": "",
           "title": {
            "standoff": 15
           },
           "zerolinecolor": "white",
           "zerolinewidth": 2
          }
         }
        },
        "xaxis": {
         "anchor": "y",
         "domain": [
          0,
          1
         ],
         "title": {
          "text": "Protein"
         }
        },
        "yaxis": {
         "anchor": "x",
         "domain": [
          0,
          1
         ],
         "title": {
          "text": "Mortality"
         }
        }
       }
      },
      "text/html": [
       "<div>                            <div id=\"8f77a416-f082-41f0-8f84-b9e75921a00c\" class=\"plotly-graph-div\" style=\"height:525px; width:100%;\"></div>            <script type=\"text/javascript\">                require([\"plotly\"], function(Plotly) {                    window.PLOTLYENV=window.PLOTLYENV || {};                                    if (document.getElementById(\"8f77a416-f082-41f0-8f84-b9e75921a00c\")) {                    Plotly.newPlot(                        \"8f77a416-f082-41f0-8f84-b9e75921a00c\",                        [{\"hovertemplate\": \"<b>%{hovertext}</b><br><br>cluster=2<br>Protein=%{x}<br>Mortality=%{y}<extra></extra>\", \"hovertext\": [\"Afghanistan\", \"Algeria\", \"Azerbaijan\", \"Belize\", \"Bosnia and Herzegovina\", \"Botswana\", \"Cabo Verde\", \"Cambodia\", \"Central African Republic\", \"Chad\", \"Congo\", \"Cuba\", \"Dominican Republic\", \"El Salvador\", \"Eswatini\", \"Fiji\", \"Gabon\", \"Guatemala\", \"Guyana\", \"Honduras\", \"India\", \"Iran (Islamic Republic of)\", \"Jordan\", \"Kenya\", \"Korea, South\", \"Kuwait\", \"Lebanon\", \"Malaysia\", \"Mali\", \"Mauritania\", \"Mauritius\", \"Morocco\", \"Namibia\", \"Nicaragua\", \"North Macedonia\", \"Paraguay\", \"Peru\", \"Philippines\", \"Saudi Arabia\", \"South Africa\", \"Sudan\", \"Suriname\", \"Thailand\", \"Tunisia\", \"Turkey\", \"United Arab Emirates\", \"Venezuela (Bolivarian Republic of)\"], \"legendgroup\": \"2\", \"marker\": {\"color\": \"#636efa\", \"symbol\": \"circle\"}, \"mode\": \"markers\", \"name\": \"2\", \"orientation\": \"v\", \"showlegend\": true, \"type\": \"scatter\", \"x\": [6898.5280003200005, 6373.076681359999, 5930.156399360001, 5790.8721596000005, 5669.38000284, 5397.30342, 5789.17352944, 6567.2636912, 5456.127331520001, 5972.1052670399995, 5172.52745996, 5789.06491172, 4923.8417504, 5739.5019902, 6439.46791264, 5533.74445104, 5087.64026392, 6122.56905, 5360.936109480001, 5693.896894400001, 6501.014367919999, 6443.68042508, 5946.4175704, 6339.60911952, 4965.06113888, 5142.037432319999, 6355.4093072, 4764.8435136, 6345.37012392, 5522.9619965599995, 5395.6527, 6454.9848168, 5822.0289335200005, 5788.7764042399995, 5475.2205216, 5179.5082688, 5806.8428104800005, 5657.2623626800005, 5370.46896984, 5450.98046392, 5895.947470920001, 5653.951037039999, 5486.518007000001, 6322.715362519999, 5744.2286568, 5529.07028188, 5200.6729974], \"xaxis\": \"x\", \"y\": [0.03715838856206697, 0.034147502563351556, 0.013908819958052779, 0.015884221673137997, 0.02876431724416482, 0.003743982884649671, 0.011153846153846136, 0.0, 0.01276771004942331, 0.06690647482014393, 0.024370681145113548, 0.02029402364972836, 0.01810679970739813, 0.02924272089938742, 0.020041465100207323, 0.0625000000000001, 0.006078343088698788, 0.0348527052431618, 0.029482071713147314, 0.02882044282341889, 0.015163359840506789, 0.05744522857821567, 0.009759354855279026, 0.018613009140118864, 0.017644969012750172, 0.006077102163790727, 0.008356634468734117, 0.008893881945419646, 0.038743762841209235, 0.02138826925600308, 0.023866348448687336, 0.01693324001843539, 0.010627940937854925, 0.028768914627311785, 0.035564149991592256, 0.021766572891870447, 0.038862635623219365, 0.018584566039942182, 0.015181722385524147, 0.02622034047307767, 0.06091518507723691, 0.02123514513929471, 0.01594594594594597, 0.016078826035059807, 0.02681113186979831, 0.003999416394174248, 0.008495313726395497], \"yaxis\": \"y\"}, {\"hovertemplate\": \"<b>%{hovertext}</b><br><br>cluster=1<br>Protein=%{x}<br>Mortality=%{y}<extra></extra>\", \"hovertext\": [\"Albania\", \"Argentina\", \"Armenia\", \"Australia\", \"Austria\", \"Barbados\", \"Belarus\", \"Belgium\", \"Bolivia\", \"Brazil\", \"Bulgaria\", \"China\", \"Colombia\", \"Costa Rica\", \"Croatia\", \"Cyprus\", \"Czechia\", \"Denmark\", \"Dominica\", \"Ecuador\", \"Estonia\", \"Finland\", \"France\", \"Georgia\", \"Germany\", \"Greece\", \"Hungary\", \"Iceland\", \"Ireland\", \"Israel\", \"Italy\", \"Jamaica\", \"Japan\", \"Kazakhstan\", \"Kyrgyzstan\", \"Latvia\", \"Lithuania\", \"Luxembourg\", \"Maldives\", \"Malta\", \"Mexico\", \"Mongolia\", \"Montenegro\", \"Netherlands\", \"New Zealand\", \"Norway\", \"Oman\", \"Pakistan\", \"Panama\", \"Poland\", \"Portugal\", \"Romania\", \"Russian Federation\", \"Saint Vincent and the Grenadines\", \"Serbia\", \"Slovakia\", \"Slovenia\", \"Spain\", \"Sweden\", \"Switzerland\", \"Trinidad and Tobago\", \"Ukraine\", \"United Kingdom\", \"Uruguay\", \"Uzbekistan\", \"Vietnam\"], \"legendgroup\": \"1\", \"marker\": {\"color\": \"#EF553B\", \"symbol\": \"circle\"}, \"mode\": \"markers\", \"name\": \"1\", \"orientation\": \"v\", \"showlegend\": true, \"type\": \"scatter\", \"x\": [4863.21486416, 4684.0388052, 5193.512022880001, 4771.20109612, 4782.51287376, 4678.813977, 4794.084519, 4796.7533492, 5244.50093748, 4751.75246724, 4999.9237696, 4477.02397056, 4933.20401704, 4844.5536059999995, 4706.569154, 4756.75438316, 4669.674754080001, 4894.069401919999, 4709.4450748, 5173.06309676, 4922.33675168, 5094.051401480001, 4840.32873752, 5496.87200184, 4824.54390544, 4884.05899376, 4866.87439424, 4911.48705192, 4818.87262776, 4771.133569600001, 4918.29023544, 5035.8654116, 4785.6761312, 4814.9651088, 5363.215956, 4822.269666239999, 4909.93695004, 4435.60401304, 4567.140034239999, 4656.10497692, 5122.54039848, 5064.28668104, 4907.39024464, 4956.0079319199995, 4788.23551932, 4869.458341760001, 5020.17520144, 5086.41361792, 4841.62002028, 4872.3051940000005, 4657.00744368, 5037.6962512400005, 4830.7732786, 4763.634748799999, 5049.13065784, 4788.4249996, 4878.2267496, 4676.5549448, 4950.49646524, 4883.95574288, 5004.1291732, 5314.1583364, 4847.37293376, 4901.88738464, 5420.49098552, 5599.601905359999], \"xaxis\": \"x\", \"y\": [0.026167146974063443, 0.026645070821473275, 0.016666666666666653, 0.03302317095420557, 0.013712136150590788, 0.03153153153153151, 0.01056744818212708, 0.0453097882679626, 0.060776324254771384, 0.02936279109540446, 0.0330199495528548, 0.052073489660022516, 0.030129943274703086, 0.012402781354622725, 0.014399568782966936, 0.009304056568663933, 0.00831492289598928, 0.01887467327005085, 0.0, 0.08078971210313968, 0.016646266829865336, 0.025894503873109573, 0.03532122611799292, 0.007662219364518032, 0.02610139285221773, 0.020153476474691873, 0.024556188243175268, 0.0026822726164350253, 0.03631871041123304, 0.007422689880476014, 0.08644452733616957, 0.02079077034010332, 0.017942788626241893, 0.016128002335276354, 0.021151429768114783, 0.012593016599885523, 0.014625938389852447, 0.012261580381471375, 0.0032941595441595434, 0.009499683343888536, 0.10098885751515331, 0.0, 0.015228426395939096, 0.028189598583088737, 0.013248542660307344, 0.016743961934590153, 0.010072879179702338, 0.02059351796416435, 0.020562225896901286, 0.019721906923950056, 0.021578637345375993, 0.03243571373882984, 0.01720734189399478, 0.0, 0.021443139848961013, 0.0029972308193516777, 0.013889904232765555, 0.034883303282162596, 0.05734496124031006, 0.02570978486994796, 0.018308795771989444, 0.0186815333331199, 0.058882817602490166, 0.01992187499999995, 0.008359176991011111, 0.030701754385965015], \"yaxis\": \"y\"}, {\"hovertemplate\": \"<b>%{hovertext}</b><br><br>cluster=0<br>Protein=%{x}<br>Mortality=%{y}<extra></extra>\", \"hovertext\": [\"Angola\", \"Bangladesh\", \"Benin\", \"Burkina Faso\", \"Cameroon\", \"Cote d'Ivoire\", \"Djibouti\", \"Egypt\", \"Ethiopia\", \"Gambia\", \"Ghana\", \"Guinea\", \"Guinea-Bissau\", \"Haiti\", \"Indonesia\", \"Iraq\", \"Lao People's Democratic Republic\", \"Lesotho\", \"Liberia\", \"Madagascar\", \"Malawi\", \"Mozambique\", \"Nepal\", \"Niger\", \"Nigeria\", \"Rwanda\", \"Sao Tome and Principe\", \"Senegal\", \"Sierra Leone\", \"Solomon Islands\", \"Sri Lanka\", \"Timor-Leste\", \"Togo\", \"Uganda\", \"United Republic of Tanzania\", \"Zambia\", \"Zimbabwe\"], \"legendgroup\": \"0\", \"marker\": {\"color\": \"#00cc96\", \"symbol\": \"circle\"}, \"mode\": \"markers\", \"name\": \"0\", \"orientation\": \"v\", \"showlegend\": true, \"type\": \"scatter\", \"x\": [6570.34320248, 7389.72141952, 7352.64861332, 7897.652893800001, 7982.2932624000005, 7369.7586221599995, 7393.4959561199985, 6826.7375864000005, 8238.79866604, 6422.387785, 7266.312994760001, 7665.8416668, 7316.917441080001, 7570.022424800001, 6325.0457872, 7068.981677040001, 7205.52654552, 7338.3647245600005, 7162.95608248, 7295.037711280001, 7946.28763992, 7722.760204520001, 7566.4326006, 7468.5912346, 8466.174395279999, 8151.41454656, 6635.9140748, 7241.625455519999, 7020.248678680001, 6729.43949536, 6627.416947279999, 6785.675672999999, 7896.385086599999, 7261.1416877599995, 7776.54770684, 7294.473301520001, 6840.3201534], \"xaxis\": \"x\", \"y\": [0.03167709796908935, 0.014558976540596517, 0.01642628205128206, 0.02723083368244655, 0.019715428252580658, 0.005953552450305064, 0.011153775827390754, 0.05807839161700478, 0.015190296016024962, 0.0323376267470539, 0.0065439500126657025, 0.006077444000694559, 0.017062005826050785, 0.025735294117646995, 0.034544409155623595, 0.023955251951574108, 0.0, 0.02291325695581013, 0.0593772628530052, 0.014158239143367052, 0.03088737201365189, 0.006768953068592062, 0.005564703460848605, 0.05697770437654827, 0.018275447545404357, 0.006810897435897429, 0.01607717041800644, 0.02067133229652669, 0.03131703131703126, 0.0, 0.002311111111111108, 0.0, 0.024625784645099, 0.00907305209989712, 0.041257367387033436, 0.02176511291438636, 0.028434857212893655], \"yaxis\": \"y\"}],                        {\"legend\": {\"title\": {\"text\": \"cluster\"}, \"tracegroupgap\": 0}, \"margin\": {\"t\": 60}, \"template\": {\"data\": {\"bar\": [{\"error_x\": {\"color\": \"#2a3f5f\"}, \"error_y\": {\"color\": \"#2a3f5f\"}, \"marker\": {\"line\": {\"color\": \"#E5ECF6\", \"width\": 0.5}}, \"type\": \"bar\"}], \"barpolar\": [{\"marker\": {\"line\": {\"color\": \"#E5ECF6\", \"width\": 0.5}}, \"type\": \"barpolar\"}], \"carpet\": [{\"aaxis\": {\"endlinecolor\": \"#2a3f5f\", \"gridcolor\": \"white\", \"linecolor\": \"white\", \"minorgridcolor\": \"white\", \"startlinecolor\": \"#2a3f5f\"}, \"baxis\": {\"endlinecolor\": \"#2a3f5f\", \"gridcolor\": \"white\", \"linecolor\": \"white\", \"minorgridcolor\": \"white\", \"startlinecolor\": \"#2a3f5f\"}, \"type\": \"carpet\"}], \"choropleth\": [{\"colorbar\": {\"outlinewidth\": 0, \"ticks\": \"\"}, \"type\": \"choropleth\"}], \"contour\": [{\"colorbar\": {\"outlinewidth\": 0, \"ticks\": \"\"}, \"colorscale\": [[0.0, \"#0d0887\"], [0.1111111111111111, \"#46039f\"], [0.2222222222222222, \"#7201a8\"], [0.3333333333333333, \"#9c179e\"], [0.4444444444444444, \"#bd3786\"], [0.5555555555555556, \"#d8576b\"], [0.6666666666666666, \"#ed7953\"], [0.7777777777777778, \"#fb9f3a\"], [0.8888888888888888, \"#fdca26\"], [1.0, \"#f0f921\"]], \"type\": \"contour\"}], \"contourcarpet\": [{\"colorbar\": {\"outlinewidth\": 0, \"ticks\": \"\"}, \"type\": \"contourcarpet\"}], \"heatmap\": [{\"colorbar\": {\"outlinewidth\": 0, \"ticks\": \"\"}, \"colorscale\": [[0.0, \"#0d0887\"], [0.1111111111111111, \"#46039f\"], [0.2222222222222222, \"#7201a8\"], [0.3333333333333333, \"#9c179e\"], [0.4444444444444444, \"#bd3786\"], [0.5555555555555556, \"#d8576b\"], [0.6666666666666666, \"#ed7953\"], [0.7777777777777778, \"#fb9f3a\"], [0.8888888888888888, \"#fdca26\"], [1.0, \"#f0f921\"]], \"type\": \"heatmap\"}], \"heatmapgl\": [{\"colorbar\": {\"outlinewidth\": 0, \"ticks\": \"\"}, \"colorscale\": [[0.0, \"#0d0887\"], [0.1111111111111111, \"#46039f\"], [0.2222222222222222, \"#7201a8\"], [0.3333333333333333, \"#9c179e\"], [0.4444444444444444, \"#bd3786\"], [0.5555555555555556, \"#d8576b\"], [0.6666666666666666, \"#ed7953\"], [0.7777777777777778, \"#fb9f3a\"], [0.8888888888888888, \"#fdca26\"], [1.0, \"#f0f921\"]], \"type\": \"heatmapgl\"}], \"histogram\": [{\"marker\": {\"colorbar\": {\"outlinewidth\": 0, \"ticks\": \"\"}}, \"type\": \"histogram\"}], \"histogram2d\": [{\"colorbar\": {\"outlinewidth\": 0, \"ticks\": \"\"}, \"colorscale\": [[0.0, \"#0d0887\"], [0.1111111111111111, \"#46039f\"], [0.2222222222222222, \"#7201a8\"], [0.3333333333333333, \"#9c179e\"], [0.4444444444444444, \"#bd3786\"], [0.5555555555555556, \"#d8576b\"], [0.6666666666666666, \"#ed7953\"], [0.7777777777777778, \"#fb9f3a\"], [0.8888888888888888, \"#fdca26\"], [1.0, \"#f0f921\"]], \"type\": \"histogram2d\"}], \"histogram2dcontour\": [{\"colorbar\": {\"outlinewidth\": 0, \"ticks\": \"\"}, \"colorscale\": [[0.0, \"#0d0887\"], [0.1111111111111111, \"#46039f\"], [0.2222222222222222, \"#7201a8\"], [0.3333333333333333, \"#9c179e\"], [0.4444444444444444, \"#bd3786\"], [0.5555555555555556, \"#d8576b\"], [0.6666666666666666, \"#ed7953\"], [0.7777777777777778, \"#fb9f3a\"], [0.8888888888888888, \"#fdca26\"], [1.0, \"#f0f921\"]], \"type\": \"histogram2dcontour\"}], \"mesh3d\": [{\"colorbar\": {\"outlinewidth\": 0, \"ticks\": \"\"}, \"type\": \"mesh3d\"}], \"parcoords\": [{\"line\": {\"colorbar\": {\"outlinewidth\": 0, \"ticks\": \"\"}}, \"type\": \"parcoords\"}], \"pie\": [{\"automargin\": true, \"type\": \"pie\"}], \"scatter\": [{\"marker\": {\"colorbar\": {\"outlinewidth\": 0, \"ticks\": \"\"}}, \"type\": \"scatter\"}], \"scatter3d\": [{\"line\": {\"colorbar\": {\"outlinewidth\": 0, \"ticks\": \"\"}}, \"marker\": {\"colorbar\": {\"outlinewidth\": 0, \"ticks\": \"\"}}, \"type\": \"scatter3d\"}], \"scattercarpet\": [{\"marker\": {\"colorbar\": {\"outlinewidth\": 0, \"ticks\": \"\"}}, \"type\": \"scattercarpet\"}], \"scattergeo\": [{\"marker\": {\"colorbar\": {\"outlinewidth\": 0, \"ticks\": \"\"}}, \"type\": \"scattergeo\"}], \"scattergl\": [{\"marker\": {\"colorbar\": {\"outlinewidth\": 0, \"ticks\": \"\"}}, \"type\": \"scattergl\"}], \"scattermapbox\": [{\"marker\": {\"colorbar\": {\"outlinewidth\": 0, \"ticks\": \"\"}}, \"type\": \"scattermapbox\"}], \"scatterpolar\": [{\"marker\": {\"colorbar\": {\"outlinewidth\": 0, \"ticks\": \"\"}}, \"type\": \"scatterpolar\"}], \"scatterpolargl\": [{\"marker\": {\"colorbar\": {\"outlinewidth\": 0, \"ticks\": \"\"}}, \"type\": \"scatterpolargl\"}], \"scatterternary\": [{\"marker\": {\"colorbar\": {\"outlinewidth\": 0, \"ticks\": \"\"}}, \"type\": \"scatterternary\"}], \"surface\": [{\"colorbar\": {\"outlinewidth\": 0, \"ticks\": \"\"}, \"colorscale\": [[0.0, \"#0d0887\"], [0.1111111111111111, \"#46039f\"], [0.2222222222222222, \"#7201a8\"], [0.3333333333333333, \"#9c179e\"], [0.4444444444444444, \"#bd3786\"], [0.5555555555555556, \"#d8576b\"], [0.6666666666666666, \"#ed7953\"], [0.7777777777777778, \"#fb9f3a\"], [0.8888888888888888, \"#fdca26\"], [1.0, \"#f0f921\"]], \"type\": \"surface\"}], \"table\": [{\"cells\": {\"fill\": {\"color\": \"#EBF0F8\"}, \"line\": {\"color\": \"white\"}}, \"header\": {\"fill\": {\"color\": \"#C8D4E3\"}, \"line\": {\"color\": \"white\"}}, \"type\": \"table\"}]}, \"layout\": {\"annotationdefaults\": {\"arrowcolor\": \"#2a3f5f\", \"arrowhead\": 0, \"arrowwidth\": 1}, \"coloraxis\": {\"colorbar\": {\"outlinewidth\": 0, \"ticks\": \"\"}}, \"colorscale\": {\"diverging\": [[0, \"#8e0152\"], [0.1, \"#c51b7d\"], [0.2, \"#de77ae\"], [0.3, \"#f1b6da\"], [0.4, \"#fde0ef\"], [0.5, \"#f7f7f7\"], [0.6, \"#e6f5d0\"], [0.7, \"#b8e186\"], [0.8, \"#7fbc41\"], [0.9, \"#4d9221\"], [1, \"#276419\"]], \"sequential\": [[0.0, \"#0d0887\"], [0.1111111111111111, \"#46039f\"], [0.2222222222222222, \"#7201a8\"], [0.3333333333333333, \"#9c179e\"], [0.4444444444444444, \"#bd3786\"], [0.5555555555555556, \"#d8576b\"], [0.6666666666666666, \"#ed7953\"], [0.7777777777777778, \"#fb9f3a\"], [0.8888888888888888, \"#fdca26\"], [1.0, \"#f0f921\"]], \"sequentialminus\": [[0.0, \"#0d0887\"], [0.1111111111111111, \"#46039f\"], [0.2222222222222222, \"#7201a8\"], [0.3333333333333333, \"#9c179e\"], [0.4444444444444444, \"#bd3786\"], [0.5555555555555556, \"#d8576b\"], [0.6666666666666666, \"#ed7953\"], [0.7777777777777778, \"#fb9f3a\"], [0.8888888888888888, \"#fdca26\"], [1.0, \"#f0f921\"]]}, \"colorway\": [\"#636efa\", \"#EF553B\", \"#00cc96\", \"#ab63fa\", \"#FFA15A\", \"#19d3f3\", \"#FF6692\", \"#B6E880\", \"#FF97FF\", \"#FECB52\"], \"font\": {\"color\": \"#2a3f5f\"}, \"geo\": {\"bgcolor\": \"white\", \"lakecolor\": \"white\", \"landcolor\": \"#E5ECF6\", \"showlakes\": true, \"showland\": true, \"subunitcolor\": \"white\"}, \"hoverlabel\": {\"align\": \"left\"}, \"hovermode\": \"closest\", \"mapbox\": {\"style\": \"light\"}, \"paper_bgcolor\": \"white\", \"plot_bgcolor\": \"#E5ECF6\", \"polar\": {\"angularaxis\": {\"gridcolor\": \"white\", \"linecolor\": \"white\", \"ticks\": \"\"}, \"bgcolor\": \"#E5ECF6\", \"radialaxis\": {\"gridcolor\": \"white\", \"linecolor\": \"white\", \"ticks\": \"\"}}, \"scene\": {\"xaxis\": {\"backgroundcolor\": \"#E5ECF6\", \"gridcolor\": \"white\", \"gridwidth\": 2, \"linecolor\": \"white\", \"showbackground\": true, \"ticks\": \"\", \"zerolinecolor\": \"white\"}, \"yaxis\": {\"backgroundcolor\": \"#E5ECF6\", \"gridcolor\": \"white\", \"gridwidth\": 2, \"linecolor\": \"white\", \"showbackground\": true, \"ticks\": \"\", \"zerolinecolor\": \"white\"}, \"zaxis\": {\"backgroundcolor\": \"#E5ECF6\", \"gridcolor\": \"white\", \"gridwidth\": 2, \"linecolor\": \"white\", \"showbackground\": true, \"ticks\": \"\", \"zerolinecolor\": \"white\"}}, \"shapedefaults\": {\"line\": {\"color\": \"#2a3f5f\"}}, \"ternary\": {\"aaxis\": {\"gridcolor\": \"white\", \"linecolor\": \"white\", \"ticks\": \"\"}, \"baxis\": {\"gridcolor\": \"white\", \"linecolor\": \"white\", \"ticks\": \"\"}, \"bgcolor\": \"#E5ECF6\", \"caxis\": {\"gridcolor\": \"white\", \"linecolor\": \"white\", \"ticks\": \"\"}}, \"title\": {\"x\": 0.05}, \"xaxis\": {\"automargin\": true, \"gridcolor\": \"white\", \"linecolor\": \"white\", \"ticks\": \"\", \"title\": {\"standoff\": 15}, \"zerolinecolor\": \"white\", \"zerolinewidth\": 2}, \"yaxis\": {\"automargin\": true, \"gridcolor\": \"white\", \"linecolor\": \"white\", \"ticks\": \"\", \"title\": {\"standoff\": 15}, \"zerolinecolor\": \"white\", \"zerolinewidth\": 2}}}, \"xaxis\": {\"anchor\": \"y\", \"domain\": [0.0, 1.0], \"title\": {\"text\": \"Protein\"}}, \"yaxis\": {\"anchor\": \"x\", \"domain\": [0.0, 1.0], \"title\": {\"text\": \"Mortality\"}}},                        {\"responsive\": true}                    ).then(function(){\n",
       "                            \n",
       "var gd = document.getElementById('8f77a416-f082-41f0-8f84-b9e75921a00c');\n",
       "var x = new MutationObserver(function (mutations, observer) {{\n",
       "        var display = window.getComputedStyle(gd).display;\n",
       "        if (!display || display === 'none') {{\n",
       "            console.log([gd, 'removed!']);\n",
       "            Plotly.purge(gd);\n",
       "            observer.disconnect();\n",
       "        }}\n",
       "}});\n",
       "\n",
       "// Listen for the removal of the full notebook cells\n",
       "var notebookContainer = gd.closest('#notebook-container');\n",
       "if (notebookContainer) {{\n",
       "    x.observe(notebookContainer, {childList: true});\n",
       "}}\n",
       "\n",
       "// Listen for the clearing of the current output cell\n",
       "var outputEl = gd.closest('.output');\n",
       "if (outputEl) {{\n",
       "    x.observe(outputEl, {childList: true});\n",
       "}}\n",
       "\n",
       "                        })                };                });            </script>        </div>"
      ]
     },
     "metadata": {},
     "output_type": "display_data"
    }
   ],
   "source": [
    "fig = px.scatter(df_vis, x = 'Protein', y = 'Mortality', color = 'cluster', hover_name = 'Country')\n",
    "fig.show()"
   ]
  },
  {
   "cell_type": "markdown",
   "metadata": {
    "papermill": {
     "duration": 0.242633,
     "end_time": "2020-10-22T17:41:54.777194",
     "exception": false,
     "start_time": "2020-10-22T17:41:54.534561",
     "status": "completed"
    },
    "tags": []
   },
   "source": [
    "We can find an optimal value for $k$ (number of clusters) using the \"elbow\" method."
   ]
  },
  {
   "cell_type": "code",
   "execution_count": 1099,
   "metadata": {
    "execution": {
     "iopub.execute_input": "2020-10-22T17:41:55.276397Z",
     "iopub.status.busy": "2020-10-22T17:41:55.275229Z",
     "iopub.status.idle": "2020-10-22T17:41:56.030954Z",
     "shell.execute_reply": "2020-10-22T17:41:56.030332Z"
    },
    "papermill": {
     "duration": 1.010704,
     "end_time": "2020-10-22T17:41:56.031132",
     "exception": false,
     "start_time": "2020-10-22T17:41:55.020428",
     "status": "completed"
    },
    "scrolled": true,
    "tags": []
   },
   "outputs": [
    {
     "data": {
      "image/png": "[encoded data removed]",
      "text/plain": [
       "<Figure size 432x288 with 1 Axes>"
      ]
     },
     "metadata": {
      "needs_background": "light"
     },
     "output_type": "display_data"
    }
   ],
   "source": [
    "# Calculate inertia for a range of clusters number\n",
    "inertia = []\n",
    "\n",
    "for i in np.arange(1,11):\n",
    "    km = KMeans(n_clusters = i)\n",
    "    km.fit(X_scaled)\n",
    "    inertia.append(km.inertia_)\n",
    "    \n",
    "# Plotting\n",
    "plt.plot(np.arange(1,11), inertia, marker = 'o')\n",
    "plt.xlabel('Number of clusters')\n",
    "plt.ylabel('Inertia')\n",
    "plt.grid()\n",
    "plt.show();"
   ]
  },
  {
   "cell_type": "markdown",
   "metadata": {
    "papermill": {
     "duration": 0.248147,
     "end_time": "2020-10-22T17:41:56.531064",
     "exception": false,
     "start_time": "2020-10-22T17:41:56.282917",
     "status": "completed"
    },
    "tags": []
   },
   "source": [
    "It appears $k = 3$ already is a good value for our modelling."
   ]
  },
  {
   "cell_type": "markdown",
   "metadata": {
    "papermill": {
     "duration": 0.245716,
     "end_time": "2020-10-22T17:41:57.022569",
     "exception": false,
     "start_time": "2020-10-22T17:41:56.776853",
     "status": "completed"
    },
    "tags": []
   },
   "source": [
    "We can wrap this whole clustering process in a function:"
   ]
  },
  {
   "cell_type": "code",
   "execution_count": 1100,
   "metadata": {
    "execution": {
     "iopub.execute_input": "2020-10-22T17:41:57.539408Z",
     "iopub.status.busy": "2020-10-22T17:41:57.538560Z",
     "iopub.status.idle": "2020-10-22T17:41:57.542424Z",
     "shell.execute_reply": "2020-10-22T17:41:57.541655Z"
    },
    "papermill": {
     "duration": 0.266843,
     "end_time": "2020-10-22T17:41:57.542553",
     "exception": false,
     "start_time": "2020-10-22T17:41:57.275710",
     "status": "completed"
    },
    "tags": []
   },
   "outputs": [],
   "source": [
    "def cluster_preds(df, feat1, feat2, k):\n",
    "    X = df[[feat1, feat2]]\n",
    "\n",
    "    # Scaling\n",
    "    scaler = StandardScaler()\n",
    "\n",
    "    # Fit the scaler\n",
    "    scaler.fit(X)\n",
    "\n",
    "    # Transform our data\n",
    "    X_scaled = scaler.transform(X)\n",
    "\n",
    "    # Instantiate the model\n",
    "    kmeans = KMeans(n_clusters = k)\n",
    "\n",
    "    # Fit the model\n",
    "    kmeans.fit(X_scaled)\n",
    "\n",
    "    # Make predictions\n",
    "    preds = kmeans.predict(X_scaled)\n",
    "\n",
    "    # Visualizing\n",
    "    df_vis = df.copy()\n",
    "    df_vis['cluster'] = [str(i) for i in preds]\n",
    "\n",
    "    fig = px.scatter(df_vis, x = feat1, y = feat2, color = 'cluster', hover_name = 'Country')\n",
    "    fig.show()"
   ]
  },
  {
   "cell_type": "markdown",
   "metadata": {
    "papermill": {
     "duration": 0.247668,
     "end_time": "2020-10-22T17:41:58.033607",
     "exception": false,
     "start_time": "2020-10-22T17:41:57.785939",
     "status": "completed"
    },
    "tags": []
   },
   "source": [
    "Now we can quickly cluster together countries based on `Animal Products` intake and `Obesity` rate (recalling we used this features in our \"simpler model to predict mortality\")."
   ]
  },
  {
   "cell_type": "code",
   "execution_count": 1104,
   "metadata": {
    "execution": {
     "iopub.execute_input": "2020-10-22T17:41:58.545373Z",
     "iopub.status.busy": "2020-10-22T17:41:58.544550Z",
     "iopub.status.idle": "2020-10-22T17:41:58.660123Z",
     "shell.execute_reply": "2020-10-22T17:41:58.660701Z"
    },
    "papermill": {
     "duration": 0.373175,
     "end_time": "2020-10-22T17:41:58.660882",
     "exception": false,
     "start_time": "2020-10-22T17:41:58.287707",
     "status": "completed"
    },
    "tags": []
   },
   "outputs": [
    {
     "data": {
      "application/vnd.plotly.v1+json": {
       "config": {
        "plotlyServerURL": "https://plot.ly"
       },
       "data": [
        {
         "hovertemplate": "<b>%{hovertext}</b><br><br>cluster=1<br>Protein=%{x}<br>Mortality=%{y}<extra></extra>",
         "hovertext": [
          "Afghanistan",
          "Algeria",
          "Angola",
          "Bangladesh",
          "Benin",
          "Burkina Faso",
          "Cambodia",
          "Cameroon",
          "Cote d'Ivoire",
          "Djibouti",
          "Eswatini",
          "Ethiopia",
          "Gambia",
          "Ghana",
          "Guinea",
          "Guinea-Bissau",
          "Haiti",
          "India",
          "Indonesia",
          "Iraq",
          "Kenya",
          "Lao People's Democratic Republic",
          "Lebanon",
          "Lesotho",
          "Madagascar",
          "Malawi",
          "Mali",
          "Morocco",
          "Mozambique",
          "Nepal",
          "Nigeria",
          "Rwanda",
          "Sao Tome and Principe",
          "Senegal",
          "Sierra Leone",
          "Solomon Islands",
          "Sri Lanka",
          "Timor-Leste",
          "Togo",
          "Tunisia",
          "Uganda",
          "United Republic of Tanzania",
          "Zambia",
          "Zimbabwe"
         ],
         "legendgroup": "1",
         "marker": {
          "color": "#636efa",
          "symbol": "circle"
         },
         "mode": "markers",
         "name": "1",
         "orientation": "v",
         "showlegend": true,
         "type": "scatter",
         "x": [
          6898.5280003200005,
          6373.076681359999,
          6570.34320248,
          7389.72141952,
          7352.64861332,
          7897.652893800001,
          6567.2636912,
          7982.2932624000005,
          7369.7586221599995,
          7393.4959561199985,
          6439.46791264,
          8238.79866604,
          6422.387785,
          7266.312994760001,
          7665.8416668,
          7316.917441080001,
          7570.022424800001,
          6501.014367919999,
          6325.0457872,
          7068.981677040001,
          6339.60911952,
          7205.52654552,
          6355.4093072,
          7338.3647245600005,
          7295.037711280001,
          7946.28763992,
          6345.37012392,
          6454.9848168,
          7722.760204520001,
          7566.4326006,
          8466.174395279999,
          8151.41454656,
          6635.9140748,
          7241.625455519999,
          7020.248678680001,
          6729.43949536,
          6627.416947279999,
          6785.675672999999,
          7896.385086599999,
          6322.715362519999,
          7261.1416877599995,
          7776.54770684,
          7294.473301520001,
          6840.3201534
         ],
         "xaxis": "x",
         "y": [
          0.03715838856206697,
          0.034147502563351556,
          0.03167709796908935,
          0.014558976540596517,
          0.01642628205128206,
          0.02723083368244655,
          0,
          0.019715428252580658,
          0.005953552450305064,
          0.011153775827390754,
          0.020041465100207323,
          0.015190296016024962,
          0.0323376267470539,
          0.0065439500126657025,
          0.006077444000694559,
          0.017062005826050785,
          0.025735294117646995,
          0.015163359840506789,
          0.034544409155623595,
          0.023955251951574108,
          0.018613009140118864,
          0,
          0.008356634468734117,
          0.02291325695581013,
          0.014158239143367052,
          0.03088737201365189,
          0.038743762841209235,
          0.01693324001843539,
          0.006768953068592062,
          0.005564703460848605,
          0.018275447545404357,
          0.006810897435897429,
          0.01607717041800644,
          0.02067133229652669,
          0.03131703131703126,
          0,
          0.002311111111111108,
          0,
          0.024625784645099,
          0.016078826035059807,
          0.00907305209989712,
          0.041257367387033436,
          0.02176511291438636,
          0.028434857212893655
         ],
         "yaxis": "y"
        },
        {
         "hovertemplate": "<b>%{hovertext}</b><br><br>cluster=0<br>Protein=%{x}<br>Mortality=%{y}<extra></extra>",
         "hovertext": [
          "Albania",
          "Argentina",
          "Armenia",
          "Australia",
          "Austria",
          "Azerbaijan",
          "Barbados",
          "Belarus",
          "Belize",
          "Bosnia and Herzegovina",
          "Botswana",
          "Brazil",
          "Bulgaria",
          "Cabo Verde",
          "Central African Republic",
          "Colombia",
          "Congo",
          "Costa Rica",
          "Croatia",
          "Cuba",
          "Cyprus",
          "Czechia",
          "Denmark",
          "Dominica",
          "Dominican Republic",
          "El Salvador",
          "Estonia",
          "Finland",
          "France",
          "Gabon",
          "Georgia",
          "Germany",
          "Greece",
          "Guatemala",
          "Guyana",
          "Honduras",
          "Hungary",
          "Iceland",
          "Ireland",
          "Israel",
          "Jamaica",
          "Japan",
          "Jordan",
          "Kazakhstan",
          "Korea, South",
          "Kuwait",
          "Kyrgyzstan",
          "Latvia",
          "Lithuania",
          "Luxembourg",
          "Malaysia",
          "Maldives",
          "Malta",
          "Mauritania",
          "Mauritius",
          "Mongolia",
          "Montenegro",
          "Namibia",
          "Netherlands",
          "New Zealand",
          "Nicaragua",
          "North Macedonia",
          "Norway",
          "Oman",
          "Pakistan",
          "Panama",
          "Paraguay",
          "Peru",
          "Philippines",
          "Poland",
          "Portugal",
          "Romania",
          "Russian Federation",
          "Saint Vincent and the Grenadines",
          "Saudi Arabia",
          "Serbia",
          "Slovakia",
          "Slovenia",
          "South Africa",
          "Spain",
          "Suriname",
          "Switzerland",
          "Thailand",
          "Trinidad and Tobago",
          "Turkey",
          "Ukraine",
          "United Arab Emirates",
          "Uruguay",
          "Uzbekistan",
          "Venezuela (Bolivarian Republic of)",
          "Vietnam"
         ],
         "legendgroup": "0",
         "marker": {
          "color": "#EF553B",
          "symbol": "circle"
         },
         "mode": "markers",
         "name": "0",
         "orientation": "v",
         "showlegend": true,
         "type": "scatter",
         "x": [
          4863.21486416,
          4684.0388052,
          5193.512022880001,
          4771.20109612,
          4782.51287376,
          5930.156399360001,
          4678.813977,
          4794.084519,
          5790.8721596000005,
          5669.38000284,
          5397.30342,
          4751.75246724,
          4999.9237696,
          5789.17352944,
          5456.127331520001,
          4933.20401704,
          5172.52745996,
          4844.5536059999995,
          4706.569154,
          5789.06491172,
          4756.75438316,
          4669.674754080001,
          4894.069401919999,
          4709.4450748,
          4923.8417504,
          5739.5019902,
          4922.33675168,
          5094.051401480001,
          4840.32873752,
          5087.64026392,
          5496.87200184,
          4824.54390544,
          4884.05899376,
          6122.56905,
          5360.936109480001,
          5693.896894400001,
          4866.87439424,
          4911.48705192,
          4818.87262776,
          4771.133569600001,
          5035.8654116,
          4785.6761312,
          5946.4175704,
          4814.9651088,
          4965.06113888,
          5142.037432319999,
          5363.215956,
          4822.269666239999,
          4909.93695004,
          4435.60401304,
          4764.8435136,
          4567.140034239999,
          4656.10497692,
          5522.9619965599995,
          5395.6527,
          5064.28668104,
          4907.39024464,
          5822.0289335200005,
          4956.0079319199995,
          4788.23551932,
          5788.7764042399995,
          5475.2205216,
          4869.458341760001,
          5020.17520144,
          5086.41361792,
          4841.62002028,
          5179.5082688,
          5806.8428104800005,
          5657.2623626800005,
          4872.3051940000005,
          4657.00744368,
          5037.6962512400005,
          4830.7732786,
          4763.634748799999,
          5370.46896984,
          5049.13065784,
          4788.4249996,
          4878.2267496,
          5450.98046392,
          4676.5549448,
          5653.951037039999,
          4883.95574288,
          5486.518007000001,
          5004.1291732,
          5744.2286568,
          5314.1583364,
          5529.07028188,
          4901.88738464,
          5420.49098552,
          5200.6729974,
          5599.601905359999
         ],
         "xaxis": "x",
         "y": [
          0.026167146974063443,
          0.026645070821473275,
          0.016666666666666653,
          0.03302317095420557,
          0.013712136150590788,
          0.013908819958052779,
          0.03153153153153151,
          0.01056744818212708,
          0.015884221673137997,
          0.02876431724416482,
          0.003743982884649671,
          0.02936279109540446,
          0.0330199495528548,
          0.011153846153846136,
          0.01276771004942331,
          0.030129943274703086,
          0.024370681145113548,
          0.012402781354622725,
          0.014399568782966936,
          0.02029402364972836,
          0.009304056568663933,
          0.00831492289598928,
          0.01887467327005085,
          0,
          0.01810679970739813,
          0.02924272089938742,
          0.016646266829865336,
          0.025894503873109573,
          0.03532122611799292,
          0.006078343088698788,
          0.007662219364518032,
          0.02610139285221773,
          0.020153476474691873,
          0.0348527052431618,
          0.029482071713147314,
          0.02882044282341889,
          0.024556188243175268,
          0.0026822726164350253,
          0.03631871041123304,
          0.007422689880476014,
          0.02079077034010332,
          0.017942788626241893,
          0.009759354855279026,
          0.016128002335276354,
          0.017644969012750172,
          0.006077102163790727,
          0.021151429768114783,
          0.012593016599885523,
          0.014625938389852447,
          0.012261580381471375,
          0.008893881945419646,
          0.0032941595441595434,
          0.009499683343888536,
          0.02138826925600308,
          0.023866348448687336,
          0,
          0.015228426395939096,
          0.010627940937854925,
          0.028189598583088737,
          0.013248542660307344,
          0.028768914627311785,
          0.035564149991592256,
          0.016743961934590153,
          0.010072879179702338,
          0.02059351796416435,
          0.020562225896901286,
          0.021766572891870447,
          0.038862635623219365,
          0.018584566039942182,
          0.019721906923950056,
          0.021578637345375993,
          0.03243571373882984,
          0.01720734189399478,
          0,
          0.015181722385524147,
          0.021443139848961013,
          0.0029972308193516777,
          0.013889904232765555,
          0.02622034047307767,
          0.034883303282162596,
          0.02123514513929471,
          0.02570978486994796,
          0.01594594594594597,
          0.018308795771989444,
          0.02681113186979831,
          0.0186815333331199,
          0.003999416394174248,
          0.01992187499999995,
          0.008359176991011111,
          0.008495313726395497,
          0.030701754385965015
         ],
         "yaxis": "y"
        },
        {
         "hovertemplate": "<b>%{hovertext}</b><br><br>cluster=2<br>Protein=%{x}<br>Mortality=%{y}<extra></extra>",
         "hovertext": [
          "Belgium",
          "Bolivia",
          "Chad",
          "China",
          "Ecuador",
          "Egypt",
          "Fiji",
          "Iran (Islamic Republic of)",
          "Italy",
          "Liberia",
          "Mexico",
          "Niger",
          "Sudan",
          "Sweden",
          "United Kingdom"
         ],
         "legendgroup": "2",
         "marker": {
          "color": "#00cc96",
          "symbol": "circle"
         },
         "mode": "markers",
         "name": "2",
         "orientation": "v",
         "showlegend": true,
         "type": "scatter",
         "x": [
          4796.7533492,
          5244.50093748,
          5972.1052670399995,
          4477.02397056,
          5173.06309676,
          6826.7375864000005,
          5533.74445104,
          6443.68042508,
          4918.29023544,
          7162.95608248,
          5122.54039848,
          7468.5912346,
          5895.947470920001,
          4950.49646524,
          4847.37293376
         ],
         "xaxis": "x",
         "y": [
          0.0453097882679626,
          0.060776324254771384,
          0.06690647482014393,
          0.052073489660022516,
          0.08078971210313968,
          0.05807839161700478,
          0.0625000000000001,
          0.05744522857821567,
          0.08644452733616957,
          0.0593772628530052,
          0.10098885751515331,
          0.05697770437654827,
          0.06091518507723691,
          0.05734496124031006,
          0.058882817602490166
         ],
         "yaxis": "y"
        }
       ],
       "layout": {
        "legend": {
         "title": {
          "text": "cluster"
         },
         "tracegroupgap": 0
        },
        "margin": {
         "t": 60
        },
        "template": {
         "data": {
          "bar": [
           {
            "error_x": {
             "color": "#2a3f5f"
            },
            "error_y": {
             "color": "#2a3f5f"
            },
            "marker": {
             "line": {
              "color": "#E5ECF6",
              "width": 0.5
             }
            },
            "type": "bar"
           }
          ],
          "barpolar": [
           {
            "marker": {
             "line": {
              "color": "#E5ECF6",
              "width": 0.5
             }
            },
            "type": "barpolar"
           }
          ],
          "carpet": [
           {
            "aaxis": {
             "endlinecolor": "#2a3f5f",
             "gridcolor": "white",
             "linecolor": "white",
             "minorgridcolor": "white",
             "startlinecolor": "#2a3f5f"
            },
            "baxis": {
             "endlinecolor": "#2a3f5f",
             "gridcolor": "white",
             "linecolor": "white",
             "minorgridcolor": "white",
             "startlinecolor": "#2a3f5f"
            },
            "type": "carpet"
           }
          ],
          "choropleth": [
           {
            "colorbar": {
             "outlinewidth": 0,
             "ticks": ""
            },
            "type": "choropleth"
           }
          ],
          "contour": [
           {
            "colorbar": {
             "outlinewidth": 0,
             "ticks": ""
            },
            "colorscale": [
             [
              0,
              "#0d0887"
             ],
             [
              0.1111111111111111,
              "#46039f"
             ],
             [
              0.2222222222222222,
              "#7201a8"
             ],
             [
              0.3333333333333333,
              "#9c179e"
             ],
             [
              0.4444444444444444,
              "#bd3786"
             ],
             [
              0.5555555555555556,
              "#d8576b"
             ],
             [
              0.6666666666666666,
              "#ed7953"
             ],
             [
              0.7777777777777778,
              "#fb9f3a"
             ],
             [
              0.8888888888888888,
              "#fdca26"
             ],
             [
              1,
              "#f0f921"
             ]
            ],
            "type": "contour"
           }
          ],
          "contourcarpet": [
           {
            "colorbar": {
             "outlinewidth": 0,
             "ticks": ""
            },
            "type": "contourcarpet"
           }
          ],
          "heatmap": [
           {
            "colorbar": {
             "outlinewidth": 0,
             "ticks": ""
            },
            "colorscale": [
             [
              0,
              "#0d0887"
             ],
             [
              0.1111111111111111,
              "#46039f"
             ],
             [
              0.2222222222222222,
              "#7201a8"
             ],
             [
              0.3333333333333333,
              "#9c179e"
             ],
             [
              0.4444444444444444,
              "#bd3786"
             ],
             [
              0.5555555555555556,
              "#d8576b"
             ],
             [
              0.6666666666666666,
              "#ed7953"
             ],
             [
              0.7777777777777778,
              "#fb9f3a"
             ],
             [
              0.8888888888888888,
              "#fdca26"
             ],
             [
              1,
              "#f0f921"
             ]
            ],
            "type": "heatmap"
           }
          ],
          "heatmapgl": [
           {
            "colorbar": {
             "outlinewidth": 0,
             "ticks": ""
            },
            "colorscale": [
             [
              0,
              "#0d0887"
             ],
             [
              0.1111111111111111,
              "#46039f"
             ],
             [
              0.2222222222222222,
              "#7201a8"
             ],
             [
              0.3333333333333333,
              "#9c179e"
             ],
             [
              0.4444444444444444,
              "#bd3786"
             ],
             [
              0.5555555555555556,
              "#d8576b"
             ],
             [
              0.6666666666666666,
              "#ed7953"
             ],
             [
              0.7777777777777778,
              "#fb9f3a"
             ],
             [
              0.8888888888888888,
              "#fdca26"
             ],
             [
              1,
              "#f0f921"
             ]
            ],
            "type": "heatmapgl"
           }
          ],
          "histogram": [
           {
            "marker": {
             "colorbar": {
              "outlinewidth": 0,
              "ticks": ""
             }
            },
            "type": "histogram"
           }
          ],
          "histogram2d": [
           {
            "colorbar": {
             "outlinewidth": 0,
             "ticks": ""
            },
            "colorscale": [
             [
              0,
              "#0d0887"
             ],
             [
              0.1111111111111111,
              "#46039f"
             ],
             [
              0.2222222222222222,
              "#7201a8"
             ],
             [
              0.3333333333333333,
              "#9c179e"
             ],
             [
              0.4444444444444444,
              "#bd3786"
             ],
             [
              0.5555555555555556,
              "#d8576b"
             ],
             [
              0.6666666666666666,
              "#ed7953"
             ],
             [
              0.7777777777777778,
              "#fb9f3a"
             ],
             [
              0.8888888888888888,
              "#fdca26"
             ],
             [
              1,
              "#f0f921"
             ]
            ],
            "type": "histogram2d"
           }
          ],
          "histogram2dcontour": [
           {
            "colorbar": {
             "outlinewidth": 0,
             "ticks": ""
            },
            "colorscale": [
             [
              0,
              "#0d0887"
             ],
             [
              0.1111111111111111,
              "#46039f"
             ],
             [
              0.2222222222222222,
              "#7201a8"
             ],
             [
              0.3333333333333333,
              "#9c179e"
             ],
             [
              0.4444444444444444,
              "#bd3786"
             ],
             [
              0.5555555555555556,
              "#d8576b"
             ],
             [
              0.6666666666666666,
              "#ed7953"
             ],
             [
              0.7777777777777778,
              "#fb9f3a"
             ],
             [
              0.8888888888888888,
              "#fdca26"
             ],
             [
              1,
              "#f0f921"
             ]
            ],
            "type": "histogram2dcontour"
           }
          ],
          "mesh3d": [
           {
            "colorbar": {
             "outlinewidth": 0,
             "ticks": ""
            },
            "type": "mesh3d"
           }
          ],
          "parcoords": [
           {
            "line": {
             "colorbar": {
              "outlinewidth": 0,
              "ticks": ""
             }
            },
            "type": "parcoords"
           }
          ],
          "pie": [
           {
            "automargin": true,
            "type": "pie"
           }
          ],
          "scatter": [
           {
            "marker": {
             "colorbar": {
              "outlinewidth": 0,
              "ticks": ""
             }
            },
            "type": "scatter"
           }
          ],
          "scatter3d": [
           {
            "line": {
             "colorbar": {
              "outlinewidth": 0,
              "ticks": ""
             }
            },
            "marker": {
             "colorbar": {
              "outlinewidth": 0,
              "ticks": ""
             }
            },
            "type": "scatter3d"
           }
          ],
          "scattercarpet": [
           {
            "marker": {
             "colorbar": {
              "outlinewidth": 0,
              "ticks": ""
             }
            },
            "type": "scattercarpet"
           }
          ],
          "scattergeo": [
           {
            "marker": {
             "colorbar": {
              "outlinewidth": 0,
              "ticks": ""
             }
            },
            "type": "scattergeo"
           }
          ],
          "scattergl": [
           {
            "marker": {
             "colorbar": {
              "outlinewidth": 0,
              "ticks": ""
             }
            },
            "type": "scattergl"
           }
          ],
          "scattermapbox": [
           {
            "marker": {
             "colorbar": {
              "outlinewidth": 0,
              "ticks": ""
             }
            },
            "type": "scattermapbox"
           }
          ],
          "scatterpolar": [
           {
            "marker": {
             "colorbar": {
              "outlinewidth": 0,
              "ticks": ""
             }
            },
            "type": "scatterpolar"
           }
          ],
          "scatterpolargl": [
           {
            "marker": {
             "colorbar": {
              "outlinewidth": 0,
              "ticks": ""
             }
            },
            "type": "scatterpolargl"
           }
          ],
          "scatterternary": [
           {
            "marker": {
             "colorbar": {
              "outlinewidth": 0,
              "ticks": ""
             }
            },
            "type": "scatterternary"
           }
          ],
          "surface": [
           {
            "colorbar": {
             "outlinewidth": 0,
             "ticks": ""
            },
            "colorscale": [
             [
              0,
              "#0d0887"
             ],
             [
              0.1111111111111111,
              "#46039f"
             ],
             [
              0.2222222222222222,
              "#7201a8"
             ],
             [
              0.3333333333333333,
              "#9c179e"
             ],
             [
              0.4444444444444444,
              "#bd3786"
             ],
             [
              0.5555555555555556,
              "#d8576b"
             ],
             [
              0.6666666666666666,
              "#ed7953"
             ],
             [
              0.7777777777777778,
              "#fb9f3a"
             ],
             [
              0.8888888888888888,
              "#fdca26"
             ],
             [
              1,
              "#f0f921"
             ]
            ],
            "type": "surface"
           }
          ],
          "table": [
           {
            "cells": {
             "fill": {
              "color": "#EBF0F8"
             },
             "line": {
              "color": "white"
             }
            },
            "header": {
             "fill": {
              "color": "#C8D4E3"
             },
             "line": {
              "color": "white"
             }
            },
            "type": "table"
           }
          ]
         },
         "layout": {
          "annotationdefaults": {
           "arrowcolor": "#2a3f5f",
           "arrowhead": 0,
           "arrowwidth": 1
          },
          "coloraxis": {
           "colorbar": {
            "outlinewidth": 0,
            "ticks": ""
           }
          },
          "colorscale": {
           "diverging": [
            [
             0,
             "#8e0152"
            ],
            [
             0.1,
             "#c51b7d"
            ],
            [
             0.2,
             "#de77ae"
            ],
            [
             0.3,
             "#f1b6da"
            ],
            [
             0.4,
             "#fde0ef"
            ],
            [
             0.5,
             "#f7f7f7"
            ],
            [
             0.6,
             "#e6f5d0"
            ],
            [
             0.7,
             "#b8e186"
            ],
            [
             0.8,
             "#7fbc41"
            ],
            [
             0.9,
             "#4d9221"
            ],
            [
             1,
             "#276419"
            ]
           ],
           "sequential": [
            [
             0,
             "#0d0887"
            ],
            [
             0.1111111111111111,
             "#46039f"
            ],
            [
             0.2222222222222222,
             "#7201a8"
            ],
            [
             0.3333333333333333,
             "#9c179e"
            ],
            [
             0.4444444444444444,
             "#bd3786"
            ],
            [
             0.5555555555555556,
             "#d8576b"
            ],
            [
             0.6666666666666666,
             "#ed7953"
            ],
            [
             0.7777777777777778,
             "#fb9f3a"
            ],
            [
             0.8888888888888888,
             "#fdca26"
            ],
            [
             1,
             "#f0f921"
            ]
           ],
           "sequentialminus": [
            [
             0,
             "#0d0887"
            ],
            [
             0.1111111111111111,
             "#46039f"
            ],
            [
             0.2222222222222222,
             "#7201a8"
            ],
            [
             0.3333333333333333,
             "#9c179e"
            ],
            [
             0.4444444444444444,
             "#bd3786"
            ],
            [
             0.5555555555555556,
             "#d8576b"
            ],
            [
             0.6666666666666666,
             "#ed7953"
            ],
            [
             0.7777777777777778,
             "#fb9f3a"
            ],
            [
             0.8888888888888888,
             "#fdca26"
            ],
            [
             1,
             "#f0f921"
            ]
           ]
          },
          "colorway": [
           "#636efa",
           "#EF553B",
           "#00cc96",
           "#ab63fa",
           "#FFA15A",
           "#19d3f3",
           "#FF6692",
           "#B6E880",
           "#FF97FF",
           "#FECB52"
          ],
          "font": {
           "color": "#2a3f5f"
          },
          "geo": {
           "bgcolor": "white",
           "lakecolor": "white",
           "landcolor": "#E5ECF6",
           "showlakes": true,
           "showland": true,
           "subunitcolor": "white"
          },
          "hoverlabel": {
           "align": "left"
          },
          "hovermode": "closest",
          "mapbox": {
           "style": "light"
          },
          "paper_bgcolor": "white",
          "plot_bgcolor": "#E5ECF6",
          "polar": {
           "angularaxis": {
            "gridcolor": "white",
            "linecolor": "white",
            "ticks": ""
           },
           "bgcolor": "#E5ECF6",
           "radialaxis": {
            "gridcolor": "white",
            "linecolor": "white",
            "ticks": ""
           }
          },
          "scene": {
           "xaxis": {
            "backgroundcolor": "#E5ECF6",
            "gridcolor": "white",
            "gridwidth": 2,
            "linecolor": "white",
            "showbackground": true,
            "ticks": "",
            "zerolinecolor": "white"
           },
           "yaxis": {
            "backgroundcolor": "#E5ECF6",
            "gridcolor": "white",
            "gridwidth": 2,
            "linecolor": "white",
            "showbackground": true,
            "ticks": "",
            "zerolinecolor": "white"
           },
           "zaxis": {
            "backgroundcolor": "#E5ECF6",
            "gridcolor": "white",
            "gridwidth": 2,
            "linecolor": "white",
            "showbackground": true,
            "ticks": "",
            "zerolinecolor": "white"
           }
          },
          "shapedefaults": {
           "line": {
            "color": "#2a3f5f"
           }
          },
          "ternary": {
           "aaxis": {
            "gridcolor": "white",
            "linecolor": "white",
            "ticks": ""
           },
           "baxis": {
            "gridcolor": "white",
            "linecolor": "white",
            "ticks": ""
           },
           "bgcolor": "#E5ECF6",
           "caxis": {
            "gridcolor": "white",
            "linecolor": "white",
            "ticks": ""
           }
          },
          "title": {
           "x": 0.05
          },
          "xaxis": {
           "automargin": true,
           "gridcolor": "white",
           "linecolor": "white",
           "ticks": "",
           "title": {
            "standoff": 15
           },
           "zerolinecolor": "white",
           "zerolinewidth": 2
          },
          "yaxis": {
           "automargin": true,
           "gridcolor": "white",
           "linecolor": "white",
           "ticks": "",
           "title": {
            "standoff": 15
           },
           "zerolinecolor": "white",
           "zerolinewidth": 2
          }
         }
        },
        "xaxis": {
         "anchor": "y",
         "domain": [
          0,
          1
         ],
         "title": {
          "text": "Protein"
         }
        },
        "yaxis": {
         "anchor": "x",
         "domain": [
          0,
          1
         ],
         "title": {
          "text": "Mortality"
         }
        }
       }
      },
      "text/html": [
       "<div>                            <div id=\"c92cb58c-c24b-423f-b18c-8e5d4b72f4bd\" class=\"plotly-graph-div\" style=\"height:525px; width:100%;\"></div>            <script type=\"text/javascript\">                require([\"plotly\"], function(Plotly) {                    window.PLOTLYENV=window.PLOTLYENV || {};                                    if (document.getElementById(\"c92cb58c-c24b-423f-b18c-8e5d4b72f4bd\")) {                    Plotly.newPlot(                        \"c92cb58c-c24b-423f-b18c-8e5d4b72f4bd\",                        [{\"hovertemplate\": \"<b>%{hovertext}</b><br><br>cluster=1<br>Protein=%{x}<br>Mortality=%{y}<extra></extra>\", \"hovertext\": [\"Afghanistan\", \"Algeria\", \"Angola\", \"Bangladesh\", \"Benin\", \"Burkina Faso\", \"Cambodia\", \"Cameroon\", \"Cote d'Ivoire\", \"Djibouti\", \"Eswatini\", \"Ethiopia\", \"Gambia\", \"Ghana\", \"Guinea\", \"Guinea-Bissau\", \"Haiti\", \"India\", \"Indonesia\", \"Iraq\", \"Kenya\", \"Lao People's Democratic Republic\", \"Lebanon\", \"Lesotho\", \"Madagascar\", \"Malawi\", \"Mali\", \"Morocco\", \"Mozambique\", \"Nepal\", \"Nigeria\", \"Rwanda\", \"Sao Tome and Principe\", \"Senegal\", \"Sierra Leone\", \"Solomon Islands\", \"Sri Lanka\", \"Timor-Leste\", \"Togo\", \"Tunisia\", \"Uganda\", \"United Republic of Tanzania\", \"Zambia\", \"Zimbabwe\"], \"legendgroup\": \"1\", \"marker\": {\"color\": \"#636efa\", \"symbol\": \"circle\"}, \"mode\": \"markers\", \"name\": \"1\", \"orientation\": \"v\", \"showlegend\": true, \"type\": \"scatter\", \"x\": [6898.5280003200005, 6373.076681359999, 6570.34320248, 7389.72141952, 7352.64861332, 7897.652893800001, 6567.2636912, 7982.2932624000005, 7369.7586221599995, 7393.4959561199985, 6439.46791264, 8238.79866604, 6422.387785, 7266.312994760001, 7665.8416668, 7316.917441080001, 7570.022424800001, 6501.014367919999, 6325.0457872, 7068.981677040001, 6339.60911952, 7205.52654552, 6355.4093072, 7338.3647245600005, 7295.037711280001, 7946.28763992, 6345.37012392, 6454.9848168, 7722.760204520001, 7566.4326006, 8466.174395279999, 8151.41454656, 6635.9140748, 7241.625455519999, 7020.248678680001, 6729.43949536, 6627.416947279999, 6785.675672999999, 7896.385086599999, 6322.715362519999, 7261.1416877599995, 7776.54770684, 7294.473301520001, 6840.3201534], \"xaxis\": \"x\", \"y\": [0.03715838856206697, 0.034147502563351556, 0.03167709796908935, 0.014558976540596517, 0.01642628205128206, 0.02723083368244655, 0.0, 0.019715428252580658, 0.005953552450305064, 0.011153775827390754, 0.020041465100207323, 0.015190296016024962, 0.0323376267470539, 0.0065439500126657025, 0.006077444000694559, 0.017062005826050785, 0.025735294117646995, 0.015163359840506789, 0.034544409155623595, 0.023955251951574108, 0.018613009140118864, 0.0, 0.008356634468734117, 0.02291325695581013, 0.014158239143367052, 0.03088737201365189, 0.038743762841209235, 0.01693324001843539, 0.006768953068592062, 0.005564703460848605, 0.018275447545404357, 0.006810897435897429, 0.01607717041800644, 0.02067133229652669, 0.03131703131703126, 0.0, 0.002311111111111108, 0.0, 0.024625784645099, 0.016078826035059807, 0.00907305209989712, 0.041257367387033436, 0.02176511291438636, 0.028434857212893655], \"yaxis\": \"y\"}, {\"hovertemplate\": \"<b>%{hovertext}</b><br><br>cluster=0<br>Protein=%{x}<br>Mortality=%{y}<extra></extra>\", \"hovertext\": [\"Albania\", \"Argentina\", \"Armenia\", \"Australia\", \"Austria\", \"Azerbaijan\", \"Barbados\", \"Belarus\", \"Belize\", \"Bosnia and Herzegovina\", \"Botswana\", \"Brazil\", \"Bulgaria\", \"Cabo Verde\", \"Central African Republic\", \"Colombia\", \"Congo\", \"Costa Rica\", \"Croatia\", \"Cuba\", \"Cyprus\", \"Czechia\", \"Denmark\", \"Dominica\", \"Dominican Republic\", \"El Salvador\", \"Estonia\", \"Finland\", \"France\", \"Gabon\", \"Georgia\", \"Germany\", \"Greece\", \"Guatemala\", \"Guyana\", \"Honduras\", \"Hungary\", \"Iceland\", \"Ireland\", \"Israel\", \"Jamaica\", \"Japan\", \"Jordan\", \"Kazakhstan\", \"Korea, South\", \"Kuwait\", \"Kyrgyzstan\", \"Latvia\", \"Lithuania\", \"Luxembourg\", \"Malaysia\", \"Maldives\", \"Malta\", \"Mauritania\", \"Mauritius\", \"Mongolia\", \"Montenegro\", \"Namibia\", \"Netherlands\", \"New Zealand\", \"Nicaragua\", \"North Macedonia\", \"Norway\", \"Oman\", \"Pakistan\", \"Panama\", \"Paraguay\", \"Peru\", \"Philippines\", \"Poland\", \"Portugal\", \"Romania\", \"Russian Federation\", \"Saint Vincent and the Grenadines\", \"Saudi Arabia\", \"Serbia\", \"Slovakia\", \"Slovenia\", \"South Africa\", \"Spain\", \"Suriname\", \"Switzerland\", \"Thailand\", \"Trinidad and Tobago\", \"Turkey\", \"Ukraine\", \"United Arab Emirates\", \"Uruguay\", \"Uzbekistan\", \"Venezuela (Bolivarian Republic of)\", \"Vietnam\"], \"legendgroup\": \"0\", \"marker\": {\"color\": \"#EF553B\", \"symbol\": \"circle\"}, \"mode\": \"markers\", \"name\": \"0\", \"orientation\": \"v\", \"showlegend\": true, \"type\": \"scatter\", \"x\": [4863.21486416, 4684.0388052, 5193.512022880001, 4771.20109612, 4782.51287376, 5930.156399360001, 4678.813977, 4794.084519, 5790.8721596000005, 5669.38000284, 5397.30342, 4751.75246724, 4999.9237696, 5789.17352944, 5456.127331520001, 4933.20401704, 5172.52745996, 4844.5536059999995, 4706.569154, 5789.06491172, 4756.75438316, 4669.674754080001, 4894.069401919999, 4709.4450748, 4923.8417504, 5739.5019902, 4922.33675168, 5094.051401480001, 4840.32873752, 5087.64026392, 5496.87200184, 4824.54390544, 4884.05899376, 6122.56905, 5360.936109480001, 5693.896894400001, 4866.87439424, 4911.48705192, 4818.87262776, 4771.133569600001, 5035.8654116, 4785.6761312, 5946.4175704, 4814.9651088, 4965.06113888, 5142.037432319999, 5363.215956, 4822.269666239999, 4909.93695004, 4435.60401304, 4764.8435136, 4567.140034239999, 4656.10497692, 5522.9619965599995, 5395.6527, 5064.28668104, 4907.39024464, 5822.0289335200005, 4956.0079319199995, 4788.23551932, 5788.7764042399995, 5475.2205216, 4869.458341760001, 5020.17520144, 5086.41361792, 4841.62002028, 5179.5082688, 5806.8428104800005, 5657.2623626800005, 4872.3051940000005, 4657.00744368, 5037.6962512400005, 4830.7732786, 4763.634748799999, 5370.46896984, 5049.13065784, 4788.4249996, 4878.2267496, 5450.98046392, 4676.5549448, 5653.951037039999, 4883.95574288, 5486.518007000001, 5004.1291732, 5744.2286568, 5314.1583364, 5529.07028188, 4901.88738464, 5420.49098552, 5200.6729974, 5599.601905359999], \"xaxis\": \"x\", \"y\": [0.026167146974063443, 0.026645070821473275, 0.016666666666666653, 0.03302317095420557, 0.013712136150590788, 0.013908819958052779, 0.03153153153153151, 0.01056744818212708, 0.015884221673137997, 0.02876431724416482, 0.003743982884649671, 0.02936279109540446, 0.0330199495528548, 0.011153846153846136, 0.01276771004942331, 0.030129943274703086, 0.024370681145113548, 0.012402781354622725, 0.014399568782966936, 0.02029402364972836, 0.009304056568663933, 0.00831492289598928, 0.01887467327005085, 0.0, 0.01810679970739813, 0.02924272089938742, 0.016646266829865336, 0.025894503873109573, 0.03532122611799292, 0.006078343088698788, 0.007662219364518032, 0.02610139285221773, 0.020153476474691873, 0.0348527052431618, 0.029482071713147314, 0.02882044282341889, 0.024556188243175268, 0.0026822726164350253, 0.03631871041123304, 0.007422689880476014, 0.02079077034010332, 0.017942788626241893, 0.009759354855279026, 0.016128002335276354, 0.017644969012750172, 0.006077102163790727, 0.021151429768114783, 0.012593016599885523, 0.014625938389852447, 0.012261580381471375, 0.008893881945419646, 0.0032941595441595434, 0.009499683343888536, 0.02138826925600308, 0.023866348448687336, 0.0, 0.015228426395939096, 0.010627940937854925, 0.028189598583088737, 0.013248542660307344, 0.028768914627311785, 0.035564149991592256, 0.016743961934590153, 0.010072879179702338, 0.02059351796416435, 0.020562225896901286, 0.021766572891870447, 0.038862635623219365, 0.018584566039942182, 0.019721906923950056, 0.021578637345375993, 0.03243571373882984, 0.01720734189399478, 0.0, 0.015181722385524147, 0.021443139848961013, 0.0029972308193516777, 0.013889904232765555, 0.02622034047307767, 0.034883303282162596, 0.02123514513929471, 0.02570978486994796, 0.01594594594594597, 0.018308795771989444, 0.02681113186979831, 0.0186815333331199, 0.003999416394174248, 0.01992187499999995, 0.008359176991011111, 0.008495313726395497, 0.030701754385965015], \"yaxis\": \"y\"}, {\"hovertemplate\": \"<b>%{hovertext}</b><br><br>cluster=2<br>Protein=%{x}<br>Mortality=%{y}<extra></extra>\", \"hovertext\": [\"Belgium\", \"Bolivia\", \"Chad\", \"China\", \"Ecuador\", \"Egypt\", \"Fiji\", \"Iran (Islamic Republic of)\", \"Italy\", \"Liberia\", \"Mexico\", \"Niger\", \"Sudan\", \"Sweden\", \"United Kingdom\"], \"legendgroup\": \"2\", \"marker\": {\"color\": \"#00cc96\", \"symbol\": \"circle\"}, \"mode\": \"markers\", \"name\": \"2\", \"orientation\": \"v\", \"showlegend\": true, \"type\": \"scatter\", \"x\": [4796.7533492, 5244.50093748, 5972.1052670399995, 4477.02397056, 5173.06309676, 6826.7375864000005, 5533.74445104, 6443.68042508, 4918.29023544, 7162.95608248, 5122.54039848, 7468.5912346, 5895.947470920001, 4950.49646524, 4847.37293376], \"xaxis\": \"x\", \"y\": [0.0453097882679626, 0.060776324254771384, 0.06690647482014393, 0.052073489660022516, 0.08078971210313968, 0.05807839161700478, 0.0625000000000001, 0.05744522857821567, 0.08644452733616957, 0.0593772628530052, 0.10098885751515331, 0.05697770437654827, 0.06091518507723691, 0.05734496124031006, 0.058882817602490166], \"yaxis\": \"y\"}],                        {\"legend\": {\"title\": {\"text\": \"cluster\"}, \"tracegroupgap\": 0}, \"margin\": {\"t\": 60}, \"template\": {\"data\": {\"bar\": [{\"error_x\": {\"color\": \"#2a3f5f\"}, \"error_y\": {\"color\": \"#2a3f5f\"}, \"marker\": {\"line\": {\"color\": \"#E5ECF6\", \"width\": 0.5}}, \"type\": \"bar\"}], \"barpolar\": [{\"marker\": {\"line\": {\"color\": \"#E5ECF6\", \"width\": 0.5}}, \"type\": \"barpolar\"}], \"carpet\": [{\"aaxis\": {\"endlinecolor\": \"#2a3f5f\", \"gridcolor\": \"white\", \"linecolor\": \"white\", \"minorgridcolor\": \"white\", \"startlinecolor\": \"#2a3f5f\"}, \"baxis\": {\"endlinecolor\": \"#2a3f5f\", \"gridcolor\": \"white\", \"linecolor\": \"white\", \"minorgridcolor\": \"white\", \"startlinecolor\": \"#2a3f5f\"}, \"type\": \"carpet\"}], \"choropleth\": [{\"colorbar\": {\"outlinewidth\": 0, \"ticks\": \"\"}, \"type\": \"choropleth\"}], \"contour\": [{\"colorbar\": {\"outlinewidth\": 0, \"ticks\": \"\"}, \"colorscale\": [[0.0, \"#0d0887\"], [0.1111111111111111, \"#46039f\"], [0.2222222222222222, \"#7201a8\"], [0.3333333333333333, \"#9c179e\"], [0.4444444444444444, \"#bd3786\"], [0.5555555555555556, \"#d8576b\"], [0.6666666666666666, \"#ed7953\"], [0.7777777777777778, \"#fb9f3a\"], [0.8888888888888888, \"#fdca26\"], [1.0, \"#f0f921\"]], \"type\": \"contour\"}], \"contourcarpet\": [{\"colorbar\": {\"outlinewidth\": 0, \"ticks\": \"\"}, \"type\": \"contourcarpet\"}], \"heatmap\": [{\"colorbar\": {\"outlinewidth\": 0, \"ticks\": \"\"}, \"colorscale\": [[0.0, \"#0d0887\"], [0.1111111111111111, \"#46039f\"], [0.2222222222222222, \"#7201a8\"], [0.3333333333333333, \"#9c179e\"], [0.4444444444444444, \"#bd3786\"], [0.5555555555555556, \"#d8576b\"], [0.6666666666666666, \"#ed7953\"], [0.7777777777777778, \"#fb9f3a\"], [0.8888888888888888, \"#fdca26\"], [1.0, \"#f0f921\"]], \"type\": \"heatmap\"}], \"heatmapgl\": [{\"colorbar\": {\"outlinewidth\": 0, \"ticks\": \"\"}, \"colorscale\": [[0.0, \"#0d0887\"], [0.1111111111111111, \"#46039f\"], [0.2222222222222222, \"#7201a8\"], [0.3333333333333333, \"#9c179e\"], [0.4444444444444444, \"#bd3786\"], [0.5555555555555556, \"#d8576b\"], [0.6666666666666666, \"#ed7953\"], [0.7777777777777778, \"#fb9f3a\"], [0.8888888888888888, \"#fdca26\"], [1.0, \"#f0f921\"]], \"type\": \"heatmapgl\"}], \"histogram\": [{\"marker\": {\"colorbar\": {\"outlinewidth\": 0, \"ticks\": \"\"}}, \"type\": \"histogram\"}], \"histogram2d\": [{\"colorbar\": {\"outlinewidth\": 0, \"ticks\": \"\"}, \"colorscale\": [[0.0, \"#0d0887\"], [0.1111111111111111, \"#46039f\"], [0.2222222222222222, \"#7201a8\"], [0.3333333333333333, \"#9c179e\"], [0.4444444444444444, \"#bd3786\"], [0.5555555555555556, \"#d8576b\"], [0.6666666666666666, \"#ed7953\"], [0.7777777777777778, \"#fb9f3a\"], [0.8888888888888888, \"#fdca26\"], [1.0, \"#f0f921\"]], \"type\": \"histogram2d\"}], \"histogram2dcontour\": [{\"colorbar\": {\"outlinewidth\": 0, \"ticks\": \"\"}, \"colorscale\": [[0.0, \"#0d0887\"], [0.1111111111111111, \"#46039f\"], [0.2222222222222222, \"#7201a8\"], [0.3333333333333333, \"#9c179e\"], [0.4444444444444444, \"#bd3786\"], [0.5555555555555556, \"#d8576b\"], [0.6666666666666666, \"#ed7953\"], [0.7777777777777778, \"#fb9f3a\"], [0.8888888888888888, \"#fdca26\"], [1.0, \"#f0f921\"]], \"type\": \"histogram2dcontour\"}], \"mesh3d\": [{\"colorbar\": {\"outlinewidth\": 0, \"ticks\": \"\"}, \"type\": \"mesh3d\"}], \"parcoords\": [{\"line\": {\"colorbar\": {\"outlinewidth\": 0, \"ticks\": \"\"}}, \"type\": \"parcoords\"}], \"pie\": [{\"automargin\": true, \"type\": \"pie\"}], \"scatter\": [{\"marker\": {\"colorbar\": {\"outlinewidth\": 0, \"ticks\": \"\"}}, \"type\": \"scatter\"}], \"scatter3d\": [{\"line\": {\"colorbar\": {\"outlinewidth\": 0, \"ticks\": \"\"}}, \"marker\": {\"colorbar\": {\"outlinewidth\": 0, \"ticks\": \"\"}}, \"type\": \"scatter3d\"}], \"scattercarpet\": [{\"marker\": {\"colorbar\": {\"outlinewidth\": 0, \"ticks\": \"\"}}, \"type\": \"scattercarpet\"}], \"scattergeo\": [{\"marker\": {\"colorbar\": {\"outlinewidth\": 0, \"ticks\": \"\"}}, \"type\": \"scattergeo\"}], \"scattergl\": [{\"marker\": {\"colorbar\": {\"outlinewidth\": 0, \"ticks\": \"\"}}, \"type\": \"scattergl\"}], \"scattermapbox\": [{\"marker\": {\"colorbar\": {\"outlinewidth\": 0, \"ticks\": \"\"}}, \"type\": \"scattermapbox\"}], \"scatterpolar\": [{\"marker\": {\"colorbar\": {\"outlinewidth\": 0, \"ticks\": \"\"}}, \"type\": \"scatterpolar\"}], \"scatterpolargl\": [{\"marker\": {\"colorbar\": {\"outlinewidth\": 0, \"ticks\": \"\"}}, \"type\": \"scatterpolargl\"}], \"scatterternary\": [{\"marker\": {\"colorbar\": {\"outlinewidth\": 0, \"ticks\": \"\"}}, \"type\": \"scatterternary\"}], \"surface\": [{\"colorbar\": {\"outlinewidth\": 0, \"ticks\": \"\"}, \"colorscale\": [[0.0, \"#0d0887\"], [0.1111111111111111, \"#46039f\"], [0.2222222222222222, \"#7201a8\"], [0.3333333333333333, \"#9c179e\"], [0.4444444444444444, \"#bd3786\"], [0.5555555555555556, \"#d8576b\"], [0.6666666666666666, \"#ed7953\"], [0.7777777777777778, \"#fb9f3a\"], [0.8888888888888888, \"#fdca26\"], [1.0, \"#f0f921\"]], \"type\": \"surface\"}], \"table\": [{\"cells\": {\"fill\": {\"color\": \"#EBF0F8\"}, \"line\": {\"color\": \"white\"}}, \"header\": {\"fill\": {\"color\": \"#C8D4E3\"}, \"line\": {\"color\": \"white\"}}, \"type\": \"table\"}]}, \"layout\": {\"annotationdefaults\": {\"arrowcolor\": \"#2a3f5f\", \"arrowhead\": 0, \"arrowwidth\": 1}, \"coloraxis\": {\"colorbar\": {\"outlinewidth\": 0, \"ticks\": \"\"}}, \"colorscale\": {\"diverging\": [[0, \"#8e0152\"], [0.1, \"#c51b7d\"], [0.2, \"#de77ae\"], [0.3, \"#f1b6da\"], [0.4, \"#fde0ef\"], [0.5, \"#f7f7f7\"], [0.6, \"#e6f5d0\"], [0.7, \"#b8e186\"], [0.8, \"#7fbc41\"], [0.9, \"#4d9221\"], [1, \"#276419\"]], \"sequential\": [[0.0, \"#0d0887\"], [0.1111111111111111, \"#46039f\"], [0.2222222222222222, \"#7201a8\"], [0.3333333333333333, \"#9c179e\"], [0.4444444444444444, \"#bd3786\"], [0.5555555555555556, \"#d8576b\"], [0.6666666666666666, \"#ed7953\"], [0.7777777777777778, \"#fb9f3a\"], [0.8888888888888888, \"#fdca26\"], [1.0, \"#f0f921\"]], \"sequentialminus\": [[0.0, \"#0d0887\"], [0.1111111111111111, \"#46039f\"], [0.2222222222222222, \"#7201a8\"], [0.3333333333333333, \"#9c179e\"], [0.4444444444444444, \"#bd3786\"], [0.5555555555555556, \"#d8576b\"], [0.6666666666666666, \"#ed7953\"], [0.7777777777777778, \"#fb9f3a\"], [0.8888888888888888, \"#fdca26\"], [1.0, \"#f0f921\"]]}, \"colorway\": [\"#636efa\", \"#EF553B\", \"#00cc96\", \"#ab63fa\", \"#FFA15A\", \"#19d3f3\", \"#FF6692\", \"#B6E880\", \"#FF97FF\", \"#FECB52\"], \"font\": {\"color\": \"#2a3f5f\"}, \"geo\": {\"bgcolor\": \"white\", \"lakecolor\": \"white\", \"landcolor\": \"#E5ECF6\", \"showlakes\": true, \"showland\": true, \"subunitcolor\": \"white\"}, \"hoverlabel\": {\"align\": \"left\"}, \"hovermode\": \"closest\", \"mapbox\": {\"style\": \"light\"}, \"paper_bgcolor\": \"white\", \"plot_bgcolor\": \"#E5ECF6\", \"polar\": {\"angularaxis\": {\"gridcolor\": \"white\", \"linecolor\": \"white\", \"ticks\": \"\"}, \"bgcolor\": \"#E5ECF6\", \"radialaxis\": {\"gridcolor\": \"white\", \"linecolor\": \"white\", \"ticks\": \"\"}}, \"scene\": {\"xaxis\": {\"backgroundcolor\": \"#E5ECF6\", \"gridcolor\": \"white\", \"gridwidth\": 2, \"linecolor\": \"white\", \"showbackground\": true, \"ticks\": \"\", \"zerolinecolor\": \"white\"}, \"yaxis\": {\"backgroundcolor\": \"#E5ECF6\", \"gridcolor\": \"white\", \"gridwidth\": 2, \"linecolor\": \"white\", \"showbackground\": true, \"ticks\": \"\", \"zerolinecolor\": \"white\"}, \"zaxis\": {\"backgroundcolor\": \"#E5ECF6\", \"gridcolor\": \"white\", \"gridwidth\": 2, \"linecolor\": \"white\", \"showbackground\": true, \"ticks\": \"\", \"zerolinecolor\": \"white\"}}, \"shapedefaults\": {\"line\": {\"color\": \"#2a3f5f\"}}, \"ternary\": {\"aaxis\": {\"gridcolor\": \"white\", \"linecolor\": \"white\", \"ticks\": \"\"}, \"baxis\": {\"gridcolor\": \"white\", \"linecolor\": \"white\", \"ticks\": \"\"}, \"bgcolor\": \"#E5ECF6\", \"caxis\": {\"gridcolor\": \"white\", \"linecolor\": \"white\", \"ticks\": \"\"}}, \"title\": {\"x\": 0.05}, \"xaxis\": {\"automargin\": true, \"gridcolor\": \"white\", \"linecolor\": \"white\", \"ticks\": \"\", \"title\": {\"standoff\": 15}, \"zerolinecolor\": \"white\", \"zerolinewidth\": 2}, \"yaxis\": {\"automargin\": true, \"gridcolor\": \"white\", \"linecolor\": \"white\", \"ticks\": \"\", \"title\": {\"standoff\": 15}, \"zerolinecolor\": \"white\", \"zerolinewidth\": 2}}}, \"xaxis\": {\"anchor\": \"y\", \"domain\": [0.0, 1.0], \"title\": {\"text\": \"Protein\"}}, \"yaxis\": {\"anchor\": \"x\", \"domain\": [0.0, 1.0], \"title\": {\"text\": \"Mortality\"}}},                        {\"responsive\": true}                    ).then(function(){\n",
       "                            \n",
       "var gd = document.getElementById('c92cb58c-c24b-423f-b18c-8e5d4b72f4bd');\n",
       "var x = new MutationObserver(function (mutations, observer) {{\n",
       "        var display = window.getComputedStyle(gd).display;\n",
       "        if (!display || display === 'none') {{\n",
       "            console.log([gd, 'removed!']);\n",
       "            Plotly.purge(gd);\n",
       "            observer.disconnect();\n",
       "        }}\n",
       "}});\n",
       "\n",
       "// Listen for the removal of the full notebook cells\n",
       "var notebookContainer = gd.closest('#notebook-container');\n",
       "if (notebookContainer) {{\n",
       "    x.observe(notebookContainer, {childList: true});\n",
       "}}\n",
       "\n",
       "// Listen for the clearing of the current output cell\n",
       "var outputEl = gd.closest('.output');\n",
       "if (outputEl) {{\n",
       "    x.observe(outputEl, {childList: true});\n",
       "}}\n",
       "\n",
       "                        })                };                });            </script>        </div>"
      ]
     },
     "metadata": {},
     "output_type": "display_data"
    }
   ],
   "source": [
    "cluster_preds(data, 'Protein', 'Mortality', 3)"
   ]
  }
 ],
 "metadata": {
  "kernelspec": {
   "display_name": "Python 3",
   "language": "python",
   "name": "python3"
  },
  "language_info": {
   "codemirror_mode": {
    "name": "ipython",
    "version": 3
   },
   "file_extension": ".py",
   "mimetype": "text/x-python",
   "name": "python",
   "nbconvert_exporter": "python",
   "pygments_lexer": "ipython3",
   "version": "3.7.9"
  },
  "papermill": {
   "duration": 138.795237,
   "end_time": "2020-10-22T17:42:00.662847",
   "environment_variables": {},
   "exception": null,
   "input_path": "__notebook__.ipynb",
   "output_path": "__notebook__.ipynb",
   "parameters": {},
   "start_time": "2020-10-22T17:39:41.867610",
   "version": "2.1.0"
  }
 },
 "nbformat": 4,
 "nbformat_minor": 4
}
