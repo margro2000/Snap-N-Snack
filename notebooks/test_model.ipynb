{
 "cells": [
  {
   "cell_type": "code",
   "execution_count": 1,
   "metadata": {},
   "outputs": [],
   "source": [
    "%load_ext autoreload\n",
    "%autoreload 2\n",
    "import sys\n",
    "sys.path.append(\"..\")\n",
    "\n",
    "from datasets.img_dataset import FoodImgs\n",
    "from models.cnn import SnapSnack"
   ]
  },
  {
   "cell_type": "code",
   "execution_count": 2,
   "metadata": {},
   "outputs": [
    {
     "name": "stdout",
     "output_type": "stream",
     "text": [
      "9090 imgs\n"
     ]
    }
   ],
   "source": [
    "import pytorch_lightning as pl\n",
    "from torch.utils.data import DataLoader, random_split\n",
    "import math\n",
    "\n",
    "\n",
    "dataset = FoodImgs()\n",
    "\n",
    "s = len(dataset)\n",
    "print(f\"{s} imgs\")\n",
    "train_size = int(math.ceil(s * 0.8))\n",
    "test_size = s - train_size\n",
    "\n",
    "train_set, test_set = random_split(dataset, [train_size, test_size])\n"
   ]
  },
  {
   "cell_type": "code",
   "execution_count": 3,
   "metadata": {},
   "outputs": [
    {
     "data": {
      "text/plain": [
       "<All keys matched successfully>"
      ]
     },
     "execution_count": 3,
     "metadata": {},
     "output_type": "execute_result"
    }
   ],
   "source": [
    "import torch\n",
    "model = SnapSnack(output_dim=4)\n",
    "model.load_state_dict(torch.load(\"../models/model_2.pt\"))"
   ]
  },
  {
   "cell_type": "code",
   "execution_count": 4,
   "metadata": {},
   "outputs": [],
   "source": [
    "model = model.cpu().eval()"
   ]
  },
  {
   "cell_type": "code",
   "execution_count": 5,
   "metadata": {},
   "outputs": [],
   "source": [
    "preds = []\n",
    "targets = []\n",
    "with torch.no_grad():\n",
    "    for img, target in DataLoader(test_set, batch_size=1):\n",
    "        pred = model(img)\n",
    "        preds.append(pred)\n",
    "        targets.append(target)"
   ]
  },
  {
   "cell_type": "code",
   "execution_count": 7,
   "metadata": {},
   "outputs": [
    {
     "data": {
      "text/plain": [
       "([tensor([[-0.0787, -0.0211,  0.1330,  0.0795]]),\n",
       "  tensor([[-0.0787, -0.0211,  0.1330,  0.0795]]),\n",
       "  tensor([[-0.0787, -0.0211,  0.1330,  0.0795]]),\n",
       "  tensor([[-0.0787, -0.0211,  0.1330,  0.0795]]),\n",
       "  tensor([[-0.0787, -0.0211,  0.1330,  0.0795]]),\n",
       "  tensor([[-0.0787, -0.0211,  0.1330,  0.0795]]),\n",
       "  tensor([[-0.0787, -0.0211,  0.1330,  0.0795]]),\n",
       "  tensor([[-0.0787, -0.0211,  0.1330,  0.0795]]),\n",
       "  tensor([[-0.0787, -0.0211,  0.1330,  0.0795]]),\n",
       "  tensor([[-0.0787, -0.0211,  0.1330,  0.0795]])],\n",
       " [tensor([[-0.0159, -0.0206, -0.0153, -0.0152]]),\n",
       "  tensor([[-0.0175, -0.0258, -0.0169, -0.0178]]),\n",
       "  tensor([[-0.0170, -0.0256, -0.0166, -0.0187]]),\n",
       "  tensor([[-0.0144, -0.0040, -0.0136, -0.0166]]),\n",
       "  tensor([[-0.0163, -0.0193, -0.0156, -0.0155]]),\n",
       "  tensor([[-0.0170, -0.0256, -0.0162, -0.0185]]),\n",
       "  tensor([[-0.0170, -0.0175, -0.0164, -0.0184]]),\n",
       "  tensor([[-0.0169, -0.0256, -0.0169, -0.0174]]),\n",
       "  tensor([[-0.0168, -0.0238, -0.0166, -0.0164]]),\n",
       "  tensor([[-0.0160, -0.0243, -0.0152, -0.0178]])])"
      ]
     },
     "execution_count": 7,
     "metadata": {},
     "output_type": "execute_result"
    }
   ],
   "source": [
    "preds[:10], targets[:10]"
   ]
  },
  {
   "cell_type": "code",
   "execution_count": 10,
   "metadata": {},
   "outputs": [],
   "source": [
    "preds = torch.cat(preds)"
   ]
  },
  {
   "cell_type": "code",
   "execution_count": 12,
   "metadata": {},
   "outputs": [
    {
     "data": {
      "text/plain": [
       "tensor([-0.0787, -0.0787, -0.0787,  ..., -0.0787, -0.0787, -0.0787])"
      ]
     },
     "execution_count": 12,
     "metadata": {},
     "output_type": "execute_result"
    }
   ],
   "source": [
    "preds[:,0]"
   ]
  },
  {
   "cell_type": "code",
   "execution_count": 13,
   "metadata": {},
   "outputs": [],
   "source": [
    "targets = torch.cat(targets)"
   ]
  },
  {
   "cell_type": "code",
   "execution_count": 14,
   "metadata": {},
   "outputs": [
    {
     "data": {
      "text/plain": [
       "tensor([-0.0159, -0.0175, -0.0170,  ..., -0.0168, -0.0166, -0.0175])"
      ]
     },
     "execution_count": 14,
     "metadata": {},
     "output_type": "execute_result"
    }
   ],
   "source": [
    "targets[:, 0]"
   ]
  },
  {
   "cell_type": "code",
   "execution_count": null,
   "metadata": {},
   "outputs": [],
   "source": []
  }
 ],
 "metadata": {
  "kernelspec": {
   "display_name": "Python 3",
   "language": "python",
   "name": "python3"
  },
  "language_info": {
   "codemirror_mode": {
    "name": "ipython",
    "version": 3
   },
   "file_extension": ".py",
   "mimetype": "text/x-python",
   "name": "python",
   "nbconvert_exporter": "python",
   "pygments_lexer": "ipython3",
   "version": "3.6.12"
  }
 },
 "nbformat": 4,
 "nbformat_minor": 4
}
